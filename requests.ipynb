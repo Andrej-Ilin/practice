{
  "nbformat": 4,
  "nbformat_minor": 0,
  "metadata": {
    "colab": {
      "name": "requests.ipynb",
      "provenance": [],
      "toc_visible": true,
      "authorship_tag": "ABX9TyMAFN3vOMvttc71khkH+zbA",
      "include_colab_link": true
    },
    "kernelspec": {
      "name": "python3",
      "display_name": "Python 3"
    },
    "language_info": {
      "name": "python"
    }
  },
  "cells": [
    {
      "cell_type": "markdown",
      "metadata": {
        "id": "view-in-github",
        "colab_type": "text"
      },
      "source": [
        "<a href=\"https://colab.research.google.com/github/Andrej-Ilin/practice/blob/main/requests.ipynb\" target=\"_parent\"><img src=\"https://colab.research.google.com/assets/colab-badge.svg\" alt=\"Open In Colab\"/></a>"
      ]
    },
    {
      "cell_type": "markdown",
      "metadata": {
        "id": "lQzlM04I7e9R"
      },
      "source": [
        "начала разберемся, как получить информацию с внешнего сервиса. В стандартной библиотеке есть модуль urllib2, который может справиться с этой задачей. Однако большинство разработчиков используют стороннюю библиотеку requests, потому что в ней лучше реализованы большинство методов и код получается проще. Перед началом работы библиотеку потребуется установить с помощью вашего пакетного менеджера, например, с помощью следующей команды в консоли.\n",
        "_____\n",
        "\n",
        "python -m pip install requests  "
      ]
    },
    {
      "cell_type": "code",
      "metadata": {
        "id": "wG3XqaZ26x56"
      },
      "source": [
        "import requests"
      ],
      "execution_count": null,
      "outputs": []
    },
    {
      "cell_type": "markdown",
      "metadata": {
        "id": "60pa1U247kMj"
      },
      "source": [
        "Далее мы импортируем библиотеку и отправим запрос к сервису с помощью метода GET к сервису с курсами валют:"
      ]
    },
    {
      "cell_type": "code",
      "metadata": {
        "id": "gpp2jt707CyX"
      },
      "source": [
        "response = requests.get('https://www.cbr-xml-daily.ru/daily_json.js')  "
      ],
      "execution_count": null,
      "outputs": []
    },
    {
      "cell_type": "markdown",
      "metadata": {
        "id": "yCkVPkEy7o-D"
      },
      "source": [
        "Мы получили объект ответа, который содержит всю нужную нам информацию. По умолчанию на экран выводится HTTP-код ответа 200. Это означает, что запрос был корректным, и сервер отдал нам нужную информацию."
      ]
    },
    {
      "cell_type": "code",
      "metadata": {
        "colab": {
          "base_uri": "https://localhost:8080/"
        },
        "id": "UTES8KPY7D32",
        "outputId": "d70b871c-5f04-45bd-fdfd-cfbe4691ad35"
      },
      "source": [
        "response"
      ],
      "execution_count": null,
      "outputs": [
        {
          "output_type": "execute_result",
          "data": {
            "text/plain": [
              "<Response [200]>"
            ]
          },
          "metadata": {
            "tags": []
          },
          "execution_count": 3
        }
      ]
    },
    {
      "cell_type": "markdown",
      "metadata": {
        "id": "SruhE7xS_2wm"
      },
      "source": [
        "Мы сделали запрос и получили ответ. Давайте теперь посмотрим, как считывать текст. \n",
        "\n",
        "Адрес, по которому мы обращались, возвращает результат в json формате. Эти данные уже лежат в атрибуте text в полученном ответе response:"
      ]
    },
    {
      "cell_type": "code",
      "metadata": {
        "colab": {
          "base_uri": "https://localhost:8080/",
          "height": 120
        },
        "id": "Aoq_S9Sy_5b8",
        "outputId": "ca471023-15ec-4299-bb97-bfaea3843aa2"
      },
      "source": [
        "response.text"
      ],
      "execution_count": null,
      "outputs": [
        {
          "output_type": "execute_result",
          "data": {
            "application/vnd.google.colaboratory.intrinsic+json": {
              "type": "string"
            },
            "text/plain": [
              "'{\\n    \"Date\": \"2021-06-16T11:30:00+03:00\",\\n    \"PreviousDate\": \"2021-06-12T11:30:00+03:00\",\\n    \"PreviousURL\": \"\\\\/\\\\/www.cbr-xml-daily.ru\\\\/archive\\\\/2021\\\\/06\\\\/12\\\\/daily_json.js\",\\n    \"Timestamp\": \"2021-06-15T23:00:00+03:00\",\\n    \"Valute\": {\\n        \"AUD\": {\\n            \"ID\": \"R01010\",\\n            \"NumCode\": \"036\",\\n            \"CharCode\": \"AUD\",\\n            \"Nominal\": 1,\\n            \"Name\": \"Австралийский доллар\",\\n            \"Value\": 55.2961,\\n            \"Previous\": 55.6234\\n        },\\n        \"AZN\": {\\n            \"ID\": \"R01020A\",\\n            \"NumCode\": \"944\",\\n            \"CharCode\": \"AZN\",\\n            \"Nominal\": 1,\\n            \"Name\": \"Азербайджанский манат\",\\n            \"Value\": 42.2789,\\n            \"Previous\": 42.1893\\n        },\\n        \"GBP\": {\\n            \"ID\": \"R01035\",\\n            \"NumCode\": \"826\",\\n            \"CharCode\": \"GBP\",\\n            \"Nominal\": 1,\\n            \"Name\": \"Фунт стерлингов Соединенного королевства\",\\n            \"Value\": 101.3259,\\n            \"Previous\": 101.4554\\n        },\\n        \"AMD\": {\\n            \"ID\": \"R01060\",\\n            \"NumCode\": \"051\",\\n            \"CharCode\": \"AMD\",\\n            \"Nominal\": 100,\\n            \"Name\": \"Армянских драмов\",\\n            \"Value\": 13.8098,\\n            \"Previous\": 13.8037\\n        },\\n        \"BYN\": {\\n            \"ID\": \"R01090B\",\\n            \"NumCode\": \"933\",\\n            \"CharCode\": \"BYN\",\\n            \"Nominal\": 1,\\n            \"Name\": \"Белорусский рубль\",\\n            \"Value\": 28.912,\\n            \"Previous\": 28.8949\\n        },\\n        \"BGN\": {\\n            \"ID\": \"R01100\",\\n            \"NumCode\": \"975\",\\n            \"CharCode\": \"BGN\",\\n            \"Nominal\": 1,\\n            \"Name\": \"Болгарский лев\",\\n            \"Value\": 44.5939,\\n            \"Previous\": 44.6019\\n        },\\n        \"BRL\": {\\n            \"ID\": \"R01115\",\\n            \"NumCode\": \"986\",\\n            \"CharCode\": \"BRL\",\\n            \"Nominal\": 1,\\n            \"Name\": \"Бразильский реал\",\\n            \"Value\": 14.1957,\\n            \"Previous\": 14.1777\\n        },\\n        \"HUF\": {\\n            \"ID\": \"R01135\",\\n            \"NumCode\": \"348\",\\n            \"CharCode\": \"HUF\",\\n            \"Nominal\": 100,\\n            \"Name\": \"Венгерских форинтов\",\\n            \"Value\": 24.8979,\\n            \"Previous\": 25.226\\n        },\\n        \"HKD\": {\\n            \"ID\": \"R01200\",\\n            \"NumCode\": \"344\",\\n            \"CharCode\": \"HKD\",\\n            \"Nominal\": 10,\\n            \"Name\": \"Гонконгских долларов\",\\n            \"Value\": 92.5346,\\n            \"Previous\": 92.3803\\n        },\\n        \"DKK\": {\\n            \"ID\": \"R01215\",\\n            \"NumCode\": \"208\",\\n            \"CharCode\": \"DKK\",\\n            \"Nominal\": 1,\\n            \"Name\": \"Датская крона\",\\n            \"Value\": 11.7282,\\n            \"Previous\": 11.7315\\n        },\\n        \"USD\": {\\n            \"ID\": \"R01235\",\\n            \"NumCode\": \"840\",\\n            \"CharCode\": \"USD\",\\n            \"Nominal\": 1,\\n            \"Name\": \"Доллар США\",\\n            \"Value\": 71.8318,\\n            \"Previous\": 71.6797\\n        },\\n        \"EUR\": {\\n            \"ID\": \"R01239\",\\n            \"NumCode\": \"978\",\\n            \"CharCode\": \"EUR\",\\n            \"Nominal\": 1,\\n            \"Name\": \"Евро\",\\n            \"Value\": 87.211,\\n            \"Previous\": 87.3274\\n        },\\n        \"INR\": {\\n            \"ID\": \"R01270\",\\n            \"NumCode\": \"356\",\\n            \"CharCode\": \"INR\",\\n            \"Nominal\": 100,\\n            \"Name\": \"Индийских рупий\",\\n            \"Value\": 98.0204,\\n            \"Previous\": 98.0852\\n        },\\n        \"KZT\": {\\n            \"ID\": \"R01335\",\\n            \"NumCode\": \"398\",\\n            \"CharCode\": \"KZT\",\\n            \"Nominal\": 100,\\n            \"Name\": \"Казахстанских тенге\",\\n            \"Value\": 16.8305,\\n            \"Previous\": 16.7784\\n        },\\n        \"CAD\": {\\n            \"ID\": \"R01350\",\\n            \"NumCode\": \"124\",\\n            \"CharCode\": \"CAD\",\\n            \"Nominal\": 1,\\n            \"Name\": \"Канадский доллар\",\\n            \"Value\": 59.1062,\\n            \"Previous\": 59.259\\n        },\\n        \"KGS\": {\\n            \"ID\": \"R01370\",\\n            \"NumCode\": \"417\",\\n            \"CharCode\": \"KGS\",\\n            \"Nominal\": 100,\\n            \"Name\": \"Киргизских сомов\",\\n            \"Value\": 84.7735,\\n            \"Previous\": 84.828\\n        },\\n        \"CNY\": {\\n            \"ID\": \"R01375\",\\n            \"NumCode\": \"156\",\\n            \"CharCode\": \"CNY\",\\n            \"Nominal\": 1,\\n            \"Name\": \"Китайский юань\",\\n            \"Value\": 11.2192,\\n            \"Previous\": 11.2159\\n        },\\n        \"MDL\": {\\n            \"ID\": \"R01500\",\\n            \"NumCode\": \"498\",\\n            \"CharCode\": \"MDL\",\\n            \"Nominal\": 10,\\n            \"Name\": \"Молдавских леев\",\\n            \"Value\": 40.5944,\\n            \"Previous\": 40.4057\\n        },\\n        \"NOK\": {\\n            \"ID\": \"R01535\",\\n            \"NumCode\": \"578\",\\n            \"CharCode\": \"NOK\",\\n            \"Nominal\": 10,\\n            \"Name\": \"Норвежских крон\",\\n            \"Value\": 86.4881,\\n            \"Previous\": 86.5007\\n        },\\n        \"PLN\": {\\n            \"ID\": \"R01565\",\\n            \"NumCode\": \"985\",\\n            \"CharCode\": \"PLN\",\\n            \"Nominal\": 1,\\n            \"Name\": \"Польский злотый\",\\n            \"Value\": 19.2863,\\n            \"Previous\": 19.4978\\n        },\\n        \"RON\": {\\n            \"ID\": \"R01585F\",\\n            \"NumCode\": \"946\",\\n            \"CharCode\": \"RON\",\\n            \"Nominal\": 1,\\n            \"Name\": \"Румынский лей\",\\n            \"Value\": 17.7144,\\n            \"Previous\": 17.728\\n        },\\n        \"XDR\": {\\n            \"ID\": \"R01589\",\\n            \"NumCode\": \"960\",\\n            \"CharCode\": \"XDR\",\\n            \"Nominal\": 1,\\n            \"Name\": \"СДР (специальные права заимствования)\",\\n            \"Value\": 103.4141,\\n            \"Previous\": 103.3786\\n        },\\n        \"SGD\": {\\n            \"ID\": \"R01625\",\\n            \"NumCode\": \"702\",\\n            \"CharCode\": \"SGD\",\\n            \"Nominal\": 1,\\n            \"Name\": \"Сингапурский доллар\",\\n            \"Value\": 54.1636,\\n            \"Previous\": 54.1961\\n        },\\n        \"TJS\": {\\n            \"ID\": \"R01670\",\\n            \"NumCode\": \"972\",\\n            \"CharCode\": \"TJS\",\\n            \"Nominal\": 10,\\n            \"Name\": \"Таджикских сомони\",\\n            \"Value\": 62.9827,\\n            \"Previous\": 62.8494\\n        },\\n        \"TRY\": {\\n            \"ID\": \"R01700J\",\\n            \"NumCode\": \"949\",\\n            \"CharCode\": \"TRY\",\\n            \"Nominal\": 10,\\n            \"Name\": \"Турецких лир\",\\n            \"Value\": 84.0512,\\n            \"Previous\": 86.0211\\n        },\\n        \"TMT\": {\\n            \"ID\": \"R01710A\",\\n            \"NumCode\": \"934\",\\n            \"CharCode\": \"TMT\",\\n            \"Nominal\": 1,\\n            \"Name\": \"Новый туркменский манат\",\\n            \"Value\": 20.5527,\\n            \"Previous\": 20.5092\\n        },\\n        \"UZS\": {\\n            \"ID\": \"R01717\",\\n            \"NumCode\": \"860\",\\n            \"CharCode\": \"UZS\",\\n            \"Nominal\": 10000,\\n            \"Name\": \"Узбекских сумов\",\\n            \"Value\": 67.7084,\\n            \"Previous\": 67.6989\\n        },\\n        \"UAH\": {\\n            \"ID\": \"R01720\",\\n            \"NumCode\": \"980\",\\n            \"CharCode\": \"UAH\",\\n            \"Nominal\": 10,\\n            \"Name\": \"Украинских гривен\",\\n            \"Value\": 26.6894,\\n            \"Previous\": 26.5218\\n        },\\n        \"CZK\": {\\n            \"ID\": \"R01760\",\\n            \"NumCode\": \"203\",\\n            \"CharCode\": \"CZK\",\\n            \"Nominal\": 10,\\n            \"Name\": \"Чешских крон\",\\n            \"Value\": 34.2742,\\n            \"Previous\": 34.4879\\n        },\\n        \"SEK\": {\\n            \"ID\": \"R01770\",\\n            \"NumCode\": \"752\",\\n            \"CharCode\": \"SEK\",\\n            \"Nominal\": 10,\\n            \"Name\": \"Шведских крон\",\\n            \"Value\": 86.5339,\\n            \"Previous\": 86.8182\\n        },\\n        \"CHF\": {\\n            \"ID\": \"R01775\",\\n            \"NumCode\": \"756\",\\n            \"CharCode\": \"CHF\",\\n            \"Nominal\": 1,\\n            \"Name\": \"Швейцарский франк\",\\n            \"Value\": 80.089,\\n            \"Previous\": 80.0265\\n        },\\n        \"ZAR\": {\\n            \"ID\": \"R01810\",\\n            \"NumCode\": \"710\",\\n            \"CharCode\": \"ZAR\",\\n            \"Nominal\": 10,\\n            \"Name\": \"Южноафриканских рэндов\",\\n            \"Value\": 52.2546,\\n            \"Previous\": 52.8276\\n        },\\n        \"KRW\": {\\n            \"ID\": \"R01815\",\\n            \"NumCode\": \"410\",\\n            \"CharCode\": \"KRW\",\\n            \"Nominal\": 1000,\\n            \"Name\": \"Вон Республики Корея\",\\n            \"Value\": 64.2681,\\n            \"Previous\": 64.4396\\n        },\\n        \"JPY\": {\\n            \"ID\": \"R01820\",\\n            \"NumCode\": \"392\",\\n            \"CharCode\": \"JPY\",\\n            \"Nominal\": 100,\\n            \"Name\": \"Японских иен\",\\n            \"Value\": 65.2631,\\n            \"Previous\": 65.4221\\n        }\\n    }\\n}'"
            ]
          },
          "metadata": {
            "tags": []
          },
          "execution_count": 4
        }
      ]
    },
    {
      "cell_type": "markdown",
      "metadata": {
        "id": "0U2GocY2ASIv"
      },
      "source": [
        "Сейчас текст хранится просто в строковой переменной. Далее мы можем превратить эту строку в словарь. Сделать это можно с помощью JSON-парсера python, либо воспользовавшись методом json, который уже встроен в объект ответа response:"
      ]
    },
    {
      "cell_type": "code",
      "metadata": {
        "colab": {
          "base_uri": "https://localhost:8080/"
        },
        "id": "Zzgg2Bnw_7S5",
        "outputId": "b6c71157-bb61-416e-8af4-c9aba1d8ede4"
      },
      "source": [
        "currencies = response.json()  \n",
        "currencies"
      ],
      "execution_count": null,
      "outputs": [
        {
          "output_type": "execute_result",
          "data": {
            "text/plain": [
              "{'Date': '2021-06-16T11:30:00+03:00',\n",
              " 'PreviousDate': '2021-06-12T11:30:00+03:00',\n",
              " 'PreviousURL': '//www.cbr-xml-daily.ru/archive/2021/06/12/daily_json.js',\n",
              " 'Timestamp': '2021-06-15T23:00:00+03:00',\n",
              " 'Valute': {'AMD': {'CharCode': 'AMD',\n",
              "   'ID': 'R01060',\n",
              "   'Name': 'Армянских драмов',\n",
              "   'Nominal': 100,\n",
              "   'NumCode': '051',\n",
              "   'Previous': 13.8037,\n",
              "   'Value': 13.8098},\n",
              "  'AUD': {'CharCode': 'AUD',\n",
              "   'ID': 'R01010',\n",
              "   'Name': 'Австралийский доллар',\n",
              "   'Nominal': 1,\n",
              "   'NumCode': '036',\n",
              "   'Previous': 55.6234,\n",
              "   'Value': 55.2961},\n",
              "  'AZN': {'CharCode': 'AZN',\n",
              "   'ID': 'R01020A',\n",
              "   'Name': 'Азербайджанский манат',\n",
              "   'Nominal': 1,\n",
              "   'NumCode': '944',\n",
              "   'Previous': 42.1893,\n",
              "   'Value': 42.2789},\n",
              "  'BGN': {'CharCode': 'BGN',\n",
              "   'ID': 'R01100',\n",
              "   'Name': 'Болгарский лев',\n",
              "   'Nominal': 1,\n",
              "   'NumCode': '975',\n",
              "   'Previous': 44.6019,\n",
              "   'Value': 44.5939},\n",
              "  'BRL': {'CharCode': 'BRL',\n",
              "   'ID': 'R01115',\n",
              "   'Name': 'Бразильский реал',\n",
              "   'Nominal': 1,\n",
              "   'NumCode': '986',\n",
              "   'Previous': 14.1777,\n",
              "   'Value': 14.1957},\n",
              "  'BYN': {'CharCode': 'BYN',\n",
              "   'ID': 'R01090B',\n",
              "   'Name': 'Белорусский рубль',\n",
              "   'Nominal': 1,\n",
              "   'NumCode': '933',\n",
              "   'Previous': 28.8949,\n",
              "   'Value': 28.912},\n",
              "  'CAD': {'CharCode': 'CAD',\n",
              "   'ID': 'R01350',\n",
              "   'Name': 'Канадский доллар',\n",
              "   'Nominal': 1,\n",
              "   'NumCode': '124',\n",
              "   'Previous': 59.259,\n",
              "   'Value': 59.1062},\n",
              "  'CHF': {'CharCode': 'CHF',\n",
              "   'ID': 'R01775',\n",
              "   'Name': 'Швейцарский франк',\n",
              "   'Nominal': 1,\n",
              "   'NumCode': '756',\n",
              "   'Previous': 80.0265,\n",
              "   'Value': 80.089},\n",
              "  'CNY': {'CharCode': 'CNY',\n",
              "   'ID': 'R01375',\n",
              "   'Name': 'Китайский юань',\n",
              "   'Nominal': 1,\n",
              "   'NumCode': '156',\n",
              "   'Previous': 11.2159,\n",
              "   'Value': 11.2192},\n",
              "  'CZK': {'CharCode': 'CZK',\n",
              "   'ID': 'R01760',\n",
              "   'Name': 'Чешских крон',\n",
              "   'Nominal': 10,\n",
              "   'NumCode': '203',\n",
              "   'Previous': 34.4879,\n",
              "   'Value': 34.2742},\n",
              "  'DKK': {'CharCode': 'DKK',\n",
              "   'ID': 'R01215',\n",
              "   'Name': 'Датская крона',\n",
              "   'Nominal': 1,\n",
              "   'NumCode': '208',\n",
              "   'Previous': 11.7315,\n",
              "   'Value': 11.7282},\n",
              "  'EUR': {'CharCode': 'EUR',\n",
              "   'ID': 'R01239',\n",
              "   'Name': 'Евро',\n",
              "   'Nominal': 1,\n",
              "   'NumCode': '978',\n",
              "   'Previous': 87.3274,\n",
              "   'Value': 87.211},\n",
              "  'GBP': {'CharCode': 'GBP',\n",
              "   'ID': 'R01035',\n",
              "   'Name': 'Фунт стерлингов Соединенного королевства',\n",
              "   'Nominal': 1,\n",
              "   'NumCode': '826',\n",
              "   'Previous': 101.4554,\n",
              "   'Value': 101.3259},\n",
              "  'HKD': {'CharCode': 'HKD',\n",
              "   'ID': 'R01200',\n",
              "   'Name': 'Гонконгских долларов',\n",
              "   'Nominal': 10,\n",
              "   'NumCode': '344',\n",
              "   'Previous': 92.3803,\n",
              "   'Value': 92.5346},\n",
              "  'HUF': {'CharCode': 'HUF',\n",
              "   'ID': 'R01135',\n",
              "   'Name': 'Венгерских форинтов',\n",
              "   'Nominal': 100,\n",
              "   'NumCode': '348',\n",
              "   'Previous': 25.226,\n",
              "   'Value': 24.8979},\n",
              "  'INR': {'CharCode': 'INR',\n",
              "   'ID': 'R01270',\n",
              "   'Name': 'Индийских рупий',\n",
              "   'Nominal': 100,\n",
              "   'NumCode': '356',\n",
              "   'Previous': 98.0852,\n",
              "   'Value': 98.0204},\n",
              "  'JPY': {'CharCode': 'JPY',\n",
              "   'ID': 'R01820',\n",
              "   'Name': 'Японских иен',\n",
              "   'Nominal': 100,\n",
              "   'NumCode': '392',\n",
              "   'Previous': 65.4221,\n",
              "   'Value': 65.2631},\n",
              "  'KGS': {'CharCode': 'KGS',\n",
              "   'ID': 'R01370',\n",
              "   'Name': 'Киргизских сомов',\n",
              "   'Nominal': 100,\n",
              "   'NumCode': '417',\n",
              "   'Previous': 84.828,\n",
              "   'Value': 84.7735},\n",
              "  'KRW': {'CharCode': 'KRW',\n",
              "   'ID': 'R01815',\n",
              "   'Name': 'Вон Республики Корея',\n",
              "   'Nominal': 1000,\n",
              "   'NumCode': '410',\n",
              "   'Previous': 64.4396,\n",
              "   'Value': 64.2681},\n",
              "  'KZT': {'CharCode': 'KZT',\n",
              "   'ID': 'R01335',\n",
              "   'Name': 'Казахстанских тенге',\n",
              "   'Nominal': 100,\n",
              "   'NumCode': '398',\n",
              "   'Previous': 16.7784,\n",
              "   'Value': 16.8305},\n",
              "  'MDL': {'CharCode': 'MDL',\n",
              "   'ID': 'R01500',\n",
              "   'Name': 'Молдавских леев',\n",
              "   'Nominal': 10,\n",
              "   'NumCode': '498',\n",
              "   'Previous': 40.4057,\n",
              "   'Value': 40.5944},\n",
              "  'NOK': {'CharCode': 'NOK',\n",
              "   'ID': 'R01535',\n",
              "   'Name': 'Норвежских крон',\n",
              "   'Nominal': 10,\n",
              "   'NumCode': '578',\n",
              "   'Previous': 86.5007,\n",
              "   'Value': 86.4881},\n",
              "  'PLN': {'CharCode': 'PLN',\n",
              "   'ID': 'R01565',\n",
              "   'Name': 'Польский злотый',\n",
              "   'Nominal': 1,\n",
              "   'NumCode': '985',\n",
              "   'Previous': 19.4978,\n",
              "   'Value': 19.2863},\n",
              "  'RON': {'CharCode': 'RON',\n",
              "   'ID': 'R01585F',\n",
              "   'Name': 'Румынский лей',\n",
              "   'Nominal': 1,\n",
              "   'NumCode': '946',\n",
              "   'Previous': 17.728,\n",
              "   'Value': 17.7144},\n",
              "  'SEK': {'CharCode': 'SEK',\n",
              "   'ID': 'R01770',\n",
              "   'Name': 'Шведских крон',\n",
              "   'Nominal': 10,\n",
              "   'NumCode': '752',\n",
              "   'Previous': 86.8182,\n",
              "   'Value': 86.5339},\n",
              "  'SGD': {'CharCode': 'SGD',\n",
              "   'ID': 'R01625',\n",
              "   'Name': 'Сингапурский доллар',\n",
              "   'Nominal': 1,\n",
              "   'NumCode': '702',\n",
              "   'Previous': 54.1961,\n",
              "   'Value': 54.1636},\n",
              "  'TJS': {'CharCode': 'TJS',\n",
              "   'ID': 'R01670',\n",
              "   'Name': 'Таджикских сомони',\n",
              "   'Nominal': 10,\n",
              "   'NumCode': '972',\n",
              "   'Previous': 62.8494,\n",
              "   'Value': 62.9827},\n",
              "  'TMT': {'CharCode': 'TMT',\n",
              "   'ID': 'R01710A',\n",
              "   'Name': 'Новый туркменский манат',\n",
              "   'Nominal': 1,\n",
              "   'NumCode': '934',\n",
              "   'Previous': 20.5092,\n",
              "   'Value': 20.5527},\n",
              "  'TRY': {'CharCode': 'TRY',\n",
              "   'ID': 'R01700J',\n",
              "   'Name': 'Турецких лир',\n",
              "   'Nominal': 10,\n",
              "   'NumCode': '949',\n",
              "   'Previous': 86.0211,\n",
              "   'Value': 84.0512},\n",
              "  'UAH': {'CharCode': 'UAH',\n",
              "   'ID': 'R01720',\n",
              "   'Name': 'Украинских гривен',\n",
              "   'Nominal': 10,\n",
              "   'NumCode': '980',\n",
              "   'Previous': 26.5218,\n",
              "   'Value': 26.6894},\n",
              "  'USD': {'CharCode': 'USD',\n",
              "   'ID': 'R01235',\n",
              "   'Name': 'Доллар США',\n",
              "   'Nominal': 1,\n",
              "   'NumCode': '840',\n",
              "   'Previous': 71.6797,\n",
              "   'Value': 71.8318},\n",
              "  'UZS': {'CharCode': 'UZS',\n",
              "   'ID': 'R01717',\n",
              "   'Name': 'Узбекских сумов',\n",
              "   'Nominal': 10000,\n",
              "   'NumCode': '860',\n",
              "   'Previous': 67.6989,\n",
              "   'Value': 67.7084},\n",
              "  'XDR': {'CharCode': 'XDR',\n",
              "   'ID': 'R01589',\n",
              "   'Name': 'СДР (специальные права заимствования)',\n",
              "   'Nominal': 1,\n",
              "   'NumCode': '960',\n",
              "   'Previous': 103.3786,\n",
              "   'Value': 103.4141},\n",
              "  'ZAR': {'CharCode': 'ZAR',\n",
              "   'ID': 'R01810',\n",
              "   'Name': 'Южноафриканских рэндов',\n",
              "   'Nominal': 10,\n",
              "   'NumCode': '710',\n",
              "   'Previous': 52.8276,\n",
              "   'Value': 52.2546}}}"
            ]
          },
          "metadata": {
            "tags": []
          },
          "execution_count": 5
        }
      ]
    },
    {
      "cell_type": "markdown",
      "metadata": {
        "id": "WNJ8QJhsAWeh"
      },
      "source": [
        "Теперь данные лежат в словаре, и мы можем легко получать необходимые нам значения:"
      ]
    },
    {
      "cell_type": "code",
      "metadata": {
        "colab": {
          "base_uri": "https://localhost:8080/"
        },
        "id": "eBejKzlHAXL1",
        "outputId": "f9cb3310-41b6-4603-f3d1-b52bf06af6d1"
      },
      "source": [
        "currencies['Valute']['UAH'] "
      ],
      "execution_count": null,
      "outputs": [
        {
          "output_type": "execute_result",
          "data": {
            "text/plain": [
              "{'CharCode': 'UAH',\n",
              " 'ID': 'R01720',\n",
              " 'Name': 'Украинских гривен',\n",
              " 'Nominal': 10,\n",
              " 'NumCode': '980',\n",
              " 'Previous': 26.5218,\n",
              " 'Value': 26.6894}"
            ]
          },
          "metadata": {
            "tags": []
          },
          "execution_count": 6
        }
      ]
    },
    {
      "cell_type": "code",
      "metadata": {
        "colab": {
          "base_uri": "https://localhost:8080/",
          "height": 35
        },
        "id": "GpUem6q9ALmq",
        "outputId": "318631b8-44b4-4a62-b1be-4a1615740de5"
      },
      "source": [
        "currencies['Valute']['CZK']['Name']"
      ],
      "execution_count": null,
      "outputs": [
        {
          "output_type": "execute_result",
          "data": {
            "application/vnd.google.colaboratory.intrinsic+json": {
              "type": "string"
            },
            "text/plain": [
              "'Чешских крон'"
            ]
          },
          "metadata": {
            "tags": []
          },
          "execution_count": 7
        }
      ]
    },
    {
      "cell_type": "markdown",
      "metadata": {
        "id": "Kq9b7hSQES3m"
      },
      "source": [
        "Напишите функцию currency_name, которая по ID валюты возвращает ее название на русском языке."
      ]
    },
    {
      "cell_type": "code",
      "metadata": {
        "id": "dqH8KjrLEM4b"
      },
      "source": [
        "def currency_name(id):    \n",
        "    url = 'https://www.cbr-xml-daily.ru/daily_json.js'  \n",
        "    response = requests.get(url).json()['Valute']    \n",
        "    for i in response:\n",
        "      if response[i]['ID'] == id:\n",
        "        return response[i]['Name']"
      ],
      "execution_count": null,
      "outputs": []
    },
    {
      "cell_type": "code",
      "metadata": {
        "id": "fidzjGMPFw_B",
        "colab": {
          "base_uri": "https://localhost:8080/",
          "height": 35
        },
        "outputId": "d32d842c-655c-4a49-ffa8-412985ee3c3c"
      },
      "source": [
        "currency_name('R01700J')"
      ],
      "execution_count": null,
      "outputs": [
        {
          "output_type": "execute_result",
          "data": {
            "application/vnd.google.colaboratory.intrinsic+json": {
              "type": "string"
            },
            "text/plain": [
              "'Турецких лир'"
            ]
          },
          "metadata": {
            "tags": []
          },
          "execution_count": 9
        }
      ]
    },
    {
      "cell_type": "markdown",
      "metadata": {
        "id": "Ar0BgEQ90-sG"
      },
      "source": [
        "# Библиотека BeautifulSoup"
      ]
    },
    {
      "cell_type": "code",
      "metadata": {
        "colab": {
          "base_uri": "https://localhost:8080/"
        },
        "id": "4L-5dEVj1Cnl",
        "outputId": "cb913a4c-b4d9-4509-ff5f-08222ed790e7"
      },
      "source": [
        "pip install beautifulsoup4  "
      ],
      "execution_count": null,
      "outputs": [
        {
          "output_type": "stream",
          "text": [
            "Requirement already satisfied: beautifulsoup4 in /usr/local/lib/python3.7/dist-packages (4.6.3)\n"
          ],
          "name": "stdout"
        }
      ]
    },
    {
      "cell_type": "code",
      "metadata": {
        "colab": {
          "base_uri": "https://localhost:8080/"
        },
        "id": "7eG7Xell1TBp",
        "outputId": "9f5b7f2f-e31b-4c15-c540-36995ebb5d67"
      },
      "source": [
        "# Импортируем наши библиотеки    \n",
        "from bs4 import BeautifulSoup    \n",
        "import requests    \n",
        "    \n",
        "# Получаем данные, как и ранее    \n",
        "url = 'https://nplus1.ru/news/2019/06/04/slothbot'   \n",
        "response = requests.get(url)    \n",
        "    \n",
        "# Теперь создадим объект BeautifulSoup, указывая html парсер    \n",
        "page = BeautifulSoup(response.text, 'html.parser')    \n",
        "    \n",
        "# Всё готово, чтобы получать данные из страницы    \n",
        "# Для начала получим title, отображающийся на закладках браузера    \n",
        "print(page.title)  \n",
        "# => <title>Робота-ленивца научили лазать по паутине из тросов</title>    "
      ],
      "execution_count": null,
      "outputs": [
        {
          "output_type": "stream",
          "text": [
            "<title>Робота-ленивца научили лазать по паутине из тросов</title>\n"
          ],
          "name": "stdout"
        }
      ]
    },
    {
      "cell_type": "code",
      "metadata": {
        "colab": {
          "base_uri": "https://localhost:8080/",
          "height": 35
        },
        "id": "l02aTWlo1jVx",
        "outputId": "19d127d7-8467-41b3-9bfd-0778f7e4bd97"
      },
      "source": [
        "# Мы получили тэг. Чтобы достать из него текст, вызовем атрибут text    \n",
        "page.title.text    "
      ],
      "execution_count": null,
      "outputs": [
        {
          "output_type": "execute_result",
          "data": {
            "application/vnd.google.colaboratory.intrinsic+json": {
              "type": "string"
            },
            "text/plain": [
              "'Робота-ленивца научили лазать по паутине из тросов'"
            ]
          },
          "metadata": {
            "tags": []
          },
          "execution_count": 12
        }
      ]
    },
    {
      "cell_type": "code",
      "metadata": {
        "colab": {
          "base_uri": "https://localhost:8080/"
        },
        "id": "I5xe8axJ4hfd",
        "outputId": "c34a26c8-ef3a-4753-90af-7d4461e44e72"
      },
      "source": [
        "print(page.find('time').text)"
      ],
      "execution_count": null,
      "outputs": [
        {
          "output_type": "stream",
          "text": [
            "\n",
            "18:27\n",
            "04 Июнь 2019\n",
            "\n"
          ],
          "name": "stdout"
        }
      ]
    },
    {
      "cell_type": "markdown",
      "metadata": {
        "id": "FEMvfCY4-sKW"
      },
      "source": [
        "Тэги div очень распространённые, их много на странице. Если мы просто используем find, то получим первый попавшийся, но это не то, что нам надо.\n",
        "Тут мы можем заметить, что у искомого текста есть свой класс body js-mediator-article. Воспользуемся этим:  в метод find можно передать аргумент class_"
      ]
    },
    {
      "cell_type": "code",
      "metadata": {
        "colab": {
          "base_uri": "https://localhost:8080/",
          "height": 120
        },
        "id": "tkVbGapt-xen",
        "outputId": "d65a20b9-fd9b-4fe5-c18f-7076b2b5a5ff"
      },
      "source": [
        "page.find('div', class_='body').text"
      ],
      "execution_count": null,
      "outputs": [
        {
          "output_type": "execute_result",
          "data": {
            "application/vnd.google.colaboratory.intrinsic+json": {
              "type": "string"
            },
            "text/plain": [
              "'\\n\\n\\n\\n\\n\\nAllison Carter, Georgia Tech\\n\\n\\n\\n\\n\\nАмериканские инженеры разработали робота-ленивца, способного лазать по\\xa0тросам и\\xa0перемещаться с\\xa0одного троса на\\xa0другой. Благодаря относительно малому потреблению энергии и\\xa0использованию солнечных панелей подобного робота можно практически неограниченное время использовать для наблюдений на деревьях в лесу, рассказывают авторы статьи, представленной на\\xa0конференции ICRA 2019.\\nСоздание роботов, способных лазать по\\xa0тросам\\xa0— важная технологическая задача, наработки из\\xa0которой потенциально применимы во\\xa0многих областях. К\\xa0примеру, в\\xa02016 году в\\xa0России создали робота для проверки высоковольтных линий электропередачи. Дрон спускает такого робота на\\xa0грозозащитный трос, после чего тот самостоятельно перемещается вдоль основных проводов и\\xa0осматривает\\xa0их. Кроме того, потенциально таких роботов можно применять для исследований в\\xa0густых лесах, в\\xa0которых ветки соседних деревьев соприкасаются.\\nИнженеры из\\xa0Технологического института Джорджии под руководством Магнуса Эгерштедта (Magnus Egerstedt) вдохновились ленивцами и\\xa0решили создать энергоэффективного робота, на\\xa0основе которого можно было\\xa0бы создать робота, способного лазать по\\xa0веткам. Робот состоит из\\xa0двух частей и передвигается благодаря колесу в\\xa0каждой части, соприкасающемуся с\\xa0тросом.\\n\\nКроме того, в\\xa0каждой части робота есть две полноценные шестерни и\\xa0две связанные с\\xa0ними, но\\xa0с\\xa0вырезанным сектором. Внутрь такой шестерни продет\\nтрос. При движении вперед шестерня расположена таким образом, чтобы трос не\\xa0мог выйти за\\xa0ее\\xa0пределы. Если\\xa0же роботу необходимо перейти на\\xa0смежный трос, шестерня поворачивается так, чтобы вырез располагался горизонтально. Перемещаться между смежными тросами роботу помогает еще один двигатель в\\xa0петле, соединяющей две части.\\n\\n\\n\\n\\n\\n\\n\\n\\n\\nКомпоненты одной из двух частей робота\\nGennaro Notomista et al. / IEEE Robotics and Automation Letters, 2019\\n\\n\\n\\nПоделиться\\n\\n\\n\\n\\n\\n\\n\\n\\n\\n\\n\\n\\n\\n\\n\\n\\n\\nДля питания робот использует аккумулятор емкостью 1000 миллиампер-часов, а\\xa0также две солнечные панели, располагающиеся по\\xa0бокам одной из\\xa0частей. Разработчики отмечают, что благодаря применению колес для движения по\\xa0тросам, а\\xa0также пассивному механизму удержания, робот имеет большую энергоэффективность, чем другие роботы, предназначенные для перемещения по\\xa0тросам.\\n\\n\\n\\n\\n\\n\\n\\n\\n\\nМеханизм блокировки троса\\nGennaro Notomista et al. / IEEE Robotics and Automation Letters, 2019\\n\\n\\n\\nПоделиться\\n\\n\\n\\n\\n\\n\\n\\n\\n\\n\\n\\n\\n\\n\\n\\n\\n\\nКроме создания аппаратной платформы инженеры также написали для робота программное обеспечение, позволяющее ему самому прокладывать путь по\\xa0тросам. Пользователь может указать точку, за\\xa0которой необходимо наблюдать, после чего робот, имея карту системы тросов, самостоятельно рассчитает путь до\\xa0наиболее близкой к заданной точке наблюдательной позиции.\\nРанее инженеры из\\xa0Технологического института Джорджии создали другого робота-ленивца для работы на\\xa0тросе. Он\\xa0так\\xa0же состоит из\\xa0двух частей, но\\xa0имеет совершенно другую конструкцию и\\xa0принцип работы. Он\\xa0способен зацепляться концом одной части за\\xa0трос и\\xa0раскачивать другую, чтобы затем зацепиться\\xa0ей. После этого он\\xa0может отпустить первую часть и\\xa0снова начать раскачиваться для того, чтобы двигаться дальше.\\nГригорий Копиев\\n'"
            ]
          },
          "metadata": {
            "tags": []
          },
          "execution_count": 14
        }
      ]
    },
    {
      "cell_type": "code",
      "metadata": {
        "colab": {
          "base_uri": "https://localhost:8080/",
          "height": 35
        },
        "id": "-AoTlewcX74A",
        "outputId": "06cbe0c7-bea6-4dc3-8e24-5e456a1b645d"
      },
      "source": [
        "url = 'https://ru.wikipedia.org/wiki/Pink_Floyd'\n",
        "response = requests.get(url)\n",
        "page = BeautifulSoup(response.text, 'html.parser')\n",
        "page.title.text"
      ],
      "execution_count": null,
      "outputs": [
        {
          "output_type": "execute_result",
          "data": {
            "application/vnd.google.colaboratory.intrinsic+json": {
              "type": "string"
            },
            "text/plain": [
              "'Pink Floyd — Википедия'"
            ]
          },
          "metadata": {
            "tags": []
          },
          "execution_count": 18
        }
      ]
    },
    {
      "cell_type": "code",
      "metadata": {
        "colab": {
          "base_uri": "https://localhost:8080/",
          "height": 120
        },
        "id": "gj7zwfbfYk3P",
        "outputId": "7df987cf-3418-42f3-d4c9-556563ed1fc6"
      },
      "source": [
        "page.find('div', id='bodyContent').text"
      ],
      "execution_count": null,
      "outputs": [
        {
          "output_type": "execute_result",
          "data": {
            "application/vnd.google.colaboratory.intrinsic+json": {
              "type": "string"
            },
            "text/plain": [
              "'\\nМатериал из Википедии — свободной энциклопедии\\n\\nЭто стабильная версия, отпатрулированная 15 июня 2021.Состояниеотпатрулирована\\n\\n\\n\\n\\n\\n\\nПерейти к навигации\\nПерейти к поиску\\nPink Floyd   Pink Floyd в 1968 году. Слева направо: стоят Ник Мейсон, Сид Барретт, Роджер Уотерс, Ричард Райт, сидит Дэвид Гилмор \\n\\nОсновная информация\\n\\n\\nЖанры\\n\\n\\n\\nПрогрессивный рок[1]\\nарт-рок[2]\\nпсиходелический рок[3]\\nэкспериментальный рок[4]\\nэйсид-рок[5]\\nпрото-прог[6]\\nспейс-рок[7]\\n\\n\\n\\nГоды\\n\\n1965—199520052012—2015[8][9]\\n\\n\\nСтрана\\n\\n\\xa0Великобритания\\n\\n\\nМесто создания\\n\\nЛондон, Англия\\n\\n\\nДругое название\\n\\nThe Pink Floyd Sound\\n\\n\\nЯзык\\n\\nанглийский\\n\\n\\nЛейблы\\n\\nEMI (Columbia Graphophone, Capitol/Towerruen, Harvest), Columbia, Sony Music/Columbia, Warner Music/Parlophone\\n\\n\\nБывшиеучастники\\n\\nНик МейсонРоджер УотерсРичард РайтСид БарреттДэвид Гилмор\\n\\n\\nДругиепроекты\\n\\nStarsNick Mason’s Saucerful of Secrets\\npinkfloyd.com\\u200b\\xa0(англ.)\\xa0Медиафайлы на Викискладе\\n\\nPink Floyd (рус. Пинк Флойд[10][11])\\xa0— британская рок-группа, знаменитая своими продолжительными композициями и объединёнными в тематические сюиты песнями, звуковыми экспериментами.mw-parser-output .ts-Переход img{margin-left:.285714em}[⇨], философскими текстами[⇨], дизайном обложек альбомов[⇨] и грандиозными концертными шоу[⇨]. Является одной из наиболее влиятельных и коммерчески успешных групп в истории мировой рок-музыки\\xa0— в её активе более 250\\xa0млн проданных альбомов в мире[12], в том числе 75\\xa0млн\\xa0— в США[13][⇨].\\nГруппа была основана в 1965 году однокурсниками по архитектурному факультету Лондонского политехнического института Ричардом Райтом (клавишные, вокал), Роджером Уотерсом (бас-гитара, вокал), Ником Мейсоном (ударные) и их другом из Кембриджа Сидом Барреттом (вокал, гитара). Первоначальное название «The Pink Floyd Sound» было придумано лидером группы и автором большинства текстов раннего периода\\xa0— Барреттом, в 1967 году оно было сокращено до «Pink Floyd». В начале того же года группа выпустила свои первые синглы, а в августе\\xa0— дебютный студийный альбом The Piper at the Gates of Dawn, ставший классикой психоделического рока[14][⇨].\\nВ конце 1967 года к четвёрке музыкантов присоединился гитарист Дэвид Гилмор. Он заменил страдавшего в то время от наркотической зависимости Барретта, который часто срывал записи и концерты. После ухода Барретта доминирующими фигурами в группе стали Роджер Уотерс и Ричард Райт, однако со временем Райт уступил позиции Гилмору. В период 1968—1972\\xa0годов группой были выпущены шесть альбомов (два из которых содержат музыку к фильмам). В 1973 году состоялся релиз самой успешной пластинки группы\\xa0— The Dark Side of the Moon, сразу же сделавшей Pink Floyd явлением мирового масштаба[⇨]. За ней последовали альбомы Wish You Were Here (1975) и Animals (1977), ещё больше увеличившие международную известность коллектива[⇨].\\nС каждым новым альбомом Роджер Уотерс укреплял своё лидерство в Pink Floyd, постепенно превращаясь в единоличного руководителя[15]. Именно он является автором идеи и большинства композиций концептуального альбома The Wall (1979). Такое положение дел вызывало недовольство со стороны других участников группы, что повлекло за собой уход Райта. Последней работой Pink Floyd в составе Гилмор-Мейсон-Уотерс стал альбом The Final Cut (1983). После этого коллектив прекратил активную работу, а его участники занялись сольными проектами и сотрудничеством с другими музыкантами[⇨].\\nВ 1986 году после череды судебных разбирательств Гилмору удалось возродить Pink Floyd сначала в составе Гилмор-Мейсон, затем к ним присоединился Райт. В 1987 году был выпущен альбом A Momentary Lapse of Reason, автором большинства композиций которого стал Гилмор. После записи пластинки группа отправилась в мировое турне, по итогам которого был издан двойной концертный альбом Delicate Sound of Thunder. В 1994 году этим же составом был записан диск The Division Bell, за которым последовал концертный тур и новый большой перерыв в творчестве коллектива. Период работы группы без Уотерса был неоднозначно воспринят как музыкальными критиками, так и поклонниками «классического состава» Pink Floyd[⇨].\\nНовое тысячелетие началось с «исторического» воссоединения состава Уотерс-Гилмор-Мейсон-Райт[16], состоявшегося в рамках единственного концерта на благотворительном мероприятии Live 8; однако оно также было омрачено смертями двух музыкантов группы: в июне 2006 года скончался Сид Барретт, а в сентябре 2008 года\\xa0— Ричард Райт. В 2014 году состоялся релиз последнего студийного альбома группы The Endless River, основанного на демозаписях 1993—1994 годов, сделанных при участии Райта. После этого группа Pink Floyd официально прекратила своё существование[⇨].\\n\\nСодержание\\n\\n1 История\\n\\n1.1 1963—1967: ранние годы\\n\\n1.1.1 Формирование\\n1.1.2 Контракт с EMI\\n1.1.3 The Piper at the Gates of Dawn (1967)\\n\\n\\n1.2 1967—1978 годы: переходный период и международный успех\\n\\n1.2.1 1967: замена Барретта на Гилмора\\n1.2.2 A Saucerful of Secrets (1968)\\n1.2.3 Ummagumma (1969), Atom Heart Mother (1970) и Meddle (1971)\\n1.2.4 The Dark Side of the Moon (1973)\\n1.2.5 Wish You Were Here (1975)\\n1.2.6 Animals (1977)\\n\\n\\n1.3 1978—1985: эра Уотерса\\n\\n1.3.1 The Wall (1979)\\n1.3.2 The Final Cut (1982)\\n1.3.3 Уход Уотерса и судебные баталии\\n\\n\\n1.4 1985—1994: эра Гилмора\\n\\n1.4.1 A Momentary Lapse of Reason (1987) и визит в СССР\\n1.4.2 The Division Bell (1994)\\n\\n\\n1.5 2005—2016: реюнион, смерти участников и The Endless River\\n\\n1.5.1 Воссоединение на Live 8\\n1.5.2 Смерти Барретта и Райта\\n1.5.3 Дальнейшие выступления и переиздания\\n1.5.4 The Endless River (2014) и Nick Mason’s Saucerful of Secrets\\n\\n\\n\\n\\n2 Музыка\\n\\n2.1 Жанры\\n2.2 Гитарный стиль Гилмора\\n2.3 Звуковые эксперименты\\n2.4 Саундтреки к фильмам\\n2.5 Концертные постановки\\n\\n\\n3 Иллюстрации альбомов\\n4 Тематика текстов песен\\n\\n4.1 Разочарование, отсутствие и небытие\\n4.2 Эксплуатация и угнетение\\n4.3 Отчуждение, война и безумие\\n\\n\\n5 Признание и влияние\\n6 Участники группы\\n7 Дискография\\n8 Примечания\\n9 Литература\\n10 Ссылки\\n\\n\\nИстория[править | править код]\\n1963—1967: ранние годы[править | править код]\\nФормирование[править | править код]\\n Репетиция группы Sigma 6 в Политехе на Риджент-стрит\\xa0— слева направо: Клайв Меткаф, Шейла Ноубл, Кит Ноубл, Роджер Уотерс, Ник Мейсон и неизвестный гитарист\\nРоджер Уотерс и Ник Мейсон познакомились во время учёбы на архитектурном факультете Лондонского политехнического института на Риджент-стрит[17][18]. Сначала они вместе играли в студенческой группе, сформированной в 1963 году Клайвом Меткафом и Китом Ноублом, в которую также входила сестра Ноубла\\xa0— Шейла. Вскоре к ним присоединился сокурсник по архитектурному факультету Ричард Райт[комм. 1] и группа стала секстетомruen, названным «Sigma 6». Уотерс был соло-гитаристом, Мейсон\\xa0— барабанщиком, а Райт играл на ритм-гитаре[комм. 2]. Также в состав была приглашена вокалистка Джульетт Гейл (будущая жена Райта)[21]. Группа выступала на частных вечеринках и репетировала в чайной, расположенной в подвальном помещении Политехнического института. Первое время музыканты исполняли песни группы The Searchers и материал, написанный их менеджером и сокурсником Кеном Чепменом[22].\\nВ сентябре 1963 года Уотерс и Мейсон поселились недалеко от Крауч-Энда в квартире на Стэнхоуп-Гарденс, 39, принадлежавшей Майку Леонарду, внештатному преподавателю Политехнического института и Художественного колледжа Хорнси. Время от времени Леонард играл на электрооргане Farfisa Duoruen вместе с новыми жильцами, используя для репетиций гостиную своей квартиры[комм. 3][24] (в это же время, по словам Ника Мейсона, из группы ушли Меткаф и Ноубл, решившие продолжать музыкальную карьеру самостоятельно)[25]. В начале лета 1964 года после завершения второго курса института Мейсон съехал с квартиры[24]. На его место, в сентябре того же года, пришёл Боб Клоуз, которого приняли в группу гитаристом. Появление в ансамбле нового участника вынудило Уотерса переключиться с гитары на бас[комм. 4][26]. Чуть позднее к Уотерсу и Клоузу подселился гитарист Сид Барретт[25], который был на три года моложе Уотерса и Райта и на два года\\xa0— Мейсона. Барретт переехал в Лондон в 1962 году, поступив учиться в Камберуэллский колледж искусств[27]. Уотерс и Барретт были друзьями детства; Уотерс часто навещал Барретта и наблюдал, как тот играет у себя дома на гитаре[28]. Впоследствии Мейсон вспоминал: «В тот период, когда все изображали из себя крутых в индивидуалистски-мрачной манере, Сид был немодно дружелюбен; так яркое воспоминание о нашей первой встрече начинается с того, что он потрудился ко мне подойти и специально представиться»[29]. В течение 1964 года наряду с изменениями в составе группа пережила несколько смен названия. Она переименовывалась в «The Meggadeaths», «The Abdabs» (или «The Screaming Abdabs»)[комм. 5], «Leonard’s Lodgers», «The Spectrum Five», пока музыканты окончательно не остановились на варианте «The Tea Set»[комм. 6][35].\\n\\n Группа The Tea Set возле своего фургона фирмы Bedford, слева направо: Боб Клоуз, Ричард Райт, Уотерс, Крис Деннис (сверху), Мейсон (1965)\\nПосле ухода Ноубла и Меткафа группа The Tea Set нуждалась в вокалисте. Нового фронтмена Криса Денниса, служившего в то время механиком в Королевских ВВС, привёл в группу Боб Клоуз[36]. В декабре 1964 года музыканты впервые зарезервировали студию звукозаписи\\xa0— помещение, расположенное в Уэст-Хэмпстедеruen. Помог в этом один из друзей Райта, который позволил группе бесплатно использовать студию во время простоя[37]. Сам Райт, взявший академический отпуск в университете, в этой сессииruen не участвовал[38]. Во время работы в студии было записано первое демо группы, включившее четыре композиции: блюзовый стандарт «I’m a King Beeruen», а также три песни, написанные Сидом Барреттом\\xa0— «Butterfly», «Lucy Leave» и «Double O Bo»[37]. В начале 1965 года, после того как Королевскиие ВВС прикомандировали Денниса на службу в Бахрейн, обязанности солиста перешли к Барретту[39]. В этом же году музыкантам было предложено стать .mw-parser-output .ts-comment-commentedText{border-bottom:1px dotted;cursor:help}@media(hover:none){.mw-parser-output .ts-comment-commentedText:not(.rt-commentedText){border-bottom:0;cursor:auto}}резидентами клуба The Countdown Club, расположенного неподалёку от Кенсингтон-Хай-Стритruen. The Tea Set выступали там с поздней ночи до раннего утра с тремя сетами по 90 минут каждый. В этот период у группы возникла необходимость расширить свои концертные номера, чтобы свести к минимуму повторение песен\\xa0— так музыканты, как писал Мейсон, пришли к пониманию, «что красивые соло могут существенно эти песни удлинять»[40]. В середине 1965 года Клоуз покинул группу из-за постоянного давления со стороны родителей и преподавателей колледжа. Вместо него соло-гитаристом стал Барретт[41][42]. В конце того же года квартет впервые начал представляться публике как «The Pink Floyd Sound». Барретт придумал это название после того, как узнал, что на одном из их совместных концертов должна была выступить ещё одна группа «The Tea Set»[43]. Новое название коллектива происходило от имён двух пьемонтских блюзменовruen, чьи пластинки имелись в коллекции музыканта — Пинка Андерсона и Флойда Каунсила[44][43].\\n\\n\\n\\n\\n\\n\\n«Interstellar overdrive» (extended version)\\n\\n\\n«Interstellar Overdrive» (версия из фильма Tonite Lets All Make Love in Londonruen) — композиция, написанная в 1966 году — яркий образец импровизационного стиля ранних выступлений Pink Floyd с первым фронтменом — Сидом Барреттом[45].\\n\\n\\nПомощь по воспроизведению\\n\\nВ 1966 году The Pink Floyd Sound выступали в различных лондонских клубах и концертных залах, исполняя в основном ритм-энд-блюзовые песни. Музыканты получали от клубов заказы, которые оплачивались сразу. На выступлении в одном из таких заведений, в клубе The Marquee, весной 1966 года группу заметил лектор Лондонской школы экономики Питер Дженнер. Он был впечатлён звуковыми эффектами, которые воспроизводили на своих инструментах Барретт и Райт, и вскоре вместе со своим деловым партнёром и другом Эндрю Кингом предложил группе услуги менеджеров. Музыканты согласились и подписали с Дженнером и Кингом шестистороннее соглашение, по которому каждый получал равную долю от суммы общего дохода[46]. У новоиспечённых руководителей уже был небольшой опыт работы в музыкальном бизнесе, и благодаря средствам, полученным от наследства Кинга, партнёры создали фирму Blackhill Enterprises, потратив около 1000 фунтов стерлингов[комм. 7] на покупку новых музыкальных инструментов и оборудования для своих подопечных[комм. 8]. Под руководством менеджеров группа стала частью лондонской андеграунднойruen музыкальной сцены, выступая в таких заведениях, как All Saints Hall и The Marquee[49]. Кроме того, Дженнер стал инициатором сокращения названия коллектива, предложив убрать из него слово «Sound»[48]. Ещё во времена резидентства в The Countdown Club Pink Floyd начали экспериментировать с длительными инструментальными пассажами, теперь же музыканты стали добавлять в свои выступления визуальные элементы\\xa0— при помощи примитивных, но в то же время впечатляющих световых эффектов, проецируемых на сцену посредством цветных слайдов и внутреннего освещения[50][51]. Общественные связи Дженнера и Кинга помогли группе попасть в поле зрения СМИ\\xa0— был опубликован материал в газете Financial Times[52], а также напечатана статья в The Sunday Times, в которой отмечалось: «Вчера вечером на презентации нового журнала „IT“ поп-группа под названием The Pink Floyd исполнила волнующую музыку. Их выступление сопровождалось демонстрацией цветных изображений на большом экране за спиной музыкантов. […] Разумеется, всё было весьма психоделично»[53].\\n\\n Pink Floyd периода записи первого альбома позируют на фоне Мемориального фонтана Шефтсбериruen на площади Пикадилли, слева направо: Мейсон, Райт, Барретт и Уотерс (1967)\\nК концу 1966 года концертная программа коллектива сместилась с ритм-энд-блюзовых стандартов в сторону оригинального материала Барретта, бо́льшая часть которого позднее была включена в дебютный альбом группы[54]. Музыканты The Pink Floyd к этому времени стали выступать значительно чаще, но их группа по-прежнему была малоизвестной. Порой выступления коллектива воспринимались неоднозначно. Так, например, после концерта в Catholic youth club владелец отказался платить им, заявив, что они играли «не музыку»[55]. Когда менеджмент коллектива подал иск в суд против хозяина заведения, к удивлению музыкантов, местный магистрат встал на сторону ответчика. Гораздо лучше группу принимали в лондонском клубе UFO, в среде посетителей которого у The Pink Floyd стала формироваться преданная фанатская база[56]. На этих выступлениях Барретт играл на сцене с энтузиазмом и воодушевлением. «Когда я наблюдал за его прыжками по сцене, его безумием и стремлением к импровизации, у меня сложилось впечатление, что вдохновение сходило на Сида свыше. Он постоянно мог превосходить сделанное им же ранее и проникать во всё более интересные и новые сферы. Остальные не были способны на это»,\\xa0— вспоминал поэт и вокалист Пит Браунruen о своём первом впечатлении от выступления музыканта на сцене[57].\\n\\nКонтракт с EMI[править | править код]\\nВ 1967 году группа Pink Floyd начала привлекать к себе внимание представителей музыкальной индустрии[комм. 9][7][59]. В период активных переговоров с лейблами звукозаписи соучредитель и менеджер клуба UFO Джо Бойд, а также концертный агент Pink Floyd Брайан Моррисон организовали и оплатили для группы сессии на студии Sound Technicsruen в Уэст-Хэмпстедеruen, которые начались 11 января 1967 года. Прослушав запись песни Барретта «Arnold Layne», руководство EMI предложило Pink Floyd 5000 фунтов стерлингов[комм. 10] в качестве аванса. 1 февраля был подписан контракт с лейблом, а 10 марта дочерний филиал EMI, Columbia, выпустил дебютный сингл группы «Arnold Layne» с би-сайдом «Candy and a Currant Bun»[комм. 11][комм. 12][61]. Отсылки в тексте «Arnold Layne» к трансвестизму привели к запрету песни на нескольких радиостанциях; однако благодаря манипуляциям ритейлеров, которые предоставляли данные о продажах руководителям музыкальной индустрии, цифры были искажены путём массовой скупки сингла подставными лицами в определённых торговых точках, за счёт чего он смог попасть в топ-20 британского чарта[62].\\n\\n\\n\\n\\n\\n\\n«See Emily Play»\\n\\n\\nСамый успешный сингл «барреттовского» периода группы, записанный по ходу работы над дебютным альбомом, был издан перед релизом пластинки. Благодаря популярности этой песни музыканты Pink Floyd стали поп-звёздами, «катапультировавшись в высшую лигу», и выступили в Top of the Pops[63].\\n\\n\\nПомощь по воспроизведению\\n\\n16 июня 1967 года состоялся релиз второго сингла Pink Floyd\\xa0— «See Emily Play». Он был гораздо успешнее предыдущего, поднявшись до 6-го места в хит-параде Великобритании[64]. Вскоре после выпуска сингла группа выступила на шоу Look of the Week телеканала Би-би-си, где Уотерс и Барретт столкнулись с массой острых вопросов от ведущего Ханса Келлера[65]. Кроме того, группа приняла участие в популярной британской телепередаче Top of the Pops, руководство которой потребовало от артистов спеть под фонограмму, что вызвало у музыкантов негативную реакцию[66]. Хотя Pink Floyd должны были выступить в Top of the Pops ещё дважды, так как их сингл продержался ещё две недели в Top-10, перед третьим шоу Барретт наотрез отказался выходить на сцену[67][68]. Примерно в это же время коллеги впервые заметили значительные изменения в поведении Барретта[69]\\xa0— их причиной было употребление ЛСД, ставшее к началу 1967\\xa0года регулярным[70][71]; по словам Мейсона, фронтмен Pink Floyd временами «полностью дистанцировался от всего происходящего»[72].\\n\\nThe Piper at the Gates of Dawn (1967)[править | править код]\\nОсновная статья: The Piper at the Gates of Dawn\\n@media(max-width:719px){.mw-parser-output .ts-Врезка{width:100%!important;max-width:100%!important;float:none!important;margin-left:0!important;margin-right:0!important;box-sizing:border-box}}\\n\\n«„The Piper at the Gates of Dawn“ стал замечательным достижением практически со всех точек зрения. Это именно та работа, которая сыграла основную роль в создании образа Барретта-мистика и определила стилистику многих альбомов, которые будут созданы его коллегами уже без Сида. [...]  На записи — слова и музыка группы вдыхали жизнь в волшебный мир, населённый космическими странниками из будущего, холодящими душу трансвеститами, гномами и единорогами из английских сказок»[73].\\n\\nПисатель Николас Шэффнер\\n\\n\\nВо время заключения контракта с EMI Моррисон договорился о финансировании записи и релиза дебютного альбома Pink Floyd; его должны были записывать в лондонской студии Эбби-Роуд со штатным продюсером лейбла Норманом Смитом[74]. По воспоминаниям Мейсона, сессии проходили гладко, однако Смит утверждал обратное, отмечая, что Барретт практически не реагировал на его предложения и конструктивную критику[75]. Columbia выпустила The Piper at the Gates of Dawn в августе 1967 года. Альбом добрался до 6-й строчки британского чарта, в общей сложности продержавшись в нём 19 недель[76]. Спустя месяц он был перевыпущен лейблом Towerruen, подразделением компании Capitol Records[77]. Pink Floyd продолжали собирать полные залы в клубе UFO; и хотя Барретт справлялся со своими обязанностями на сцене, его психическое состояние к тому моменту стало вызывать серьёзную обеспокоенность коллег по группе, менеджеров и знакомых. Поначалу остальные музыканты надеялись на то, что проблемы с нестабильным поведением фронтмена рано или поздно закончатся, однако некоторые из его окружения были менее оптимистичны: в их числе были Дженнер и его помощница Джун Чайлд, которая вспоминала: «Я обнаружила [Барретта] в гримёрке, и он был такой… отрешённый. Мы с Роджером подняли его на ноги и вывели на сцену. […] Группа начала играть, а Сид просто стоял на месте. Гитара висела у него на шее, а руки вяло болтались по бокам»[78][79].\\nВынужденный отменить несколько концертов Pink Floyd, в числе которых выступление на престижном Национальном фестивале джаза и блюзаruen, Эндрю Кинг объявил музыкальной прессе, что Барретт страдает от нервного истощения[80]. Обеспокоенный состоянием своего коллеги, Уотерс договорился о встрече с психиатром Рональдом Лэйнгом, отвёз музыканта к нему на приём, однако он отказался выходить из машины[81]. Короткий отпуск Барретта на острове Форментера вместе со своей девушкой, Линдси Корнер, и реабилитационным доктором Сэмом Хаттом, широко известным в британской андеграундной музыкальной среде, тоже не привёл к заметным улучшениям его здоровья[82]. В сентябре 1967 года группа провела несколько концертов в Европе, а в октябре впервые отправилась в мини-турне по США[комм. 13][84]. По мере продолжения гастролей состояние Барретта становилось всё хуже и хуже[85]. В ноябре во время выступлений на телевизионных передачах Дика Кларка и Пэта Буна Барретт смущал ведущих своим поведением, не отвечая на вопросы и глядя пустым, немигающим взглядом. Когда в программе Буна пришло время спеть песню «See Emily Play» под фонограмму, он и вовсе отказался открывать рот[86]. После этих неловких эпизодов Кинг решил прекратить гастроли и незамедлительно отправил группу назад в Лондон[комм. 14][88]. Вскоре после возвращения музыканты присоединились к гастролирующему по Англии американскому гитаристу Джими Хендриксу в качестве разогревающей группы (в этом сборном турне выступали семь ансамблей, игравших по 2 раза за вечер)[89]; однако по мере продолжения турне депрессия Барретта лишь усугублялась, достигнув критической точки в декабре\\xa0— тогда группа приняла решение принять в свой состав ещё одного участника, который бы мог замещать фронтмена в нужный момент[комм. 15][91][92].\\n\\n1967—1978 годы: переходный период и международный успех[править | править код]\\n1967: замена Барретта на Гилмора[править | править код]\\nОсновная статья: Психическое состояние Сида Барретта\\n Позже влияние Барретта продолжало чувствоваться в таких фирменных приёмах группы, как включение различных звуковых эффектов в композиции, и в потустороннем звучании большей части материала. В то же время погружение самого музыканта в пучину безумия обеспечило жизнь основным темам концепции альбомов The Wall, Wish You Were Here и особенно The Dark Side of the Moon[93]\\n Дэвиду Гилмору была очень важна мелодическая сторона в творчестве Pink Floyd. Когда он появился в группе впервые, стало ясно, что профессиональный уровень коллег его устроить не мог. Именно он облёк их музыку в определённую форму, превратив в этом смысле Pink Floyd в более зрелую команду[94]\\nВ декабре 1967 года группа пригласила гитариста Дэвида Гилмора стать пятым участником Pink Floyd[комм. 16][96][97]. Гилмор уже был знаком с Барреттом, так как учился с ним в одном колледжеruen в начале 1960-х. Во время учёбы они часто играли вдвоём на гитарах и губных гармониках в обеденное время, а во время каникул путешествовали автостопом по югу Франции, выступая как уличные музыканты[98]. Кроме этого, в 1965 году, будучи членом The Jokers Wild, Гилмор выступал на совместном концерте с The Tea Set[99]. Помощник Моррисона Стив О’Рурк поселил Гилмора в одной из комнат своего дома, выделив музыканту зарплату в размере 30 фунтов стерлингов в неделю[комм. 17]. В январе 1968 года Blackhill Enterprises объявила Гилмора пятым полноценным участником коллектива\\xa0— закрепив за ним роль второго гитариста; группа намеревалась продолжить работу с Барреттом в качестве автора песен, не выступающего на концертах[комм. 18][101]. Дженнер так комментировал ситуацию: «Идея заключалась в следующем: Дэйв станет замещать Сида и сглаживать его чудачества. Когда это перестанет срабатывать, Барретт будет только писать. Мы просто попробуем оставить его при деле, но так, чтобы остальные тоже могли спокойно работать»[комм. 19][103]. Барретт, который должен был сочинить новые хитовые синглы, закрепляющие успех «Arnold Layne» и «See Emily Play», вместо этого, выразив своё разочарование, продемонстрировал группе песню «Have You Got It Yet?», намеренно меняя аранжировку по ходу репетиции, чем сделал её невозможной для разучивания[96][104]. Уотерс вспоминал: «Я стоял там битый час, пока он пел [„Have You Got It Yet?“]… пытаясь осмыслить всё то, что он постоянно менял так, что я ничего не мог понять. Он мог бы пропеть: „Ну что уловил?“, а я бы мог ответить: „Нет, нет, не уловил“»[105]. Изоляцию Барретта от остальной группы можно было, в частности, наблюдать во время фотосессии всех пяти музыкантов в январе 1968 года: фронтмен выглядел на фото отстранённым от остальных, глядя при этом куда-то вдаль[106].\\nВ итоге предполагаемое сотрудничество Pink Floyd с их лидером оказалось слишком проблематичным и попросту невозможным из-за неуправляемого состояния Барретта, близкого к кататоническому[комм. 20][108][109]. По дороге на выступление в Саутгемптоне, в январе 1968 года, когда один из членов группы спросил, не следует ли им заехать за Сидом, последовал ответ\\xa0— «О нет, давайте не будем!», что стало сигналом об окончании пребывания Барретта в составе Pink Floyd\\xa0— остальные музыканты поняли, что предпочитают обходиться без него[комм. 21][110][111]. Впоследствии Уотерс вспоминал: «Он был нашим другом, но теперь бо́льшую часть времени мы хотели его придушить»[112]. Басисту «катастрофически» надоело возиться с фронтменом и он постоянно реагировал на «барреттовские выходки» намеренно агрессивно, о чём искренне сожалел годы спустя[105]. В свою очередь, по прошествии десятилетия Мейсон говорил: «Сегодня легко оглядываться назад […] Но когда ты находишься в полном смятении, когда у тебя в голове царит полная неразбериха, ибо ты пытаешься остаться в группе, добиться успеха и заставить весь механизм работать\\xa0— а ничего не вытанцовывается. Непонятно, почему всё так получается, ты не можешь не поверить в то, что кто-то умышленно пытается завалить всё дело. При этом твой внутренний голос […] говорит: „Этот человек\\xa0— сумасшедший, он пытается уничтожить тебя!“. Разрушить меня, знаете,\\xa0— это очень личное. Заводишься до такого состояния, что ярость никакому контролю не поддаётся»[113]. В начале марта 1968 года музыканты провели деловую встречу с Дженнером и Кингом, чтобы обсудить будущее группы\\xa0— Барретт согласился покинуть коллектив; остальные участники сохранили за собой название «Pink Floyd»; менеджеры, оставшиеся в Blackhill, получили права на все прошлые записи с Барреттом[114][115].\\n6 апреля 1968 года менеджеры Blackhill Enterprises официально объявили об уходе Барретта[комм. 22][118]. Вместо него песни в группе стали сочинять Уотерс и Райт. Помимо этого, к Уотерсу по большей части перешло бремя выбора тематики текстов и творческого направления Pink Floyd[119][120]. Вокальные партии Барретта стал исполнять Гилмор: первоначально на европейских телевизионных выступлениях группы он даже подражал голосу бывшего солиста. Однако, играя в университетских кругах, участники группы предпочитали вместо песен Барретта исполнять новый материал вроде\\xa0«It Would Be So Nice» и «Careful with That Axe, Eugene»[2]. Вскоре после ухода Барретта из группы Моррисон продал свой бизнес компании Брайана Эпстайна «NEMS Enterprises» и Стивен О’Рурк, один из партнёров Моррисона, стал единоличным менеджером квартета[121], а Дженнер и Кинг, считавшие Барретта творческим гением ансамбля, решили прекратить сотрудничество с Pink Floyd, переключившись на его продвижение как сольного артиста[122][115].\\n\\nA Saucerful of Secrets (1968)[править | править код]\\nОсновная статья: A Saucerful of Secrets\\n Психоделическое изображение обложки A Saucerful of Secrets было первой работой в череде многих, созданных для Pink Floyd дизайнерской студией Hipgnosis\\nВ 1968 году музыканты вернулись на студию Эбби-Роуд, чтобы приступить к записи своего второго альбома. A Saucerful of Secrets включал три композиции Уотерса, в которых стал просматриваться его собственный авторский стиль\\xa0— «Set the Controls for the Heart of the Sun», «Let There Be More Light» и «Corporal Clegg», две композиции Райта\\xa0— «See-Saw» и «Remember a Day», а также последний вклад Барретта в дискографию Pink Floyd\\xa0— «Jugband Blues»[комм. 23]. Норман Смит поощрял группу к самостоятельному продюсированию своей музыки, поэтому музыканты записывали демоверсии нового материала у себя дома. Кроме этого, получив от Смита ряд советов по технической стороне записи, а также набравшись опыта во время работы над своим прошлым альбомом, участники Pink Floyd стали самостоятельно использовать студию звукозаписи для реализации своего творческого видения. Тем не менее в ряде моментов Смит остался неудовлетворённым их исполнительским уровнем. Так, например, когда Мейсон, несмотря на все свои усилия, не смог исполнить барабанную партию в песне «Remember a Day», продюсер сам сел за ударную установку[124]. Вспоминая об отношении Смита к тем сессиям, Райт отмечал, что «Норман махнул рукой на наш второй альбом… он вечно твердил что-то вроде: „Ты не сможешь выдержать и двадцати минут этого нелепого шума“»[125]. Во время студийных сессий A Saucerful of Secrets музыканты нашли необычный способ проиллюстрировать структуру заглавного трека альбома. Поскольку ни Уотерс, ни Мейсон не изучали нотную грамоту, они изобрели свою собственную систему музыкальной нотации, рисуя «пики и впадины» на бумаге. Впоследствии Гилмор описал их метод как «похожий на архитектурную схему»[126].\\nВыпущенный в июне 1968 года альбом добрался до 9-го места британского хит-парада, в общей сложности продержавшись в нём 11 недель[127]. Музыкальный журнал Record Mirror в целом оценил запись в положительном ключе, однако призвал слушателей «забыть её, словно фоновую музыку на вечеринке»[126]. В свою очередь, радиоведущий Джон Пил описал концертное исполнение заглавного трека как «похожее на религиозный опыт», в то время как обозреватель из NME назвал эту композицию «длинной и скучной… с малым количеством моментов, оправдывающих её монотонное содержание»[125]. На следующий день после выхода альбома в Великобритании музыканты Pink Floyd выступили на первом бесплатном концерте в истории Гайд-паркаruen[128], а через девять дней группа отправилась в своё второе турне по США. Это были первые серьёзные гастроли Pink Floyd, в ходе которых группу сопровождали ещё два британских коллектива\\xa0— Soft Machine и The Who[129]. В декабре того же года музыканты Pink Floyd выпустили сингл «Point Me at the Sky», который был не более успешен, чем два предыдущих, изданных после «See Emily Play»\\xa0— «Apples and Oranges» и «It Would Be So Nice». Он стал последним синглом группы вплоть до релиза «Money» в США (1973) и «Another Brick in the Wall» в Британии (1979) соответственно[130][131].\\n\\nUmmagumma (1969), Atom Heart Mother (1970) и Meddle (1971)[править | править код]\\nОсновные статьи: Ummagumma, Atom Heart Mother и Meddle\\n Басист Роджер Уотерс выступает на сцене Лидского университета 28 февраля 1970 года. Это шоу стало одним из первых, во время которого группа исполнила композицию (сюиту) «Atom Heart Mother»\\nВ 1969 году на дочернем лейбле EMI Harvest Records Pink Floyd выпустили двойной альбом Ummagumma, в котором дистанцировались от предыдущей пластинки как в музыкальном плане, так и в методике сочинения материала. Первый диск альбома содержал студийные записи, которые были созданы необычным для группы способом\\xa0— каждый из музыкантов получил в своё распоряжение по четверти пластинки для записи своих сольных работ безо всяких творческих ограничений[132]. По большей части эти сольные сочинения представляли собой эксперименты в области рок-авангарда. На второй диск был записан концертный материал с выступлений в Манчестерском колледже коммерцииruen и в бирмингемском клубе Mothers[133]. Ummagumma получил положительные отзывы от музыкальных критиков[134]; так, обозреватель IT назвал его концертную часть «возможно, одной из лучших живых записей, которые я когда-либо слышал»[135]. Альбом поднялся до 5-й строчки британского чарта, в общей сложности продержавшись в нём 21 неделю[127].\\nВ октябре 1970 года группа выпустила лонгплей Atom Heart Mother[комм. 24][137]. Ранняя версия его заглавного трека, «Atom Heart Mother», исполнялась на концертах уже с января 1970 года[138], однако трудности, связанные со сведением, а также идея дополнить композицию хоральными и оркестровыми партиями, подтолкнули группу к решению привлечь к работе композитора Рона Гисина. В то время как Pink Floyd отправились на гастроли в США, Гисин приступил к доработке партитуры и записи виолончели, медной духовой группы и хора[139]. Для руководства большим количеством классических музыкантов был приглашён хормейстер Джон Олдисruen. Премьера оркестрованной сюиты «Atom Heart Mother» состоялась на Международном фестивале в Батеruen 27 июня 1970 года[140]. Atom Heart Mother стал последним проектом Pink Floyd с Норманом Смитом, который был отмечен на этой записи в качестве исполнительного продюсера. По словам Гилмора, это был «деликатный способ намекнуть о том, что он… не принимал какого-либо участия»[141]. Позднее Уотерс критиковал альбом, замечая, что предпочёл бы, чтобы он был «выброшен в мусорное ведро и никто больше никогда его не слушал». Гилмор также относился к пластинке пренебрежительно, однажды отозвавшись о ней, как о «куче чепухи», заявив: «На самом деле мы находились на спаде. […] Я думаю, мы „подчищали“ все запасы [оставшегося материала] на тот момент»[142]. Тем не менее Atom Heart Mother был чрезвычайно успешен на родине группы, став первым альбомом Pink Floyd, добравшимся до вершины национального хит-парада и продержавшимся в нём восемнадцать недель[127]. Благодаря успеху пластинки Pink Floyd стала первой рок-группой, которую пригласили выступить на фестивале классической музыкиrufr в Монтрё. В свою очередь, Ролан Пети предложил группе поучаствовать в создании балетной программы Pink Floyd Ballet[143][144].\\n\\n\\n\\n«Трудно вообразить, что настолько радикальная музыка [альбом Atom Heart Mother] могла завоевать первое место в хит-параде в те времена, да и вообще, произойдёт ли такое когда-либо ещё»[145].\\n\\nПисатель Энди Маббетт\\n\\n\\nВесь 1970 год Pink Floyd активно гастролировали по Европе и Северной Америке[комм. 25][148]. Благодаря успеху своих шоу группа заняла второе место в ежегодном опросе читателей Melody Maker. Одновременно с этим впервые за свою карьеру музыканты стали получать «ощутимую прибыль», что позволило Мейсону и Райту, которые стали к этому времени отцами, купить дома в Лондоне, в то время как Гилмор, всё ещё холостой, переехал на ферму XIX века в Эссексе, где начал собирать коллекцию антиквариата и музыкальных инструментов, а Уотерс смог приобрести дом в Ислингтоне, оборудовав домашнюю студию звукозаписи в перестроенном сарае для инструментов в задней части сада[149]. В январе 1971 года, вернувшись из турне в поддержку Atom Heart Motherruen, музыканты начали работать над материалом для следующей пластинки[150]. Не имея на тот момент новых песен и музыкальных идей, они предприняли несколько беспродуктивных экспериментов; звукоинженер Джон Леки описал эти сессии как часто начинающиеся днём и заканчивающиеся рано утром: «Можно было начать в два часа дня, работать до четырёх утра, и за всё это время не добиться вообще никаких результатов. С их лейблом совсем не было контакта, разве что иногда заходил их менеджер и приносил пару бутылок вина или один-два косяка»[151]. Группа тратила много времени, работая над базовыми звуками или гитарным риффом. Кроме этого, музыканты провели впустую несколько дней в лондонской студии Airruen, принадлежавшей Джорджу Мартину, пытаясь создать музыку при помощи различных бытовых предметов (позднее группа вернётся к этому проекту в период между записью The Dark Side of the Moon и Wish You Were Here)[152]. В дополнение ко всему, работа над новым альбомом прерывалась частыми гастролями. Так, в первой половине апреля группа находилась в студии, а во второй\\xa0— выступала с концертами в Донкастере и Норидже, прежде чем вновь вернуться к записи в конце месяца. В мае музыканты разрывались между сессиями на Эбби-Роуд, репетициями и концертами по всей Великобритании. Июнь и июль группа также провела, выступая по всей Европе, а август\\xa0— на Дальнем Востоке и в Австралии, вернувшись в Европу лишь в сентябре[153][154]. В октябре музыканты сняли концертный фильм Pink Floyd: Live at Pompeii, после чего в ноябре отправились на гастроли в США. В итоге запись нового альбома, получившего название Meddle, растянулась на много месяцев, стартовав в январе и завершившись только в октябре 1971 года[155][комм. 26].\\n\\n\\n\\n\\n\\n\\n«Echoes» (вступление)\\n\\n\\nРайт упражнялся на фортепиано, подзвученном через динамик «Лесли», пока другие музыканты находились в диспетчерской. Каждый раз, когда он брал определённую ноту, по словам Гилмора, «она отзывалась странным резонансом… получалось что-то вроде обратной связи. Динь! Абсолютно случайно. Мы воскликнули: „Потрясающе!“ — и взяли этот отрывок в качестве вступления»[157].\\n\\n\\nПомощь по воспроизведению\\n\\n«„Meddle“ не только подтверждает появление ведущего гитариста Дэвида Гилмора в качестве реальной формообразующей силы в группе, он убедительно и точно заявляет, что группа снова находится на пути роста»\\xa0— писал Жан-Шарль Коста из Rolling Stone[158]. Обозреватель NME назвал Meddle «исключительно хорошим альбомом», особо отметив «Echoes» как «наивысшую точку, к которой стремились Pink Floyd»[159]. Корреспондент The Washington Post, в свою очередь, охарактеризовал новый альбом Pink Floyd как «наиболее близкую к авангарду вещь, которой может похвастаться рок»[160]. Однако, Майкл Уоттс из Melody Maker счёл Meddle не столь впечатляющим, назвав его «саундтреком к несуществующему фильму» и посетовал, что в нём «слишком много ярости и звука из ничего»[161]. По мнению многих критиков, музыка Meddle стала переходным звеном между материалом, записанным под влиянием Барретта конца 1960-х, и новым формирующимся стилем Pink Floyd[комм. 27][162]. Лонгплей добрался до 3-го места британского хит-парада, в общей сложности проведя в нём 85 недель[76].\\n\\nThe Dark Side of the Moon (1973)[править | править код]\\nОсновная статья: The Dark Side of the Moon\\n\\n\\n«Думаю, в определённом смысле каждый альбом был ступенькой на пути к „The Dark Side of the Moon“. Мы постоянно учились, осваивали технику звукозаписи, наши сочинения становились всё лучше и лучше»[163].\\n«Если взять „A Saucerful of Secrets“, композицию „Atom Heart Mother“, затем\\xa0— „Echoes“, то всё очень логично выстраивается в цепочку, которая ведёт к „Dark Side of the Moon“»[164].\\n\\nРичард Райт (первая цитата) и Дэвид Гилмор (вторая цитата)\\n\\n\\nСледующий альбом Pink Floyd The Dark Side of the Moon был записан вместе со звукоинженером Аланом Парсонсом на студии Эбби-Роуд в период между маем 1972 и январём 1973 года. По замыслу авторов его название было отсылкой к человеческому безумию, а не к аналогичному астрономическому понятию[165]. Группа сочинила и доработала материал во время гастролей по Великобритании, Японии, Северной Америке и Европе[166]. В работе над диском Парсонсу помогал продюсер Крис Томас[167][168], который отвечал за финальный микс[169], а также должен был сгладить трения между Гилмором и Уотерсом, частично возникшие из-за любви последнего к аскетичной инструментовке в духе John Lennon/Plastic Ono Band[170]. На этой пластинке Уотерс выступил единоличным автором текстов всех песен[171][172].\\n\\n Выступление группы в начале 1973 года во время американского тура незадолго до выпуска The Dark Side Of The Moon\\nВыпуск The Dark Side Of The Moon состоялся в марте 1973 года. Релиз альбома предваряла презентация для прессы, которую бойкотировали все участники Pink Floyd за исключением Райта, так как ещё не был завершён квадрофонический микс пластинки. Музыканты считали, что прослушивание альбома через среднестатистическую стереосистему не до конца раскроет потенциал записи[173][174][175]. Сразу после выпуска The Dark Side Of The Moon занял высокие позиции в чартах Великобритании и всей Западной Европы, получив от музыкальных критиков самые восторженные отзывы «за всю историю группы»[176]. Обозреватель Melody Maker Рой Холлингворт охарактеризовал лонгплей как «чрезвычайно витиеватый… [и] сложный для восприятия», назвав первую половину диска «дьявольски неинтересной», однако похвалил его вторую сторону, подчеркнув, что «песни, звуки… [и] ритмы просто отличные… саксофон сотрясает воздух, группа отрывается на всю катушку»[177][178]. В свою очередь, Лойд Гроссманruen из Rolling Stone назвал запись «прекрасной пластинкой с фактурным и концептуальным изобилием, которая не только развлекает, но и требует [интеллектуального] участия»[179], а Стив Пикок из Sounds подытожил свою статью словами: «Меня совершенно не волнует, слышали ли вы в своей жизни хотя бы одну нотку из всего сочинённого Pink Floyd, но я всем настоятельно рекомендую „The Dark Side of the Moon“… Во всех отношениях,\\xa0— это великая музыка»[180]. Выход альбома окончательно укрепил репутацию Pink Floyd как «группы-явления глобального мирового масштаба, как мегазвезды, равной The Rolling Stones и The Who»[181]. В марте 1973 года, во время гастролей Pink Floyd по СШАruen, лонгплей, исполняемый целиком, был уже полноценной частью концертной программы[182].\\nThe Dark Side Of The Moon стал одним из самых коммерчески успешных рок-альбомов в истории музыки: он занял 1-е место в главном американском чарте Billboard 200[комм. 28], продержавшись в нём рекордные четырнадцать лет, и разошёлся тиражом более 45 миллионов копий по всему миру[184]. На родине музыкантов запись достигла 2-го места национального хит-парада, в общей сложности пробыв в нём 535 недель[76]. Помимо этого, лонгплей занял 3-е место в числе самых продаваемых студийных альбомов в мире и 26-е\\xa0— среди бестселлеров в США[185][186]. Успех пластинки обеспечил огромную прибыль участникам коллектива (бас-гитарист назвал их гонорар «кучей денег»): Уотерс и Райт купили большие загородные дома, а Мейсон стал коллекционером дорогих автомобилей[187]. К этому моменту, разочаровавшись в «инертности» своей американской звукозаписывающей компании Capitol Records, Pink Floyd и О’Рурк заключили контракт с фирмой Columbia, которая выплатила им аванс в размере 1 000 000 долларов[комм. 29]. В то же время в Европе группа по-прежнему сотрудничала с лейблом Harvest Records[189][190].\\n\\nWish You Were Here (1975)[править | править код]\\nОсновная статья: Wish You Were Here\\n\\n\\n\\n\\n\\n«Shine On You Crazy Diamond»\\n\\n\\nЧетырёхнотная гитарная фраза, проигрываемая Дэвидом Гилмором в начале титульной песни альбома Wish You Were Here. Её текст, соответствующий ярко выраженной печали, которой наполнена музыка, посвящён Сиду Барретту[191].\\n\\n\\nПомощь по воспроизведению\\n\\nPink Floyd завершили 1974 год гастрольным туром по Великобританииruen, во время которого на каждом концерте целиком исполнялась сюита The Dark Side of the Moon.\\nПо окончании турне в январе 1975 года музыканты вернулись в студию и начали работу над своим девятым альбомом Wish You Were Here[192]. Парсонс отклонил предложение вновь поработать с Pink Floyd, поскольку был занят своим собственным, ставшим уже довольно успешным, проектом The Alan Parsons Project[168], из-за чего группа была вынуждена обратиться за помощью к звукоинженеру Брайану Хамфрису[193]. Поначалу музыкантам было трудно сочинять новый материал\\xa0— успех The Dark Side of the Moon опустошил Pink Floyd физически и эмоционально. Впоследствии Уотерс описывал первые сессии записи этого альбома как «очень утомительные и вымученные», а Райт добавлял: «для нас наступили сложные времена»[194].\\nЯснее остальных музыкантов образ будущей пластинки видел Гилмор\\xa0— он полагал, что им следует просто доработать три новые, уже обкатанные на концертах, композиции, нежели сочинять какой-либо другой материал. Такой подход не нашёл поддержки у остальных музыкантов\\xa0— в первую очередь был против Уотерс. Всё это ещё больше осложняло отношения внутри группы. Кроме того, Гилмора стал тяготить непрофессионализм его коллег, который они сами так или иначе пытались оправдать: к примеру, Мейсон пребывал в «опасном упадке духа» из-за несложившегося брака\\xa0— непрекращающаяся апатия мешала ему вернуться в былую творческую форму[194]; также на грани развала в это время была супружеская жизнь Уотерса[195].\\n\\n Визит Сида Барретта на студию Эбби-Роуд, 5 июня 1975 года\\nПосле творческих поисков, на которые ушло несколько недель, Уотерс наконец решил, что концепцию нового альбома следует связать с тем, что на тот момент происходило с группой, когда она временами «существовала только физически»: пока «наши тела были тут, а наши души и помыслы бродили бог знает где». Мысль об отчуждении между музыкантами переросла в размышления о всеобщем отчуждении, свойственном XX веку, которое в немалой степени повлияло также и на судьбу Сида Барретта[196]. Отчасти на идею концепции альбома Уотерса натолкнула «глубокая меланхолия» музыки «Shine On You Crazy Diamond»\\xa0— композиции, которая в черновом варианте уже исполнялась Pink Floyd на нескольких концертах в 1974 году[197]. Вступительная гитарная фраза из четырёх нот, сочинённая Гилмором для «Shine On You Crazy Diamond», напомнила Уотерсу о Барретте и стала отправной точкой для будущего альбома[197]. В дополнение к этой композиции были сочинены ещё три песни, которые соответствовали теме взлёта и падения их бывшего товарища по группе[198]. «Потому что я хотел как можно точнее и искреннее передать свои чувства… ту не поддающуюся определению непроходящую грусть от ухода Сида»\\xa0— вспоминал Уотерс,\\xa0— «Не будь его, вообще ничего бы и не произошло, но, с другой стороны, это не могло бы продолжаться с ним»[197].\\nПока группа работала над альбомом, неожиданно в студии появился сам Барретт. Впоследствии Сторм Торгерсон, дизайнер Hipgnosis, вспоминал: «Два или три человека плакали. Он присел и некоторое время поговорил с остальными, но было понятно, что мысли его на самом деле не здесь»[199]. Сид сильно изменился внешне, настолько, что группа поначалу не узнала его; впоследствии Райт описал Барретта, как «толстого, лысого, чокнутого субъекта»[200]. По словам очевидцев, Уотерс был глубоко расстроен этим инцидентом\\xa0— буквально «проклятыми слезами обливался», догадавшись кто это[комм. 30][200][203].\\nПремьера большей части композиций Wish You Were Here состоялась 5 июля 1975 года во время музыкального фестиваля в Небуорт-хаусе[204]. Выпущенный спустя два месяца альбом добрался до вершины хит-парадов по обе стороны Атлантики[205]. На родине музыкантов его предварительные заказы составили 250 000 экземпляров — компания EMI не успевала допечатывать тиражи, предварительно предупредив розничные сети, что их заказы будут удовлетворены только на 50\\xa0%[206]. Несмотря на то, что до 1991 года Wish You Were Here оставался самым продаваемым альбомом Pink Floyd[207], он получил неоднозначные отзывы критиков. Так, Бен Эдмундс из Rolling Stone выделил композицию «Shine On You Crazy Diamond», затрагивающую «тему личности Барретта», однако посетовал на то, что в рамках всего альбома потенциал этой идеи остался нереализован[208]. Роберт Кристгау назвал музыку лонгплея «искренней и притягательной», имеющей «полное право называться симфонической»[209]; в противоположность этому отзыву обозреватель Melody Maker заявил, что альбом «звучит неубедительно»[210].\\n\\nAnimals (1977)[править | править код]\\nОсновная статья: Animals\\n Электростанция «Баттерси», изображённая на обложке альбома Animals. По мнению Александра Кана из Русской службы Би-би-си, наряду с зеброй через улицу Эбби-роуд этот образ,\\xa0«могущественный и в то же время какой-то потусторонне-загадочный (не говоря уже о парящей между трубами свинье),\\xa0стал одним из самых ярких и узнаваемых рок-символов британской столицы». Благодаря Pink Floyd вид её 4-х труб стал «легендарным»[211]\\nВ 1975 году музыканты Pink Floyd выкупили трёхэтажный комплекс церковных помещений на Британиа-Роу, 35 в Ислингтоне и переоборудовали его под собственную студию звукозаписи, выделив место под складские помещения для сценической аппаратуры[212][213]. Студию, получившую название Britannia Row Studios, оснастили микшерным пультом и 24-дорожечным рекордером фирмы MCIruen. В 1976 году группа записала здесь свой десятый альбом Animals[214]. Концепция пластинки, вольно базирущаяся на повести Джорджа Оруэлла «Скотный двор», была придумана Уотерсом. Тексты песен описывали различные классы общества, которых представляли антропоморфные собаки, свиньи и овцы[комм. 31][216][217].\\nБо́льшая часть материала, попавшего на Animals, уже существовала в форме песен ещё до записи Wish You Were Here, группа исполняла их на осенних концертах 1974 года[218]. Старые и новые записи в итоге составили одну короткую балладу и три протяжённых композиции длительностью более 10 минут каждая. Подобная структура альбома непосредственно влияла на разделение авторских гонораров и привела к конфликтам между членами группы, поскольку авторские отчисления рассчитывались на основе отдельных песен. К примеру, Гилмор, в значительной степени ответственный за композицию «Dogs», которая занимала почти всю первую половину альбома, в итоге получил авторских меньше, чем Уотерс, который являлся автором гораздо более короткой, но, разделённой на два трека, «Pigs on the Wingruen»[219]. Райт вспоминал: «Отчасти это была моя вина, потому что я не продвигал свой материал… но Дэйву действительно было что предложить, однако ему удалось протащить туда лишь пару вещей». Мейсон добавлял: «Роджер был в полном восторге от этих идей, но на самом деле он сдерживал Дэйва и намеренно сбивал его с толку»[220]. В итоге вклад Гилмора в альбом был меньше, чем обычно. Мейсон и Райт также приняли минимальное участие в создании пластинки. Animals\\xa0стал первым диском Pink Floyd, в списке авторов которого отсутствовало упоминание Райта. Отчасти причиной этого было то, что на момент создания альбома музыкант оказался под давлением как семейных проблем, так и всё более ухудшавшихся отношений с Уотерсом[221]. Сам Райт так комментировал ситуацию: «Создание „Animals“ не было весёлым процессом… именно тогда Роджер по-настоящему поверил в то, что он является единоличным автором группы… что только из-за него мы ещё на плаву… когда он начал зарываться, то в первую очередь скандалил именно со мной»[221][222]. Выпущенный в январе 1977 года альбом добрался до 2-й строчки в британском чарте и занял 3-е место в хит-параде США[223].\\n\\n\\n\\n«Это первый альбом, для которого я ничего не написал. Для меня это также первый альбом, начиная с выпуска которого группа перестала быть единым организмом. Вот тогда-то Роджер и решил прибрать всё к своим рукам»[216].\\n\\nРичард Райт\\n\\n\\nГруппа исполняла бо́льшую часть материала альбома во время турне In The Fleshruen[комм. 32]. Это был первый опыт выступления Pink Floyd на больших стадионах — их размер вызывал у музыкантов тревогу[226][227], а сам масштаб турне породил чувство отчуждения[228]. Уотерс начал приезжать на каждое шоу в одиночку, сразу же уезжая после его окончания. В свою очередь, Райт однажды улетел обратно в Англию прямо по ходу гастролей, порываясь уйти из группы[229]. Во время концерта в Монреале произошёл ещё один неприятный инцидент (ставший креативным толчком к созданию концепции The Wall)[230]\\xa0— кучка шумных фанатов в первом ряду настолько разозлила Уотерса, что он плюнул в одного из них[231]. Гилмор вспоминал, что конец гастролей ознаменовал собой ещё один спад\\xa0— это был период, когда он почувствовал, что группа была действительно близка к развалу — музыканты достигли успеха, к которому стремились, и было «сложно понять, чего ещё желать»[232].\\n\\n1978—1985: эра Уотерса[править | править код]\\nThe Wall (1979)[править | править код]\\nОсновные статьи: The Wall и Пинк Флойд: Стена\\n Главный персонаж альбома Пинк, сыгранный в фильме «Стена» музыкантом Бобом Гелдофом[233]. Роджер Уотерс в общих чертах объяснял концепцию альбома так: в ответ на весь негатив, что его окружает, человек всё больше замыкается в себе, сооружая для самозащиты некую метафорическую стену. Бо́льшая часть первой половины The Wall\\xa0— биография самого автора; но в развитие идеи, что единственным выходом из лабиринта является безумие, Пинк всё больше становится похож на Барретта[234]\\nВ июле 1978 года на фоне финансового кризиса, вызванного непродуманными инвестициями капитала музыкантов[комм. 33], Уотерс предложил две идеи, которые могли бы стать основой для следующей пластинки. Первая представляла собой 90-минутное демо с рабочим названием Bricks in The Wall; вторая впоследствии стала его дебютным сольным альбомом\\xa0The Pros and Cons of Hitch Hiking. Мейсон и Гилмор поначалу отнеслись к предложению настороженно, но в итоге остановились на первом варианте[237]. Боб Эзрин выступил сопродюсером пластинки и переписал её сценарий на сорока страницах, отредактировав стихи Уотерса и немного изменив порядок развития сюжета[комм. 34][239][240]. Повествование The Wall разворачивалось вокруг гештальт-персонажа по имени Пинк, на судьбе которого отразились детские переживания Уотерса, включая ключевое\\xa0— смерть отца на Второй мировой войне[комм. 35]. Это был первый метафорический «кирпич» Пинка. Все последующие события лишь усугубляли проблемы с его психикой. Пытаясь добиться славы рок-звезды, он попадает под прессинг музыкальной индустрии, разочаровывается в жизни, становится наркоманом, а в итоге превращается в мегаломаньяка. В конце повествования его аудитория, всё более и более принимающая черты фашистской группировки, наблюдает за тем, как их кумир разрушает «стену» и вновь становится нормальным человеком[комм. 36][244].\\nВо время записи The Wall Уотерс и Гилмор были недовольны тем, что Райт не вносил вклад в создание альбома[245]. Уотерс убедил О’Рурка, Гилмора и Мейсона лишить его доли в Pink Floyd Ltd, оставив на правах приглашённого музыканта до завершения всех проектов связанных с The Wall. По словам самого Райта, Уотерс угрожал уничтожить все новые записи, если он не уйдёт из группы[246]. Гилмор утверждал, что Райт «не внёс в альбом какого-либо существенного вклада\\xa0— он сделал очень, очень мало», «он не приносил никакой пользы»[247] и именно поэтому «получил пинка́»[248]. Со слов Мейсона, «вклад Рика состоял в том, чтобы приходить и торчать на сессиях, ничего не делая, находясь в роли „продюсера“»[249]. В свою очередь Уотерс вспоминал: «[Райт] был не готов сотрудничать в создании этой записи… [и] это было согласовано со всеми… либо [он] может долго упираться, либо соглашается… прекратить участие в работе над пластинкой, сохраняя весь свой гонорар… но в конце уходит без лишнего шума. Рик согласился»[комм. 37][251].\\nВ поддержку альбома был выпущен сингл «Another Brick in The Wall (Part II)», который возглавил чарты по обе стороны Атлантики; это был первый сингл группы со времён «Money» (в США) и «Point Me at the Sky» (в Британии)[252]. 30 ноября 1979 года последовал релиз альбома The Wall (выпущенного на двух пластинках), который в течение пятнадцати недель возглавлял американский хит-парад, а на родине музыкантов достиг третьей позиции[253]. По данным на 2020 год The Wall занимает восьмую строчку в списке организации RIAA «100 самых продаваемых альбомов в США» с тиражом, превышающим 23 миллиона копий[254].\\nХудожник Джеральд Скарф создал серию анимационных фильмов для последовавших за выпуском альбома концертных шоу The Wall Tourruen. Для этих выступлений он же разработал эскизы больших надувных кукол, представлявших персонажей из сюжетной линии альбома, включая «Мать», «Миссис Пинк» и «Школьного учителя»[255]. Во время гастролей The Wall Tour отношения между участниками группы были самыми напряжёнными за всё время их карьеры\\xa0— даже свои трейлерыruen музыканты парковали по отдельности, на расстоянии, чтобы как можно реже пересекаться друг с другом вне выступлений. Для прибытия на шоу Уотерс использовал личный автомобиль и не останавливался в тех отелях, в которых селились его коллеги. Райт участвовал в концертах в качестве приглашённого музыканта с фиксированной зарплатой[256] и был единственным из всех в группе, кто получил прибыль от этого гастрольного тура, повлёкшего убытки от постановочных расходов в размере 600 000 долларов[комм. 38][257].\\nЕщё на ранних этапах создания альбома The Wall Уотерс задумал снять фильм по его сюжету. Первоначальная его концепция состояла в сочетании концертных кадров и анимационных сцен, но вскоре выяснилось, что запись концерта не слишком подходила для формата фильма. Алан Паркер, согласившийся занять кресло режиссёра, выбрал другой подход. Он решил оставить анимационные эпизоды, а сюжетные сцены должны были разыгрываться профессиональными актёрами без диалогов. Уотерс прошёл пробы, но быстро был отсеян, в итоге на роль Пинка был приглашён Боб Гелдоф. Первоначально он отнёсся к проекту пренебрежительно, называя сюжетную линию альбома «чушью собачьей»[258]. Однако, в конце концов согласился с перспективой участия в потенциально культовой ленте и получения большого гонорара за свою работу[259]. Впоследствии музыкант вспоминал, что съёмочный процесс произвёл на него «сильнейшее впечатление… [он] заставил меня заглянуть в такие глубины подсознания, которые обычно недоступны»[260]. Дебют фильма состоялся в мае 1982 года на Каннском кинофестивале; премьера ленты в Великобритании, получившей название «Пинк Флойд: Стена», прошла в июле 1982 года[261].\\n\\nThe Final Cut (1982)[править | править код]\\nОсновная статья: The Final Cut\\n На фото изображены британские десантники, охраняющие аргентинских военнопленных на Фолклендских островах. Разочарование Уотерса в событиях, связанных с одноимённой войной, отчётливо ощущается в настроении альбома. Название диска является отсылкой к шекспировской трагедии «Юлий Цезарь», в которой римский император обратился к своему убийце Бруту: «Из всех ударов твой был самым злым, немилосердным…»[262]\\nВ 1982 году Уотерс предложил новый музыкальный проект с рабочим названием Spare Bricks, изначально задуманный как альбомная версия саундтрека к фильму «Стена»[262]. Однако, после начала фолклендской войны он изменил свои планы и начал писать новый материал. Уотерс счёл ответ Маргарет Тэтчер на действия правительства Аргентины чересчур джингоистичными и избыточными[262]. По ходу работы между Уотерсом и Гилмором сразу же начались споры, так как гитарист считал, что альбом должен включать в себя совершенно новый материал, а не переработанные песни, не пригодившиеся для предыдущей пластинки. В свою очередь басист начал утверждать, что Гилмор не вносит существенного вклада в сочинение песен[263]. Композитор Майкл Кеймен, один из авторов оркестровых аранжировок The Wall, которого пригласили для записи нового альбома в качестве пианиста, вместо ушедшего из группы Райта, то и дело выступал посредником в спорах Уотерса с Гилмором[комм. 39][264]. Напряжение внутри группы нарастало. И хотя Уотерс и Гилмор работали независимо друг от друга, отношения межу ними накалялись. Временами гитарист едва сохранял самообладание. После очередной ссоры имя Гилмора исчезло из списка продюсеров альбома (тем не менее, музыканту сохранили продюсерские отчисления)[267][268][269].\\n\\n\\n\\n\\n\\n\\n«The Post War Dream»\\n\\n\\nОсновным посылом альбома стало презрительное отношение автора к любым видам войн[комм. 40]. Второй главной темой пластинки музыкант назвал паранойю «бессилия»[271]. Во время создания этой записи Уотерс наглядно продемонстрировал всё более возрастающий интерес к текстам в ущерб музыке. Альбом содержал меньше мелодических находок, чем любой другой лонгплей группы[272].\\n\\n\\nПомощь по воспроизведению\\n\\nПогрязший в семейных проблемах, Мейсон отдалился от коллег и мало интересовался творческим процессом. Его музыкальный вклад в запись нового диска был минимальным, а в одной из песен вместо него на ударных сыграл Энди Ньюмаркruen. Тем не менее, Мейсон взял на себя всю работу со звуковыми эффектами для экспериментальной голофонической системыruen, которая была использована на альбоме[273][274].\\nВыпущенный в марте 1983 года The Final Cut сразу же занял верхнюю строчку чарта Великобритании и добрался до 6-го места в США[275][127]. Уотерс написал все тексты, а также всю музыку для этой пластинки[276][277]. В период её создания у Гилмора не было готового материала и он попросил Уотерса отложить запись до тех пор, пока он не сможет написать несколько песен, однако тот отказался[278][279]. Позже Гилмор отмечал: «Я, конечно, виноват в том, что иногда бываю ленив… но он был не прав в том плане, что хотел включить в „The Final Cut“ ряд дурацких треков»[278]. Курт Лодер из Rolling Stone поставил альбому высший балл, назвав его «превосходным достижением […] величайшей вершиной арт-рока»[комм. 41][280]. При этом публицист рассматривал запись как «по сути, сольный проект Уотерса»[281]. Между тем, Гилмор, никогда не скрывавший своего пренебрежительного отношения к этой пластинке, назвал её содержание «дешёвым наполнителем того типа, который мы годами не пропускали на пластинки Pink Floyd»[280].\\n\\nУход Уотерса и судебные баталии[править | править код]\\n Дэвид Гилмор: «Дело в том, что Роджер ушёл, и я\\xa0— единственный, кто мог взвалить на свои плечи этот груз и нести его. Если я не хочу зачеркнуть двадцать лет моей работы и снова приняться за сольную карьеру, значит это\\xa0— то, что мне нужно было делать. […] Но для людей моё имя\\xa0— пустой звук. Около двадцати лет моей жизни ушло отнюдь не на раскрутку меня лично. Я потратил их на то, чтобы добиться известности для названия Pink Floyd»[282]\\nВ 1984 году Гилмор записал свой второй сольный альбом About Face (его дебютный диск был выпущен шестью годами ранее), выразив с помощью этой пластинки свои мысли относительно самых разных тем\\xa0— от убийства Джона Леннона до своих отношений с Уотерсом. Позже он заявил, что использовал этот альбом, чтобы дистанцироваться от Pink Floyd. Практически в это же время Уотерс начал гастролировать с материалом своей дебютной пластинки The Pros and Cons of Hitch Hiking[283], а Ричард Райт сформировал группу Zee вместе с Дэйвом Харрисом и записал в рамках этого проекта диск под названием Identity, выход которого прошёл практически незамеченным в музыкальной прессе[комм. 42][284]. Немного позднее остальных, в августе 1985 года, свой сольный альбом под названием Profiles выпустил Мейсон (в соавторстве с музыкантом Риком Фенном)[285]\\xa0— это был уже второй сольный диск ударника Pink Floyd (релиз первого, Nick Mason’s Fictitious Sports, состоялся в 1981 году)[286]. В том же году состоялся организованный Бобом Гелдофом благотворительный марафон Live Aid, в нём приняли участие воссоединившиеся Led Zeppelin и The Who, но не Pink Floyd. Гилмор выступил на концерте в качестве гитариста группы Брайна Ферри; в свою очередь эти события вдохновили Уотерса на сочинение его самой известной сольной композиции «The Tide Is Turning (After the Live Aid)»ruen[287].\\nЗатяжной конфликт Уотерса и О’Рурка из-за обязательств по записям, которые могли бы быть выпущены Pink Floyd в будущем, и из-за выплат роялти, привёл к тому, что в июне 1985 года Уотерс расторг свой личный контракт с менеджером группы[288][289]. Для управления своими делами басист Pink Floyd нанял Питера Раджа[комм. 43][286]. Не остановившись на этом Уотерс предложил Мейсону и Гилмору совсем избавиться от О’Рурка (обещая им взамен права на название группы, будучи уверенным, что они не станут ими пользоваться), но те не согласились подписывать документы об увольнении менеджера[288]. Тогда Уотерс написал в письме руководству EMI и Columbia о том, что он уходит из Pink Floyd, и попросил освободить его от контрактных обязательств. Гилмор считал, что Уотерс принял это решение, чтобы ускорить развал группы. Позже бас-гитарист пояснил, что, не записывая новые альбомы Pink Floyd, он автоматически нарушал действующий контракт, который предусматривал приостановку выплат роялти с уже выпущенных песен, и что остальные участники группы вынудили его покинуть коллектив, угрожая подать на него в суд, так как он не хотел работать над новым материалом. В итоге осенью 1986 года Уотерс сам обратился в Верховный суд с целью распустить группу и прекратить использование названия Pink Floyd, объявив ансамбль «выдохшейся творческой единицей»[291][292]. Впоследствии один из приближённых к группе назвал начавшееся противостояние «борьбой мании величия Уотерса против тайного разочарования Гилмора, перешедшего в яростное желание мести»[293].\\nКогда адвокаты Уотерса обнаружили, что сотрудничество музыкантов никогда не было подтверждено официально, он вновь обратился в суд, намереваясь получить право вето на дальнейшее использование названия коллектива основываясь на том, что Pink Floyd может «действовать только в соответствии с единодушным желанием» всех её участников. Уотерс считал, что «группа должна уйти красиво» и дальнейшая деятельность группы без него невозможна, поскольку «последние пятнадцать лет он тащил её на себе»[294]. Гилмор ответил пресс-релизом, в котором объявил, что Pink Floyd продолжит своё существование: «Роджер\\xa0— собака на сене, и я собираюсь побороть его. Пока никто, кроме него, ещё не утверждал, что „Pink Floyd\\xa0— это я“. Тот, кто утверждает подобное, в высшей степени самонадеян»[293].\\n\\n1985—1994: эра Гилмора[править | править код]\\nA Momentary Lapse of Reason (1987) и визит в СССР[править | править код]\\nОсновная статья: A Momentary Lapse of Reason\\n\\n\\n«В  жизни Роджера было несколько моментов, когда он здорово «наезжал» на остальных, отстаивая свою точку зрения и заставляя делать то, что хочет он. Думаю, он был изумлён тем, что произошло. Он действительно верил, что мы без него ничего не сможем сделать. Роджер уверен, что это он всё сделал»[295].\\n\\nНик Мейсон\\n\\n\\nВ 1986 году Гилмор начал набор музыкантов для записи нового материала, который в итоге стал первым альбомом Pink Floyd без Уотерса, получившего название A Momentary Lapse of Reason[комм. 44][297]. Несмотря на существование юридических препон для возвращения Райта в группу[комм. 45], после встречи с Гилмором и Мейсоном в Хампстеде его пригласили принять участие в предстоящих студийных сессиях[комм. 46][300]. По словам гитариста, он полагал, что присутствие Райта «придаст нам силы и с юридической, и с музыкальной точек зрения»[301]. В итоге клавишник был нанят в качестве сессионного музыканта с еженедельным доходом в размере 11 000 долларов[302]. Запись альбома стартовала на плавучей студии Гилмора Astoria, пришвартованной на берегу Темзы[303]. Для помощи в сочинении текстов Гилмор пригласил Энтони Мура, выбрав его из нескольких поэтов-песенников, включая Эрика Стюарта и Роджера Макгофаruen[304]. Также помощь потребовалась в записи инструментов. В частности, Мейсон, обеспокоенный тем, что давно не практиковался и потерял былую форму, возложил ответственность за запись части барабанных партий на сессионных музыкантов, а сам сосредоточился на работе со звуковыми эффектами[комм. 47][309]. Впоследствии Гилмор отмечал, что новый проект получился сложным без творческого руководства Уотерса[310].\\n\\n Плавучая студия звукозаписи Дэвида Гилмора Astoria, пришвартованная к берегу Темзы\\nA Momentary Lapse of Reason был выпущен в сентябре 1987 года. Сторм Торгерсон, не участвовавший в создании двух предыдущих обложек, был вновь приглашён группой к сотрудничеству[311]. Чтобы ещё сильнее подчеркнуть, что Уотерс перестал быть частью Pink Floyd, на развороте обложки впервые со времён Meddle была помещена фотография музыкантов группы[комм. 48][313]. Альбом добрался до 3-го места в чартах Великобритании и США[314]. Уотерс, наблюдавший за продолжением творческой деятельности Pink Floyd, так комментировал ситуацию: «Я думаю, что это поверхностная, но довольно умелая подделка… В целом песни плохие… [а] тексты Гилмора\\xa0— третьесортные»[315]. Хотя Гилмор первоначально рассматривал альбом как возвращение к лучшим временам группы, Райт не до конца разделял мнение своего коллеги, заявив: «Критика Роджера справедлива. Это вовсе не альбом Pink Floyd [в привычном его понимании]»[316]. В свою очередь редакция журнала Q назвала A Momentary Lapse of Reason по сути сольным альбом Гилмора[317]. Тем не менее, по своему звучанию лонгплей больше других предыдущих записей был похож на классический репертуар Pink Floyd времён Wish You Were Here. Так, Хью Филдер из еженедельника Sounds назвал его возвращением «назад, через стену, туда, где бриллианты безумны, у луны есть тёмные стороны, а у матерей\\xa0— атомные сердца»[318].\\nПосле выпуска альбома A Momentary Lapse of Reason группа решила организовать турне в его поддержку. Для этого Гилмору и Мейсону пришлось самим оплатить стартовые расходы\\xa0— барабанщик даже использовал свой Ferrari 250 GTO в качестве залога[319]. Первые репетиции предстоящих гастролей проходили хаотично из-за того, что Мейсон и Райт долго не практиковались. Тур по городам Северной Америки начался в сентябре 1987 года и продлился три месяца. Благодаря успеху, который сопутствовал прошедшим концертам, турне было решено продолжить. В итоге гастрольный тур растянулся на два с лишним года[320]. С самого начала этих концертов Уотерс пытался им помешать, для чего параллельно со своими бывшими коллегами начал гастрольный тур по Северной Америке в поддержку своего второго сольного альбома Radio K.A.O.S. (также выпущенного в 1987 году), рассчитывая переманить зрителей у конкурентов. Однако, в итоге, Уотерсу пришлось выступать на небольших концертных площадках или вовсе отменять выступления, в то время как группа Pink Floyd и без его участия собирала аншлаги на стадионах. Помимо этого Уотерс стал угрожать американским промоутерам судебными разбирательствами, если они будут использовать название «Pink Floyd» на афишах, из-за чего бывшие коллеги Уотерса нанимали адвокатов в каждом городе, в котором выступали. В этот же период шли судебные процессы, в которых рассматривались вопросы о правах на название группы и об авторских правах Уотерса на его творческие находки, в том числе на надувную «летающую свинью»[321]. 23 декабря стороны достигли юридического соглашения: Мейсон и Гилмор сохранили за собой привилегии бессрочно использовать название «Pink Floyd», а Уотерс получил эксклюзивные права на концепцию шоу The Wall и на спецэффекты своего авторства[322].\\nВ 1989 году Pink Floyd стала третьей западной рок-группой, после Uriah Heep и Status Quo[323], приехавшей выступить со своим шоу в Советском Союзе. Отношение властей СССР к творчеству группы было противоречивым и менялось от альбома к альбому. Так, например, The Wall был удостоен положительных оценок от отдела пропаганды ЦК КПСС «за свою антиимпериалистическую направленность»[324]. О Pink Floyd даже вышло несколько статей в советской молодёжной прессе. Так, журнал «Ровесник» посвятил британским музыкантам материал в одном из выпусков 1981 года под названием «Разрушители Стены»[324]. В свою очередь, в приложении к журналу «Кругозор» была выпущена композиция «Shine On You Crazy Diamond» на гибкой пластинке в сильно урезанном виде[324]. Тем не менее, после выхода альбома The Final Cut усилиями советских идеологов группа была запрещёна в СССР; причиной стал текст песни «Get Your Filthy Hands Off My Desert», критикующий ввод советских войск в Афганистан: «Брежнев взял Афганистан, Бегин взял Бейрут, Галтьери взял Юнион Джек». Квартет попал в «чёрный список» артистов, в творчестве которых «содержатся идейно вредные произведения», с формулировкой «за извращение внешней политики СССР»[324]. С началом перестройки запрет был снят, а после пяти аншлаговых концертов, во время турне A Momentary Lapse of The Reason[323], популярность группы среди широких масс возросла с новой силой[комм. 49][324]. По словам очевидцев, концерты в Москве стали «самыми значительными сольными выступлениями какой-либо рок-группы в СССР»[325]: «Это как если бы инопланетяне высадились на Красной площади»\\xa0— вспоминал позднее один из зрителей[323].\\n\\nThe Division Bell (1994)[править | править код]\\nОсновная статья: The Division Bell\\nВ течение нескольких лет участники Pink Floyd не занимались активным творчеством. Единственным исключением стал саундтрек к документальному фильму La Carrera Panamericana, записанный в 1992 году. В фильме показана автогонка по дорогам Мексики, в которой среди прочих участвовали Гилмор, Мейсон и О’Рурк. Они же были спонсорами соревнования и инициаторами съёмки фильма[комм. 50][329]. В январе 1993 года музыканты наконец приступили к работе над новым студийным альбомом, отправившись на студию Britannia Row. Примерно через две недели у группы накопилось достаточно материала, чтобы начать запись песен. После этого работа продолжилась на студии Astoria, в которой с февраля по май 1993 года группа доводила до ума примерно 25 различных музыкальных идей. В записи вновь принял участие Эзрин, ставший сопродюсером Гилмора[330].\\n\\n\\n\\n\\n\\n\\n«High Hopes»\\n\\n\\nПо словам Гилмора, эта композиция — первая из сочинённых им для альбома — имеет для него большое личное значение, и именно она задала тон всему диску. Испанская гитара во второй половине песни, и «марширующие» ударные с оркестровой аранжировкой звучат так, будто дорожка осталась после студийных сессий альбома The Wall[331].\\n\\n\\nПомощь по воспроизведению\\n\\nСогласно контракту, Райт не являлся членом группы; впоследствии он вспоминал: «Из-за этого я был близок к решению не участвовать в записи альбома»[332]. Тем не менее, впервые со времён создания Wish You Were Here он был указан в списке авторов, приняв участие в сочинении пяти композиций[332]. Ещё одним автором, отмеченным на пластинке, стала будущая жена Гилмора\\xa0— поэтесса Полли Сэмсон. Она помогла гитаристу написать тексты для нескольких песен, включая «High Hopes», и хотя её участие поначалу вызывало вопросы, в итоге, по словам Эзрина, она стала источником вдохновения для Гилмора и «объединила всех в работе над альбомом»[333]. Группа вновь наняла Майкла Кеймена для аранжировки оркестровых партий; помимо этого, к своим ролям вернулись саксофонист Дик Пэрри и звукорежиссёр Крис Томас[334][335]. Стремясь избежать конкуренции с другими альбомными релизами, как это произошло с A Momentary Lapse of Reason[комм. 51], Pink Floyd установили для себя крайний срок выпуска диска, совпавший с датой начала гастролей\\xa0— концом марта\\xa0— началом апреля 1994 года[336]. Альбом, название которому придумал писатель Дуглас Адамс, занял первое место как в США, так и на родине музыкантов[337], в общей сложности продержавшись 51 неделю в британском хит-параде[127].\\nПеред гастрольным туромruen группа более двух недель репетировала в ангаре на авиабазе Нортонruen в Сан-Бернардино[338]. Тур стартовал 29 марта 1994 года в Майами с почти той же дорожной командой, что была задействована во время предыдущего турне[339]. Сначала на концертах группа исполняла сет из своих самых популярных песен, но затем изменила сет, включив во вторую половину альбом The Dark Side of the Moon целиком[комм. 52][341]. Гастрольный тур закончился 29 октября 1994 года и стал последним в карьере Pink Floyd[комм. 53][340].\\n\\n2005—2016: реюнион, смерти участников и The Endless River[править | править код]\\nВоссоединение на Live 8[править | править код]\\n Уотерс, Мейсон, Райт и Гилмор выступают на благотворительном мероприятии Live 8 в качестве воссоединённой группы Pink Floyd\\n2 июля 2005 года Уотерс, Гилмор, Мейсон и Райт впервые более чем за 24 года выступили как единая группа в рамках мероприятия Live 8 в лондонском Гайд-парке[343][344]. Воссоединение было организовано учредителем этого концерта\\xa0— Бобом Гелдофом. После того, как Гилмор отклонил предложение выступить вместе с Уотерсом[комм. 54], Гелдоф попросил поговорить с ним Мейсона, который, в свою очередь, связался с Уотерсом и рассказал ему о грядущем событии. После разговора с Гелдофом, состоявшегося две недели спустя, Уотерс решил сам позвонить Гилмору\\xa0— и на следующий день гитарист согласился. Главной целью музыкантов было привлечение дополнительного внимания к полезному мероприятию за счёт своего воссоединения[346]. В заявлении для прессы Гилмор подчеркнул: «Любые ссоры, которые в прошлом могли возникать между Роджером и группой, в данном контексте кажутся совершенно пустяковыми». В свою очередь Уотерс ответил на обвинения злопыхателей в «попытке пожилых рокеров продвинуть свои дискографии»: «Циники станут насмехаться. И накласть на них!»[174][346].\\nМузыканты обсудили список концертных композиций лондонском отеле The Connaughtruen (порядок их исполнения был определён лишь накануне выступления), затем выделили три дня на репетиции в студии Black Island Studios[174]. Сессии проходили непросто\\xa0— бывшие коллеги периодически спорили по поводу стиля и темпа песен, выбранных для сета[347][348]. В начале шоу, во время первых аккордов «Wish You Were Here» Уотерс обратился к зрителям со словами: «Очень волнующе стоять на сцене с этими тремя парнями, после стольких лет разлуки… и играть для вас. Мы посвящаем наше выступление всем… кого здесь нет, и в первую очередь тебе, Сид»[349]. В конце выступления Гилмор поблагодарил публику и начал уходить со сцены, но Уотерс позвал его обратно, и музыканты обнялись все вместе. Изображения объятий группы попали на первые полосы многих воскресных газет, выпущенных на следующее утро[350]. Сам Уотерс так высказался об их почти 20-летней вражде: «Я не считаю, что кто-то из нас вышел победителем из тех событий 1985 года… Это было плохое, негативное время, и я сожалею о своём участии в этом противостоянии»[351].\\n\\n Внешние видеофайлы\\n\\n\\n\\n Впервые за 24 года Pink Floyd выступает в своём «классическом» составе. Первое и последнее воссоединение группы.\\n\\n\\nХотя музыканты отклонили контракт на сумму 136 миллионов фунтов стерлингов, предложенный им за совместное турне, Уотерс не исключил новых выступлений, но только в рамках благотворительных мероприятий[350]. Однако Гилмор категорично заявил Associated Press, что новых воссоединений не будет: «Репетиции [Live 8] убедили меня\\xa0— это не то, чем бы я хотел заниматься постоянно… В жизни и карьере людей бывают самые разные прощальные моменты, которые они потом отменяют, но я думаю, что могу совершенно категорично заявить\\xa0— больше не будет ни одного турне или альбома, в которых я буду принимать участие. Это не имеет никакого отношения к вражде или чему-то в этом роде. Просто… Я был там, я сделал это»[352]. В феврале 2006 года Гилмор дал интервью газете La Repubblica, в котором ещё раз затронул тему реюниона: «Терпению фанатов пора объявлять траур. Это официальная новость. Pink Floyd\\xa0— бренд распущенный, законченный, определённо умерший»[353]. На вопрос о будущем Pink Floyd Гилмор ответил: «Все кончено… С меня довольно. Мне уже 60 лет. У меня больше нет желания много работать. Группа стала важной частью моей жизни, это было замечательное время, но всё закончилось. Для меня гораздо удобнее работать в одиночку»[353]. Впоследствии Гилмор и Уотерс неоднократно говорили, что у них нет планов на воссоединение[комм. 55][355][356].\\n\\nСмерти Барретта и Райта[править | править код]\\n\\n\\n«Испытывая огромную грусть, мы вынуждены объявить, что Роджер Кит Барретт – Сид – скончался. Найдите время, чтобы сыграть несколько его песен и запомните Сида как сумасбродного гения, который дарил нам всем улыбки со своими замечательными произведениями о велосипедах, гномах и чучелах. Его карьера была ужасно коротка, но он достучался до сердец огромного количества людей, большего, чем он мог себе представить»[357].\\n\\nДэвид Гилмор\\n\\n\\nБарретт умер 7 июля 2006 года в своём доме в Кембридже в возрасте 60 лет от рака поджелудочной железы[358]. Его похороны состоялись в местном крематории 18 июля 2006 года; никто из членов Pink Floyd на них не присутствовал. Комментируя смерть своего товарища, Райт заявил: «Естественно, группа очень расстроена и опечалена известием о смерти Сида Барретта. Сид был путеводной звездой раннего состава группы и оставил после себя наследие, которое продолжает вдохновлять»[358]. Несмотря на то, что Барретт на протяжении более чем трёх десятилетий оставался в тени, национальная пресса восхваляла музыканта за его выдающийся вклад в развитие современной музыки[359]. 10 мая 2007 года Уотерс, Гилмор, Райт и Мейсон выступили на трибьют-концерте Барретта, названном «Madcap’s Last Laugh», в лондонском Barbican Centreruen. Гилмор, Райт и Мейсон исполнили две песни бывшего коллеги\\xa0— «Bike» и «Arnold Layne», после чего Уотерс выступил сольно со своей песней «Flickering Flame»[360].\\nРайт умер от рака 15 сентября 2008 года в возрасте 65 лет[361]. Его бывшие коллеги по группе отдали дань уважения памяти музыканта; Гилмор сказал: «В суматохе споров о том, кто или что такое Pink Floyd, часто забывался огромный вклад Рика. Он был добрым, скромным и непубличным, но его проникновенный голос и манера исполнения были жизненно важными, волшебными компонентами столь узнаваемого звучания Pink Floyd»[362]. Через неделю после смерти Райта Гилмор исполнил в память о коллеге его песню «Remember a Day» из альбома A Saucerful of Secrets[363]. В свою очередь британский композитор и клавишник Кит Эмерсон опубликовал заявление, в котором отметил заслуги Райта, назвав его неотъемлемой частью Pink Floyd[364].\\n\\nДальнейшие выступления и переиздания[править | править код]\\n Внешние видеофайлы\\n\\n\\n\\n Гилмор и Уотерс вместе исполняют «Comfortably Numb» на сцене O2 Arena.\\n\\n\\n10 июля 2010 года Уотерс и Гилмор выступили на благотворительном мероприятии, организованном фондом Hoping Foundation. Концерт, целью которого был сбор средств для палестинских детей, проходил в особняке Kiddington Hallruen с аудиторией около 200 человек[365]. В благодарность за участие Уотерса в этом мероприятии Гилмор исполнил «Comfortably Numb» на одном из его сольных шоу в рамках турне The Wall Liveruen[366], проходившем 12 мая 2011 года на стадионе O2 Arena. Мейсон тоже поучаствовал в концерте, сыграв на тамбурине в композиции «Outside The Wallruen», аккомпанируя Уотерсу вместе с Гилмором, который сыграл на мандолине[комм. 56].\\n26 сентября 2011 года Pink Floyd и EMI[комм. 57] запустили кампанию по переизданию дискографии группы под общим названием Why Pink Floyd…?ruen. В рамках проекта был перевыпущен весь бэк-каталог коллектива в новых ремастированных версиях, включая многодисковые мультиформатные издания альбомов, названные Experience и Immersion. Ремастеринг материала проходил под руководством Джеймса Гатриruen, сопродюсера The Wall[368]. В ноябре 2015 года увидело свет ограниченное издание мини-альбома 1965: Their First Recordings, включающего в себя шесть песен, записанных до The Piper at the Gates Of Dawn[369].\\n\\nThe Endless River (2014) и Nick Mason’s Saucerful of Secrets[править | править код]\\nОсновные статьи: The Endless River и Nick Mason’s Saucerful of Secrets\\nВ 2012 году Гилмор и Мейсон решили провести ревизию записей, сделанных во время сессий The Division Bell вместе с Райтом, с целью создать новый альбом Pink Floyd. Они наняли сессионных музыкантов, чтобы записать с их помощью новые партии и «в целом, использовали [передовые] студийные технологии для создания альбома Pink Floyd XXI века»[370]. Уотерс в этом проекте не участвовал[371]. Мейсон описал эту пластинку как дань уважения Райту: «Я думаю, что эта запись\\xa0— хороший способ узнать многое из того, чем он занимался, и почему его игра лежит в сердце звучания Pink Floyd. Слушая эти сессии, я действительно понял, каким необыкновенным музыкантом он был»[372].\\nThe Endless River был издан 7 ноября 2014 года компанией Parlophone, став вторым альбомом Pink Floyd, выпущенным на этом лейбле, после переизданного ранее The Division Bell[373]. Несмотря на то, что диск получил смешанные отзывы музыкальной прессы[374], он установил рекорд британского сайта Amazon по предварительным заказам[375] и дебютировал на 1-м месте чартов нескольких странах[376][377]. Виниловое издание альбома стало самым быстро раскупаемым британским релизом 2014 года (на виниле), а тираж стал самым большим в Британии с 1997 года[378]. Во время многочисленных интервью Гилмор подчёркивал, что The Endless River\\xa0— последний альбом Pink Floyd, заявив: «Я думаю, что мы успешно подчистили [запасы] лучшего из того, что было… Очень жаль, но это конец»[379]. Группа не стала проводить турне в поддержку альбома, поскольку Гилмор считал, что это невозможно без Райта[380][381]. В августе 2015 года Гилмор повторил, что с Pink Floyd покончено, подчеркнув «Те годы, которые принято считать нашим расцветом, были на 95 процентов наполнены музыкой и радостью, весельем и смехом. И я, конечно, не хочу, чтобы остальные пять процентов наложили отпечаток на фантастическое время, которое мы провели вместе. Но оно прошло, мы закончили с этим: было бы лицемерием пытаться вернуться назад»; также он заявил, что воссоединяться без Райта «было бы просто неправильным»[8][9].\\n\\n Внешние видеофайлы\\n\\n\\n\\n Группа Nick Mason’s Saucerful of Secrets исполняет песню «Fearless» в концертном зале The Roundhouse.\\n\\n\\nВ ноябре 2016 года увидел свет бокс-сет The Early Years 1965–1972, состоящий из неизданного материала, концертных записей, ремиксов и фильмов ранней карьеры коллектива[382]. В декабре 2019 года последовало издание его продолжения\\xa0— The Later Yearsruen, состоящего из записей группы, появившихся после ухода Уотерса: бокс-сет включал в себя ремикшированную версию лонгплея A Momentary Lapse of Reason с большим акцентом на инструменты Райта и Мейсона, а также расширенное переиздание концертного альбома Delicate Sound of Thunder[383].\\nВ 2018 году Мейсон сформировал сольную группу Nick Mason’s Saucerful of Secrets для исполнения раннего репертуара Pink Floyd. В состав которой, среди прочих вошли гитарист Гэри Кемпruen из Spandau Ballet и басист Гай Пратт, долгое время сотрудничавший с Pink Floyd и Дэвидом Гилмором[384]. В сентябре 2018 года музыканты провели серию гастролей по Европе[385], а годом позже\\xa0— по Северной Америке[386]. Во время концерта в нью-йоркском «Beacon Theatre»ruen к группе присоединился Уотерс, исполнив ведущий вокал в песне «Set the Controls for the Heart of the Sun»[387].\\n\\nМузыка[править | править код]\\nЖанры[править | править код]\\nВ начале своей творческой карьеры музыканты Pink Floyd примкнули к контркультурному движению лондонского андеграундаruen, в котором их коллектив приобрёл известность как одна из первых и самых заметных британских рок-группruen психоделического направления[388]. Холли Джордж-Уоррен, один из обозревателей журнала Rolling Stone, отмечал, что «в 1967 году их [Pink Floyd] музыка приобрела безупречное психоделическое звучание в форме продолжительных, ярко и громко звучащих, структурированных композиций, в которых отразилось влияние хард-рока, блюза, кантри, фолка и электроники»[3]. В свою очередь, записанная в 1968 году инструментальная композиция «Careful with That Axe, Eugene» создала Pink Floyd репутацию арт-рок-коллектива[2]. Кроме этого, музыку группы на ранних этапах их творчества определяли в таких жанрах и стилях, как спейс-рок[7], экспериментальный рок[4], эйсид-рок[5][комм. 58], прото-прог[6], экспериментальный поп (в период лидерства Сида Барретта)[391], психоделический поп[392] и психоделический рок[393]. Один из авторов издания «Pink Floyd and Philosophy: Careful With that Axiom, Eugene!» Джере О’Нил Сербер охарактеризовал музыку Pink Floyd следующим образом:\\n.mw-parser-output .ts-Начало_цитаты-quote{padding:0.25em 1em}.mw-parser-output .ts-Начало_цитаты-source{margin:1em 0 0 5%}.mw-parser-output .ts-Начало_цитаты-quote .ts-oq{margin:0 -1em -0.25em}.mw-parser-output .ts-Начало_цитаты-quote .ts-oq .NavFrame{padding:0}.mw-parser-output .ts-Начало_цитаты-quote .ts-oq .NavHead,.mw-parser-output .ts-Начало_цитаты-quote .ts-oq .NavContent{padding-left:1.052632em;padding-right:1.052632em}\\n\\n\\n\\nРедко можно встретить у Floyd яркие «цепляющие» мелодии, короткие хиты для радио- или телеэфира или же классические трёхаккордные блюзовые прогрессии; и совсем нельзя представить себе, чтобы они тратили своё время на записи попсовых альбомов с романтическими песенками, на танцевальные вечеринки или на создание ажиотажа вокруг своего творчества. Их музыкальный мир безгранично объёмный, полный энергии и вызывающе необычный… В то время как большинство других групп аккуратно подстраивает свои песни к музыке, формируя из них нечто самостоятельное, цельное и полностью завершённое во власти прилипчивых мелодий, музыканты Pink Floyd, как правило, вводят лирику в более обширный звуковой ландшафт таким образом, что зачастую кажется, что она начинает жить своей собственной жизнью… Pink Floyd часто играет продолжительные, отвлечённые инструментальные импровизации, которые никоим образом не являются простой демонстрацией их виртуозного мастерства, а представляют собой запланированную неотъемлемую часть исполнения[394].\\n\\n.mw-parser-output .ts-Конец_цитаты-source{margin:0.357143em 2em 0 0;text-align:right}\\nВ конце 1960-х годов музыкальные критики стали определять стиль коллектива в основном как психоделический поп[395], прогрессивный попruen[396] и прогрессивный рок[1]. Комментируя в 1968 году устоявшийся в прессе штамп о Pink Floyd как о «психоделической группе», Райт заметил: «Трудно понять, почему нас все воспринимают как первую британскую психоделическую группу. Мы никогда не считали, что играем что-то подобное… мы просто всегда знали, что играем в конечном счёте только для собственного удовольствия…и не привязаны к какой-то определённой музыкальной форме, мы могли делать всё, что нам захочется…с особым упором… на спонтанность и импровизацию»[397]. Уотерс критически оценил ранний период творчества группы: «В этом не было вообще ничего грандиозного. Мы были просто смехотворны. Мы ничего толком не умели. Мы совсем не могли играть и потому были вынуждены заниматься каким-то сумасбродством и „экспериментами“… Сид, конечно, был гением, но я не хотел бы возвращаться в те времена, когда мы всё играли и играли без конца эту „Interstellar Overdrive“»[398].\\nПочти в каждом альбоме музыканты Pink Floyd пытались расширить границы жанра, в котором музицировали, экспериментируя с новыми стилями и направлениями. Так, в композиции «Atom Heart Mother» музыканты экспериментировали с симфороком[399], в «Absolutely Curtains» обратились к этнической, или мировой, музыке[400], в песне «The Gold It’s in the…» играли хард-рок[401], а в «The Nile Song»\\xa0— хеви-метал[402], в песне «Free Four»\\xa0исполнили нетипичный для группы пауэр-поп[403], в композициях «More Blues» и «Seamus» играли блюз-рок[404], а в «San Tropez»\\xa0— джаз[405].\\nНикогда не ограничиваясь форматом традиционной поп-музыки, участники Pink Floyd стали новаторами рок-прогрессива в 1970-х годах и эмбиента в 1980-х[406].\\n\\nГитарный стиль Гилмора[править | править код]\\n\\n\\n«В то время как Уотерс был главным флойдовским создателем концепций и поэтических образов, Гилмор был голосом группы и её важнейшей музыкальной частью»[407].\\n\\nАлан ди Перна (Guitar World, май 2006 года)\\n\\n\\n Копия «легендарной» кастомной гитары Гилмора, Black Stratocaster, чьё уникальное звучание стало визитной карточкой Pink Floyd и при помощи которой была записана бо́льшая часть альбомов группы[408][409][410]\\nЕсли музыка и поэзия группы в целом получили мировое признание, то индивидуальное исполнительское мастерство участников Pink Floyd редко выделялось музыкальными обозревателями. Более того, игра музыкантов часто оценивалась достаточно критически, в частности, пара Мейсон и Уотерс была названа изданием NME в 1974 году «самой невыразительной» ритм-секцией[411]. По словам английского поэта и певца Пита Браунаruen, музыканты Pink Floyd на самом деле «не были исполнителями в обычном смысле слова, скорее, они являлись концептуальными артистами»[412]. В меньшей степени это утверждение относилось к Райту, единственному в группе получившему музыкальное образование, а также к Гилмору, которого благодаря его музыкальному таланту, по словам ряда критиков, можно назвать исключением в составе Pink Floyd. Именно его вклад как лучшего в группе вокалиста, исполнителя-гитариста и мелодиста, по утверждению звукоинженера Ника Гриффитса, «заставил людей наслаждаться пластинкой [The Dark Side of the Moon]», одной из самых продаваемых в истории звукозаписи[413].\\nОбозреватель журнала Rolling Stone Алан ди Перна считал музыкальный вклад Дэвида Гилмора неотъемлемой и узнаваемой частью саунда Pink Floyd, а самого музыканта\\xa0— выдающимся гитаристом 1970-х, «недостающим звеном между Хендриксом и Ван Халеном»[407]. В 2011 году редакция Rolling Stone поставила Гилмора на 14 место в списке «100 величайших гитаристов всех времён»[414]. В одном из интервью 2006 года Гилмор прокомментировал свою технику игры: «[Мои] пальцы создают звучание, отличающееся от всех прочих гитаристов…[они] не очень быстры, но я думаю, что я мгновенно узнаваем…Та манера, в которой я играю мелодии, сравнима с игрой Хэнка Марвинаruen из The Shadows»[415]. Способность Гилмора реже использовать ноты для самовыражения без ущерба для мощи и красоты, по мнению музыкального критика Джимми Брауна, отличает его от других гитаристов и сближает с великим джазовым трубачом Майлзом Дэвисом[416].\\nВ журнале Guitar World за 2006 год Браун описал гитарный стиль Гилмора как «характеризующийся простыми, массивно звучащими риффами; безупречными, тщательно выверенными соло; и богатыми, обтекающими структурами аккордов». По мнению критика, сольные партии Гилмора в композициях «Money», «Time» и «Comfortably Numb» «врезаются в пространство песни так же, как лазерный луч проходит сквозь туман»[416]. Он же называет соло в «Time» «шедевром с чёткой отточенностью и последовательно развивающимся мотивом…Гилмор не торопится, развивая свою первоначальную музыкальную идею, прыгая в верхний регистр с головокружительным вибрато в полтона, душераздирающим триольным арпеджио и традиционно безупречным тремоло»[417]. Браун характеризует стиль Гилмора как интуитивный и считает его, возможно, важнейшим достижением для соло-гитариста. Объясняя то, как он пришёл к своему фирменному звуку, Гилмор заметил, что обычно использует «дисторшн, дилэй и яркие настройки эквалайзера…[чтобы получить] поддержку во время пения… вы должны играть громко, на грани или почти на грани фидбэка. Так просто намного увлекательнее играть… когда напряжённо звучащие ноты прорезают вас насквозь как бритвенные лезвия»[416].\\n\\nЗвуковые эксперименты[править | править код]\\n Пульт управления системой «азимут-координаторruen» (с парижской экспозиции Pink Floyd Interstellar 2004)[418]\\nНа протяжении всей своей творческой карьеры участники Pink Floyd занимались экспериментами со звуком и использовали во время записи и исполнения своих композиций самые современные музыкальные технологии. Так, уже в мае 1967 года на концерте в лондонском Куин-Элизабет-Холлеruen под названием Games for May, приуроченном к выпуску второго сингла группы «See Emily Play», музыканты Pink Floyd впервые использовали раннюю версию квадрофонической звуковой системы[419]. Это устройство, которым обычно управлял Райт при помощи «азимут-координатораruen», позволяло изменять направление поступающего из усилителей звучания инструментов, а также различных звуковых эффектов и записей природных шумов на 270 градусов, достигая в числе прочего эффекта циркуляции звука по кругу[420]. По словам Уотерса, благодаря квадрофоническому эффекту «звуки кругами распространяются по залу, создавая у публики сюрреалистическое ощущение того, что она взята музыкой в кольцо»[421]. В 1972 году участники Pink Floyd приобрели изготовленную на заказ акустическую систему, в которой была установлена модернизированная четырёхканальная 360-градусная система[422].\\nЗаписи ранних альбомов группы часто сопровождались экспериментами с нетрадиционными способами извлечения звуков: с помощью тарелок ударной установки, к которым вплотную был придвинут микрофон; с помощью металлической микрофонной стойки, которой водили вверх и вниз по грифу гитары или же с использованием записи магнитофонной плёнки, закольцованной в петлю, как в «A Saucerful of Secrets». Кроме того, в альбоме A Saucerful of Secrets использовались такие необычные для рок-музыки инструменты, как гонг, меллотрон, мирлитонruen и другие[423]. Апофеозом студийных экспериментов стал альбом Ummagumma, в котором Райт извлекал звуки, ударяя по клавишам рояля ладонями, сочетая классическую фортепианную музыку с электронными звуками синтезатора; Уотерс использовал различные магнитофонные записи, проигрываемые с разной скоростью и в разных направлениях в «Several Species of Small Furry Animals Gathered Together in a Cave and Grooving with a Pict»; Гилмор сыграл на синтезаторе Муга в своей песне «The Narrow Way», а Мейсон превратил «The Grand Vizier’s Garden Party» в набор экспериментально-авангардных фрагментов, сыгранных на ударных инструментах, в том числе и с электронными эффектами[424].\\n\\n Синтезатор EMS Synthi AKSruen\\nНачиная с первого альбома, участники Pink Floyd использовали в своих композициях записи природных звуков и шумов, которые сначала брали в звуковой библиотеке EMI, а затем стали записывать сами: например, для песни «Grantchester Meadows» были записаны звуки шагов спускающегося по лестнице и проходящего мимо человека, который затем гонится за жужжащим насекомым и убивает его свёрнутой газетой[425][426]. Использование таких звуков и шумов, присутствующее в каждом альбоме группы, считается одной из визитных карточек Pink Floyd[427]. В 1973 году группа приступила к созданию пластинки Household Objects, во время записи которой вместо обычных инструментов использовались аэрозольные баллончики, стаканы и чаши с водой, натянутые резиновые ленты, пробки винных бутылок, скотч, лампочки, пилы, молотки, топоры и другие предметы домашнего обихода. После двух месяцев работы проект свернули, но некоторые из идей, в частности, звучание рюмок и бокалов с разным уровнем наполнения воды, можно услышать в композиции «Shine On You Crazy Diamond»[191][428][429].\\nВ 1970-х годах участники Pink Floyd активно использовали в студийных записях новейшие для того времени синтезаторы. В частности, эксперименты с синтезаторами EMS Synthi AKSruen и EMS VCS 3 позволили добиться футуристического звучания в композициях «On the Run», «Welcome to the Machine» и «In the Flesh?ruen»[430][431][432]. При помощи эхо-машины «Binson Echorec 2» был создан эффект задержки в партии бас-гитары Уотерса в композиции «One of These Days» из альбома Meddle[433]. Эксперименты с использованием технического оборудования студии нередко приводили к воспроизведению совершенно новых звуков: например, во время записи «Echoes» из той же пластинки, Ричард Райт при подключении фортепиано к динамику Лесли создал аранжировку вступления, звучащую как писк сонара[157].\\nПередовые музыкальные технологии также обширно использовались при создании звуковых эффектов для альбома The Final Cut. Музыканты применили новую экспериментальную голофоническую системуruen. Данная технология позволила записывать звуковые эффекты с имитацией объёмного трёхмерного звука. Записанные на обычную стереокассету эффекты, прослушиваемые в наушниках, создавали впечатление движения звуков вокруг головы слушателя[434]. Например, при прослушивании песни «Get Your Filthy Hands Off My Desert» казалось, что ракета взлетает перед слушателем, пролетает над головой и взрывается где-то позади него[435].\\n\\nСаундтреки к фильмам[править | править код]\\nНа протяжении нескольких лет в конце 1960-х и в начале 1970-х годов Pink Floyd сочиняли музыку для кинофильмов, включая как художественные, так и документальные ленты. В числе кинорежиссёров, с которыми сотрудничала группа, были Барбет Шрёдер и Микеланджело Антониони. По словам Николаса Шэффнера, в первые годы своей творческой карьеры работа с музыкальным оформлением кинолент была для участников Pink Floyd «не только близка …по духу, но и была более прибыльным занятием в отличие от бесконечных гастролей по Великобритании»[436]. Первым художественным фильмом, в котором была использована музыка Pink Floyd, стала лента Питера Сайксаruen «Комитетruen», снятая в 1968 году, в ней прозвучала ранняя версия композиции «Careful with That Axe, Eugene»[437]. В этом же году вышли на экран документальные фильмы Tonite Lets All Make Love in Londonruen и San Franciscoruen, в которых использовались треки «Interstellar Overdrive» и «Nick’s Boogie»[438]. В 1969 году коллектив Pink Floyd написал музыку к картине Барбета Шрёдера «Ещё». Саундтрек к этому фильму, изданный под названием More, не только принёс прибыль от продажи дисков, но и наряду с альбомом A Saucerful of Secrets обеспечил группу музыкальным материалом, который стал частью концертных выступлений в последующие несколько лет. Кроме этого, относительно успешный прокат фильма во Франции позволил группе выйти за пределы англо-американского рынка и начать гастроли в континентальной Европе[439]. Следующей киноработой группы стал саундтрек к фильму итальянского режиссёра Микеланджело Антониони «Забриски-пойнт» (1970). Во время его создания участники Pink Floyd почти месяц прожили в роскошном отеле в Риме, хотя, по утверждению Уотерса, работа над саундтреком могла бы быть закончена менее чем за неделю, если бы не постоянные требования режиссёра что-то изменить или доработать в предлагаемых ему музыкальных темах. В итоге Антониони включил в свою ленту только три записи Pink Floyd, обратившись к другим рок-группам, музыка которых звучала «более по-американски». Одна из тем авторства Райта под названием «The Violent Sequence», от которой отказался итальянский режиссёр, позже стала основой композиции «Us and Them» для альбома 1973 года The Dark Side of the Moon[440]. В 1971 году группа приступила к записи саундтрека к ещё одному фильму Шрёдера под названием «Долина». Выпущенный годом позже альбом с композициями из этого фильма получил название Obscured by Clouds\\xa0— по наименованию вступительной композиции. Музыканты сочинили материал к фильму примерно за неделю в студии Château d’Hérouville, расположенной недалеко от Парижа. Благодаря ротации песен из Obscured by Clouds на американских FM-радиостанциях, этот альбом стал первым лонгплеем Pink Floyd, попавшим в топ-50 в чарте Billboard[441].\\n\\nКонцертные постановки[править | править код]\\nКонцертные выступления Pink Floyd всегда отличали самые высокие стандарты качества звука[442][443]. Не менее важной для группы была и визуальная сторона концерта. Музыканты и техники Pink Floyd были в числе первых на рок-сцене, кто применил целый ряд нововведений как в звуковой, так и в визуальной составляющей концертного представления. Группа использовала в своих выступлениях в числе прочего новейшие звуковые эффекты и квадрофонические акустические системы, инновационные технологии в области светового шоу, включая пиротехнику, лазерыruen и видеоэкраны, а также привносила в концертное выступление элементы театрализованной постановки, задействуя при этом целый арсенал технических средств[444][445]. Визуальные эффекты стали неотъемлемой частью шоу Pink Floyd практически с самых первых концертов: согласно замыслу музыкантов, эффекты должны были создавать психоделическую атмосферу, которая усиливала бы степень воздействия музыки на зрителей. В частности, на сцене лондонского клуба UFO в конце 1966\\xa0— начале 1967 года группа использовала слайд-шоу[446]. Представление, в котором слайды проецировались на сцену и на публику, стало новаторским для британского рока того времени. Во многом благодаря подобным шоу Pink Floyd стали быстро набирать популярность в среде лондонского андеграунда конца 1960-х годов[3].\\n\\n\\n\\n«...это был своеобразный религиозный опыт...это было восхитительно. Они исполняли «Saucerful of Secrets» и другие вещи, казалось, они заполнили собой все небо... и находились в абсолютной гармонии с плеском волн и шумом деревьев и прочее, и прочее. Похоже, это было безукоризненное представление, самый лучший концерт, на котором я когда-либо присутствовал»[447].\\n\\nДжон Пил о концерте в Гайд-парке в 1968 году\\n\\n\\nНа раннем этапе своей карьеры группа участвовала в целом ряде концертов, ставших историческими для мировой рок-музыки. Так, 15 октября 1966 года музыканты играли на знаменитой презентации издания International Times\\xa0— концерте лондонского андеграунда под названием All Night Rave в клубе The Roundhouse. Это выступление посетили Пол Маккартни, Марианна Фэйтфулл, Микеланджело Антониони, Питер Брук, Моника Витти и другие знаменитости. В статье International Times, описывающей концерт, отмечалось: «Флойд делали диковинные вещи, наполняя аудиторию скрипящими звуками эффекта фидбэк, поражая танцующими на их фигурах проецируемыми слайдами (капельки краски текли по слайдам, чтобы передать ощущение открытого космоса и доисторических миров), а прожектора мигали в такт барабанам»[448][449]. 29 апреля 1967 года группа стала хедлайнеромruen на концерте The 14 Hour Technicolor Dreamruen в Александра-палас, на котором выступило около 40 исполнителей британской музыкальной контркультуры, а одним из гостей был Джон Леннон[450][451][452]. 29 июня 1968 года музыканты Pink Floyd приняли участие на первом бесплатном рок-концерте в Гайд-парке[447][453]. Описывая типичные выступления того времени, как, например, один из концертов цикла The Massed Gadgets of Auximinesruen 1969 года, на котором исполнялись сюиты The Man and The Journey, Николас Шэффнер отмечал, что во время выступления демонстрировались фильмы, стреляли из пушки, взрывались пиротехнические снаряды с розовым дымом; кроме того, на сцене при помощи пилы и молотка сооружали стол, после чего дорожные менеджеры выходили с чайником и включали транзисторный приёмник, подвинув к нему микрофон. По словам Тима Ренвикаruen, каждое выступление Pink Floyd, «даже если оно не становилось нокаутом в музыкальном отношении, все равно выглядело событием, чрезвычайно специфическим, особенным…»[454].\\n\\n Один из концертов турне Dark Side of the Moon (Эрлс-корт, 18 мая 1973 года)[455]. Слева направо: Дэвид Гилмор, Ник Мейсон, Дик Пэрри, Роджер Уотерс\\nПосле коммерческого успеха The Dark Side of the Moon выступления Pink Floyd в концертных залах сменились шоу на крупных аренах и стадионах[456]. Во время гастролей по Северной Америке в рамках одноимённого концертного тура, в марте 1973 года, группа использовала для трансляции видеоизображения круглый экран. Это сценическое новшество стало впоследствии одним из главных элементов всех последующих выступлений коллектива[457]. Кроме того, к числу привычных для Pink Floyd спецэффектов, таких как сигнальные ракеты, горящий гонг, облака дыма от сухого льда, дымовые шашки и\\xa0многих других, прибавились поднимавшиеся на гидравлике вышки с установленными на них прожекторами, а также пролетающий над зрителями и взрывающийся пятнадцатифутовый самолёт[458][459].\\n\\n Кукла Учителя на концерте The Wall в Берлине (1990)\\nВо время тура 1977 года In the Fleshruen группа использовала летающие над сценой надувные куклы, одна из которых\\xa0— свинья\\xa0— стала фирменным знаком Pink Floyd[460]. Поведение фанатов, которые свистели, кричали, толкались и дрались во время этого тура, а также нервное напряжение из-за необходимости постоянно контролировать процесс выступления и срывы из-за часто возникающих проблем в технически сложной постановке шоу оказали решающее влияние на созданную Роджером Уотерсом концепцию нового альбома The Wall. Основной частью представления во время гастрольного турне Pink Floyd в поддержку этого альбома стала стена высотой 40 футов (12\\xa0м) между зрителями и музыкантами, которую строили из картонных кирпичей прямо во время концерта. На стену проецировалась анимация Джеральда Скарфа; в промежутках между кирпичами в недостроенной стене разыгрывались сцены, отражающие историю главного героя постановки; над сценой и зрителями летали гигантские надувные куклы, изображавшие «Учителя», «Мать» и «Миссис Пинк»[461]. Кульминацией постановки многие считают исполнение песни «Comfortably Numb» и в особенности тот момент, когда Роджер Уотерс, находящийся в темноте, заканчивал петь припев, а Дэвид Гилмор, поднявшийся на вершину стены на специальной платформе, начинал играть гитарное соло под яркими лучами белых и синих огней прожекторов[462]. В конце выступления стена с большим эффектом рушилась[463]. По мнению Энди Маббетта, эти концерты «остаются самыми зрелищными в истории рок-музыки»[464]. Шоу The Wall позже было воссоздано Роджером Уотерсом в 1990 году рядом с руинами Берлинской стены с помощью большого числа приглашённых музыкантов, включая Брайана Адамса, Шинейд О’Коннор, Синди Лаупер, Вана Моррисона, групп Scorpions и The Band. Также, одним из участников концерта был духовой оркестр Западной группы войск. Ещё раз «одно из самых амбициозных, дорогостоящих и сложных рок-представлений» Уотерс поставил во время своего сольного турне The Wall Liveruen в 2010—2013 годах[465].\\nВ 1987—1990 и в 1994 годах музыканты Pink Floyd провели два мировых турне: первое из них\\xa0— A Momentary Lapse of Reason, второе\\xa0— The Division Bellruen (на нём полностью исполнялся альбом The Dark Side of the Moon). Оба концертных тура были масштабными по времени и размаху подготовки и репетиций, по количеству обслуживающего персонала и используемой грузовой техники, а также по размеру полученной прибыли. Так, например, только разработка сценического представления для тура A Momentary Lapse of Reason заняла пять месяцев[466], в организации и проведении гастролей приняли участие почти двести человек техников, водителей, охранников и других обслуживающих лиц[467], репетиции к туру заняли четыре недели[468], а само турне включило 200 концертов[320]. Тур The Division Bell был менее продолжительным и включил чуть более сотни концертов, его сборы составили порядка 250 миллионов долларов. Во время обоих гастрольных туров помимо традиционных для концертов Pink Floyd сценических элементов использовались новые технические разработки. К уже известным круглому экрану, на котором демонстрировались специально подготовленные анимация и видеоклипы, летающей свинье и взрывающейся кровати (или самолёту) добавились последние на тот момент технологии светового шоу, включающие применение лазеров и пиротехники, а также гигантский зеркальный шар, раскрывающийся над публикой как цветок[469][470].\\n\\n\\n\\n\\n\\nКонцерт в зале London Arenaruen во время турне A Momentary Lapse of Reason (1989)\\n\\n\\n\\n\\n\\n\\nАнимация Яна Эймсаruen на круглом экране на концерте Роджера Уотерса в Ставангере (26 июня 2006)\\n\\n\\n\\n\\n\\n\\nСвинья на концерте Роджера Уотерса в Голливуд-боул (5 октября 2006)\\n\\n\\n\\n\\n\\n\\nСтроительство стены на концерте Роджера Уотерса в Майами (15 июня 2012)\\n\\n\\n\\n\\nИллюстрации альбомов[править | править код]\\n Изображение дисперсии светового луча, помещённое на обложку альбома The Dark Side of the Moon, которое стало самой известной символикой Pink Floyd[471]\\nНеотъемлемой частью творчества Pink Floyd являются иллюстрации обложек альбомов. Автором дизайна большинства из них стал Сторм Торгерсон[комм. 59], основатель студии Hipgnosis, куда также входил дизайнер Обри Пауэллruen. Hipgnosis не участвовала в оформлении только четырёх студийных пластинок группы:\\nThe Piper at the Gates of Dawn, фото для которой сделал фотограф Вик Сайн, а обратная сторона была оформлена рисунком Сида Барретта;\\nThe Wall, для дизайна которой группа наняла Джеральда Скарфа[комм. 60];\\nThe Final Cut, дизайн которой создал Уотерс[комм. 61] и\\nThe Endless River[475].\\nПервой из серии обложек, оформленных дизайнерами Hipgnosis для Pink Floyd, стало изображение для альбома A Saucerful of Secrets (1968), созданное в «психоделической» стилистике[комм. 62]; на ней были совмещены тринадцать образов, начиная от планет солнечной системы и заканчивая знаками зодиака, которые по задумке авторов должны были отразить нечто «пространственное и психоделическое»[477]. Следующая обложка для альбома 1969 года Ummagumma была выполнена Hipgnosis в виде рекурсивной картины: музыканты Pink Floyd позируют на фоне картины с музыкантами Pink Floyd, позирующими на фоне картины с музыкантами Pink Floyd и так далее. Для обложки альбома 1970 года Atom Heart Mother предполагалось выбрать «как можно менее психоделичное» изображение, не имеющее смысла и как можно меньше связанное с музыкой: итогом поисков стало изображение коровы, пасущейся на зелёном лугу. Начиная с оформления этой пластинки и на всех последующих обложках Pink Floyd\\xa0— названия группы и альбома больше не упоминались. Идея сфотографировать для обложки Meddle ухо под водой с концентрическими кругами от падающих капель на воде, воплощающими «эхо» основной композиции, исходила от самих участников коллектива. Сделанная «небрежно и без фантазии», в художественном решении она уступает всем остальным обложкам квартета; её назвали «худшей» как музыканты группы, так и сам Торгерсон[478][479].\\nДля оформления альбома The Dark Side of the Moon студия Hipgnosis использовала нарисованное Джорджем Хардиruen изображение преломляющей свет призмы, которое впоследствии стало наиболее узнаваемой символикой Pink Floyd[480]. Согласно концепции Торгерсона, луч белого света, символизирующий единство, проходит через призму, которая представляет собой человеческое общество. Преломлённый луч радужного света, выходящий из призмы, символизирует разобщение единства, воплощая идею его отсутствия в обществе[481]. По предложению Уотерса преломлённый луч был перенесён на обратную часть конверта, где он через опрокинутую призму вновь превращается в луч белого цвета, создавая тем самым изображение, которое повторяется до бесконечности[180]. Энди Маббетт назвал обложку альбома одной из лучших и самых известных в истории рока\\xa0— триумфом простоты дизайна[482]; она часто включается в списки лучших обложек, составляемых теми или иными музыкальными изданиями. Так, например, ей отдано 1-е место в списке «50 лучших обложек всех времён», опубликованном веб-сайтом MusicRadar (2011)[483], и 6-е в списке «50 лучших обложек всех времён» по версии журнала Billboard (2020)[484].\\n\\n Обложка альбома The Division Bell была призвана символизировать отсутствие в группе её бывших лидеров\\xa0— Сида Барретта и Роджера Уотерса[485]\\nВдохновением для обложки Wish You Were Here послужила мысль о том, что из-за боязни «сгореть» люди часто стараются скрыть свои истинные чувства. Эта идея была проиллюстрирована при помощи изображением двух бизнесменов, которые пожимают друг другу руки, симулируя мнимый дружеский жест; один из них при этом горит[205]. Концепция «отсутствия» была воплощена на обратной стороне обложки в виде изображения костюма без человека в пустыне, на развороте\\xa0— в виде красной вуали на ветру, скрывающей очертания женской фигуры, и ныряльщика, от которого не расходятся круги по воде. В довершении всего обложка была спрятана в тёмный целлофан, украшенный логотипом диска с изображением рукопожатия двух механических рук. По словам Николаса Шэффнера, «ни одно изображение [Pink Floyd] так детально не совпадало с музыкальным и текстовым содержанием пластинки»[486]. Энди Маббетт оценил обложку Wish You Were Here как ещё один триумф Hipgnosis[195].\\nНаиболее известной среди всех пластинок Pink Floyd является история обложки Animals. Её созданием также занималась студия Hipgnosis, однако окончательное решение по разработке дизайна осталось за Уотерсом, который предложил поместить на конверте пластинки изображение ветхой электростанции Баттерси с фигурой огромной надувной свиньи между труб[комм. 63][488][489]. Басист назвал её «символом надежды»[490]. Группа заказала 30-футовый (9,1 м) воздушный шар в форме свиньи, запланировав фотосъёмку на 2 декабря 1976 года. Работа то и дело прерывалась из-за ненастной погоды; в какой-то момент сильный порыв ветра оборвал трос, на котором крепился воздушный шар, и потоки воздуха погнали свинью в сторону аэропорта Хитроу. В итоге свинья долетела до Кента, где её подобрал местный фермер, по слухам, взбешённый тем, что она напугала его коров[491]. Позднее была сделана ещё одна попытка сфотографировать свинью над Баттерси, но в окончательный вариант обложки попало её изображение, смонтированное с одной из первых пробных фотографий электростанции[492]. Эта история обеспечила новый проект Pink Floyd большим объёмом рекламного материала в новостных лентах СМИ. В то же время между Уотерсом и Hipgnosis возник спор об авторстве дизайна обложки, который привёл к тому, что группа отказалась от дальнейших услуг студии[493].\\nСтудия Hipgnosis вернулась к работе с группой лишь в 1987 году. Для создания обложки альбома A Momentary Lapse of Reason Торгерсон выстроил на пляже Саунтон-Сэндзruen «реку» из больничных коек длиной в две мили[494], визуально выразив тем самым часто встречавшийся в тексте и музыке альбома образ реки[495]. На создание центральных фигур для обложки следующей пластинки Pink Floyd, The Division Bell, Торгерсона вдохновили огромные монолиты Моаи с острова Пасхи: по словам автора, два гигантских лица, обращённых друг к друг, образуют воображаемое третье, «отсутствующее», лицо\\xa0— «лицо призрака прошлого группы, Сида и Роджера»[485].\\n\\nТематика текстов песен[править | править код]\\n\\n\\n\\n\\n\\n«Another Brick in the Wall (Part II)»\\n\\n\\nОдна из самых известных песен в дискографии Pink Floyd[496] спровоцировала скандал на родине группы (Маргарет Тэтчер её ненавидела)[497] из-за резкой критики британской системы образования. В одном из интервью автор песни, Роджер Уотерс, говорил, что осуждение учителей не было идеей композиции, однако потребность заявить о недопустимых методах воспитания — была. Благодаря продюсеру Бобу Эзрину, песня зазвучала в стиле диско, что было категорически несвойственно для группы. В свою очередь, звукорежиссёру Нику Гриффитсу пришла в голову идея добавить в неё детский хор — для большего колорита и духа бунтарства[498][499].\\n\\n\\nПомощь по воспроизведению\\n\\nПоэзия каждого нового альбома Pink Floyd существенно отличалась от предыдущего и выделялась оригинальностью образов, мыслей и тем. Вместе с этим стихи группы обнаруживают преемственность и взаимовлияние; порой в них встречаются сквозные темы, как, например, тема войны (от «Corporal Clegg» и до The Final Cut), ставшая «наваждением» для Роджера Уотерса[500]. Песни Сида Барретта из дебютной пластинки,The Piper at the Gates of Dawn, и первых синглов группы, изобилующие яркими образами и повествующие о «кошках, серебряных башмаках, единорогах, мышонке Джеральде, велосипедах, гномах, огородных пугалах, „Книге Перемен“» и прочих «фантастических персонажах, предметах и явлениях», характеризуются как «излучающие удивительный свет», «обезоруживающе наивные, заразительно мелодичные и потрясающе оригинальные», «самые изобретательные и поразительные из всех, что когда-либо были записаны»[501], свободные «от обычных рок-н-ролльных клише, относящихся к любви и сексу» и воплощающие в себе «бредовую английскую чудаковатость»[502].\\nПосле ухода из группы Барретта участники Pink Floyd пытались повторить стиль его «психоделических сказок», как, например, в композиции Уотерса «Julia Dream»; музыканты сочиняли песни под влиянием атмосферы, созданной эпохой хиппи («It Would Be So Nice», «Remember a Day», «Summer ’68» и «Burning Bridges» Райта), обращались к темам мистики и космоса («Let There Be More Light», «Point Me at the Sky» Уотерса) или наркотических трипов («Cirrus Minor» Уотерса), создавали ностальгические пасторали («Fat Old Sun» Гилмора)[503][504]. Одновременно с этим в текстах ранних альбомов появляются упоминания тем, которые станут основой более позднего творчества Pink Floyd. Так, в песне «If» Уотерс пытается осмыслить противоречия своего характера, в «Cymbaline» размышляет над прессингом музыкальной индустрии, в «Free Four» упоминает о гибели отца на войне[505][506]. В конечном итоге к 1973 году единственным автором стихов становится Уотерс, который окончательно освобождается от влияния поэтики Барретта и начинает сочинять тематически объединённые циклы песен о том, что происходит в настоящее время в обыденной жизни с ним и его современниками[507]. Ещё в 1971 году в одном из интервью он признался, что намеревается в своих стихах «спуститься с небес на землю, меньше внимания уделять полётам фантазии и больше\\xa0— тому, что волнует нас самих как обычных людей»[508].\\nСквозной темой всей поэзии Pink Floyd Роджер Уотерс назвал сострадание[509]. С ним соглашаются некоторые из критиков, например, Джордж Рейш, который также отметил важность темы сострадания в лирике группы и охарактеризовал, в частности, «психоделический опус» «Echoes» из альбома Meddle как «построенный вокруг основной идеи искреннего общения, сострадания и взаимопомощи»[510]. Описывая поэзию группы Джере О’Нил Сербер подчёркивал, что интересы музыкантов\\xa0— «реальность и иллюзия, жизнь и смерть, время и пространство, закономерность и случайность, сочувствие и безразличие»[511]. О философии в лирике Роджера Уотерса упоминают и авторы журнала Rolling Stone. Они также отмечают, выражая при этом довольно распространённое мнение, что тексты Pink Floyd «передают определённо негативный взгляд на жизнь»[5]. Ряд критиков, в частности, Дина Вайнштейн, не соглашаются с отрицательным стереотипом, сложившимся в отношении основного автора лирики квартета, считая его следствием неправильного толкования поэзии группы; несмотря на репутацию «самого мрачного человека в рок-музыке», они рассматривают Уотерса как экзистенциалиста[512].\\n\\nРазочарование, отсутствие и небытие[править | править код]\\n\\n\\n\\n\\n\\n«Comfortably Numb»\\n\\n\\n«Comfortably Numb» считается одной из лучших и наиболее характерных в музыкальном плане композиций Pink Floyd[238]. Эта песня занимает наиболее высокое место, 321-е, среди всех треков группы в рейтинге Rolling Stone «500 величайших песен всех времён»[513], а гитарная тема Гилмора из неё включена в 5-ку «50 лучших гитарных соло всех времён» по версии редакции Guitar World[514].\\n\\n\\nПомощь по воспроизведению\\n\\nЧувство разочарования, вызванного теми или иными сторонами современной жизни, наиболее полно выражено в стихах Уотерса из альбома Wish You Were Here. Они адресованы звукозаписывающей индустрии, изо всех сил давившей на группу ради ещё одного «хитового продукта», такого как The Dark Side of the Moon[198]. На это указывает, в частности, Дэвид Детмер, считающий, что тексты пластинки повествуют о «бесчеловечных сторонах мира коммерции» и о колоссальном прессинге, который музыкант испытывает в процессе творчества, находясь на пути к своему слушателю[515]. Беспринципность и лицемерие, царящие в мире музыкальной индустрии, отражены в содержании песни «Have a Cigar»[516]. Фальшь в отношениях между владельцами звукозаписывающей компании и группой подчёркнуты в этой песне тем, что один из менеджеров фирмы по-приятельски поздравляет музыкантов с рекордным ростом продаж их нового хита, давая понять, что все они в одной команде, и при этом ошибочно полагает, что Пинк\\xa0— это имя одного из членов группы[517]. Тема несбывшихся надежд и тщетных усилий в достижении цели, вызывающих разочарование, прослеживается в стихах саундтрека Obscured by Clouds, в одной из композиций которого говорится о том, что с возрастом порой внезапно осознаёшь, что твоя счастливая юность давно уже позади[518].\\nВ лирике Pink Floyd часто встречается тема «отсутствия», которая в числе прочего выражена чувствами, вызванными уходом Сида Барретта из группы в 1968 году и гибелью отца Роджера Уотерса на войне в 1943 году[518]. Дизайнер Сторм Торгерсон, проведший много времени с музыкантами группы, описывая поэзию Wish You Were Here, отмечал, что в альбоме прослеживается «идея иллюзии присутствия, выражаемая разными способами, с помощью которых люди притворяются, что они присутствуют здесь, в то время как их сознание находится на самом деле совсем в другом месте; идея, реализуемая психологическими приёмами и ухищрениями, с помощью которых люди в полной мере подавляют своё присутствие, и которая в конечном итоге сводится к одному: их отсутствию\\xa0— отсутствию человека, отсутствию чувств». Эта идея, воплощённая в стихах Wish You Were Here, также отражена в дизайне обложки альбома[519][481]. Уотерс, комментируя концепцию Wish You Were Here, заметил, что она «о том, что нас там на самом деле не было… [альбом] мог с таким же успехом называться „Жаль, что нас там нет“»[520].\\nИсследуя тексты песен Pink Floyd, Джере О’Нил Сербер пришёл к выводу, что общей темой поэзии группы является проблема небытия[511]. Обращение к теме небытия просматривается уже в лирике Сида Барретта, например, в его последней песне, изданной группой, «Jugband Blues»: «И я очень благодарен вам за то, что дали ясно понять — меня здесь нет»[518]. Наиболее полно небытие и несуществование отражены в лирике альбома The Wall. Примером могут быть строки песни «Comfortably Numb»: «Ребёнком был, ловил я отблески, когда зажмуривал глаза. Я лишь моргнул, они пропали, и ускользнули между пальцев вдруг. Ребёнок взрос, не стало грёз»[комм. 64][518].\\n\\nЭксплуатация и угнетение[править | править код]\\n Цитата из композиции Pink Floyd «Another Brick in the Wall (Part II)» в виде граффити на стене дома по улице Брик-лэйнruen\\nВ стихах Animals Уотерс представил карикатурное изображение капиталистического общества[522]. Патрик Кроскери, проводя параллель между политической тематикой альбома и описанием мира «Скотного двора» Джорджа Оруэлла, охарактеризовал Animals как уникальное сочетание «мощных звуков и суггестивных тем» Dark Side с изображением творческого отчуждения и помешательства The Wall[523]. В первой песне пластинки звучит предположение, которое можно воспринять также и как вопрос: «Если тебе всё равно, что происходит со мной, и мне безразлично, где ты и что с тобой». После этого альбом плавно перерастает в животный эпос, где каждому антропоморфному персонажу соответствует музыкальная тема, отражающая его образ мыслей. В конечном счёте лирика описывает картину антиутопии, ставшей неизбежным результатом развития мира, лишённого сочувствия и сострадания. Описание этого мира и является ответом на вопрос Уотерса, прозвучавший в самом начале альбома[524].\\nПерсонажи капиталистического общества из Animals включают «собак», представляющих класс активных жёстких прагматиков, изо всех сил рвущихся к кормушке; «свиней», символизирующих лицемерных и склонных к тирании моралистов и коррумпированных политиков, а также «овец»\\xa0— стадо всеми эксплуатируемых глупцов и бестолковых мечтателей[216][525]. Персонажи композиции «Dogs», по мнению Патрика Кроскери, в своём неутомимом стремлении к реализации личных интересов и неустанной погоне за успехом любой ценой в конце жизни оказываются беспомощными, одинокими и подавленными, не испытывая никакого удовлетворения от достигнутого. В песне «Pigsruen» как один из ярких примеров «свиньи» упоминается Мэри Уайтхаусruen, которая старалась навязать свой взгляд на чистоту нравов и моральные ценности, используя политическую власть[526]. Мир композиции «Sheep» Кроскери считает ложным сознанием, «страной иллюзий, созданной обманчивой культурной идентичностью»[527]. В заключительной части альбома Уотерс возвращается к теме сочувствия, проникновенно утверждая: «Ты знаешь, мне не всё равно, что происходит с тобой, и я знаю, что и я тебе небезразличен тоже»[528]. Одновременно с этим в финале автор напоминает о постоянной угрозе, идущей от «свиней», и признаётся в том, что сам он является «собакой», нуждающейся в тихом убежище. Уотерс указывает также на то, что необходимо находить и поддерживать баланс между представителями государственной власти, коммерции и общества, вместо того, чтобы постоянно быть в конфликте друг с другом[529].\\n\\nОтчуждение, война и безумие[править | править код]\\n\\n\\n«Когда я говорю: „Увидимся на другой стороне Луны“, — я имею в виду, что если ты думаешь, что ты совсем один... если тебе кажется, что ты сошёл с ума, потому что кругом сплошное безумие, — ты не одинок»[530].\\n\\nРоджер Уотерс\\n\\n\\nЕщё одной темой, часто присутствующей в поэзии Уотерса, является тема отчуждения. На это указывает, в частности, Джере О’Нил Сербер, проводя параллель между философией песни «Brain Damage» из альбома The Dark Side of the Moon и теорией самоотчуждения марксистcкой философии: «Кто-то есть в моей голове, но это не я»[комм. 65][531]. Текст песни «Welcome to the Machine» из альбома Wish You Were Here наводит, по его мнению, на мысль об отчуждении вещиruen, высказанную Карлом Марксом: лирический герой настолько поглощён идеей обладания материальных ценностей, что становится отчуждённым и от людей, и от самого себя[531]. Намёки на отчуждение человеческого в себе можно отыскать и в альбоме Animals: в композиции «Dogs» антропоморфный персонаж «собака» инстинктивно теряет в себе всё человеческое[532]. «Собаки», по мнению Дэвида Детмера, отчуждаются от самих себя настолько, что называют отсутствие у себя хоть каких-нибудь положительных качеств «необходимой и оправданной» позицией в этом «беспощадном мире, где нет места состраданию и моральным принципам»[533]. Мотив отчуждения от других людей, как полагает О’Нил Сербер, присутствует во многих альбомах Pink Floyd, а в пластинке The Wall он становится ключевым элементом всего повествования[531].\\nОдной из важнейших тем альбома The Wall является война, которая может быть рассмотрена как наиболее страшное последствие отчуждения от других людей. Тема войны так или иначе затрагивается и в других альбомах группы, начиная с A Saucerful of Secrets (с песни «Corporal Clegg»)[534]. Антивоенные высказывания можно ясно услышать в текстах песен «Free Four» (1972), «Us and Them» (1973), «When the Tigers Broke Free» (1982) и «The Fletcher Memorial Homeruen» (1983). Уотерс, всю свою жизнь тяжело переживавший гибель отца в Италии во время Второй мировой войны, очень часто в своих стихах обращался к вопросам о цене, которую платят люди своими жизнями по вине тех, кто развязывает войны. В память о погибшем отце он записал The Final Cut, полностью посвящённый антивоенной тематике и сопровождённый подзаголовком «Реквием послевоенной мечте»[3][276]. Опосредованное влияние войны, как считал Марк Блейк, проявилось, помимо прочего, и в негативном опыте отношений Уотерса с женщинами, что отчётливо прослеживается в поэзии рок-оперы The Wall. Причиной этому, по мнению Блейка, было то, что Уотерс рос и воспитывался в послевоенном британском обществе, в котором не хватало мужчин[535].\\n\\n\\n\\n\\n\\n\\n«Time»\\n\\n\\nПосле ухода Сида Барретта ответственность за написание большинства песен группы легла на Роджера Уотерса[120], которого часто называли «интеллектуалом от рок-музыки»[536]. Незаурядные поэтические способности музыканта впоследствии отмечали как его коллеги[537], так и различные печатные СМИ[538]. В частности, тексты альбома The Dark Side of the Moon, одного из самых известных концептуальных произведений Роджера Уотерса, были названы обозревателем журнала Billboard «выдающимся достижением их автора»[539].\\n\\n\\nПомощь по воспроизведению\\n\\nТеме безумия Уотерс посвятил целый альбом\\xa0— The Dark Side of the Moon. В текстах песен этой пластинки рассказывается о разных видах давления, которое испытывают люди в условиях современной жизни, и о том, как оно может довести их до умопомешательства[540]. Уотерс отметил, что «психическим заболеванием», о котором идёт речь в альбоме, можно охарактеризовать состояние современного мира в целом[541]. Одновременно с этим в своих строках он пытался донести жизнеутверждающие идеи, назвав альбом «призывом… принять всё позитивное и отвергнуть всё негативное»[542]. Джордж Рейш в описании The Wall подчеркнул, что речь в нём «идёт не столько о самом безумии, сколько о привычном жизненном укладе, общественных учреждениях и социальных структурах, которые доводят человека до сумасшествия»[543]. Пинк, главный герой альбома не в силах справиться с жизненными обстоятельствами и преодолеть гнетущее чувство вины. Он шаг за шагом закрывается от внешнего мира, возводя вокруг своего сознания барьер. После того, как Пинк полностью разрывает все связи с миром, он начинает понимать, что сходит с ума («сумасшедший, где-то там за радугой»). Вместе с тем он допускает возможность того, что отчасти сам довёл себя до такого состояния («была ли тогда в этом и моя вина?»). Осознав весь охвативший его ужас, Пинк решает, что это он сам всех подвёл: свою властную мать, которая мудро решила своей опекой подавить волю сына, задушив его в объятьях; учителя, который справедливо высмеивал поэтические наклонности своего ученика; свою жену, которая была вынуждена его бросить. В конце концов Пинк предстаёт перед судом за «проявление чуть ли не человеческих чувств», что ещё больше усиливает его отчуждение от окружающего мира[544]. Как и Мишель Фуко, Роджер Уотерс приходит к выводу, что безумие (показанное, в частности, в истории Пинка) является следствием влияния на человека современной жизни, а такие её элементы, как «привычки, взаимозависимости и психические отклонения», по мнению Джорджа Рейша, его просто пугают[545].\\n\\nПризнание и влияние[править | править код]\\n Экспонаты Зала славы рок-н-ролла (куклы из шоу Pink Floyd The Wall)\\nPink Floyd является одной из наиболее коммерчески успешных и влиятельных рок-групп всех времён[546]. Записи ансамбля разошлись по всему миру тиражом более, чем 250 миллионов копий, включая 75 миллионов сертифицированных записей в США (в том числе 38 миллионов копий альбомов, проданных в США с 1993 по 2012 годы)[12][13][547]. В списке самых богатых людейruen за 2013 год, по данным газеты The Sunday Times, среди музыкантов Британии Роджер Уотерс занял 12 место (его состояние было оценено в 150 миллионов фунтов стерлингов), Дэвид Гилмор\\xa0— 27 место (85 миллионов фунтов стерлингов), Ник Мейсон\\xa0— 37 место (50 миллионов фунтов стерлингов)[548].\\nГруппа Pink Floyd занимает высокие места в мировых музыкальных рейтингах, проводимых известными периодическими изданиями и телеканалами. По мнению авторов журнала Q, Pink Floyd стала самой лучшей группой всех времён в рейтинге 2004 года, в соответствии с оценкой, которая учитывала продажи самого популярного альбома, масштаб самого успешного гастрольного тура и число недель пребывания альбомов в чарте Великобритании[549]. В этом же году телеканал MSNBC отдал Pink Floyd 8-е место в списке «10 лучших рок-групп всех времён»[550]. Редакция журнала Rolling Stone поместила группу на 51-ю позицию в списке «100 величайших исполнителей всех времён», составленном в 2010 году[551]. Согласно рейтингам телевизионной сети VH1, ансамбль занял 18-ю строчку в списке «100 величайших исполнителей всех времён» (2010)[552]. Редактор «Энциклопедии популярной музыки» Колин Ларкин поместил Pink Floyd на 3-е место в списке «50 лучших исполнителей всех времён» исходя из количества голосов, отданных за альбомы, включённые в его книгу «1000 лучших альбомов всех времён»[553]. В 2008 году ведущий обозреватель рок- и поп-музыки издания The Guardian Алексис Петридисruen отметил, что Pink Floyd занимают уникальное место в прогрессив-роке: «Тридцать лет спустя прог всё ещё остаётся персоной non grata […] Только группа Pink Floyd, никогда не являвшаяся прог-группой, несмотря на их склонность к длительным композициям и „концепциям“, включена в список 100 лучших альбомов»[554].\\nМузыка Pink Floyd неоднократно отмечалась престижными музыкальными премиями. В 1981 году звукорежиссёр Джеймс Гатриruen получил «Грэмми» в номинации «Лучшая звукорежиссура неклассического альбомаruen» за запись альбома The Wall, а Роджер Уотерс был удостоен премии BAFTA в 1983 году в номинации «Лучшая песня из фильмаruen» за композицию «Another Brick in the Wall» из фильма «Стена»[555][556]. В 1995 году лучшей инструментальной рок-композицией на церемонии «Грэмми» была признана композиция группы — «Marooned»[557]. В 2008 году король Швеции Карл XVI Густав вручил Pink Floyd премию Polar Music Prize «…за многолетний монументальный вклад в развитие поп-культуры и слияние музыки с другими видами искусства» (награду получили Роджер Уотерс и Ник Мейсон)[558][559]. В 1996 году группа была включена в Зал славы рок-н-ролла, в 2005 году\\xa0— в Зал славы музыки Великобритании, а в 2010 году\\xa0— в Зал славы хит-парадовruen Джона Рукаruen[560][561].\\n\\n Цитата из песни pink Floyd «Eclipse» на стене одного из кафе-баров Hard Rock Cafe\\nЗаписи коллектива повлияли на творчество многих рок-исполнителей. В их число входят Дэвид Боуи, назвавший Сида Барретта важнейшим источником вдохновения[562], и Эдж из группы U2, который купил свою первую педаль дилея после прослушивания вступительных гитарных аккордов в композиции «Dogs» с альбома Animals[563]. Среди других групп и солистов, которые называют музыку Pink Floyd важным творческим стимулом,\\xa0— Queen[564], Tool[565], Radiohead[566], Kraftwerk[567], Marillion[568], Nine Inch Nails[569], Стивен Уилсон[570], Queensrÿche, The Orb, The Smashing Pumpkins[571], Mostly Autumnruen[572] и\\xa0т.\\xa0д. Кроме того, музыка Pink Floyd оказала влияние на становление такого жанра, как неопрогрессивный рок, появившийся в 1980 годах[573].\\nВ последние годы музыкальные инструменты, сценические реквизиты, плакаты, фотографии, черновики с текстами и нотами песен, а также предметы, связанные с созданием обложек и другие вещи Pink Floyd становятся экспонатами музеев. В частности, они демонстрировались на выставке «Pink Floyd Interstellar» (2003—2004) в Городе Музыки в Париже[418] и на выставке «Their Mortal Remains» (2017) в Музее Виктории и Альберта в Лондоне[574][575].\\nВ настоящее время музыка Pink Floyd исполняется многочисленными трибьют-группами, созданными во многих странах мира, среди которых Brit Floyd (Великобритания)[576], Australian Pink Floyd Showruen (Австралия)[577], The Pink Floyd Show UK (Великобритания)[578], Echoes (Израиль)[579] и многие другие.\\n\\nУчастники группы[править | править код]\\nОсновная статья: Участники группы Pink Floyd\\nСид Барретт\\xa0— соло и ритм-гитара, вокал (1965—1968; умер в 2006)\\nНик Мейсон\\xa0— ударные, перкуссия (1965—1995, 2005, 2013—2015)\\nРоджер Уотерс\\xa0— бас-гитара, вокал, ритм-гитара (1965—1985, 2005)\\nРичард Райт\\xa0— клавишные, вокал (1965—1979, 1990—1995, 2005; умер в 2008) (концертный/ сессионный участник с 1979—1981 и в 1986—1990)\\nДэвид Гилмор\\xa0— соло и ритм гитара, вокал, бас-гитара, клавишные (1967—1995, 2005, 2013—2015)\\nДискография[править | править код]\\nОсновная статья: Дискография Pink Floyd\\nThe Piper at the Gates of Dawn (1967)\\nA Saucerful of Secrets (1968)\\nMusic from the Film More (1969)\\nUmmagumma (1969)\\nAtom Heart Mother (1970)\\nMeddle (1971)\\nObscured by Clouds (1972)\\nThe Dark Side of the Moon (1973)\\nWish You Were Here (1975)\\nAnimals (1977)\\nThe Wall (1979)\\nThe Final Cut (1983)\\nA Momentary Lapse of Reason (1987)\\nThe Division Bell (1994)\\nThe Endless River (2014)\\nПримечания[править | править код]\\nКомментарии\\n\\n\\n↑ Райт учился на архитектурном факультете только до 1963 года, после чего поступил в лондонский Королевский колледж музыки[19].\\n\\n↑ Райт был пианистом, но в группе «Sigma 6» играл на ритм-гитаре, поскольку в начале 1960-х годов клавишные инструменты стоили дорого и студенческая группа не могла себе их позволить[20].\\n\\n↑ Майк Леонард занимался конструированием проекционных машин, в которых при помощи электродвигателей вращались перфорированные диски. Свет, проходящий через эти диски, создавал на стене различные световые узоры. Подобного рода эффекты были продемонстрированы в одном из ранних выпусков телепередачи «Завтрашний деньruen»[23].\\n\\n↑ Райт тоже какое-то время жил на квартире у Майка Леонарда[26].\\n\\n↑ По словам Гленна Поуви, группа стала называть себя «The Abdabs» в начале 1964 года[26].\\n\\n↑ В книге Поуви название «Meggadeaths» пишется с двумя буквами «g», у Блейка «Megadeaths» — с одной «g»[30]. Как один из вариантов названия группы иногда встречается «Architectural Abdabs»; о нём упоминают Ник Мейсон[31] и Николас Шэффнер[32]; однако, Поуви утверждает, что такого названия не было, объясняя его появление неверным прочтением заголовка о группе «The Abdabs» в студенческой газете Политехнического университета[33]. В своей книге Поуви повсеместно использует словосочетание «The Tea Set», в то время как утверждения биографа Марка Блейка об альтернативном написании названия — «The T-Set» — документально не подтверждены[34].\\n\\n↑ 1000 фунтов стерлингов в 1966 году эквивалентна 18 300 фунтам стерлингов в 2018 году[47].\\n\\n↑ Вскоре после приобретения инструменты и оборудование были украдены и музыканты были вынуждены купить новый комплект в рассрочку[48].\\n\\n↑ В начале 1967 года музыканты избавились от артикля «the» в названии группы[58].\\n\\n↑ 5000 фунтов стерлингов в 1967 году эквивалентны 89 100 фунтам стерлингов в 2018 году[47].\\n\\n↑ Биограф Николас Шэффнер назвал аванс в 5000 фунтов стерлингов «щедрым»; однако Поуви предположил, что это была несоразмерная сделка, так как вся сумма выплачивалась не сразу, а в течение пяти лет[59].\\n\\n↑ Оба трека были записаны 29 января 1967 года. Перед этой сессией, 11 и 12 января, музыканты записали длинный дубль трека «Interstellar Overdrive»[59]. Примерно в то же время, в которое записывалась песня «Arnold Layne», участники Pink Floyd сняли для неё видеоряд — съёмки проходили в Сассексе[60].\\n\\n↑ По вине менеджеров Blackhill, которые несвоевременно согласовали концертные даты, группа Pink Floyd была вынуждена отменить несколько американских выступлений[83].\\n\\n↑ Вернувшись в Лондон в ноябре 1967 года Pink Floyd выпустили сингл «Apples and Oranges»[87].\\n\\n↑ Неоднократное отсутствие Барретта или его отказ выходить на сцену вынуждали группу приглашать Дэвида О’Листаruen из The Nice ему на замену[90].\\n\\n↑ В конце 1967 года Барретт предложил добавить в группу четырёх новых членов; со слов Уотерса: «Двух фриков, которых он где-то повстречал. Один из них играл на банджо, другой — на саксофоне […] [и] парочку цыпочек-певиц»[95].\\n\\n↑ 30 фунтов стерлингов в 1968 году эквивалентны 500 фунтам  стерлингов в 2018 году[47].\\n\\n↑ По типу Брайана Уилсона из группы The Beach Boys, о чём говорил Гилмор: «Барретт должен был оставаться дома и писать свои замечательные песни, превратиться в загадочного Брайана Уилсона, скрывающегося за спинами коллектива»[100].\\n\\n↑ Одним из первых заданий Гилмора в группе стало исполнение гитарной партии в видеофильме к песне «Apples and Oranges», в котором Уотерс пытался подделаться под абсолютно произвольное пение Барретта[102].\\n\\n↑ По словам Джун Болан: «Сид потерял хватку, в том смысле, что настроение у него менялось, а они [Pink Floyd] относились к нему не по-доброму. [...] Возможно, если бы в то время, в начале его нервного срыва, они относились бы к Сиду с пониманием, то такого крушения могло бы и не произойти»[107].\\n\\n↑ По воспоминаниям Мейсона, он точно не уверен, кто именно из коллег по группе сказал: «О нет, давайте не будем!»[104].\\n\\n↑ В течение короткого периода Барретт периодически появлялся на выступлениях Pink Floyd, по-видимому, смущённый своим положением в группе[116]. По словам Шэффнера, Барретт продолжал считать Pink Floyd своей группой и «не признавал до конца факт своего „отделения“» от неё[117].\\n\\n↑ Питер Дженнер описал её как «судя по всему, поставленный самому себе окончательный диагноз шизофрении»[123].\\n\\n↑ Pink Floyd записали свои предыдущие пластинки при помощи четырёхдорожечной системы; Atom Heart Mother был их первым альбомом, записанным на восьмидорожечный рекордер[136].\\n\\n↑ Кража оборудования на сумму около 40 000 долларов после выступления Pink Floyd в Новом Орлеане в мае 1970 года практически опустошила финансы коллектива. Однако через несколько часов после того, как группа обратилась в ФБР, была возвращена бóльшая часть украденного[146][147].\\n\\n↑ Дата релиза Meddle в США — 30 октября 1971 года; в Британии — 5 ноября 1971 года[156]. Создавая Meddle, группа впервые работала с 16-дорожечным рекордером[136].\\n\\n↑ Именно в конце работы над Meddle Уотерс написал песню под названием «Dark Side of the Moon» (содержащую весьма недвусмысленные отсылки к истории Барретта и позже переименованную в «Brain Damage»), решив приберечь её для следующего диска[136].\\n\\n↑ Все предыдущие альбомы Pink Floyd в чартах США не попадали даже в топ-20[183].\\n\\n↑ 1 000 000 долларов США в 1973 году был эквивалентен 5 184 211 долларам в 2019 году[188].\\n\\n↑ После завершения студийной сессии Барретт присутствовал на свадебном приёме Гилмора в столовой EMI, но в итоге ушёл, ни с кем не попрощавшись. Никто из участников группы больше никогда его не видел, за исключением случайной встречи с Уотерсом пару лет спустя[201][202].\\n\\n↑ Звукоинженером Animals был Брайан Хамфрис; запись альбома была завершена в декабре 1976 года[215].\\n\\n↑ По словам Мейсона, это были первые гастроли группы, организованные с целью продвижения конкретного альбома[224]. Во время этого турне концертный состав Pink Floyd был расширен за счёт второго гитариста Сноуи Уайтаruen и клавишника-саксофониста Дика Пэрри[225]\\n\\n↑ В 1976 году участники Pink Floyd заключили соглашение с компанией Norton Warburg Group (NWG), специализирующейся на финансовых консультациях. NWG стала агентом, контролирующим сбор средств группы и вела все её финансовые, секретарские и страховые дела за годовую плату в размере 300 000 фунтов стерлингов (что эквивалентно 1 690 500 фунтам стерлингов в 2018 году)[47]. Руководство NWG решило сыграть на разнице 1,6 млн (расходов) и 3,3 млн фунтов стерлингов доходов группы в рискованной операции с капиталовложениями, мотивируя это тем, что бо́льшая часть средств Pink Floyd всё равно уходит на налоги. Однако, вскоре стало ясно, что группа по-прежнему терпит убытки. NWG не только инвестировала деньги в обанкротившиеся предприятия, но и оставила группу ответственной за налоговые выплаты, доходившие до 83% от их дохода. В итоге музыканты расторгли сотрудничество с NWG и потребовали вернуть все ещё не вложенные средства, которые на тот момент составляли £860 000, впоследствии получив только £740 000[235]. После этого группа выдвинула иск NWG в размере £1 млн, обвинив её в мошенничестве и халатности. В 1981 году после развала компании Эндрю Уорбург бежал в Испанию. Norton Warburg Investments, доля акций которой сохранялась у Pink Floyd, была переименована в Waterbrook. Был назначен новый председатель совета директоров, распродавший все авуары компании со скидкой от 60 до 92% первоначальной стоимости. В 1987 году Уорбург вернулся в Великобританию и был приговорён к трёхлетнему тюремному заключению[235][236].\\n\\n↑ По словам звукоинженера Ника Гриффитса, «Эзрин замечательно показал себя в работе над „The Wall“, потому что ему удалось соединить все части и детали. Он очень упорный парень. Между Роджером и Дэйвом было много споров о том, как должна звучать пластинка, а он перекрыл пропасть между ними, хотя ему и приходилось выслушивать от них много нелестных слов»[238].\\n\\n↑ Прообраз Пинка помимо автобиографических мотивов жизни Уотерса также отчасти затрагивает судьбу Сида Барретта[241].\\n\\n↑ В записи The Wall звукоинженер Джеймс Гатриruen заменил Брайана Хамфриса, которого музыканты группы считали эмоционально истощённым за пять лет совместной работы[242]. В марте 1979 года тяжёлое финансовое положение вынудило группу покинуть Великобританию примерно на год, переместив рабочий процесс в студию Super Bearrufr, расположенную недалеко от Ниццы[243][238].\\n\\n↑ Ближе к концу сессий Мейсон оставил Уотерса, Гилмора, Эзрина и Гатри доделывать финальный микс альбома, отправившись в Нью-Йорк для записи своего дебютного сольного диска — Nick Mason’s Fictitious Sports[250].\\n\\n↑ 600 000 долларов США в 1980 году эквивалентны 1 687 335 долларам США в 2019 году[188].\\n\\n↑ Запись альбома проходила в восьми студиях, включая домашнюю студию Гилмора Hookend Manorruen и домашнюю студию Уотерса в Ист-Шинеruen под названием Billiard Hall[264][265][266].\\n\\n↑ В итоге он посвятил альбом своему отцу Эрику Флетчеру Уотерсу, погибшему на фронте во время Второй мировой войны[270].\\n\\n↑ В версии песни «Not Now John», выпущенной на сингле, в припеве грубую фразу «Fuck all that» («К чёрту всё») заменили на более приличную «Stuff all that» — обозреватель журнала Melody Maker назвал эту ситуацию «вехой в истории паскудства»[275].\\n\\n↑ В это время Райт прошёл через болезненный развод и впоследствии заявил, что альбом был «записан в период моей жизни, когда я был совершенно сбит с толку»[284].\\n\\n↑ В этот период Уотерс записал саундтрек для мультфильма «Когда дует ветер», а также свой второй сольный альбом Radio K.A.O.S.[290].\\n\\n↑ Поучаствовать в записи пластинки были приглашены многие музыканты, в том числе Джон Кэринruen и Фил Манзанера, а также продюсер Боб Эзрин, который стал «ключевым партнёром Гилмора» в этом проекте[296].\\n\\n↑ В договоре 1981 года об уходе Райта из Pink Floyd существовал пункт, не допускавший его возвращения в группу[298].\\n\\n↑ Когда в 1986 году, по воспоминаниям Райта, до него дошли слухи, что группа хочет записать альбом без Уотерса, он встретился с Гилмором на его вилле в Линдосе и предложил: «Если я тебе когда-нибудь понадоблюсь или ты захочешь поработать со мной, я буду только рад нашему сотрудничеству». Памятуя о периоде записи The Wall, гитарист дал уклончивый ответ[299].\\n\\n↑ В отличие от предыдущих альбомов Pink Floyd запись A Momentary Lapse of Reason производилась с помощью 32-дорожечного цифрового рекордера фирмы Mitsubishi с использованием синхронизации MIDI на компьютере Apple Macintosh[305][306][307]. В процессе записи музыканты сначала переместились с плавучей студии Astoria в лондонскую Mayfair Studiosruen, а затем переехали в Лос-Анджелес на студию A&M[308].\\n\\n↑ На фото не было Ричарда Райта (из-за его договора 1981 года об уходе из группы, хотя существует версия фотографии со всеми тремя музыкантами)[298], его имя фигурирует только на буклете в списке участвующих в записи альбома, но не в списке участников группы[312].\\n\\n↑ Билеты на концерты варьировались от 70 до 100 рублей (при средней заработной плате в Советском Союзе в 217 рублей)[325][326][327].\\n\\n↑ Этот период также отмечен событиями в личной жизни музыкантов: Гилмор развёлся со своей женой Джинджер, а Мейсон женился на актрисе Аннет Линтон[328].\\n\\n↑ Альбом A Momentary Lapse of Reason был выпущен одновременно с дисками Bad Майкла Джексона и Tunnel of Love Брюса Спрингстина[336].\\n\\n↑ Уотерс отклонил приглашение присоединиться к группе, когда турне достигло Европы[340].\\n\\n↑ В 1995 году музыканты Pink Floyd выпустили концертный альбом P.U.L.S.E. и одноимённое концертное видео, записанные во время их выступлений в последнем турне[342].\\n\\n↑ В интервью Mojo осенью 2004 года Гилмор сравнил идею воссоединения Pink Floyd с Уотерсом с «возможностью переспать с бывшей женой»[345].\\n\\n↑ В 2006 году Гилмор начал гастролировать по небольшим концертным площадкам вместе с Райтом и другими музыкантами, задействованными в гастрольных турах периода после ухода Уотерса. На одном из шоу Гилмор, Райт и Мейсон исполнили на бис песни «Wish You Were Here» и «Comfortably Numb» — это стало единственным выступлением Pink Floyd в таком составе со времён Live 8[354].\\n\\n↑ На этом концерте Гилмор, Мейсон и Уотерс впервые выступили вместе на одной сцене после Live 8, и впервые собрались вместе на концертном шоу после выпуска The Final Cut, в записи которого участвовали только втроём[367].\\n\\n↑ 4 января 2011 года группа Pink Floyd подписала пятилетний контракт с фирмой EMI, положив конец судебному спору о распространении отдельных записей из их дискографии. Музыканты успешно отстояли свою позицию, убедив суд в том, что их материал должен издаваться в виде цельных альбомов, а не отдельных треков[367].\\n\\n↑ Группа Pink Floyd была одной из настоящих английских кислотных рок-групп, возможно, самой кислотнейшей из всех[389]. Из всех сравнительно известных групп, появившихся в Британии в конце шестидесятых, ни одна не была настолько многогранно экспериментальной и настолько тесно связанной с атмосферным звучанием эйсид-рока как Pink Floyd[390].\\n\\n↑ Торгерсон учился в Кембриджширской средней школе для мальчиковruen вместе с Уотерсом и Барреттом[472].\\n\\n↑ На обложке альбома The Wall была изображена стена из белых кирпичей[473].\\n\\n↑ На обложке альбома The Final Cut Роджер Уотерс разместил изображение ветеранского кителя крупным планом с орденскими планками и частью макового цветка — фотографию для обложки он попросил сделать своего шурина Вилли Кристиruen — фотографа из журнала Vogue[273][474].\\n\\n↑ Это был второй случай в практике EMI после случая с The Beatles, когда руководство лейбла разрешило одной из своих групп заключить отдельный контракт со сторонней дизайнерской компанией[476].\\n\\n↑ Уотерс: «Мне нравятся четыре башни, смахивающие на фаллические символы, и идею энергии я тоже нахожу довольно привлекательной, хотя и несколько странной»[487].\\n\\n↑ Перевод Игоря Полуяхтова[521].\\n\\n↑ Карл Маркс считал конечной формой отчуждения безумие[531].\\n\\n\\nИсточники\\n\\n\\n↑ 1 2 Povey, 2008, p.\\xa085.\\n\\n↑ 1 2 3 di Perna, 2002, p.\\xa013.\\n\\n↑ 1 2 3 4 George-Warren, 2001, p.\\xa0761.\\n\\n↑ 1 2 Greene D. Rock, Counterculture and the Avant-Garde, 1966–1970: How the Beatles, Frank Zappa and the Velvet Underground Defined an Era.\\xa0— Jefferson: McFarland, 2016.\\xa0— P.\\xa0158.\\xa0— ISBN 978-1-4766-2403-7. Архивная копия от 11 февраля 2017 на Wayback Machine\\n\\n↑ 1 2 3 George-Warren, 2001, p.\\xa0760.\\n\\n↑ 1 2 Greene D. Rock, Counterculture and the Avant-Garde, 1966–1970: How the Beatles, Frank Zappa and the Velvet Underground Defined an Era.\\xa0— Jefferson: McFarland, 2016.\\xa0— P.\\xa0182.\\xa0— ISBN 978-1-4766-2403-7. Архивная копия от 11 февраля 2017 на Wayback Machine\\n\\n↑ 1 2 3 di Perna, 2002, p.\\xa029.\\n\\n↑ 1 2 Сосновский Д. Дэвид Гилмор официально объявил о роспуске Pink Floyd\\xa0(неопр.). Москва:  Российская газета (14\\xa0августа 2015). Архивировано 8\\xa0января 2020\\xa0года.\\n\\n↑ 1 2 Pink Floyd are \\'done\\', says Dave Gilmour\\xa0(англ.). London:  The Guardian (14\\xa0August 2015). Архивировано 18\\xa0октября 2016\\xa0года.\\n\\n↑ Пинк Флойд\\xa0// Большой энциклопедический словарь\\xa0/ Гл.\\xa0ред. А.\\xa0М.\\xa0Прохоров.\\xa0— 1-е изд.\\xa0— М.\\xa0: Большая российская энциклопедия, 1991.\\xa0— ISBN 5-85270-160-2.\\n\\n↑ Пинк Флойд\\xa0/ Романчиков А. А.\\xa0// Большая российская энциклопедия\\xa0: [в 35 т.]\\xa0/ гл. ред. Ю. С. Осипов.\\xa0— М.\\xa0: Большая российская энциклопедия, 2004—2017.\\n\\n↑ 1 2 Beech M. Pink Floyd Reunion Tops Fans\\' Wish List in Music Choice Survey\\xa0(неопр.). New York:  Bloomberg Television (26\\xa0сентября 2007). Архивировано 12\\xa0августа 2013\\xa0года.\\n\\n↑ 1 2 Top Selling Artists\\xa0(англ.).  Recording Industry Association of America. Архивировано 20\\xa0февраля 2020\\xa0года.\\n\\n↑ Swansonn, Dave. How Pink Floyd Set the Psych-Rock Standard With Their Debut\\xa0(англ.).  Ultimate Classicrock (4 августа 2015). Дата обращения: 19 января 2021. Архивировано 19 января 2021.\\n\\n↑ Харрис, 2014, с. 11.\\n\\n↑ Black, Johnny. 50 Years Of Pink Floyd: A Most Unlikely Reunion\\xa0(англ.). Classic Rock.  LouderSound (12\\xa0August 2015). Дата обращения: 21 февраля 2020. Архивировано 21\\xa0февраля 2020\\xa0года.\\n\\n↑ Blake, 2008, pp.\\xa037–38.\\n\\n↑ Fitch, 2005, p.\\xa0335.\\n\\n↑ Blake, 2008, pp.\\xa039–40.\\n\\n↑ Мейсон, 2015, с. 20.\\n\\n↑ Blake, 2008, pp.\\xa039–40: Райт также был студентом архитектурного факультета, когда присоединился к Sigma 6; Povey, 2008, pp.\\xa013–14: Формирование Sigma 6; Шэффнер, 1998, pp.\\xa042–43: Инструментальный состав Sigma 6\\n\\n↑ Blake, 2008, pp.\\xa038–39.\\n\\n↑ Мейсон, 2015, с. 22—23.\\n\\n↑ 1 2 Мейсон, 2015, с. 22—24.\\n\\n↑ 1 2 Blake, 2008, p.\\xa041.\\n\\n↑ 1 2 3 Povey, 2008, p.\\xa014.\\n\\n↑ Povey, 2008, p.\\xa013.\\n\\n↑ Шэффнер, 1998, с. 36.\\n\\n↑ Мейсон, 2015, с. 26.\\n\\n↑ Blake, 2008, p.\\xa039: Megadeaths; Povey, 2008, p.\\xa013: Meggadeaths.\\n\\n↑ Мейсон, 2015, с. 27.\\n\\n↑ Шэффнер, 1998, с. 43.\\n\\n↑ Povey, 2008, pp.\\xa014–15.\\n\\n↑ Blake, 2008, pp.\\xa043–44: Блейк использует «The T-Set» в качестве альтернативного написания названия; Povey, 2008, pp.\\xa028–29: Поуви везде использует название «The Tea Set».\\n\\n↑ Povey, 2008, pp.\\xa013–18.\\n\\n↑ Blake, 2008, pp.\\xa042–44.\\n\\n↑ 1 2 Мейсон, 2015, с. 28.\\n\\n↑ Мейсон, 2015, с. 28—29.\\n\\n↑ Povey, 2008, p.\\xa019.\\n\\n↑ Мейсон, 2015, с. 29.\\n\\n↑ Blake, 2008, pp.\\xa044–45.\\n\\n↑ Мейсон, 2015, p.\\xa032.\\n\\n↑ 1 2 Povey, 2008, pp.\\xa018–19.\\n\\n↑ Мейсон, 2015, pp.\\xa033–37.\\n\\n↑ Unterberger Rruen. Pink Floyd. Interstellar Overdrive. Song Review\\xa0(англ.).  AllMusic. Архивировано 14\\xa0марта 2016\\xa0года.\\n\\n↑ Мейсон, 2015, p.\\xa037: Дженнер был впечатлён Барреттом и Райтом; Шэффнер, 1998: Дженнер и Кинг стали бизнес-менеджерами Pink Floyd.\\n\\n↑ 1 2 3 4 Данные инфляции по индексу розничных цен (RPI)ruen в Великобритании основаны на методике Грегори Кларка (2017). Ежегодный индекс RPI и средний доход в Великобритании с 1209 года по настоящее время (Новая серия): The Annual RPI and Average Earnings for Britain, 1209 to Present (New Series)\\xa0(англ.).  Measuring Worth. Архивировано 12\\xa0января 2020\\xa0года.\\n\\n↑ 1 2 Шэффнер, 1998, с. 48.\\n\\n↑ Мейсон, 2015, с. 35, 46—47.\\n\\n↑ Мейсон, 2015, с. 49—51, 83.\\n\\n↑ Шэффнер, 1998, с. 51.\\n\\n↑ Мейсон, 2015, с. 54–55.\\n\\n↑ Шэффнер, 1998, с. 62.\\n\\n↑ Мейсон, 2015, с. 49.\\n\\n↑ Мейсон, 2015, с. 55.\\n\\n↑ Мейсон, 2015, с. 55—58.\\n\\n↑ Шэффнер, 1998, с. 68.\\n\\n↑ Blake, 2008, p.\\xa079.\\n\\n↑ 1 2 3 Povey, 2008, p.\\xa037.\\n\\n↑ Мейсон, 2015, с. 63—64.\\n\\n↑ Povey, 2008, p.\\xa0342: Дата выпуска «Arnold Layne»; Шэффнер, 1998, p.\\xa076: Подписание контракта с EMI.\\n\\n↑ Мейсон, 2015, с. 89—90.\\n\\n↑ Шэффнер, 1998, с. 88, 92, 98, 107.\\n\\n↑ Povey, 2008, p.\\xa0342.\\n\\n↑ Blake, 2008, pp.\\xa086–87.\\n\\n↑ Мейсон, 2015, с. 91—92.\\n\\n↑ Мейсон, 2015, с. 92.\\n\\n↑ Шэффнер, 1998, с. 107.\\n\\n↑ Povey, 2008, p.\\xa043.\\n\\n↑ Мейсон, 2015, с. 101.\\n\\n↑ Шэффнер, 1998, с. 70.\\n\\n↑ Мейсон, 2015, с. 86.\\n\\n↑ Шэффнер, 1998, с. 12, 89.\\n\\n↑ Мейсон, 2015, pp.\\xa093—94: Смит заключил первый контракт с Pink Floyd; Шэффнер, 1998, p.\\xa075—76: Моррисон заключил первый контракт с Pink Floyd\\xa0— согласно его пунктам, музыканты должны были записать свой первый альбом в студии, принадлежащей EMI.\\n\\n↑ Мейсон, 2015, с. 96.\\n\\n↑ 1 2 3 Artists. Pink Floyd. Albums\\xa0(англ.).  The Official Charts Company. Архивировано 7\\xa0января 2020\\xa0года.\\n\\n↑ Cavanagh J. The Piper at the Gates of Dawn\\xa0(англ.).\\xa0— New York: Continuum, 2003.\\xa0— P.\\xa055—56.\\xa0— ISBN 978-0-8264-1497-7.\\n\\n↑ Мейсон, 2015, p.\\xa0101—102: «Группа начала играть, а Сид просто стоял на месте»; Шэффнер, 1998, p.\\xa053: Джун Чайлд была секретаршей и доверенным лицом компании Blackhill Enterprises.\\n\\n↑ Шэффнер, 1998, с. 110.\\n\\n↑ Povey, 2008, p.\\xa067.\\n\\n↑ Blake, 2008, p.\\xa0123.\\n\\n↑ Мейсон, 2015, с. 102—103.\\n\\n↑ Povey, 2008, p.\\xa069.\\n\\n↑ Povey, 2008, pp.\\xa067–71.\\n\\n↑ Шэффнер, 1998, с. 114—116.\\n\\n↑ Шэффнер, 1998, с. 115—116.\\n\\n↑ Povey, 2008, p.\\xa072.\\n\\n↑ Шэффнер, 1998, с. 116.\\n\\n↑ Шэффнер, 1998, с. 117.\\n\\n↑ Fitch, 2005, p.\\xa0224.\\n\\n↑ Мейсон, 2015, с. 102–113.\\n\\n↑ Шэффнер, 1998, с. 113—121.\\n\\n↑ Шэффнер, 1998, pp.\\xa017, 132: (первичный источник); Харрис, 2014, p.\\xa020: (вторичный источник).\\n\\n↑ Шэффнер, 1998, с. 188—189.\\n\\n↑ Blake, 2008, p.\\xa0110.\\n\\n↑ 1 2 Povey, 2008, p.\\xa047.\\n\\n↑ Мейсон, 2015, с. 116.\\n\\n↑ Шэффнер, 1998, с. 38.\\n\\n↑ Мейсон, 2015, с. 34.\\n\\n↑ Шэффнер, 1998, с. 14, 132.\\n\\n↑ Blake, 2008, pp.\\xa0110—111: «группа намеревалась продолжить работу с Барреттом»; Мейсон, 2015, p.\\xa0116: О’Рурк обеспечил Гилмору комнату у себя в доме; Шэффнер, 1998, p.\\xa0131: Гилмор был официально объявлен новым участником Pink Floyd.\\n\\n↑ Шэффнер, 1998, с. 131.\\n\\n↑ Шэффнер, 1998, с. 132.\\n\\n↑ 1 2 Мейсон, 2015, с. 117.\\n\\n↑ 1 2 Шэффнер, 1998, с. 14.\\n\\n↑ Palacios, 2010, p.\\xa0317.\\n\\n↑ Шэффнер, 1998, с. 109.\\n\\n↑ Мейсон, 2015, с. 109.\\n\\n↑ Шэффнер, 1998, с. 115, 131.\\n\\n↑ Povey, 2008, p.\\xa078.\\n\\n↑ Шэффнер, 1998, с. 15.\\n\\n↑ Blake, 2008, p.\\xa0112.\\n\\n↑ Шэффнер, 1998, с. 115.\\n\\n↑ Blake, 2008, pp.\\xa090—113.\\n\\n↑ 1 2 Мейсон, 2015, с. 118—119.\\n\\n↑ Blake, 2008, pp.\\xa0112—114.\\n\\n↑ Шэффнер, 1998, с. 132, 136.\\n\\n↑ Шэффнер, 1998, с. 133.\\n\\n↑ Blake, 2008, pp.\\xa03, 9, 113, 156, 242, 279, 320, 398: После ухода Барретта бремя выбора тематики композиций и творческого направления по большей части легло на Уотерса.\\n\\n↑ 1 2 Мейсон, 2015, с. 176.\\n\\n↑ Мейсон, 2015, с. 119—120, 137: Стив стал менеджером Pink Floyd.\\n\\n↑ Povey, 2008, pp.\\xa078—80.\\n\\n↑ Шэффнер, 1998, с. 123.\\n\\n↑ Blake, 2008, pp.\\xa0116–117.\\n\\n↑ 1 2 Blake, 2008, p.\\xa0117.\\n\\n↑ 1 2 Blake, 2008, p.\\xa0118.\\n\\n↑ 1 2 3 4 5 Roberts, 2005, p.\\xa0391.\\n\\n↑ Povey, 2008, p.\\xa084.\\n\\n↑ Мейсон, 2015, с. 139–140.\\n\\n↑ Харрис, 2014, p.\\xa0171: Сокращённая версия песни была разослана по радиостанциям с предварительно вычищенным из текста словом «bullshit» (вторичный источник); Мейсон, 2015, p.\\xa0142: «Сингл стал нашей третьей попыткой со времён „Emily“ и, соответственно, третьим провалом» (первичный источник).\\n\\n↑ Шэффнер, 1998, с. 164.\\n\\n↑ Povey, 2008, pp.\\xa087–89.\\n\\n↑ Scaruffi Pruen. Piero Scaruffi’s History of Rock Music. 1967—1969. Pink Floyd. Ummagumma\\xa0(англ.).  Musica (Piero Scaruffi\\'s music review) (1999). Архивировано 19\\xa0декабря 2019\\xa0года.\\n\\n↑ Povey, 2008, pp.\\xa0135–136.\\n\\n↑ Povey, 2007, pp.\\xa0115.\\n\\n↑ 1 2 3 Шэффнер, 1998, с. 190.\\n\\n↑ Povey, 2008, p.\\xa0344.\\n\\n↑ Povey, 2007, pp.\\xa0128.\\n\\n↑ Шэффнер, 1998, с. 176.\\n\\n↑ Шэффнер, 1998, с. 182.\\n\\n↑ Blake, 2008, p.\\xa0148.\\n\\n↑ Шэффнер, 1998, с. 178.\\n\\n↑ Шэффнер, 1998, с. 183—184.\\n\\n↑ Мейсон, 2015, с. 158.\\n\\n↑ Маббетт, 1997, с. 54.\\n\\n↑ Шэффнер, 1998, с. 185.\\n\\n↑ Мейсон, 2015, с. 162.\\n\\n↑ Povey, 2008, pp.\\xa0128–140.\\n\\n↑ Шэффнер, 1998, с. 185—186.\\n\\n↑ Povey, 2008, p.\\xa0122.\\n\\n↑ Харрис, 2014, p.\\xa073: «пару бутылок вина или один-два косяка»; Мейсон, 2015, p.\\xa0163: Не имея новых песен, они экспериментировали.\\n\\n↑ Харрис, 2014, с. 74.\\n\\n↑ Мейсон, 2015, с. 158—159.\\n\\n↑ Povey, 2008, pp.\\xa0142–144.\\n\\n↑ Povey, 2008, pp.\\xa0155: гастроли по США в ноябре; 174: Pink Floyd: Live at Pompeii.\\n\\n↑ Povey, 2008, p.\\xa0150.\\n\\n↑ 1 2 Шэффнер, 1998, с. 189.\\n\\n↑ Costa J.-C. Pink Floyd: Meddle\\xa0(англ.). Rolling Stone (6\\xa0January 1972). Архивировано 4\\xa0января 2008\\xa0года.\\n\\n↑ Шэффнер, 1998, с. 192.\\n\\n↑ Харрис, 2014, с. 77.\\n\\n↑ Watts, 1996, pp.\\xa056–57.\\n\\n↑ Easlea D. Review of Pink Floyd\\xa0– Meddle\\xa0(англ.).  BBC Music. Архивировано 16\\xa0августа 2012\\xa0года.\\n\\n↑ Шэффнер, 1998, с. 196.\\n\\n↑ Шэффнер, 1998, с. 158.\\n\\n↑ Харрис, 2014, pp.\\xa0106–107: Период записи Dark Side; Харрис, 2014, p.\\xa0107, Мейсон, 2015, p.\\xa0181: Алан Парсонс\\xa0— звукоинженер Dark Side; Шэффнер, 1998, p.\\xa0196: «Заглавие,\\xa0— как пояснил Гилмор,\\xa0— это не влияние астрономии, а аллюзия сумасшествия»; Харрис, 2014, p.\\xa094: «Наши поклонники до сих пор заводят разговоры о космосе. Что за бред?,\\xa0— восклицает Уотерс,\\xa0— Не было там ничего космического. […] При чём тут вообще космос? Разве что внутренний. Сочиняя слова для альбома, я взял на себя огромный риск впасть в банальность и приложил сознательное усилие, чтобы выразить свои идеи как можно проще, без затей…».\\n\\n↑ Povey, 2008, pp.\\xa0164–173.\\n\\n↑ Харрис, 2014, с. 142–143.\\n\\n↑ 1 2 Мейсон, 2015, с. 188.\\n\\n↑ Харрис, 2014, с. 159.\\n\\n↑ Харрис, 2014, с. 143.\\n\\n↑ Харрис, 2014, с. 11–13, 81—82, 87—88, 94.\\n\\n↑ Шэффнер, 1998, с. 197—198.\\n\\n↑ Харрис, 2014, с. 112.\\n\\n↑ 1 2 3 Povey, 2008, p.\\xa0160.\\n\\n↑ Hollingworth R. Historical info\\xa0– 1973 review, Melody Maker\\xa0(англ.).  Pinkfloyd.com (1973). Архивировано 15\\xa0мая 2011\\xa0года.\\n\\n↑ Шэффнер, 1998, с. 199, 204—205.\\n\\n↑ Welch C. Roy Hollingworth\\xa0(англ.).  The Independent (22\\xa0March 2002). Архивировано 27\\xa0октября 2018\\xa0года.\\n\\n↑ Sharp J. Mind the Bollocks: A riotous rant through the ridiculousness of Rock\\'n\\'Roll.\\xa0— London: Anova Books, 2012.\\xa0— 300\\xa0p.\\xa0— ISBN 9781907554896.\\n\\n↑ Grossman L. Dark Side of the Moon Review\\xa0(англ.).  Rolling Stone (24\\xa0May 1973). Архивировано 18\\xa0июня 2008\\xa0года.\\n\\n↑ 1 2 Шэффнер, 1998, с. 204.\\n\\n↑ Шэффнер, 1998, с. 205.\\n\\n↑ Шэффнер, 1998, с. 205—206.\\n\\n↑ Шэффнер, 1998, с. 206—207.\\n\\n↑ Статистика чарта Billboard см.: Titus C., Waddell R. Floyd\\'s \\'Dark Side\\' Celebrates Chart Milestone\\xa0(англ.).  Billboard (2005). Архивировано 30\\xa0марта 2013\\xa0года.; продажи альбома: Smirke R. Pink Floyd, \\'The Dark Side of the Moon\\' At 40: Classic Track-By-Track Review\\xa0(англ.). Billboard (16\\xa0March 2013). Архивировано 6\\xa0июля 2016\\xa0года.; Povey, 2008, p.\\xa0345: Первое место в чарте США.\\n\\n↑ 50 Best Selling Studio Albums\\xa0(англ.).  Thisdayinmusic.com. Архивировано 3\\xa0марта 2020\\xa0года.\\n\\n↑ Travis C., Lynch J. The 50 best-selling albums of all time\\xa0(англ.).  Business Insider (23\\xa0April 2019). Архивировано 3\\xa0сентября 2019\\xa0года.\\n\\n↑ Харрис, 2014, с. 174—175.\\n\\n↑ 1 2 Consumer Price Index, 1800-\\xa0(англ.).  Federal Reserve Bank of Minneapolis. Архивировано 23\\xa0января 2020\\xa0года.\\n\\n↑ Шэффнер, 1998, с. 212—213.\\n\\n↑ Мейсон, 2015, с. 196.\\n\\n↑ 1 2 Маббетт, 1997, с. 89.\\n\\n↑ Povey, 2008, p.\\xa0184.\\n\\n↑ Мейсон, 2015, с. 188: Парсонс отклонил предложение продолжить работу с Pink Floyd, 214: группа Pink Floyd наняла Хамфриса.\\n\\n↑ 1 2 Шэффнер, 1998, с. 226.\\n\\n↑ 1 2 Маббетт, 1997, с. 87.\\n\\n↑ Шэффнер, 1998, с. 225—226.\\n\\n↑ 1 2 3 Шэффнер, 1998, с. 225.\\n\\n↑ 1 2 Шэффнер, 1998, с. 226—227.\\n\\n↑ Watkinson, Anderson, 2001, p.\\xa0120.\\n\\n↑ 1 2 Шэффнер, 1998, с. 231.\\n\\n↑ Шэффнер, 1998, с. 231—232.\\n\\n↑ Manning, 2006, p.\\xa073.\\n\\n↑ Blake, 2008, p.\\xa0231.\\n\\n↑ Шэффнер, 1998, с. 234.\\n\\n↑ 1 2 Povey, 2008, p.\\xa0346.\\n\\n↑ Шэффнер, 1998, с. 235.\\n\\n↑ Schaffner, 1991, p.\\xa0193.\\n\\n↑ Edmunds B. Pink Floyd\\xa0— Wish You Were Here\\xa0(англ.).  Rolling Stone (6\\xa0November 1975). Дата обращения: 17 марта 2020. Архивировано 23\\xa0апреля 2019\\xa0года.\\n\\n↑ Christgau R. Pink Floyd\\xa0— Wish You Were Here\\xa0(англ.).  Robertchristgau.com (1975). Архивировано 29\\xa0января 2011\\xa0года.\\n\\n↑ Povey, 2007, p.\\xa0197.\\n\\n↑ Кан А. Лондонская рок-топография: \"святые места\" религии рок-н-ролла\\xa0(неопр.).  BBC (18\\xa0мая 2017). Архивировано 24\\xa0марта 2019\\xa0года.\\n\\n↑ Мейсон, 2015, с. 225.\\n\\n↑ Blake, 2008, p.\\xa0236.\\n\\n↑ Povey, 2008, p.\\xa0200.\\n\\n↑ Мейсон, 2015, с. 229—234.\\n\\n↑ 1 2 3 Шэффнер, 1998, с. 241.\\n\\n↑ Blake, 2008, pp.\\xa0241–242.\\n\\n↑ Мейсон, 2015, с. 230.\\n\\n↑ Blake, 2008, pp.\\xa0242–245.\\n\\n↑ Blake, 2008, p.\\xa0242.\\n\\n↑ 1 2 Blake, 2008, pp.\\xa0242–243.\\n\\n↑ Харрис, 2014, с. 181.\\n\\n↑ Povey, 2008, p.\\xa0347.\\n\\n↑ Мейсон, 2015, с. 237.\\n\\n↑ Шэффнер, 1998, с. 247.\\n\\n↑ Мейсон, 2015, с. 238—239, 241.\\n\\n↑ Blake, 2008, pp.\\xa0252–253.\\n\\n↑ Мейсон, 2015, с. 241.\\n\\n↑ Мейсон, 2015, с. 235–236.\\n\\n↑ Мейсон, 2015, с. 247.\\n\\n↑ Povey, 2008, p.\\xa0207.\\n\\n↑ Мейсон, 2015, с. 242.\\n\\n↑ Князев С. За «Стеной» — Фильму “Pink Floyd. The Wall” исполняется 35 лет\\xa0(неопр.).  Союз. Архивировано 26\\xa0марта 2020\\xa0года.\\n\\n↑ Шэффнер, 1998, с. 255, 281—282.\\n\\n↑ 1 2 Шэффнер, 1998, с. 251—253.\\n\\n↑ Мейсон, 2015, с. 252—253.\\n\\n↑ Blake, 2008, pp.\\xa0258–259.\\n\\n↑ 1 2 3 Шэффнер, 1998, с. 259.\\n\\n↑ Blake, 2008, p.\\xa0260.\\n\\n↑ Шэффнер, 1998, с. 258.\\n\\n↑ Маббетт, 1997, с. 104—105.\\n\\n↑ Мейсон, 2015, с. 249.\\n\\n↑ Мейсон, 2015, с. 253—255.\\n\\n↑ Blake, 2008, pp.\\xa0260–261.\\n\\n↑ Simmons, 1999, pp.\\xa076–95.\\n\\n↑ Шэффнер, 1998, с. 265–267.\\n\\n↑ Simmons, 1999, pp.\\xa086–88.\\n\\n↑ Шэффнер, 1998, с. 266.\\n\\n↑ Мейсон, 2015, с. 258.\\n\\n↑ Мейсон, 2015, с. 261—262.\\n\\n↑ Simmons, 1999, p.\\xa088.\\n\\n↑ Bronson, 1992, p.\\xa0523: Высшая позиция сингла в американском чарте; Roberts, 2005, p.\\xa0391: Высшая позиция сингла в британском чарте.\\n\\n↑ Roberts, 2005, p.\\xa0391: Высшая позиция альбома The Wall в британском чарте; Rosen, 1996, p.\\xa0246: Высшая позиция альбома The Wall в американском чарте.\\n\\n↑ Gold & Platinum\\xa0(англ.).  Recording Industry Association of America. Архивировано 20\\xa0марта 2020\\xa0года.\\n\\n↑ Scarfe, 2010, pp.\\xa091–115.\\n\\n↑ Blake, 2008, pp.\\xa0285–286: Райт участвовал в гастролях в качестве отдельно оплачиваемого музыканта.\\n\\n↑ Blake, 2008, pp.\\xa0285–286.\\n\\n↑ Blake, 2008, p.\\xa0289.\\n\\n↑ Blake, 2008, pp.\\xa0288–292.\\n\\n↑ Шэффнер, 1998, с. 281.\\n\\n↑ Povey, 2008, p.\\xa0229.\\n\\n↑ 1 2 3 Шэффнер, 1998, с. 289.\\n\\n↑ Blake, 2008, pp.\\xa0294–295.\\n\\n↑ 1 2 Blake, 2008, pp.\\xa0296–298.\\n\\n↑ Шэффнер, 1998, с. 292.\\n\\n↑ Мейсон, 2015, с. 278—279.\\n\\n↑ Blake, 2008, pp.\\xa0294–300.\\n\\n↑ Мейсон, 2015, с. 285.\\n\\n↑ Шэффнер, 1998, с. 290.\\n\\n↑ Маббетт, 1997, с. 127.\\n\\n↑ Шэффнер, 1998, с. 294.\\n\\n↑ Шэффнер, 1998, с. 291—292.\\n\\n↑ 1 2 Blake, 2008, p.\\xa0299. Ошибка в сносках?: Неверный тег <ref>: название «_d63a2f201cb4ff44» определено несколько раз для различного содержимого\\n\\n↑ Маббетт, 1997, с. 123.\\n\\n↑ 1 2 Blake, 2008, p.\\xa0300.\\n\\n↑ 1 2 Blake, 2008, p.\\xa0294.\\n\\n↑ Мейсон, 2015, pp.\\xa0276, 283—284.\\n\\n↑ 1 2 Blake, 2008, p.\\xa0295.\\n\\n↑ Мейсон, 2015, с. 276.\\n\\n↑ 1 2 Шэффнер, 1998, с. 295.\\n\\n↑ Loder K. Pink Floyd\\xa0– The Final Cut\\xa0(англ.). Rolling Stone (14\\xa0April 1983). Архивировано 22\\xa0июня 2008\\xa0года.\\n\\n↑ Шэффнер, 1998, с. 327.\\n\\n↑ Blake, 2008, pp.\\xa0302—309.\\n\\n↑ 1 2 Blake, 2008, pp.\\xa0309—311.\\n\\n↑ Шэффнер, 1998, с. 310.\\n\\n↑ 1 2 Blake, 2008, pp.\\xa0311—313.\\n\\n↑ Шэффнер, 1998, с. 312.\\n\\n↑ 1 2 Шэффнер, 1998, с. 315.\\n\\n↑ Мейсон, 2015, с. 290.\\n\\n↑ Шэффнер, 1998, с. 316—319.\\n\\n↑ Blake, 2008, pp.\\xa0311—313: Участие О’Рурка в урегулировании конфликта; Povey, 2008, p.\\xa0240: «выдохшаяся творческая единица».\\n\\n↑ Шэффнер, 1998, с. 325—326.\\n\\n↑ 1 2 Шэффнер, 1998, с. 325.\\n\\n↑ Харрис, 2014, с. 180.\\n\\n↑ Шэффнер, 1998, с. 326.\\n\\n↑ Шэффнер, 1998, с. 321—322.\\n\\n↑ Шэффнер, 1998, с. 320—323.\\n\\n↑ 1 2 Мейсон, 2015, с. 300.\\n\\n↑ Шэффнер, 1998, с. 316.\\n\\n↑ Blake, 2008, pp.\\xa0316–317.\\n\\n↑ Шэффнер, 1998, с. 324.\\n\\n↑ Manning, 2006, p.\\xa0134.\\n\\n↑ Blake, 2008, p.\\xa0318.\\n\\n↑ Мейсон, 2015, с. 295—296.\\n\\n↑ Мейсон, 2015, с. 296.\\n\\n↑ Шэффнер, 1998, с. 323–324.\\n\\n↑ Мейсон, 2015, с. 298—299.\\n\\n↑ Blake, 2008, p.\\xa0321.\\n\\n↑ Мейсон, 2015, с. 299.\\n\\n↑ Blake, 2008, p.\\xa0320.\\n\\n↑ Шэффнер, 1998, с. 328.\\n\\n↑ Blake, 2008, p.\\xa0366.\\n\\n↑ Blake, 2008, p.\\xa0166.\\n\\n↑ Povey, 2008, p.\\xa0349.\\n\\n↑ Blake, 2008, p.\\xa0328.\\n\\n↑ Blake, 2008, p.\\xa0327.\\n\\n↑ Blake, 2008, pp.\\xa0326–327.\\n\\n↑ Шэффнер, 1998, с. 329.\\n\\n↑ Blake, 2008, p.\\xa0322.\\n\\n↑ 1 2 Маббетт, 1997, с. 140.\\n\\n↑ Шэффнер, 1998, с. 333.\\n\\n↑ Blake, 2008, pp.\\xa0329–335.\\n\\n↑ 1 2 3 Байков А. Моментальное помутнение рассудка: первый концерт Pink Floyd в Москве\\xa0(неопр.).  Москва 24 (18\\xa0сентября 2013). Архивировано 21\\xa0февраля 2020\\xa0года.\\n\\n↑ 1 2 3 4 5 Князев С. Приключения Pink Floyd в СССР\\xa0(неопр.).  СамКульт (2\\xa0мая 2015). Архивировано 21\\xa0февраля 2020\\xa0года.\\n\\n↑ 1 2 Кузищев М. 10 исторических рок-гастролей в СССР\\xa0(неопр.).  Союз (28\\xa0сентября 2016). Архивировано 21\\xa0февраля 2020\\xa0года.\\n\\n↑ Наринская А. Знаешь, я раньше слушал их на кассетах, но не был уверен, что они существуют\\xa0(неопр.).  Коммерсантъ (30\\xa0мая 2014). Архивировано 21\\xa0февраля 2020\\xa0года.\\n\\n↑ Средние зарплаты в России и СССР с 1897 по 2010 годы\\xa0(неопр.).  Аналитический Клуб — информационный анализ и управление (12\\xa0ноября 2010). Архивировано 25\\xa0сентября 2019\\xa0года.\\n\\n↑ Blake, 2008, p.\\xa0352.\\n\\n↑ Мейсон, 2015, с. 324.\\n\\n↑ Мейсон, 2015, с. 325—332.\\n\\n↑ Маббетт, 1997, с. 165.\\n\\n↑ 1 2 Blake, 2008, p.\\xa0355.\\n\\n↑ Blake, 2008, p.\\xa0356.\\n\\n↑ Blake, 2008, pp.\\xa0356–357.\\n\\n↑ Мейсон, 2015, с. 325—333.\\n\\n↑ 1 2 Мейсон, 2015, с. 333.\\n\\n↑ Povey, 2008, p.\\xa0345.\\n\\n↑ Povey, 2008, p.\\xa0270.\\n\\n↑ Мейсон, 2015, с. 340, 345.\\n\\n↑ 1 2 Blake, 2008, p.\\xa0367.\\n\\n↑ Blake, 2008, pp.\\xa0363–367.\\n\\n↑ Povey, 2008, pp.\\xa0264, 285, 351–352: Pulse.\\n\\n↑ Мейсон, 2015, с. 354, 358—359.\\n\\n↑ Povey, 2008, p.\\xa0237.\\n\\n↑ Мейсон, 2015, с. 352.\\n\\n↑ 1 2 Мейсон, 2015, с. 355.\\n\\n↑ Blake, 2008, pp.\\xa0380–384.\\n\\n↑ Мейсон, 2015, с. 356–359.\\n\\n↑ Povey, 2008, p.\\xa0287.\\n\\n↑ 1 2 Blake, 2008, p.\\xa0386.\\n\\n↑ Blake, 2008, p.\\xa0395.\\n\\n↑ Gilmour says no Pink Floyd reunion\\xa0(англ.).  NBC News (10\\xa0September 2008). Архивировано 1\\xa0мая 2013\\xa0года.\\n\\n↑ 1 2 Castaldo Gruit. Il requiem di David Gilmour \"I Pink Floyd? Sono finiti\"\\xa0(итал.). La Repubblica (3\\xa0febbraio 2006). Архивировано 22\\xa0мая 2011\\xa0года.\\n\\n↑ Blake, 2008, pp.\\xa0387—389.\\n\\n↑ Kielty M. Pink Floyd was over in 1985 says Waters\\xa0(англ.).  Classic Rock Magazine (7\\xa0January 2013). Архивировано 3\\xa0декабря 2013\\xa0года.\\n\\n↑ Pink Floyd star: Reunion unlikely\\xa0(англ.).  Toronto Sunruen (28\\xa0September 2011). Архивировано 3\\xa0декабря 2013\\xa0года.\\n\\n↑ Pink Floyd’s tribute to Syd Barrett\\xa0(англ.).  NME (12\\xa0July 2006). Архивировано 16\\xa0июля 2006\\xa0года.\\n\\n↑ 1 2 Pareles Jruen. Syd Barrett, a Founder of Pink Floyd And Psychedelic Rock Pioneer, Dies at 60\\xa0(англ.).  The New York Times (12\\xa0July 2006). Архивировано 5\\xa0марта 2012\\xa0года.\\n\\n↑ Blake, 2008, pp.\\xa0390–391.\\n\\n↑ Youngs I. Floyd play at Barrett tribute gig\\xa0(англ.).  BBC News (11\\xa0May 2007). Архивировано 11\\xa0августа 2013\\xa0года.\\n\\n↑ Booth R. Pink Floyd’s Richard Wright dies\\xa0(англ.).  The Guardian (15\\xa0September 2008). Архивировано 17\\xa0октября 2013\\xa0года.\\n\\n↑ Floyd Founder Wright dies at 65\\xa0(англ.).  BBC News (15\\xa0September 2008). Архивировано 1\\xa0августа 2012\\xa0года.\\n\\n↑ David Gilmour Performs Pink Floyd’s \"Remember a Day\" in Tribute to Rick Wright\\xa0(англ.) (Video).  Guitar World (15\\xa0September 2015). Архивировано 16\\xa0августа 2016\\xa0года.\\n\\n↑ Official Keith Emerson Website – Richard Wright Tribute by Keith Emerson\\xa0(англ.). Keithemerson.com. Архивировано 9\\xa0октября 2016\\xa0года.\\n\\n↑ Wilkinson M. Pink Floyd’s Roger Waters and David Gilmour reunite for charity gig: Duo play together for Hoping Foundation\\xa0(англ.).  NME (11\\xa0July 2010). Архивировано 5\\xa0августа 2012\\xa0года.\\n\\n↑ Barth C. Roger Waters Reunites With David Gilmour for \\'Wall\\' Tour\\xa0(англ.).  Rolling Stone (15\\xa0July 2010). Архивировано 19\\xa0декабря 2010\\xa0года.\\n\\n↑ 1 2 Pink Floyd end EMI legal dispute\\xa0(англ.).  BBC News (4\\xa0January 2011). Архивировано 5\\xa0января 2011\\xa0года.\\n\\n↑ Why Pink Floyd?, Pink Floyd & EMI 2011 remastered campaign\\xa0(англ.).  Whypinkfloyd.com (2011). Архивировано 22\\xa0мая 2011\\xa0года.\\n\\n↑ Kreps D. Pink Floyd Release Rare \\'1965: Their First Recordings\\' EP\\xa0(англ.).  Rolling Stone (2\\xa0December 2015). Архивировано 5\\xa0декабря 2015\\xa0года.\\n\\n↑ Rosen C. Pink Floyd Returns With First New Song From Final Album The Endless River\\xa0(англ.).  Yahoo! Music (9\\xa0October 2014). Архивировано 19\\xa0февраля 2020\\xa0года.\\n\\n↑ Maloney D. New Pink Floyd Album \\'The Endless River\\' Out in October\\xa0(англ.).  Billboard (5\\xa0July 2014). Архивировано 8\\xa0июля 2014\\xa0года.\\n\\n↑ Roberts R. Pink Floyd offers release date, cover art for album \\'The Endless River\\'\\xa0(англ.).  Los Angeles Times (22\\xa0September 2014). Архивировано 22\\xa0сентября 2014\\xa0года.\\n\\n↑ The Endless River: Amazon.co.uk: Music\\xa0(англ.). Amazon.co.uk. Архивировано 7\\xa0июня 2019\\xa0года.\\n\\n↑ Reviews for The Endless River by Pink Floyd\\xa0(англ.). Metacritic. Архивировано 8\\xa0ноября 2014\\xa0года.\\n\\n↑ Kharpal A. Pink Floyd album becomes most pre-ordered on Amazon\\xa0(англ.). CNBC (10\\xa0November 2014). Архивировано 29\\xa0ноября 2014\\xa0года.\\n\\n↑ Moss L. Pink Floyd score first Number 1 album in nearly 20 years!\\xa0(англ.).  The Official Charts Company (16\\xa0November 2014). Архивировано 20\\xa0ноября 2014\\xa0года.\\n\\n↑ Official Charts analysis: Wake Me Up returns to singles summit as Children In Need charity track\\xa0(англ.). Localuknews.co.uk (17\\xa0November 2014). Архивировано 25\\xa0декабря 2014\\xa0года.\\n\\n↑ Lee D. Vinyl record sales hit 18-year high\\xa0(англ.).  BBC News (27\\xa0November 2014). Архивировано 27\\xa0ноября 2014\\xa0года.\\n\\n↑ Everitt Mruen. With a Pink Floyd Exclusive, Pink Floyd Talk to 6 Music\\'s Matt Everitt\\xa0(англ.) (Video).  Shaun Keavenyruen. BBC Radio 6 Music (9\\xa0October 2014). Архивировано 11\\xa0ноября 2014\\xa0года.\\n\\n↑ Greene A. David Gilmour: There’s No Room in My Life for Pink Floyd\\xa0(англ.).  Rolling Stone (29\\xa0October 2014). Архивировано 8\\xa0ноября 2014\\xa0года.\\n\\n↑ David Gilmour’s New Album \"Coming Along Very Well...\" in 2015\\xa0(англ.). Neptune Pink Floyd (29\\xa0October 2014). Архивировано 9\\xa0ноября 2014\\xa0года.\\n\\n↑ Grow K. Pink Floyd Detail Massive 27-Disc \\'Early Years\\' Box Set\\xa0(англ.).  Rolling Stone (28\\xa0July 2016). Архивировано 11\\xa0сентября 2017\\xa0года.\\n\\n↑ Kreps D. Pink Floyd Ready Massive ‘The Later Years’ Box Set\\xa0(англ.).  Rolling Stone (29\\xa0August 2019). Архивировано 30\\xa0декабря 2019\\xa0года.\\n\\n↑ Mazza E. Pink Floyd Co-Founder Forms New Act To Play The Band’s Earliest Songs Live\\xa0(англ.). HuffPost UK (28\\xa0May 2018). Архивировано 12\\xa0июня 2018\\xa0года.\\n\\n↑ Kielty M. Nick Mason\\'s Pink Floyd Supergroup Announces Debut Tour\\xa0(англ.). Ultimate Classic Rock (25\\xa0May 2018). Архивировано 29\\xa0мая 2018\\xa0года.\\n\\n↑ Greene A. Pink Floyd’s Nick Mason to Play Pre-\\'Dark Side of the Moon\\' Songs on U.S. Tour\\xa0(англ.).  Rolling Stone (31\\xa0October 2018). Архивировано 15\\xa0ноября 2019\\xa0года.\\n\\n↑ Grow K. See Roger Waters, Nick Mason Reunite to Play \\'Set the Controls for the Heart of the Sun\\'\\xa0(англ.).  Rolling Stone (19\\xa0April 2019). Архивировано 16\\xa0марта 2020\\xa0года.\\n\\n↑ Povey, 2008, p.\\xa086.\\n\\n↑ Relics // Rampartsruen.\\xa0— San Francisco: Noah’s Ark, Incorporated, 1971.\\xa0— P.\\xa065—66.\\n\\n↑ Santelli R. Sixties rock, a listener’s guide.\\xa0— Contemporary Books, 1985.\\xa0— P.\\xa0264.\\xa0— 304\\xa0p.\\xa0— ISBN 978-0-8092-5439-2.\\n\\n↑ Chapman, 2012, p.\\xa0113.\\n\\n↑ De Rogatis, 2006, p.\\xa0xvi.\\n\\n↑ The Hutchinson Softback Encyclopedia.\\xa0— 2nd Revised edition.\\xa0— Helicon, 1993.\\xa0— P.\\xa0653.\\xa0— 912\\xa0p.\\xa0— ISBN 978-0091776473.\\n\\n↑ O’Neill Surber, 2007, pp.\\xa0192–199.\\n\\n↑ Palacios, 2010.\\n\\n↑ Povey, Russell, 1997, p.\\xa097.\\n\\n↑ Fitch, 2001, p.\\xa045.\\n\\n↑ Hibbert, 1996, p.\\xa0147.\\n\\n↑ Mason S. Pink Floyd. Atom Heart Mother: Father’s Shout / Breast Milky / Mother Fore / Funky Dung / Mind Your Throats Please / Remergence. Song Review\\xa0(англ.).  Allmusic.com. Архивировано 15\\xa0января 2020\\xa0года.\\n\\n↑ Маббетт, 1997, с. 70.\\n\\n↑ Маббетт, 1997, с. 69.\\n\\n↑ Kellman A. Pink Floyd. Relics. Review\\xa0(англ.).  Allmusic.com. Архивировано 20\\xa0августа 2019\\xa0года.\\n\\n↑ Mason S. Pink Floyd. Free Four\\xa0(англ.).  Allmusic.com. Архивировано 7\\xa0июля 2019\\xa0года.\\n\\n↑ Маббетт, 1997, с. 38.\\n\\n↑ Шэффнер, 1998, с. 191.\\n\\n↑ George-Warren, 2001, pp.\\xa0760–761.\\n\\n↑ 1 2 di Perna, 2006, p.\\xa059.\\n\\n↑ Fender Custom Shop. David Gilmour Black Strat\\xa0— Пройдя все круги ада\\xa0// GuitarZ Magazine.\\xa0— 2011.\\xa0— № 11.\\xa0— С. 72—79.\\n\\n↑ David Gilmour и его гитары\\xa0(неопр.).  Jimi.ru. Архивировано 23\\xa0февраля 2020\\xa0года.\\n\\n↑ Duffy M. Iconic Mods: Why David Gilmour’s Famous Black Strat Is so Special\\xa0(англ.).  Fender.com. Архивировано 23\\xa0февраля 2020\\xa0года.\\n\\n↑ Шэффнер, 1998, с. 223.\\n\\n↑ Шэффнер, 1998, с. 154.\\n\\n↑ Шэффнер, 1998, с. 198.\\n\\n↑ 100 Greatest Guitarists of All Time: David Gilmour\\xa0(англ.).  Rolling Stone (18\\xa0December 2015). Архивировано 29\\xa0января 2013\\xa0года.\\n\\n↑ di Perna, 2006, pp.\\xa058—59.\\n\\n↑ 1 2 3 Brown, 2006, p.\\xa062.\\n\\n↑ Brown, 2006, p.\\xa066.\\n\\n↑ 1 2 Evenements. Pink Floyd Interstellar 2004 (Paris, Cité de La Musique)\\xa0(фр.).  Zdar.net (8\\xa0mai 2004). Архивировано 11\\xa0июля 2015\\xa0года.\\n\\n↑ Blake, 2008, p.\\xa086.\\n\\n↑ Blake, 2008, p.\\xa0134.\\n\\n↑ Шэффнер, 1998, с. 86.\\n\\n↑ Blake, 2008, p.\\xa0178.\\n\\n↑ Шэффнер, 1998, с. 157—158.\\n\\n↑ Маббетт, 1997, с. 47—49.\\n\\n↑ Маббетт, 1997, с. 47.\\n\\n↑ Шэффнер, 1998, с. 174.\\n\\n↑ Мейсон, 2009, с. 120, 225—226.\\n\\n↑ Мейсон, 2009, с. 252—253.\\n\\n↑ Шэффнер, 1998, с. 214—215.\\n\\n↑ Мейсон, 2009, с. 225.\\n\\n↑ Fitch, 2005, p.\\xa0324.\\n\\n↑ Fitch, Mahon, 2006, p.\\xa071.\\n\\n↑ Маббетт, 1997, с. 63.\\n\\n↑ Blake, 2008, pp.\\xa0297—298.\\n\\n↑ Шэффнер, 1998, с. 293.\\n\\n↑ Шэффнер, 1998, с. 165.\\n\\n↑ Мейсон, 2015, с. 142—143.\\n\\n↑ Полуяхтов, Галин, 2003, с. 196.\\n\\n↑ Шэффнер, 1998, с. 158, 165—166.\\n\\n↑ Шэффнер, 1998, с. 168.\\n\\n↑ Шэффнер, 1998, с. 192—193.\\n\\n↑ Stanley, Rick. A Waters-less Pink Floyd, Resetting Rock Show Standarts\\xa0(англ.).  buffalonews.com (3 июля 1994). Дата обращения: 27 июля 2020. Архивировано 27 июля 2020.\\n\\n↑ Cunningham, Mark. ‘Welcome to the Machine’ The Story of Pink Floyd’s Live Sound\\xa0(англ.).  soundgirls.org. Дата обращения: 27 июля 2020. Архивировано 1 октября 2019.\\n\\n↑ Маббетт, 1997, с. 6.\\n\\n↑ Calore M. 12 May 1967: Pink Floyd Astounds With \"Sound in the Round\"\\xa0(англ.).  Wired (12\\xa0May 2009). Архивировано 25\\xa0августа 2011\\xa0года.\\n\\n↑ Мейсон, 2009, с. 72—73.\\n\\n↑ 1 2 Шэффнер, 1998, с. 161.\\n\\n↑ Мейсон, 2009, с. 63—65.\\n\\n↑ Шэффнер, 1998, с. 59—62.\\n\\n↑ Early Memories Part 4 The 14 Hour Technicolour Dream\\xa0(англ.).  Pink Floyd — A Fleeting Glimpse. Архивировано 24\\xa0апреля 2015\\xa0года.\\n\\n↑ Мейсон, 2009, с. 105—106.\\n\\n↑ Шэффнер, 1998, с. 82—85.\\n\\n↑ Мейсон, 2009, с. 166—167.\\n\\n↑ Шэффнер, 1998, с. 162—163.\\n\\n↑ Povey, 2007, с. 175—178.\\n\\n↑ Шэффнер, 1998, с. 206.\\n\\n↑ Мейсон, 2009, с. 241—242.\\n\\n↑ Povey, 2007, p.\\xa0161.\\n\\n↑ Мейсон, 2009, с. 245.\\n\\n↑ Шэффнер, 1998, с. 245—246.\\n\\n↑ Blake, 2008, pp.\\xa0280—282.\\n\\n↑ Blake, 2008, pp.\\xa0284—285.\\n\\n↑ Маббетт, 1997, с. 116—117.\\n\\n↑ Маббетт, 1997, с. 104.\\n\\n↑ Moreton C. Backstage with Roger Waters as he prepares for The Wall spectacular $60 million live show\\xa0(англ.), Daily Mail\\xa0(7\\xa0November 2010). Архивировано 24\\xa0июля 2019\\xa0года.\\n\\n↑ Шэффнер, 1998, с. 332.\\n\\n↑ Povey, 2007, с. 246.\\n\\n↑ Мейсон, 2009, с. 379.\\n\\n↑ Маббетт, 1997, с. 142—148.\\n\\n↑ Полуяхтов, Галин, 2003, с. 283—287.\\n\\n↑ Deal D. “The Dark Side of the Moon”: How an Album Cover Became an Icon\\xa0(англ.).  Medium (27\\xa0November 2017). Архивировано 11\\xa0мая 2020\\xa0года.\\n\\n↑ Fitch, 2005, p.\\xa0311.\\n\\n↑ Blake, 2008, p.\\xa0279.\\n\\n↑ Шэффнер, 1998, с. 290—292.\\n\\n↑ Маббетт, 1997, с. 18, 103, 123.\\n\\n↑ Roberts J. Hipgnotic Suggestion\\xa0(англ.).  Friezeruen (iss. 37) (1\\xa0November 1997). Архивировано 3\\xa0ноября 2013\\xa0года.\\n\\n↑ Шэффнер, 1998, с. 159—160.\\n\\n↑ Шэффнер, 1998, с. 175, 179—180, 191.\\n\\n↑ Маббетт, 1997, с. 54—55, 62.\\n\\n↑ Харрис, 2014, с. 155–156.\\n\\n↑ 1 2 Weinstein, 2007, p.\\xa086.\\n\\n↑ Маббетт, 1997, с. 76.\\n\\n↑ Robinson  M. The 50 greatest album covers of all time\\xa0(англ.).  MusicRadar (15\\xa0May 2011). Архивировано 25\\xa0декабря 2019\\xa0года.\\n\\n↑ The 50 Greatest Album Covers of All Time\\xa0(англ.).  Billboard (8\\xa0May 2020). Архивировано 30\\xa0мая 2020\\xa0года.\\n\\n↑ 1 2 Blake, 2008, pp.\\xa0357—358.\\n\\n↑ Шэффнер, 1998, с. 232—234.\\n\\n↑ Шэффнер, 1998, с. 240.\\n\\n↑ Blake, 2008, pp.\\xa0245—246.\\n\\n↑ Мейсон, 2015, с. 234.\\n\\n↑ Шэффнер, 1998, с. 245.\\n\\n↑ Blake, 2008, p.\\xa0246.\\n\\n↑ Мейсон, 2015, с. 235—236.\\n\\n↑ Маббетт, 1997, с. 94—95.\\n\\n↑ Маббетт, 1997, с. 133.\\n\\n↑ Шэффнер, 1998, с. 322, 328—329.\\n\\n↑ Пинк Флойд (Pink Floyd). История и смысл главных хитов группы\\xa0(неопр.).  Fuzz (19\\xa0января 2020). Архивировано 16\\xa0июня 2020\\xa0года.\\n\\n↑ Kick against the bricks\\xa0(англ.).  The Sydney Morning Herald (30\\xa0December 2004). Архивировано 16\\xa0июня 2020\\xa0года.\\n\\n↑ Pink Floyd — «Another Brick in the Wall» (1979)\\xa0(неопр.).  Fuzz (25\\xa0ноября 2019). Архивировано 16\\xa0июня 2020\\xa0года.\\n\\n↑ Scarfe G. The dark side of The Wall\\xa0(англ.).  The Independent (29\\xa0November 2004). Архивировано 16\\xa0июня 2020\\xa0года.\\n\\n↑ Шэффнер, 1998, с. 155—156.\\n\\n↑ Review Article. Pink Floyd. The Piper At The Gates Of Dawn. Classic ’60s British spook-rock reissued\\xa0(англ.).  New Musical Express (4\\xa0September 2007). Архивировано 6\\xa0июня 2016\\xa0года.\\n\\n↑ Шэффнер, 1998, с. 90.\\n\\n↑ Полуяхтов, Галин, 2003, с. 22, 51, 202.\\n\\n↑ Шэффнер, 1998, с. 155—156, 181.\\n\\n↑ Маббетт, 1997, с. 37, 70.\\n\\n↑ Шэффнер, 1998, с. 181.\\n\\n↑ Полуяхтов, Галин, 2003, с. 22—25.\\n\\n↑ Шэффнер, 1998, с. 197.\\n\\n↑ Croskery, 2007, p.\\xa036.\\n\\n↑ Reisch, 2007, p.\\xa0268.\\n\\n↑ 1 2 O’Neill Surber, 2007, p.\\xa0192.\\n\\n↑ Weinstein, 2007, pp.\\xa081—82.\\n\\n↑ Pink Floyd, ‘Comfortably Numb’\\xa0(англ.).  Rolling Stone (7\\xa0April 2011). Архивировано 5\\xa0марта 2020\\xa0года.\\n\\n↑ 50 Greatest Guitar Solos\\xa0(англ.).  Guitar World (29\\xa0January 2009). Архивировано 5\\xa0марта 2020\\xa0года.\\n\\n↑ Detmer, 2007, p.\\xa075.\\n\\n↑ Fitch, 2005, p.\\xa0133.\\n\\n↑ Detmer, 2007, p.\\xa077.\\n\\n↑ 1 2 3 4 O’Neill Surber, 2007, p.\\xa0197.\\n\\n↑ Thorgerson S. The Work of Hipgnosis\\xa0– Walk Away Reneé\\xa0(англ.).\\xa0— A&W, 1978.\\xa0— P.\\xa0148.\\xa0— ISBN 978-0-89104-105-4.\\n\\n↑ Weinstein, 2007, p.\\xa090.\\n\\n↑ Полуяхтов, Галин, 2003, с. 160.\\n\\n↑ Шэффнер, 1998, с. 242.\\n\\n↑ Croskery, 2007, p.\\xa035.\\n\\n↑ Croskery, 2007, pp.\\xa035—36.\\n\\n↑ Croskery, 2007, pp.\\xa037—40.\\n\\n↑ Croskery, 2007, p.\\xa039.\\n\\n↑ Croskery, 2007, p.\\xa040.\\n\\n↑ Croskery, 2007, p.\\xa041.\\n\\n↑ Croskery, 2007, pp.\\xa041—42.\\n\\n↑ Харрис, 2014, с. 94.\\n\\n↑ 1 2 3 4 O’Neill Surber, 2007, p.\\xa0195.\\n\\n↑ O’Neill Surber, 2007, p.\\xa0196.\\n\\n↑ Detmer, 2007, p.\\xa073.\\n\\n↑ O’Neill Surber, 2007, pp.\\xa0195–196.\\n\\n↑ Blake, 2008, pp.\\xa0294–295, 351.\\n\\n↑ Харрис, 2014, с. 17.\\n\\n↑ Шэффнер, 1998, с. 291, 295.\\n\\n↑ Харрис, 2014, с. 162—163.\\n\\n↑ Харрис, 2014, с. 163.\\n\\n↑ Blake, 2008, pp.\\xa0194–195.\\n\\n↑ Weinstein, 2007, p.\\xa085.\\n\\n↑ Harris, 2005, p.\\xa081.\\n\\n↑ Reisch, 2007, p.\\xa0257.\\n\\n↑ Reisch, 2007, pp.\\xa0263–264.\\n\\n↑ Reisch, 2007, pp.\\xa0258–264.\\n\\n↑ Rock & Roll Hall of Fame: Pink Floyd biography\\xa0(англ.).  Rock and Roll Hall of Fame. Архивировано 9\\xa0июня 2013\\xa0года.\\n\\n↑ The Nielsen Company & Billboard’s 2012 Music Industry Report\\xa0(англ.).  Business Wireruen (4\\xa0January 2013). Архивировано 12\\xa0января 2013\\xa0года.\\n\\n↑ Beresford Fruen. Sunday Times Rich List 2013: Music Millionaires\\xa0(англ.).  The Sunday Times (13\\xa0April 2013). Архивировано 28\\xa0ноября 2013\\xa0года.\\n\\n↑ Barnes A. Q: Which is biggest band of all time? A: And readers say...\\xa0(англ.).  The Independent (2\\xa0October 2004). Архивировано 12\\xa0февраля 2018\\xa0года.\\n\\n↑ Olsen Eruen. The 10 best rock bands ever\\xa0(англ.).  NBC (30\\xa0March 2004). Архивировано 21\\xa0мая 2020\\xa0года.\\n\\n↑ Coyne Wruen. 100 Greatest Artists: 51) Pink Floyd\\xa0(англ.).  Rolling Stone (3\\xa0December 2010). Архивировано 9\\xa0июня 2013\\xa0года.\\n\\n↑ VH1 Greatest Artists Of All Time (2010)\\xa0(англ.).  Discogs.com (10\\xa0August 2010). Архивировано 4\\xa0мая 2020\\xa0года.\\n\\n↑ Ларкин К. All Time Top 1000 Albums: The World’s Most Authoritative Guide to the Perfect Record Collection.\\xa0— London: Virgin Booksruen, 1998.\\xa0— 336\\xa0p.\\xa0— ISBN 978-0-7535-0258-7.\\n\\n↑ Petridis Aruen. Pop & rock review: Genesis, The Beginning 1970—1975\\xa0(англ.).  The Guardian (7\\xa0November 2008). Архивировано 11\\xa0ноября 2019\\xa0года.\\n\\n↑ Povey, 2008, p.\\xa0348.\\n\\n↑ BAFTA: Awards Database\\xa0(неопр.).  BAFTA (1982). Дата обращения: 2 августа 2012. Архивировано 27\\xa0сентября 2013\\xa0года.\\n\\n↑ And the Winners Are\\xa0...\\xa0(2\\xa0марта 1995). Дата обращения 2 августа 2012.\\n\\n↑ Pink Floyd\\xa0(неопр.).  Polar Music Prize. Дата обращения: 3 января 2014.\\n\\n↑ Nordstrom, Louise Pink Floyd wins Polar Music Prize\\xa0(неопр.). USA Today (21\\xa0мая 2008). Дата обращения: 7 октября 2010. Архивировано 4\\xa0ноября 2012\\xa0года.\\n\\n↑ Povey, 2008, p.\\xa0286—287.\\n\\n↑ Pink Floyd\\xa0– 2010 Inductee\\xa0(неопр.).  Hit Parade Hall of Fame. Дата обращения: 2 августа 2012. Архивировано 12\\xa0ноября 2012\\xa0года.\\n\\n↑ David Bowie pays tribute to Syd Barrett\\xa0(неопр.). NME (11\\xa0июля 2006). Дата обращения: 13 октября 2009. Архивировано 9\\xa0июня 2013\\xa0года.\\n\\n↑ McCormick, Neil (editor). U2 by U2\\xa0(неопр.).\\xa0— HarperCollins, 2006.\\xa0— С.\\xa0102.\\xa0— ISBN 978-0-00-719668-5.\\n\\n↑ Sutcillfe, Phil. Queen: The Ultimate Illustrated History of the Crown Kings of Rock\\xa0(англ.).\\xa0— Voyageur Pressruen, 2009.\\xa0— P.\\xa017.\\xa0— ISBN 978-0-7603-3719-6.\\n\\n↑ The 50 Greatest Bands\\xa0(неопр.).\\xa0— Spin, 2002.\\xa0— С.\\xa078.\\n\\n↑ Manning, 2006, p.\\xa0289.\\n\\n↑ Queenan, Joe. Vorsprung durch Techno\\xa0(22\\xa0февраля 2008). Дата обращения 31 августа 2012.\\n\\n↑ Thore, Kim Steve Rothery Interview\\xa0(неопр.)\\xa0(недоступная ссылка).  All Access Magazine (27\\xa0августа 2009). Дата обращения: 24 марта 2014. Архивировано 16\\xa0июля 2014\\xa0года.\\n\\n↑ Kitts, Tolinski, 2002, p.\\xa0126.\\n\\n↑ Genesis honoured at Progressive Music awards, BBC\\xa0(6\\xa0сентября 2012). Дата обращения 30 декабря 2017.\\n\\n↑ Manning, 2006, p.\\xa0288.\\n\\n↑ Lambe, Stephen New Prog Rock festival hits Gloucester\\xa0(неопр.).  BBC. Дата обращения: 22 декабря 2015. Архивировано 1\\xa0мая 2017\\xa0года.\\n\\n↑ Pop/Rock \" Art-Rock/Experimental \" Neo-Prog\\xa0(неопр.).  AllMusic. Дата обращения: 28 июля 2015. Архивировано 4\\xa0сентября 2015\\xa0года.\\n\\n↑ Pink Floyd exhibition announced for Victoria and Albert Museum, BBC News\\xa0(31\\xa0августа 2016). Дата обращения 1 октября 2017.\\n\\n↑ Ambitious, fascinating and faceless – just like Pink Floyd themselves: Their Mortal Remains, V&A, review, The Daily Telegraph\\xa0(7\\xa0мая 2018). Дата обращения 7 октября 2017.\\n\\n↑ Brit Floyd\\xa0— The World’s Greatest Pink Floyd Tribute Show\\n\\n↑ Австралийский Pink Floyd\\xa0— скромно и со вкусом // segodnya.ua\\n\\n↑ Main page\\xa0(англ.)\\xa0(недоступная ссылка).  The Pink Floyd Show UK (official website). Архивировано 9\\xa0ноября 2014\\xa0года.\\xa0(Проверено 12\\xa0ноября\\xa02014)\\n\\n↑ echoes.co.il\\n\\n\\nЛитература[править | править код]\\n\\nМаббетт Э. Полный путеводитель по музыке Pink Floyd = The Complete Guide to the Music of Pink Floyd.\\xa0— М.: «Евразийский регион», «Локид», 1997.\\xa0— 190\\xa0с.\\xa0— ISBN 5-86217-026-X.\\nМейсон Н. Inside Out: Личная история Pink Floyd = Inside Out. A Personal History of Pink Floyd.\\xa0— 2-е изд., испр.\\xa0— СПб: «Амфора», 2009.\\xa0— 468\\xa0с.\\xa0— ISBN 978-5-367-00721-3.\\nМейсон Н. Inside Out: Личная история Pink Floyd = Inside Out. A Personal History of Pink Floyd.\\xa0— СПб: «Амфора», 2015.\\xa0— 415\\xa0с.\\xa0— ISBN 978-5-367-03946-7.\\nПолуяхтов И. Б., Галин А. В. Pink Floyd. Книга песен (1967—1994).\\xa0— М., 2003.\\xa0— Т.\\xa0I.\\xa0— 288\\xa0с.\\xa0— ISBN 5-87109-061-3.\\nФилдер Х. Разрушая великую стену\\xa0(англ.)\\xa0// Classic Rock\\xa0: magazine.\\xa0— «Арс Лонга», 2002.\\xa0— Iss. 11, no. 5.\\xa0— P. 48—57.\\xa0— ISSN 1997-7646. Архивировано 14\\xa0января 2018\\xa0года.\\nХаррис Дж. Тёмная сторона Луны. История создания величайшего альбома ХХ века = The Dark Side of the Moon. The Making of the Pink Floyd masterpiece.\\xa0— М.: Амфора», 2014.\\xa0— 191\\xa0с.\\xa0— ISBN 978-5-367-03071-6.\\nШэффнер Н. Блюдце, полное чудес. Одиссея Pink Floyd = Saucerful of Secrets. The Pink Floyd Odyssey.\\xa0— М.: Издательство Сергея Козлова, 1998.\\xa0— 365\\xa0с.\\xa0— ISBN 5-901013-01-8.\\nBlake, Markruen. Comfortably Numb: The Inside Story of Pink Floyd\\xa0(англ.).\\xa0— Da Capo Pressruen, 2008.\\xa0— ISBN 978-0-306-81752-6.\\nBronson, Fred. The Billboard Book of Number One Hits\\xa0(англ.) / Weiler, Fred.\\xa0— 3rd revised.\\xa0— Billboard Books, 1992.\\xa0— ISBN 978-0-8230-8298-8.\\nBrown, Jimmy. Sorcerer Full of Secrets\\xa0(англ.)\\xa0// Guitar World\\xa0: magazine.\\xa0— 2006.\\xa0— May (vol. 27, no. 5).\\nChapman Rruen. Syd Barrett and British Psychedelia: Faber Forty-Fives: 1966–1967.\\xa0— Faber & Faberruen, 2012.\\xa0— ISBN 978-0-571-29676-7.\\ndi Perna, Alan. Shine On\\xa0(англ.)\\xa0// Guitar World\\xa0: magazine.\\xa0— 2006.\\xa0— May (vol. 27, no. 5).\\nDe Rogatis J. Staring at Sound: The True Story of Oklahoma’s Fabulous Flaming Lips.\\xa0— Broadway Booksruen, 2006.\\xa0— ISBN 978-0-7679-2140-4.\\ndi Perna, Alan. Mysterious Ways // Guitar World Presents: Pink Floyd\\xa0(неопр.) / Kitts, Jeff; Tolinski, Brad.\\xa0— Hal Leonardruen, 2002.\\xa0— ISBN 978-0-7546-6708-7.\\nCroskery, Patrick. Pigs Training Dogs to Exploit Sheep: Animals as a Beast Fable Dystopia // Pink Floyd and Philosophy: Careful with that Axiom, Eugene!\\xa0(англ.) / Reisch, George A..\\xa0— Open Court, 2007.\\xa0— ISBN 978-0-8126-9636-3.\\nDetmer, David. Dragged Down by the Stone: Pink Floyd, Alienation, and the Pressures of Life // Pink Floyd and Philosophy: Careful with that Axiom, Eugene!\\xa0(англ.) / Reisch, George A..\\xa0— Open Court, 2007.\\xa0— ISBN 978-0-8126-9636-3.\\nFitch, Vernon. The Pink Floyd Encyclopedia\\xa0(неопр.).\\xa0— Third.\\xa0— Collector\\'s Guide Publishingruen, 2005.\\xa0— ISBN 978-1-894959-24-7.\\nFitch, Vernon. Pink Floyd: The Press Reports 1966–1983\\xa0(неопр.).\\xa0— Collector\\'s Guide Publishing Inc, 2001.\\xa0— ISBN 978-1-896522-72-2.\\nVernon F, Mahon R. Comfortably Numb: A History of \"The Wall\", Pink Floyd, 1978—1981.\\xa0— 1st.\\xa0— PFA Publishing, Inc., 2006.\\xa0— ISBN 978-0-9777366-0-7.\\nGeorge-Warren, Holly. The Rolling Stone Encyclopedia of Rock & Roll\\xa0(англ.).\\xa0— 2005 revised and updated.\\xa0— Fireside, 2001.\\xa0— ISBN 978-0-7432-9201-6.\\nHarris, John. The Dark Side of the Moon\\xa0(неопр.).\\xa0— First Hardcover.\\xa0— Da Capo, 2005.\\xa0— ISBN 978-0-306-81342-9.\\nHibbert, Tom. Who the hell does Roger Waters think he is? // Pink Floyd: Through the Eyes of the Band, Its Fans and Foes\\xa0(англ.) / MacDonald, Bruno.\\xa0— Da Capo, 1996.\\xa0— ISBN 978-0-306-80780-0.\\nKitts J, Tolinski Bruen. Guitar World Presents: Pink Floyd.\\xa0— Hal Leonard, 2002.\\xa0— ISBN 978-0-7546-6708-7.\\nGuitar World Presents: Pink Floyd\\xa0(неопр.) / Kitts, Jeff; Tolinski, Brad.\\xa0— Hal Leonardruen, 2002.\\xa0— ISBN 978-0-7546-6708-7.\\nMabbett, Andy. The Complete Guide to the Music of Pink Floyd\\xa0(англ.).\\xa0— 1st UK paperback.\\xa0— Omnibus Pressruen, 1995.\\xa0— ISBN 978-0-7119-4301-8.\\nManning, Toby. The Rough Guide to Pink Floyd\\xa0(неопр.).\\xa0— First.\\xa0— Rough Guidesruen, 2006.\\xa0— ISBN 978-1-84353-575-1.\\nPalacios, Julian. Syd Barrett and Pink Floyd: Dark Globe\\xa0(неопр.).\\xa0— Plexus, 2010.\\xa0— ISBN 978-0-85965-431-9.\\nPovey G. Echoes: The Complete History of Pink Floyd\\xa0(англ.).\\xa0— Chesham: Mind Head Publishing, 2007.\\xa0— 368\\xa0p.\\xa0— ISBN 978-0-9554624-0-5.\\nPovey G. Echoes: The Complete History of Pink Floyd\\xa0(англ.).\\xa0— 2nd Revised edition edition.\\xa0— Chesham: Mind Head Publishing, 2008.\\xa0— 368\\xa0p.\\xa0— ISBN 978-0-9554624-1-2.\\nPovey G., Russell I. Pink Floyd: In the Flesh: The Complete Performance History.\\xa0— 1st US paperback.\\xa0— St. Martin\\'s Pressruen, 1997.\\xa0— ISBN 978-0-9554624-0-5.\\nReisch, George A. The Worms and the Wall: Michael Foucault on Syd Barrett // Pink Floyd and Philosophy: Careful with that Axiom, Eugene!\\xa0(англ.) / Reisch, George A..\\xa0— Open Court, 2007.\\xa0— ISBN 978-0-8126-9636-3.\\nBritish Hit Singles & Albums\\xa0(англ.) / Roberts, David.\\xa0— 18.\\xa0— Guinness World Records Limited, 2005.\\xa0— ISBN 978-1-904994-00-8.\\nRosen, Craig. The Billboard Book of Number One Albums\\xa0(англ.) / Lukas, Paul.\\xa0— Billboard.\\xa0— 1996.\\xa0— ISBN 978-0-8230-7586-7.\\nScarfe, Gerald. The Making of Pink Floyd: The Wall\\xa0(неопр.).\\xa0— 1st US paperback.\\xa0— Da Capo Pressruen, 2010.\\xa0— ISBN 978-0-306-81997-1.\\nSchaffner N. Saucerful of Secrets.\\xa0— first ed.\\xa0— London: Sidgwick & Jacksonruen, 1991.\\xa0— ISBN 978-0-283-06127-1.\\nSimmons, Sylvie. Pink Floyd: The Making of The Wall\\xa0(англ.)\\xa0// Mojo\\xa0: magazine.\\xa0— Bauer Media Group, 1999.\\xa0— December (vol. 73).\\nO’Neill Surber, Jere. Wish You Were Here (But You Aren\\'t): Pink Floyd and Non-Being // Pink Floyd and Philosophy: Careful with that Axiom, Eugene!\\xa0(англ.) / Reisch, George A..\\xa0— Open Court, 2007.\\xa0— ISBN 978-0-8126-9636-3.\\nWatkinson, Mike; Anderson, Pete. Crazy Diamond: Syd Barrett & the Dawn of Pink Floyd\\xa0(англ.).\\xa0— First.\\xa0— Omnibus Pressruen, 2001.\\xa0— ISBN 978-0-7119-2397-3.\\nWatts, Michael. Pink\\'s muddled Meddle // Pink Floyd: Through the Eyes of the Band, Its Fans and Foes\\xa0(англ.) / MacDonald, Bruno.\\xa0— Da Capo Pressruen, 1996.\\xa0— ISBN 978-0-306-80780-0.\\nWeinstein, Deena. Roger Waters: Artist of the Absurd // Pink Floyd and Philosophy: Careful with that Axiom, Eugene!\\xa0(англ.) / Reisch, George A..\\xa0— Open Court, 2007.\\xa0— ISBN 978-0-8126-9636-3.\\n\\nСсылки[править | править код]\\n.mw-parser-output .ts-Родственные_проекты{width:19em;box-sizing:border-box;margin:0 0 .5em 1em;padding:.4em;background:#f8f9fa;border:1px solid #a2a9b1;font-size:90%}.mw-parser-output .ts-Родственные_проекты-header{margin-bottom:.2em;padding:.2em .6em;font-size:110%}.mw-parser-output .ts-Родственные_проекты-item{display:flex;padding:.2em .6em}.mw-parser-output .ts-Родственные_проекты-image{min-width:24px;display:inline-block;margin-right:.4em;flex:none;vertical-align:top;text-align:center}.mw-parser-output .ts-Родственные_проекты-image img{vertical-align:middle}.mw-parser-output .ts-Родственные_проекты-label{align-self:center}@media(max-width:719px){.mw-parser-output .ts-Родственные_проекты{width:auto;margin-left:0;margin-right:0}}Медиафайлы на\\xa0Викискладе\\npinkfloyd.com\\u200b\\xa0(англ.) — официальный сайт Pink Floyd\\n\\nPink Floyd в каталоге ссылок Open Directory Project (dmoz)\\nGeorge Starostin’s Reviews\\xa0— Критический обзор творчества группы Георгия Старостина\\nPink Floyd Archives.com\\xa0— Крупный сайт от автора энциклопедии Pink Floyd\\nThe Pink Floyd Concert Database\\xa0— Каталог концертов Pink Floyd\\nThe Pink Floyd RoIO Database\\xa0— Каталог бутлегов, выходивших на CD, LP и других носителях.\\n\\xa0\\xa0\\xa0В социальных сетях\\nFacebook\\nMyspace\\nТвиттер\\nТвиттер\\nФото, видео и аудио\\nApple Music\\nDeezer\\nGoogle Play Music\\nInstagram\\nLast.fm\\nSoundCloud\\nSpotify\\nYouTube\\nYouTube\\nТематические сайты\\nAllMusic\\nAlloCiné\\nDiscogs\\nInternet Movie Database\\nMusicBrainz\\nСловари и энциклопедии\\nБольшая каталанская\\nБольшая норвежская\\nБольшая российская\\nЛарусса\\nBritannica (онлайн)\\nBrockhaus\\nUniversalis\\n.mw-parser-output .ts-navbox-plaintitle{font-size:100%!important;margin:0 6em!important}Нормативный контроль\\nBIBSYS: 90350024\\nBNC: a11769701\\nBNE: XX254199\\nBNF: 139058178\\nCiNii: DA04822340\\nGND: 1214989-5\\nISNI: 0000 0001 0939 7559\\nLCCN: n82000561\\nLNB: 000154269\\nNDL: 00297643\\nNKC: kn20020506004\\nNLA: 36222524\\nNSK: 000066793\\nNUKAT: n96403003\\nPTBNP: 96310\\nLIBRIS: 220711\\nSUDOC: 027590577\\nVIAF: 120713567\\nWorldCat VIAF: 120713567\\n\\nPink Floyd\\nСид Барретт\\nДэвид Гилмор\\nНик Мейсон\\nРоджер Уотерс\\nРичард Райт\\nСтудийные альбомы\\nThe Piper at the Gates of Dawn\\nA Saucerful of Secrets\\nUmmagumma\\nAtom Heart Mother\\nMeddle\\nThe Dark Side of the Moon\\nWish You Were Here\\nAnimals\\nThe Wall\\nThe Final Cut\\nA Momentary Lapse of Reason\\nThe Division Bell\\nThe Endless River\\nКонцертные альбомы\\nUmmagumma\\nDelicate Sound of Thunder\\nP.U.L.S.E.\\nIs There Anybody Out There? The Wall Live 1980–81\\nСаундтреки\\nThe Committee\\nTonite Lets All Make Love in London\\nMore\\nЗабриски-пойнт\\nObscured by Clouds\\nСборники\\nThe Best of the Pink Floyd / Masters of Rock\\nRelics\\nA Nice Pair\\nA Collection of Great Dance Songs\\nWorks\\nShine On\\nThe Early Singles\\n1967: The First Three Singles\\nEchoes: The Best of Pink Floyd\\nOh, by the Way\\nA Foot in the Door\\nThe Early Years 1965–1972\\nФильмы\\n«Pink Floyd: Live at Pompeii»\\n«Стена»\\n«The Final Cut»\\n«Delicate Sound of Thunder»\\n«La Carrera Panamericana»\\n«P.U.L.S.E.»\\n«The Pink Floyd and Syd Barrett Story»\\n«The Making of The Dark Side of the Moon»\\n«London ’66–’67»\\nСинглы\\n«Arnold Layne»\\n«See Emily Play»\\n«Flaming»\\n«Apples and Oranges»\\n«It Would Be So Nice»\\n«Let There Be More Light»\\n«Point Me at the Sky»\\n«The Nile Song»\\n«One of These Days»\\n«Free Four»\\n«Money»\\n«Us and Them / Time»\\n«Have a Cigar»\\n«Another Brick in the Wall, Part II»\\n«Comfortably Numb»\\n«Run Like Hell»\\n«When the Tigers Broke Free»\\n«Not Now John»\\n«Your Possible Pasts»\\n«Learning to Fly»\\n«On the Turning Away»\\n«The Dogs of War»\\n«One Slip»\\n«Take It Back»\\n«High Hopes»\\n«Louder Than Words»\\nСм. также\\nРадо Клозе\\nСторм Торгерсон\\nРон Гисин\\nСвинья Pink Floyd\\nТёмная сторона радуги\\n(19367) Пинк Флойд\\nСписок песен Pink Floyd\\nСписок неизданных песен Pink Floyd\\nВдоль и поперёк: Личная история Pink Floyd\\nRoland Petit Ballet\\nАстория\\nGames for May\\nThe Man and The Journey\\nThe Pink Floyd Show UK\\nСтив О’Рурк\\nПолли Сэмсон\\nBritannia Row Studios\\nBlackhill Enterprises\\nПитер Дженнер\\nЭндрю Кинг\\nДик Пэрри\\nЭнтони Мур\\nNick Mason’s Saucerful of Secrets\\n\\nДискография\\n\\nЛауреаты Polar Music Prize1990е\\nПол Маккартни / Прибалтийские государства (1992)\\nДиззи Гиллеспи / Витольд Лютославский (1993)\\nКуинси Джонс / Николаус Арнонкур (1994)\\nЭлтон Джон / Мстислав Ростропович (1995)\\nДжони Митчелл / Пьер Булез (1996)\\nБрюс Спрингстин / Эрик Эриксон (1997)\\nРэй Чарльз / Рави Шанкар (1998)\\nСтиви Уандер / Янис Ксенакис (1999)\\n2000е\\nБоб Дилан / Айзек Стерн (2000)\\nБерт Бакарак / Роберт Муг / Карлхайнц Штокхаузен (2001)\\nМириам Макеба / София Губайдулина (2002)\\nКит Джарретт (2003)\\nБи Би Кинг / Дьёрдь Лигети (2004)\\nЖилберту Жил / Дитрих Фишер-Дискау (2005)\\nLed Zeppelin / Валерий Гергиев (2006)\\nСонни Роллинз / Стивен Райх (2007)\\nPink Floyd / Рене Флеминг (2008)\\nПитер Гэбриел / Хосе Антонио Абреу[en] / El Sistema (2009)\\n2010е\\nБьорк / Эннио Морриконе (2010)\\nКронос-квартет / Патти Смит (2011)\\nПол Саймон / Йо Йо Ма (2012)\\nЙуссу Н’Дур / Кайя Саариахо (2013)\\nЧак Берри / Питер Селларс (2014)\\nЭммилу Харрис / Эвелин Гленни (2015)\\nМакс Мартин / Чечилия Бартоли (2016)\\nСтинг / Уэйн Шортер (2017)\\nMetallica / Афганский национальный институт музыки[en] (2018)\\nГрэндмастер Флэш / Анне-Софи Муттер / Playing for Change[en] (2019)\\nАнна Нетребко / Дайан Уоррен (2020)\\n\\n\\n\\n\\n\\nИсточник — https://ru.wikipedia.org/w/index.php?title=Pink_Floyd&oldid=114928724\\nКатегории: Музыкальные коллективы по алфавитуPink FloydРок-группы ВеликобританииГруппы прогрессивного рока из ВеликобританииГруппы психоделического рока из ВеликобританииИсполнители, возглавлявшие Billboard Hot 100Исполнители, возглавлявшие Billboard 200Исполнители, включённые в Зал славы рок-н-роллаМузыкальные коллективы, появившиеся в 1965 годуМузыкальные коллективы, распавшиеся в 1995 годуМузыкальные коллективы, распавшиеся в 2015 годуМузыкальные коллективы 1960-х годовМузыкальные коллективы 1970-х годовМузыкальные коллективы 1980-х годовМузыкальные коллективы 1990-х годовМузыкальные коллективы 2000-х годовМузыкальные коллективы 2010-х годовЛауреаты премии «Грэмми»КвартетыГруппы спейс-рокаИсполнители EMI RecordsИсполнители Harvest RecordsИсполнители Capitol RecordsГруппы арт-рокаДжем-рок-группыТриоЛауреаты премии Echo PopСкрытые категории: Страницы с ошибками в примечанияхВикипедия:Статьи с некорректным использованием шаблонов:Cite web (не указан язык)Википедия:Страницы с неправильно оформленными сноскамиВикипедия:Статьи с некорректным использованием шаблонов:Книга (указан неверный код языка)Страницы, использующие волшебные ссылки ISBNПроект:Музыка:Последняя правка в 2021 годуПроект:Музыка:Последняя правка в текущем месяцеВикипедия:Страницы с модулем Hatnote с некорректно заполненными параметрами\\n'"
            ]
          },
          "metadata": {
            "tags": []
          },
          "execution_count": 29
        }
      ]
    },
    {
      "cell_type": "markdown",
      "metadata": {
        "id": "wcWtQas35_tz"
      },
      "source": [
        "Напишите функцию wiki_header, которая по адресу страницы возвращает заголовок для статей на википедии\n",
        "\n",
        "wiki_header('https://en.wikipedia.org/wiki/Operating_system')\n",
        "\n",
        " => 'Operating system'"
      ]
    },
    {
      "cell_type": "code",
      "metadata": {
        "colab": {
          "base_uri": "https://localhost:8080/",
          "height": 35
        },
        "id": "HE7KEdGy6Aqv",
        "outputId": "ed01a7de-c875-424e-dd2a-3a2059e8d99e"
      },
      "source": [
        "def wiki_header(header):\n",
        "  url = header\n",
        "  response = requests.get(url)\n",
        "  page = BeautifulSoup(response.text, 'html.parser')\n",
        "  return page.find('h1').text\n",
        "wiki_header('https://en.wikipedia.org/wiki/Operating_system')"
      ],
      "execution_count": null,
      "outputs": [
        {
          "output_type": "execute_result",
          "data": {
            "application/vnd.google.colaboratory.intrinsic+json": {
              "type": "string"
            },
            "text/plain": [
              "'Operating system'"
            ]
          },
          "metadata": {
            "tags": []
          },
          "execution_count": 15
        }
      ]
    },
    {
      "cell_type": "markdown",
      "metadata": {
        "id": "FiFUDvhLEx-6"
      },
      "source": [
        "У вас есть переменная page, в которой хранится содержимое html-страницы. На странице есть элемент в тэге span, у которого атрибут id равен 'target'. Напишите строчку кода, которая присвоит текст этого элемента переменной value.\n",
        "\n",
        "Запишите ваш код в одну строку без пробелов. Используйте апострофы для передачи параметров, содержащих значение тэга и его id."
      ]
    },
    {
      "cell_type": "markdown",
      "metadata": {
        "id": "zeGLYSG6E1sQ"
      },
      "source": [
        "answer: \n",
        "\n",
        "value = page.find('span', id='target').text"
      ]
    },
    {
      "cell_type": "markdown",
      "metadata": {
        "id": "nIPgAUPeFjQW"
      },
      "source": [
        "Рассмотрим случай, когда нам нужно сразу много элементов. Пусть мы хотим получить название всех ссылок на странице в википедии про языки программирования.\n",
        "\n",
        "Для всех ссылок существует тэг `<a> </a>`.  Для этого используем find_all  "
      ]
    },
    {
      "cell_type": "code",
      "metadata": {
        "id": "e0gm_hr5Eyso",
        "colab": {
          "base_uri": "https://localhost:8080/"
        },
        "outputId": "efe37f4a-1142-4d5b-d767-1bebb33e8978"
      },
      "source": [
        "url = 'https://en.wikipedia.org/wiki/List_of_programming_languages'  \n",
        "  \n",
        "response = requests.get(url)  \n",
        "page = BeautifulSoup(response.text, 'html.parser')  \n",
        "links = page.find_all('a')  \n",
        "# Посмотрим, сколько всего мы получили  \n",
        "print(len(links))\n",
        "# => 935\n",
        "  \n",
        "# Посмотрим на некоторые из ссылок  \n",
        "print([link.text for link in links[500:510]])  "
      ],
      "execution_count": null,
      "outputs": [
        {
          "output_type": "stream",
          "text": [
            "917\n",
            "['P′′', 'ParaSail (programming language)', 'PARI/GP', 'Pascal', 'Pascal Script', 'PCASTL', 'PCF', 'PEARL', 'PeopleCode', 'Perl']\n"
          ],
          "name": "stdout"
        }
      ]
    },
    {
      "cell_type": "markdown",
      "metadata": {
        "id": "7gT1ndVBeuJe"
      },
      "source": [
        "Ещё одна полезная вещь:  последовательный поиск, т.е. мы можем найти сначала один элемент, а потом сделать внутри него второй поиск. Давайте выведем названия всех ссылок для языков программирования, которые начинаются на литеру \"A\"."
      ]
    },
    {
      "cell_type": "code",
      "metadata": {
        "colab": {
          "base_uri": "https://localhost:8080/"
        },
        "id": "4mcVum3weu40",
        "outputId": "1c0bce7f-9f40-48fa-ddf7-c0a61dc114c8"
      },
      "source": [
        "# Получаем все элементы с тегом 'div' и классом 'div-col'  \n",
        "all_blocks = page.find_all('div', class_='div-col')  \n",
        "  \n",
        "# Выбираем первый по счету блок  \n",
        "first_block = all_blocks[0]  \n",
        "# Берём оттуда ссылки (ограничимся первыми десятью)\n",
        "links = first_block.find_all('a')\n",
        "print([link.text for link in links[:10]])"
      ],
      "execution_count": null,
      "outputs": [
        {
          "output_type": "stream",
          "text": [
            "['A.NET (A#/A sharp)', 'A-0 System', 'A+ (A (plus)', 'ABAP', 'ABC', 'ABC ALGOL', 'ACC', 'Accent (Rational Synergy)', 'Ace DASL (Distributed Application Specification Language)', 'Action!']\n"
          ],
          "name": "stdout"
        }
      ]
    },
    {
      "cell_type": "markdown",
      "metadata": {
        "id": "caEYa7i7gekW"
      },
      "source": [
        "Задание 1 - Актёры\n",
        "\n",
        "Напишите функцию get_actors, которая по ссылке на страницу фильма на кинопоиске возвращает список актёров из колонки справа."
      ]
    },
    {
      "cell_type": "code",
      "metadata": {
        "colab": {
          "base_uri": "https://localhost:8080/"
        },
        "id": "SsAf5oLMgim_",
        "outputId": "709528c5-53e5-44aa-869f-451af4736f85"
      },
      "source": [
        "def get_actors(url):\n",
        "  response = requests.get(url)\n",
        "  page = BeautifulSoup(response.text, 'html.parser')\n",
        "  first_block = page.find('ul', class_='styles_list__I97eu')\n",
        "  actors = first_block.find_all('li')\n",
        "  return [actor.text for actor in actors]\n",
        "get_actors('https://www.kinopoisk.ru/film/326/')"
      ],
      "execution_count": null,
      "outputs": [
        {
          "output_type": "execute_result",
          "data": {
            "text/plain": [
              "['Тим Роббинс',\n",
              " 'Морган Фриман',\n",
              " 'Боб Гантон',\n",
              " 'Уильям Сэдлер',\n",
              " 'Клэнси Браун',\n",
              " 'Гил Беллоуз',\n",
              " 'Марк Ролстон',\n",
              " 'Джеймс Уитмор',\n",
              " 'Джеффри ДеМанн',\n",
              " 'Ларри Бранденбург']"
            ]
          },
          "metadata": {
            "tags": []
          },
          "execution_count": 55
        }
      ]
    },
    {
      "cell_type": "markdown",
      "metadata": {
        "id": "KwPdYTahHUcu"
      },
      "source": [
        "# HTML-таблицы\n",
        "___\n",
        "При работе с web-страницами было бы здорово получать содержимое  таблиц в виде датафрейма. Рассмотрим [страницу ключевых показателей Центрального банка РФ cbr](https://www.cbr.ru/key-indicators/).ru. Наша задача будет состоять в том, чтобы получить одну из таблиц виджетов в виде датафрейма. Например, таблицу цен на драгоценные металлы."
      ]
    },
    {
      "cell_type": "code",
      "metadata": {
        "colab": {
          "base_uri": "https://localhost:8080/",
          "height": 204
        },
        "id": "6z2UXsCCHWiM",
        "outputId": "e78b45c2-3d74-4a10-d58b-f0222ed667df"
      },
      "source": [
        "# Метод read_html из pandas умеет автоматически находить на HTML-странице\n",
        "# таблицы и возвращать их списком из датафреймов:\n",
        "\n",
        "import pandas as pd  \n",
        "url = 'https://www.cbr.ru/key-indicators/'  \n",
        "# Таблица с драгметаллами оказалась второй по счёту  \n",
        "pd.read_html(url)[1]  \n"
      ],
      "execution_count": 1,
      "outputs": [
        {
          "output_type": "execute_result",
          "data": {
            "text/html": [
              "<div>\n",
              "<style scoped>\n",
              "    .dataframe tbody tr th:only-of-type {\n",
              "        vertical-align: middle;\n",
              "    }\n",
              "\n",
              "    .dataframe tbody tr th {\n",
              "        vertical-align: top;\n",
              "    }\n",
              "\n",
              "    .dataframe thead th {\n",
              "        text-align: right;\n",
              "    }\n",
              "</style>\n",
              "<table border=\"1\" class=\"dataframe\">\n",
              "  <thead>\n",
              "    <tr style=\"text-align: right;\">\n",
              "      <th></th>\n",
              "      <th>0</th>\n",
              "      <th>1</th>\n",
              "      <th>2</th>\n",
              "    </tr>\n",
              "  </thead>\n",
              "  <tbody>\n",
              "    <tr>\n",
              "      <th>0</th>\n",
              "      <td>рублей за грамм</td>\n",
              "      <td>18.06.2021</td>\n",
              "      <td>19.06.2021</td>\n",
              "    </tr>\n",
              "    <tr>\n",
              "      <th>1</th>\n",
              "      <td>Золото  Au</td>\n",
              "      <td>4 211,68</td>\n",
              "      <td>4 161,79</td>\n",
              "    </tr>\n",
              "    <tr>\n",
              "      <th>2</th>\n",
              "      <td>Серебро  Ag</td>\n",
              "      <td>6200</td>\n",
              "      <td>6127</td>\n",
              "    </tr>\n",
              "    <tr>\n",
              "      <th>3</th>\n",
              "      <td>Платина  Pt</td>\n",
              "      <td>2 596,83</td>\n",
              "      <td>2 507,73</td>\n",
              "    </tr>\n",
              "    <tr>\n",
              "      <th>4</th>\n",
              "      <td>Палладий  Pd</td>\n",
              "      <td>6 445,44</td>\n",
              "      <td>5 939,62</td>\n",
              "    </tr>\n",
              "  </tbody>\n",
              "</table>\n",
              "</div>"
            ],
            "text/plain": [
              "                 0           1           2\n",
              "0  рублей за грамм  18.06.2021  19.06.2021\n",
              "1       Золото  Au    4 211,68    4 161,79\n",
              "2      Серебро  Ag        6200        6127\n",
              "3      Платина  Pt    2 596,83    2 507,73\n",
              "4     Палладий  Pd    6 445,44    5 939,62"
            ]
          },
          "metadata": {
            "tags": []
          },
          "execution_count": 1
        }
      ]
    },
    {
      "cell_type": "markdown",
      "metadata": {
        "id": "nzOWur5GIINy"
      },
      "source": [
        "*Если этого не происходит, но вы уверены в том, что порядок таблиц на странице неизменен, то можно вручную найти нужную таблицу на странице. Этому случаю посвящены следующие шаги.*\n",
        "\n",
        "## Задание 1 - Курсы валют через read_html\n",
        "\n",
        "Попробуйте запустить pandas для заданного выше url. Какая строчка вернёт таблицу с курсами валют?"
      ]
    },
    {
      "cell_type": "code",
      "metadata": {
        "colab": {
          "base_uri": "https://localhost:8080/",
          "height": 142
        },
        "id": "C0nqf-DdIN8b",
        "outputId": "ea9ebe22-03cc-40c3-f075-194b959bc1fd"
      },
      "source": [
        "pd.read_html(url)[0]"
      ],
      "execution_count": 3,
      "outputs": [
        {
          "output_type": "execute_result",
          "data": {
            "text/html": [
              "<div>\n",
              "<style scoped>\n",
              "    .dataframe tbody tr th:only-of-type {\n",
              "        vertical-align: middle;\n",
              "    }\n",
              "\n",
              "    .dataframe tbody tr th {\n",
              "        vertical-align: top;\n",
              "    }\n",
              "\n",
              "    .dataframe thead th {\n",
              "        text-align: right;\n",
              "    }\n",
              "</style>\n",
              "<table border=\"1\" class=\"dataframe\">\n",
              "  <thead>\n",
              "    <tr style=\"text-align: right;\">\n",
              "      <th></th>\n",
              "      <th>0</th>\n",
              "      <th>1</th>\n",
              "      <th>2</th>\n",
              "    </tr>\n",
              "  </thead>\n",
              "  <tbody>\n",
              "    <tr>\n",
              "      <th>0</th>\n",
              "      <td>валюта</td>\n",
              "      <td>19.06.2021</td>\n",
              "      <td>22.06.2021</td>\n",
              "    </tr>\n",
              "    <tr>\n",
              "      <th>1</th>\n",
              "      <td>Доллар США  USD</td>\n",
              "      <td>722216</td>\n",
              "      <td>731987</td>\n",
              "    </tr>\n",
              "    <tr>\n",
              "      <th>2</th>\n",
              "      <td>Евро  EUR</td>\n",
              "      <td>859943</td>\n",
              "      <td>868942</td>\n",
              "    </tr>\n",
              "  </tbody>\n",
              "</table>\n",
              "</div>"
            ],
            "text/plain": [
              "                 0           1           2\n",
              "0           валюта  19.06.2021  22.06.2021\n",
              "1  Доллар США  USD      722216      731987\n",
              "2        Евро  EUR      859943      868942"
            ]
          },
          "metadata": {
            "tags": []
          },
          "execution_count": 3
        }
      ]
    },
    {
      "cell_type": "markdown",
      "metadata": {
        "id": "10fAP-3DKPXx"
      },
      "source": [
        "## Поиск таблицы с помощью BeautifulSoup\n",
        "Более надёжным решением является сначала получить только текст таблицы и передавать в pandas только её. Так же, как и в предыдущем разделе, используем requests и BeautifulSoup, чтобы получить данные со страницы.\n",
        "\n",
        "А теперь — внимание! В случае работы с сайтом Центробанка нам нужно будет учесть ещё один нюанс. С недавнего времени администраторы стали блокировать обращения к сайту, поступающие не от «живых» пользователей, а от компьютерных программ (в том числе от той, которую мы собираемся написать прямо сейчас). Есть ли шанс в таких условиях всё-таки получить данные, не открывая страницу в браузере?\n",
        "\n",
        "Безусловно, это возможно. Безвыходных положений вообще не бывает, особенно в программировании! Один из способов справиться с ситуацией — «притвориться» браузером :).\n",
        "\n",
        "Каждый запрос, отправляемый с помощью команды get, имеет заголовок. Если заголовок не задан явно, то он создаётся автоматически, и туда добавляется информация в том числе о том, кто является субъектом (или источником) запроса — человек или программа. Чтобы «притвориться» браузером, нам просто нужно вручную дописать нужные сведения в этот заголовок. Подробнее о таком подходе можно почитать в этой [статье](https://habr.com/ru/company/ods/blog/346632/).\n",
        "\n"
      ]
    },
    {
      "cell_type": "code",
      "metadata": {
        "id": "nEoSF4HWKfb3"
      },
      "source": [
        "# Итоговый вариант кода после добавления заголовка должен выглядеть так:\n",
        "\n",
        "from bs4 import BeautifulSoup  \n",
        "import pandas as pd  \n",
        "import requests  \n",
        "  \n",
        "url = 'https://www.cbr.ru/key-indicators/'\n",
        "soup = BeautifulSoup(requests.get(url, headers={'User-Agent': 'Mozilla/5.0'}).text, 'html.parser')  "
      ],
      "execution_count": 80,
      "outputs": []
    },
    {
      "cell_type": "markdown",
      "metadata": {
        "id": "-lREJchgLqZk"
      },
      "source": [
        "Нам необходимо добраться до кода таблицы, который начинается с тэга \"< table >\". Таблиц на странице много, поэтому указываем путь к таблице виджета драгоценных металлов применяя знания полученные ранее:"
      ]
    },
    {
      "cell_type": "code",
      "metadata": {
        "id": "5X8PrBpVLr18"
      },
      "source": [
        "all_blocks = soup.find_all('div', class_='key-indicator_content offset-md-2')\n",
        "# Данные таблицы с драгметаллами находятся во втором блоке\n",
        "data = all_blocks[1].find('table') "
      ],
      "execution_count": 81,
      "outputs": []
    },
    {
      "cell_type": "code",
      "metadata": {
        "colab": {
          "base_uri": "https://localhost:8080/"
        },
        "id": "1zrPjzOJw1yV",
        "outputId": "46b5bd46-5d94-47ea-e418-195e0d0b215d"
      },
      "source": [
        "all_blocks"
      ],
      "execution_count": 82,
      "outputs": [
        {
          "output_type": "execute_result",
          "data": {
            "text/plain": [
              "[<div class=\"key-indicator_content offset-md-2\">\n",
              " <div class=\"key-indicator_table_wrapper\">\n",
              " <div class=\"table key-indicator_table\">\n",
              " <table>\n",
              " <tbody>\n",
              " <tr class=\"denotements\">\n",
              " <td class=\"value td-w-13\">валюта</td>\n",
              " <td class=\"value td-w-4 _end\">19.06.2021</td>\n",
              " <td class=\"value td-w-4 _end\">22.06.2021</td>\n",
              " </tr>\n",
              " <tr>\n",
              " <td class=\"value td-w-13 _inner\">\n",
              " <div class=\"d-flex title-subinfo\">\n",
              " <div class=\"col-md-5\">Доллар США</div>\n",
              " <div class=\"col-md-3 offset-md-1 _subinfo\">USD</div>\n",
              " </div>\n",
              " </td>\n",
              " <td class=\"value td-w-4 _bold _end mono-num\">72,2216</td>\n",
              " <td class=\"value td-w-4 _bold _end mono-num _with-icon _up _red\">73,1987</td>\n",
              " </tr>\n",
              " <tr>\n",
              " <td class=\"value td-w-13 _inner\">\n",
              " <div class=\"d-flex title-subinfo\">\n",
              " <div class=\"col-md-5\">Евро</div>\n",
              " <div class=\"col-md-3 offset-md-1 _subinfo\">EUR</div>\n",
              " </div>\n",
              " </td>\n",
              " <td class=\"value td-w-4 _bold _end mono-num\">85,9943</td>\n",
              " <td class=\"value td-w-4 _bold _end mono-num _with-icon _up _red\">86,8942</td>\n",
              " </tr>\n",
              " </tbody>\n",
              " </table>\n",
              " </div>\n",
              " </div>\n",
              " </div>, <div class=\"key-indicator_content offset-md-2\">\n",
              " <div class=\"key-indicator_table_wrapper\">\n",
              " <div class=\"table key-indicator_table\">\n",
              " <table>\n",
              " <tbody>\n",
              " <tr class=\"denotements\">\n",
              " <td class=\"value td-w-13\">рублей за грамм</td>\n",
              " <td class=\"value td-w-4 _end\">19.06.2021</td>\n",
              " <td class=\"value td-w-4 _end\">22.06.2021</td>\n",
              " </tr>\n",
              " <tr>\n",
              " <td class=\"value td-w-9 _inner\">\n",
              " <div class=\"d-flex title-subinfo\">\n",
              " <div class=\"col-md-5\">Золото</div>\n",
              " <div class=\"col-md-3 offset-md-1 _subinfo\">Au</div>\n",
              " </div>\n",
              " </td>\n",
              " <td class=\"value td-w-4 _bold _end mono-num\">4 161,79</td>\n",
              " <td class=\"value td-w-4 _bold _end mono-num _with-icon _up\">4 194,80</td>\n",
              " </tr>\n",
              " <tr>\n",
              " <td class=\"value td-w-9 _inner\">\n",
              " <div class=\"d-flex title-subinfo\">\n",
              " <div class=\"col-md-5\">Серебро</div>\n",
              " <div class=\"col-md-3 offset-md-1 _subinfo\">Ag</div>\n",
              " </div>\n",
              " </td>\n",
              " <td class=\"value td-w-4 _bold _end mono-num\">61,27</td>\n",
              " <td class=\"value td-w-4 _bold _end mono-num _with-icon _down\">61,08</td>\n",
              " </tr>\n",
              " <tr>\n",
              " <td class=\"value td-w-9 _inner\">\n",
              " <div class=\"d-flex title-subinfo\">\n",
              " <div class=\"col-md-5\">Платина</div>\n",
              " <div class=\"col-md-3 offset-md-1 _subinfo\">Pt</div>\n",
              " </div>\n",
              " </td>\n",
              " <td class=\"value td-w-4 _bold _end mono-num\">2 507,73</td>\n",
              " <td class=\"value td-w-4 _bold _end mono-num _with-icon _down\">2 447,53</td>\n",
              " </tr>\n",
              " <tr>\n",
              " <td class=\"value td-w-9 _inner\">\n",
              " <div class=\"d-flex title-subinfo\">\n",
              " <div class=\"col-md-5\">Палладий</div>\n",
              " <div class=\"col-md-3 offset-md-1 _subinfo\">Pd</div>\n",
              " </div>\n",
              " </td>\n",
              " <td class=\"value td-w-4 _bold _end mono-num\">5 939,62</td>\n",
              " <td class=\"value td-w-4 _bold _end mono-num _with-icon _down\">5 902,30</td>\n",
              " </tr>\n",
              " </tbody>\n",
              " </table>\n",
              " </div>\n",
              " </div>\n",
              " </div>, <div class=\"key-indicator_content offset-md-2\">\n",
              " <div class=\"key-indicator_table_wrapper\">\n",
              " <div class=\"table key-indicator_table\">\n",
              " <table>\n",
              " <tbody>\n",
              " <tr class=\"denotements\">\n",
              " <td class=\"value\">% годовых</td>\n",
              " <td class=\"value _end\">1 день</td>\n",
              " <td class=\"value _end\">2-7 дней</td>\n",
              " <td class=\"value _end\">8-30 дней</td>\n",
              " </tr>\n",
              " <tr>\n",
              " <td class=\"value td-w-9 _inner\">\n",
              " <div class=\"d-flex flex-column flex-md-row title-date\">\n",
              " <div class=\"col-md-5\"><a href=\"/hd_base/mkr/mkr_base/\">MIACR</a></div>\n",
              " <div class=\"_date col-md-3 offset-md-1 _subinfo\">\n",
              " \t\t\t\t\t\t\t\t\t\t\t\t\tза\n",
              " \t\t\t\t\t\t\t\t\t\t\t\t\t18.06.2021</div>\n",
              " </div>\n",
              " </td>\n",
              " <td class=\"value _bold _end td-w-4 mono-num _with-icon _down\">5,33</td>\n",
              " <td class=\"value _bold _end td-w-4 mono-num\"> — </td>\n",
              " <td class=\"value _bold _end td-w-4 mono-num\"> — </td>\n",
              " </tr>\n",
              " <tr>\n",
              " <td class=\"value td-w-9 _inner\">\n",
              " <div class=\"d-flex flex-column flex-md-row title-date\">\n",
              " <div class=\"col-md-5\"><a href=\"/hd_base/ruonia/\">RUONIA</a></div>\n",
              " <div class=\"_date col-md-3 offset-md-1 _subinfo\">\n",
              " \t\t\t\t\t\t\t\t\t\t\t\t\tза\n",
              " \t\t\t\t\t\t\t\t\t\t\t\t\t18.06.2021</div>\n",
              " </div>\n",
              " </td>\n",
              " <td class=\"value _bold _end mono-num _with-icon _down\">5,34</td>\n",
              " <td class=\"value _end\"></td>\n",
              " <td class=\"value _end\"></td>\n",
              " </tr>\n",
              " <tr class=\"denotements\">\n",
              " <td class=\"value td-w-9\">% годовых</td>\n",
              " <td class=\"value _end\">1 день</td>\n",
              " <td class=\"value _end\">1 неделя</td>\n",
              " <td class=\"value _end\">1 месяц</td>\n",
              " </tr>\n",
              " <tr>\n",
              " <td class=\"value td-w-9 _inner\">\n",
              " <div class=\"d-flex flex-column flex-md-row title-date\">\n",
              " <div class=\"col-md-5\"><a href=\"/hd_base/mosprime/\">MosPrime Rate</a></div>\n",
              " <div class=\"_date col-md-3 offset-md-1 _subinfo\">\n",
              " \t\t\t\t\t\t\t\t\t\t\t\t\tна\n",
              " \t\t\t\t\t\t\t\t\t\t\t\t\t21.06.2021</div>\n",
              " </div>\n",
              " </td>\n",
              " <td class=\"value _bold _end mono-num _with-icon _up\">5,60</td>\n",
              " <td class=\"value _bold _end mono-num\">5,69</td>\n",
              " <td class=\"value _bold _end mono-num\">5,81</td>\n",
              " </tr>\n",
              " <tr class=\"denotements\">\n",
              " <td class=\"value td-w-9\">% годовых</td>\n",
              " <td class=\"value _end\">1 неделя</td>\n",
              " <td class=\"value _end\">2 недели</td>\n",
              " <td class=\"value _end\">1 месяц</td>\n",
              " </tr>\n",
              " <tr>\n",
              " <td class=\"value td-w-9 _inner\">\n",
              " <div class=\"d-flex flex-column flex-md-row title-date\">\n",
              " <div class=\"col-md-5\"><a href=\"/hd_base/roisfix/\">ROISfix</a></div>\n",
              " <div class=\"_date col-md-3 offset-md-1 _subinfo\">\n",
              " \t\t\t\t\t\t\t\t\t\t\t\t\tна\n",
              " \t\t\t\t\t\t\t\t\t\t\t\t\t21.06.2021</div>\n",
              " </div>\n",
              " </td>\n",
              " <td class=\"value _bold _end mono-num _with-icon _down\">5,26</td>\n",
              " <td class=\"value _bold _end mono-num _with-icon _down\">5,30</td>\n",
              " <td class=\"value _bold _end mono-num _with-icon _up\">5,38</td>\n",
              " </tr>\n",
              " </tbody>\n",
              " </table>\n",
              " </div>\n",
              " </div>\n",
              " </div>, <div class=\"key-indicator_content offset-md-2\">\n",
              " <div class=\"key-indicator_table_wrapper\">\n",
              " <div class=\"table key-indicator_table\">\n",
              " <table>\n",
              " <tbody>\n",
              " <tr class=\"denotements\">\n",
              " <td class=\"value\">млрд долл. США</td>\n",
              " <td class=\"value\"></td>\n",
              " </tr>\n",
              " <tr>\n",
              " <td class=\"value\"><a href=\"/hd_base/mrrf/mrrf_7d/\">11.06.2021</a></td>\n",
              " <td class=\"value _bold _end mono-num\">604,8</td>\n",
              " </tr>\n",
              " </tbody>\n",
              " </table>\n",
              " </div>\n",
              " </div>\n",
              " </div>, <div class=\"key-indicator_content offset-md-2\">\n",
              " <div class=\"key-indicator_table_wrapper\">\n",
              " <div class=\"table key-indicator_table\">\n",
              " <table>\n",
              " <tbody>\n",
              " <tr class=\"denotements\">\n",
              " <td class=\"value\">млрд руб.</td>\n",
              " <td class=\"value\"></td>\n",
              " </tr>\n",
              " <tr>\n",
              " <td class=\"value td-w-17 _inner\">\n",
              " <div class=\"d-flex flex-column flex-md-row title-date\">\n",
              " <div class=\"col-md-13\"><a href=\"/hd_base/bliquidity/\">Структурный дефицит/профицит ликвидности банковского сектора</a></div>\n",
              " <div class=\"col-md-3 offset-md-1 _subinfo\">\n",
              " \t\t\t\t\t\t\t\t\t\t\t\t\tна\n",
              " \t\t\t\t\t\t\t\t\t\t\t\t\t21.06.2021</div>\n",
              " </div>\n",
              " </td>\n",
              " <td class=\"value _bold _end mono-num _with-icon _down\">-1 200,4</td>\n",
              " </tr>\n",
              " <tr>\n",
              " <td class=\"value _without_border _without_border-mob\"><a href=\"/hd_base/ostat_base/\">Сведения об остатках средств на корреспондентских счетах кредитных организаций</a></td>\n",
              " <td class=\"value _without_border\"></td>\n",
              " </tr>\n",
              " <tr class=\"dash-group\">\n",
              " <td class=\"value _without_border td-w-17 _inner\">\n",
              " <div class=\"d-flex flex-column flex-md-row title-date\">\n",
              " <div class=\"with-dash col-md-13\">по Российской Федерации</div>\n",
              " <div class=\"col-md-3 offset-md-1 _subinfo\">\n",
              " \t\t\t\t\t\t\t\t\t\t\t\t\tна\n",
              " \t\t\t\t\t\t\t\t\t\t\t\t\t21.06.2021</div>\n",
              " </div>\n",
              " </td>\n",
              " <td class=\"value _without_border _bold _end mono-num _with-icon _up\">3 537,5</td>\n",
              " </tr>\n",
              " <tr class=\"dash-group\">\n",
              " <td class=\"value td-w-17 _inner\">\n",
              " <div class=\"d-flex flex-column flex-md-row title-date\">\n",
              " <div class=\"with-dash col-md-13\">по Московскому региону</div>\n",
              " <div class=\"col-md-3 offset-md-1 _subinfo\">\n",
              " \t\t\t\t\t\t\t\t\t\t\t\t\tна\n",
              " \t\t\t\t\t\t\t\t\t\t\t\t\t21.06.2021</div>\n",
              " </div>\n",
              " </td>\n",
              " <td class=\"value _bold _end mono-num _with-icon _up\">3 342,8</td>\n",
              " </tr>\n",
              " <tr>\n",
              " <td class=\"value td-w-17 _inner\">\n",
              " <div class=\"d-flex flex-column flex-md-row title-date\">\n",
              " <div class=\"col-md-13\"><a href=\"/hd_base/dv/?TP=3\">Объем предоставленных внутридневных кредитов</a></div>\n",
              " <div class=\"col-md-3 offset-md-1 _subinfo\">\n",
              " \t\t\t\t\t\t\t\t\t\t\t\t\tна\n",
              " \t\t\t\t\t\t\t\t\t\t\t\t\t18.06.2021</div>\n",
              " </div>\n",
              " </td>\n",
              " <td class=\"value _bold _end mono-num _with-icon _down\">147,3</td>\n",
              " </tr>\n",
              " <tr>\n",
              " <td class=\"value td-w-17 _inner\">\n",
              " <div class=\"d-flex flex-column flex-md-row title-date\">\n",
              " <div class=\"col-md-13\"><a href=\"/hd_base/ostat_depo_new/\">Депозиты банков в Банке России</a></div>\n",
              " <div class=\"col-md-3 offset-md-1 _subinfo\">\n",
              " \t\t\t\t\t\t\t\t\t\t\t\t\tна\n",
              " \t\t\t\t\t\t\t\t\t\t\t\t\t21.06.2021</div>\n",
              " </div>\n",
              " </td>\n",
              " <td class=\"value _bold _end mono-num _with-icon _up\">1 082,3</td>\n",
              " </tr>\n",
              " <tr>\n",
              " <td class=\"value td-w-17 _inner\">\n",
              " <div class=\"d-flex flex-column flex-md-row title-date\">\n",
              " <div class=\"col-md-13\"><a href=\"/hd_base/obr/obrcictotal/\">ОБР в обращении</a></div>\n",
              " <div class=\"col-md-3 offset-md-1 _subinfo\">\n",
              " \t\t\t\t\t\t\t\t\t\t\t\t\tна\n",
              " \t\t\t\t\t\t\t\t\t\t\t\t\t21.06.2021</div>\n",
              " </div>\n",
              " </td>\n",
              " <td class=\"value _bold _end mono-num\">616,8</td>\n",
              " </tr>\n",
              " <tr>\n",
              " <td class=\"value td-w-17 _inner\">\n",
              " <div class=\"d-flex flex-column flex-md-row title-date\">\n",
              " <div class=\"col-md-13\"><a href=\"/hd_base/saldo/\">Сальдо операций Банка России по предоставлению/абсорбированию ликвидности</a></div>\n",
              " <div class=\"col-md-3 offset-md-1 _subinfo\">\n",
              " \t\t\t\t\t\t\t\t\t\t\t\t\tна\n",
              " \t\t\t\t\t\t\t\t\t\t\t\t\t21.06.2021</div>\n",
              " </div>\n",
              " </td>\n",
              " <td class=\"value _bold _end mono-num _with-icon _up\">95,2</td>\n",
              " </tr>\n",
              " </tbody>\n",
              " </table>\n",
              " </div>\n",
              " </div>\n",
              " </div>, <div class=\"key-indicator_content offset-md-2\">\n",
              " <div class=\"key-indicator_table_wrapper\">\n",
              " <div class=\"table key-indicator_table\">\n",
              " <table>\n",
              " <tbody>\n",
              " <tr class=\"denotements\">\n",
              " <td class=\"value\">млн руб.</td>\n",
              " <td class=\"value\"></td>\n",
              " </tr>\n",
              " <tr>\n",
              " <td class=\"value td-w-17 _inner\">\n",
              " <div class=\"d-flex flex-column flex-md-row title-date\">\n",
              " <div class=\"col-md-9\"><a href=\"/hd_base/dv/?P1=2\">По кредитам овернайт</a></div>\n",
              " <div class=\"col-md-3 offset-md-1 _subinfo\">\n",
              " \t\t\t\t\t\t\t\t\t\t\t\t\tна\n",
              " \t\t\t\t\t\t\t\t\t\t\t\t\t21.06.2021</div>\n",
              " </div>\n",
              " </td>\n",
              " <td class=\"value _bold _end mono-num _with-icon _up\">15,5</td>\n",
              " </tr>\n",
              " <tr>\n",
              " <td class=\"value td-w-17 _inner\">\n",
              " <div class=\"d-flex flex-column flex-md-row title-date\">\n",
              " <div class=\"col-md-9\"><a href=\"/hd_base/dv/?P1=3\">По ломбардным кредитам</a></div>\n",
              " <div class=\"col-md-3 offset-md-1 _subinfo\">\n",
              " \t\t\t\t\t\t\t\t\t\t\t\t\tна\n",
              " \t\t\t\t\t\t\t\t\t\t\t\t\t21.06.2021</div>\n",
              " </div>\n",
              " </td>\n",
              " <td class=\"value _bold _end mono-num\">0,0</td>\n",
              " </tr>\n",
              " <tr>\n",
              " <td class=\"value td-w-17 _without_border _inner\">\n",
              " <div class=\"d-flex flex-column flex-md-row title-date\">\n",
              " <div class=\"col-md-9\"><a href=\"/hd_base/repo_debt/\">По операциям РЕПО</a></div>\n",
              " <div class=\"col-md-3 offset-md-1 _subinfo\">\n",
              " \t\t\t\t\t\t\t\t\t\t\t\t\tна\n",
              " \t\t\t\t\t\t\t\t\t\t\t\t\t21.06.2021</div>\n",
              " </div>\n",
              " </td>\n",
              " <td class=\"value _without_border _bold _end\"></td>\n",
              " </tr>\n",
              " <tr class=\"dash-group\">\n",
              " <td class=\"value _without_border td-w-17 with-dash\">на аукционной основе</td>\n",
              " <td class=\"value _without_border _bold _end mono-num\">153 719,4</td>\n",
              " </tr>\n",
              " <tr class=\"dash-group\">\n",
              " <td class=\"value td-w-17 with-dash\">по фиксированной ставке</td>\n",
              " <td class=\"value _bold _end mono-num\">831,5</td>\n",
              " </tr>\n",
              " <tr>\n",
              " <td class=\"value td-w-17 _inner\">\n",
              " <div class=\"d-flex flex-column flex-md-row title-date\">\n",
              " <div class=\"col-md-9\"><a href=\"/hd_base/swapdaytotal/\">По сделкам «валютный своп»</a></div>\n",
              " <div class=\"col-md-3 offset-md-1 _subinfo\">\n",
              " \t\t\t\t\t\t\t\t\t\t\t\t\tна\n",
              " \t\t\t\t\t\t\t\t\t\t\t\t\t21.06.2021</div>\n",
              " </div>\n",
              " </td>\n",
              " <td class=\"value _bold _end mono-num\">0,0</td>\n",
              " </tr>\n",
              " <tr>\n",
              " <td class=\"value td-w-17 _inner\">\n",
              " <div class=\"d-flex flex-column flex-md-row title-date\">\n",
              " <div class=\"col-md-9\"><a href=\"/hd_base/unsecloansdebt/\">По кредитам без обеспечения</a></div>\n",
              " <div class=\"col-md-3 offset-md-1 _subinfo\">\n",
              " \t\t\t\t\t\t\t\t\t\t\t\t\tна\n",
              " \t\t\t\t\t\t\t\t\t\t\t\t\t31.12.2010</div>\n",
              " </div>\n",
              " </td>\n",
              " <td class=\"value _bold _end mono-num\">0,0</td>\n",
              " </tr>\n",
              " <tr>\n",
              " <td class=\"value td-w-17 _inner\">\n",
              " <div class=\"d-flex flex-column flex-md-row title-date\">\n",
              " <div class=\"col-md-9\"><a href=\"/hd_base/dv/?P1=4\">По другим кредитам</a></div>\n",
              " <div class=\"col-md-3 offset-md-1 _subinfo\">\n",
              " \t\t\t\t\t\t\t\t\t\t\t\t\tна\n",
              " \t\t\t\t\t\t\t\t\t\t\t\t\t21.06.2021</div>\n",
              " </div>\n",
              " </td>\n",
              " <td class=\"value _bold _end mono-num _with-icon _up\">344 072,7</td>\n",
              " </tr>\n",
              " </tbody>\n",
              " </table>\n",
              " </div>\n",
              " </div>\n",
              " </div>]"
            ]
          },
          "metadata": {
            "tags": []
          },
          "execution_count": 82
        }
      ]
    },
    {
      "cell_type": "markdown",
      "metadata": {
        "id": "zJK8AP4kL-NI"
      },
      "source": [
        "Для перевода ее в датафрейм используем метод read_html. Метод возвращает список датафреймов. В нашем случае датафрейм будет только один, поэтому сразу берем первый элемент:"
      ]
    },
    {
      "cell_type": "code",
      "metadata": {
        "colab": {
          "base_uri": "https://localhost:8080/",
          "height": 204
        },
        "id": "7ydsreWUL_B7",
        "outputId": "addfe108-0156-40d2-b96c-63cb3e97e2ae"
      },
      "source": [
        "df = pd.read_html(str(data))[0]  \n",
        "df  "
      ],
      "execution_count": 7,
      "outputs": [
        {
          "output_type": "execute_result",
          "data": {
            "text/html": [
              "<div>\n",
              "<style scoped>\n",
              "    .dataframe tbody tr th:only-of-type {\n",
              "        vertical-align: middle;\n",
              "    }\n",
              "\n",
              "    .dataframe tbody tr th {\n",
              "        vertical-align: top;\n",
              "    }\n",
              "\n",
              "    .dataframe thead th {\n",
              "        text-align: right;\n",
              "    }\n",
              "</style>\n",
              "<table border=\"1\" class=\"dataframe\">\n",
              "  <thead>\n",
              "    <tr style=\"text-align: right;\">\n",
              "      <th></th>\n",
              "      <th>0</th>\n",
              "      <th>1</th>\n",
              "      <th>2</th>\n",
              "    </tr>\n",
              "  </thead>\n",
              "  <tbody>\n",
              "    <tr>\n",
              "      <th>0</th>\n",
              "      <td>рублей за грамм</td>\n",
              "      <td>18.06.2021</td>\n",
              "      <td>19.06.2021</td>\n",
              "    </tr>\n",
              "    <tr>\n",
              "      <th>1</th>\n",
              "      <td>Золото Au</td>\n",
              "      <td>4 211,68</td>\n",
              "      <td>4 161,79</td>\n",
              "    </tr>\n",
              "    <tr>\n",
              "      <th>2</th>\n",
              "      <td>Серебро Ag</td>\n",
              "      <td>6200</td>\n",
              "      <td>6127</td>\n",
              "    </tr>\n",
              "    <tr>\n",
              "      <th>3</th>\n",
              "      <td>Платина Pt</td>\n",
              "      <td>2 596,83</td>\n",
              "      <td>2 507,73</td>\n",
              "    </tr>\n",
              "    <tr>\n",
              "      <th>4</th>\n",
              "      <td>Палладий Pd</td>\n",
              "      <td>6 445,44</td>\n",
              "      <td>5 939,62</td>\n",
              "    </tr>\n",
              "  </tbody>\n",
              "</table>\n",
              "</div>"
            ],
            "text/plain": [
              "                 0           1           2\n",
              "0  рублей за грамм  18.06.2021  19.06.2021\n",
              "1        Золото Au    4 211,68    4 161,79\n",
              "2       Серебро Ag        6200        6127\n",
              "3       Платина Pt    2 596,83    2 507,73\n",
              "4      Палладий Pd    6 445,44    5 939,62"
            ]
          },
          "metadata": {
            "tags": []
          },
          "execution_count": 7
        }
      ]
    },
    {
      "cell_type": "markdown",
      "metadata": {
        "id": "ZuZqkqabMLlA"
      },
      "source": [
        "## Задание 2 - Рейтинг банков\n",
        "____\n",
        "Напишите программу, которая забирает данные из таблицы рейтинга банков с https://www.banki.ru/banks/ratings/, делает из него датафрейм и сохраняет его в переменую df."
      ]
    },
    {
      "cell_type": "code",
      "metadata": {
        "id": "qr2rIAQEMOr5"
      },
      "source": [
        "url = 'https://www.banki.ru/banks/ratings/'\n",
        "soup = BeautifulSoup(requests.get(url, headers={'User-Agent': 'Mozilla/5.0'}).text, 'html.parser')  "
      ],
      "execution_count": 83,
      "outputs": []
    },
    {
      "cell_type": "code",
      "metadata": {
        "id": "mHuurd95yN7_"
      },
      "source": [
        "all_blocks = soup.find_all('table', class_='standard-table standard-table--row-highlight margin-bottom-small margin-top-x-small')"
      ],
      "execution_count": 106,
      "outputs": []
    },
    {
      "cell_type": "code",
      "metadata": {
        "colab": {
          "base_uri": "https://localhost:8080/",
          "height": 876
        },
        "id": "MKYA2zk8NEdI",
        "outputId": "ebb30b8a-92d7-4c06-c43a-3991587bcdea"
      },
      "source": [
        "df = pd.read_html(str(all_blocks))[0]\n",
        "df.head(1) "
      ],
      "execution_count": 120,
      "outputs": [
        {
          "output_type": "execute_result",
          "data": {
            "text/html": [
              "<div>\n",
              "<style scoped>\n",
              "    .dataframe tbody tr th:only-of-type {\n",
              "        vertical-align: middle;\n",
              "    }\n",
              "\n",
              "    .dataframe tbody tr th {\n",
              "        vertical-align: top;\n",
              "    }\n",
              "\n",
              "    .dataframe thead tr th {\n",
              "        text-align: left;\n",
              "    }\n",
              "</style>\n",
              "<table border=\"1\" class=\"dataframe\">\n",
              "  <thead>\n",
              "    <tr>\n",
              "      <th></th>\n",
              "      <th>место</th>\n",
              "      <th>название банка лицензия №, Регион</th>\n",
              "      <th colspan=\"2\" halign=\"left\">показатель,  тыс. рублей</th>\n",
              "      <th colspan=\"2\" halign=\"left\">изменение</th>\n",
              "    </tr>\n",
              "    <tr>\n",
              "      <th></th>\n",
              "      <th>место</th>\n",
              "      <th>название банка лицензия №, Регион</th>\n",
              "      <th>Май, 2021 Апрель, 2021 Март, 2021 Февраль, 2021 Январь, 2021 Декабрь, 2020 Ноябрь, 2020 Октябрь, 2020 Сентябрь, 2020 Август, 2020 Июль, 2020 Июнь, 2020 Май, 2020 Апрель, 2020 Март, 2020 Февраль, 2020 Январь, 2020 Декабрь, 2019 Ноябрь, 2019 Октябрь, 2019 Сентябрь, 2019 Август, 2019 Июль, 2019 Июнь, 2019 Май, 2019 Апрель, 2019 Март, 2019 Февраль, 2019 Январь, 2019 Декабрь, 2018 Ноябрь, 2018 Октябрь, 2018 Сентябрь, 2018 Август, 2018 Июль, 2018 Июнь, 2018 Май, 2018 Апрель, 2018 Март, 2018 Февраль, 2018 Январь, 2018 Декабрь, 2017 Ноябрь, 2017 Октябрь, 2017 Сентябрь, 2017 Август, 2017 Июль, 2017 Июнь, 2017 Май, 2017 Апрель, 2017 Март, 2017 Февраль, 2017 Январь, 2017 Декабрь, 2016 Ноябрь, 2016 Октябрь, 2016 Сентябрь, 2016 Август, 2016 Июль, 2016 Июнь, 2016 Май, 2016 Апрель, 2016 Март, 2016 Февраль, 2016 Январь, 2016 Декабрь, 2015 Ноябрь, 2015 Октябрь, 2015 Сентябрь, 2015 Август, 2015 Июль, 2015 Июнь, 2015 Май, 2015 Апрель, 2015 Март, 2015 Февраль, 2015 Январь, 2015 Декабрь, 2014 Ноябрь, 2014 Октябрь, 2014 Сентябрь, 2014 Август, 2014 Июль, 2014 Июнь, 2014 Май, 2014 Апрель, 2014 Март, 2014 Февраль, 2014 Январь, 2014 Декабрь, 2013 Ноябрь, 2013 Октябрь, 2013 Сентябрь, 2013 Август, 2013 Июль, 2013 Июнь, 2013 Май, 2013 Апрель, 2013 Март, 2013 Февраль, 2013 Январь, 2013 Декабрь, 2012 Ноябрь, 2012 Октябрь, 2012 Сентябрь, 2012 Август, 2012 Июль, 2012 Июнь, 2012 Май, 2012 Апрель, 2012 Март, 2012 Февраль, 2012 Январь, 2012 Декабрь, 2011 Ноябрь, 2011 Октябрь, 2011 Сентябрь, 2011 Август, 2011 Июль, 2011 Июнь, 2011 Май, 2011 Апрель, 2011 Март, 2011 Февраль, 2011 Январь, 2011 Декабрь, 2010 Ноябрь, 2010 Октябрь, 2010 Сентябрь, 2010 Август, 2010 Июль, 2010 Июнь, 2010 Май, 2010 Апрель, 2010 Март, 2010 Февраль, 2010 Январь, 2010 Декабрь, 2009 Ноябрь, 2009 Октябрь, 2009 Сентябрь, 2009 Август, 2009 Июль, 2009 Июнь, 2009 Май, 2009 Апрель, 2009 Март, 2009 Февраль, 2009 Январь, 2009 Декабрь, 2008 Ноябрь, 2008 Октябрь, 2008 Сентябрь, 2008 Август, 2008 Июль, 2008 Июнь, 2008 Май, 2008 Апрель, 2008 Март, 2008</th>\n",
              "      <th>Май, 2021 Апрель, 2021 Март, 2021 Февраль, 2021 Январь, 2021 Декабрь, 2020 Ноябрь, 2020 Октябрь, 2020 Сентябрь, 2020 Август, 2020 Июль, 2020 Июнь, 2020 Май, 2020 Апрель, 2020 Март, 2020 Февраль, 2020 Январь, 2020 Декабрь, 2019 Ноябрь, 2019 Октябрь, 2019 Сентябрь, 2019 Август, 2019 Июль, 2019 Июнь, 2019 Май, 2019 Апрель, 2019 Март, 2019 Февраль, 2019 Январь, 2019 Декабрь, 2018 Ноябрь, 2018 Октябрь, 2018 Сентябрь, 2018 Август, 2018 Июль, 2018 Июнь, 2018 Май, 2018 Апрель, 2018 Март, 2018 Февраль, 2018 Январь, 2018 Декабрь, 2017 Ноябрь, 2017 Октябрь, 2017 Сентябрь, 2017 Август, 2017 Июль, 2017 Июнь, 2017 Май, 2017 Апрель, 2017 Март, 2017 Февраль, 2017 Январь, 2017 Декабрь, 2016 Ноябрь, 2016 Октябрь, 2016 Сентябрь, 2016 Август, 2016 Июль, 2016 Июнь, 2016 Май, 2016 Апрель, 2016 Март, 2016 Февраль, 2016 Январь, 2016 Декабрь, 2015 Ноябрь, 2015 Октябрь, 2015 Сентябрь, 2015 Август, 2015 Июль, 2015 Июнь, 2015 Май, 2015 Апрель, 2015 Март, 2015 Февраль, 2015 Январь, 2015 Декабрь, 2014 Ноябрь, 2014 Октябрь, 2014 Сентябрь, 2014 Август, 2014 Июль, 2014 Июнь, 2014 Май, 2014 Апрель, 2014 Март, 2014 Февраль, 2014 Январь, 2014 Декабрь, 2013 Ноябрь, 2013 Октябрь, 2013 Сентябрь, 2013 Август, 2013 Июль, 2013 Июнь, 2013 Май, 2013 Апрель, 2013 Март, 2013 Февраль, 2013 Январь, 2013 Декабрь, 2012 Ноябрь, 2012 Октябрь, 2012 Сентябрь, 2012 Август, 2012 Июль, 2012 Июнь, 2012 Май, 2012 Апрель, 2012 Март, 2012 Февраль, 2012 Январь, 2012 Декабрь, 2011 Ноябрь, 2011 Октябрь, 2011 Сентябрь, 2011 Август, 2011 Июль, 2011 Июнь, 2011 Май, 2011 Апрель, 2011 Март, 2011 Февраль, 2011 Январь, 2011 Декабрь, 2010 Ноябрь, 2010 Октябрь, 2010 Сентябрь, 2010 Август, 2010 Июль, 2010 Июнь, 2010 Май, 2010 Апрель, 2010 Март, 2010 Февраль, 2010 Январь, 2010 Декабрь, 2009 Ноябрь, 2009 Октябрь, 2009 Сентябрь, 2009 Август, 2009 Июль, 2009 Июнь, 2009 Май, 2009 Апрель, 2009 Март, 2009 Февраль, 2009 Январь, 2009 Декабрь, 2008 Ноябрь, 2008 Октябрь, 2008 Сентябрь, 2008 Август, 2008 Июль, 2008 Июнь, 2008 Май, 2008 Апрель, 2008 Март, 2008.1</th>\n",
              "      <th>тыс. рублей</th>\n",
              "      <th>%</th>\n",
              "    </tr>\n",
              "  </thead>\n",
              "  <tbody>\n",
              "    <tr>\n",
              "      <th>0</th>\n",
              "      <td>1</td>\n",
              "      <td>СберБанк лицензия № 1481, Москва и обл.</td>\n",
              "      <td>35 809 868 243</td>\n",
              "      <td>35 183 481 373</td>\n",
              "      <td>+626 386 870</td>\n",
              "      <td>+1,78%</td>\n",
              "    </tr>\n",
              "  </tbody>\n",
              "</table>\n",
              "</div>"
            ],
            "text/plain": [
              "  место        название банка лицензия №, Регион  ...     изменение        \n",
              "  место        название банка лицензия №, Регион  ...   тыс. рублей       %\n",
              "0     1  СберБанк лицензия № 1481, Москва и обл.  ...  +626 386 870  +1,78%\n",
              "\n",
              "[1 rows x 6 columns]"
            ]
          },
          "metadata": {
            "tags": []
          },
          "execution_count": 120
        }
      ]
    },
    {
      "cell_type": "markdown",
      "metadata": {
        "id": "WeHG4y_ICL1F"
      },
      "source": [
        "# Работа с API в \"vk.com\".\n",
        "___\n",
        "* Зайдите на страницу https://vk.com/editapp?act=create, чтобы создать приложение (вы должны быть авторизованы ВКонтакте). Дайте приложению любое название и оставьте значение платформы \"Standalone-приложение\".\n",
        "\n",
        "* Нужный нам токен лежит в поле \"Сервисный ключ доступа\".\n",
        "Перейдите по следующей ссылке в браузере, подставив вместо слова \"TOKEN\" сервисный токен из прошлого шага:\n",
        "\n",
        "https://api.vk.com/method/users.get?user_id=1&v=5.95&access_token=TOKEN"
      ]
    },
    {
      "cell_type": "code",
      "metadata": {
        "colab": {
          "base_uri": "https://localhost:8080/",
          "height": 35
        },
        "id": "VsVb0IH-CzN7",
        "outputId": "14478f50-5bda-4317-9131-0c6d720c24a5"
      },
      "source": [
        "import requests  \n",
        "  \n",
        "url = 'https://api.vk.com/method/users.get'   \n",
        "token = ''\n",
        "params = {'user_id': 1, 'v': 5.95, 'fields': 'sex,bdate', 'access_token': token, 'lang': 'ru'}  \n",
        "  \n",
        "# Мы можем выставить параметры запроса через аргумент params  \n",
        "response = requests.get(url, params=params)  \n",
        "response.text  "
      ],
      "execution_count": 124,
      "outputs": [
        {
          "output_type": "execute_result",
          "data": {
            "application/vnd.google.colaboratory.intrinsic+json": {
              "type": "string"
            },
            "text/plain": [
              "'{\"response\":[{\"first_name\":\"Павел\",\"id\":1,\"last_name\":\"Дуров\",\"can_access_closed\":true,\"is_closed\":false,\"sex\":2,\"bdate\":\"10.10.1984\"}]}'"
            ]
          },
          "metadata": {
            "tags": []
          },
          "execution_count": 124
        }
      ]
    },
    {
      "cell_type": "markdown",
      "metadata": {
        "id": "v9Omm62vEqsS"
      },
      "source": [
        "Мы получили строку в формате JSON. Как мы помним по первому разделу, её можно преобразовать в словарь методом json и после этого обращаться к различным полям. Кроме того, такие большие вложенные словари нагляднее выводить с помощью функции pprint (~pretty print, красивый вывод), которым мы и воспользуемся"
      ]
    },
    {
      "cell_type": "code",
      "metadata": {
        "colab": {
          "base_uri": "https://localhost:8080/"
        },
        "id": "P14oZBv9C5b3",
        "outputId": "d0d8f46e-d6fd-4934-c60b-68e4051643d6"
      },
      "source": [
        "print(response.json())"
      ],
      "execution_count": 129,
      "outputs": [
        {
          "output_type": "stream",
          "text": [
            "{'response': [{'first_name': 'Павел', 'id': 1, 'last_name': 'Дуров', 'can_access_closed': True, 'is_closed': False, 'sex': 2, 'bdate': '10.10.1984'}]}\n"
          ],
          "name": "stdout"
        }
      ]
    },
    {
      "cell_type": "code",
      "metadata": {
        "colab": {
          "base_uri": "https://localhost:8080/"
        },
        "id": "L2EUWDvRE5E2",
        "outputId": "670db2e8-4f83-4a47-c151-1ed9e13cccff"
      },
      "source": [
        "from pprint import pprint  \n",
        "  \n",
        "pprint(response.json())  "
      ],
      "execution_count": 131,
      "outputs": [
        {
          "output_type": "stream",
          "text": [
            "{'response': [{'bdate': '10.10.1984',\n",
            "               'can_access_closed': True,\n",
            "               'first_name': 'Павел',\n",
            "               'id': 1,\n",
            "               'is_closed': False,\n",
            "               'last_name': 'Дуров',\n",
            "               'sex': 2}]}\n"
          ],
          "name": "stdout"
        }
      ]
    },
    {
      "cell_type": "code",
      "metadata": {
        "colab": {
          "base_uri": "https://localhost:8080/"
        },
        "id": "vHin4UR_FeF7",
        "outputId": "95b993cb-a477-44cc-eaab-cf95dcdce154"
      },
      "source": [
        "user = response.json()['response'][0]  \n",
        "print(user['bdate'])  \n",
        "# Выведем имя  \n",
        "print(user['first_name'])  "
      ],
      "execution_count": 134,
      "outputs": [
        {
          "output_type": "stream",
          "text": [
            "10.10.1984\n",
            "Павел\n"
          ],
          "name": "stdout"
        }
      ]
    },
    {
      "cell_type": "markdown",
      "metadata": {
        "id": "mUbJStl0Fn0a"
      },
      "source": [
        "анный метод позволяет запрашивать сразу много пользователей (до 1000).  Для этого нужно использовать параметр user_ids и передавать id через запятую в строковом формате, например: '1,2,3'."
      ]
    },
    {
      "cell_type": "code",
      "metadata": {
        "colab": {
          "base_uri": "https://localhost:8080/"
        },
        "id": "BZtr8yswFori",
        "outputId": "78a7d2a3-adeb-4e7a-c118-eb819dba69b7"
      },
      "source": [
        "ids = \",\".join(map(str, range(1, 4)))  \n",
        "print(ids)  \n",
        "token = ''\n",
        "params = {'user_ids': ids, 'v': 5.95, 'fields': 'bday', 'access_token': token, 'lang': 'ru'}  \n",
        "  \n",
        "pprint(requests.get(url, params=params).json()) "
      ],
      "execution_count": 138,
      "outputs": [
        {
          "output_type": "stream",
          "text": [
            "1,2,3\n",
            "{'response': [{'can_access_closed': True,\n",
            "               'first_name': 'Павел',\n",
            "               'id': 1,\n",
            "               'is_closed': False,\n",
            "               'last_name': 'Дуров'},\n",
            "              {'can_access_closed': False,\n",
            "               'first_name': 'Александра',\n",
            "               'id': 2,\n",
            "               'is_closed': True,\n",
            "               'last_name': 'Владимирова'},\n",
            "              {'deactivated': 'deleted',\n",
            "               'first_name': 'DELETED',\n",
            "               'id': 3,\n",
            "               'last_name': ''}]}\n"
          ],
          "name": "stdout"
        }
      ]
    },
    {
      "cell_type": "code",
      "metadata": {
        "id": "N5yHWgf2HFIj"
      },
      "source": [
        "token = 'None' # стер токен для безопасности"
      ],
      "execution_count": 140,
      "outputs": []
    },
    {
      "cell_type": "markdown",
      "metadata": {
        "id": "Zh6R8QURHNcA"
      },
      "source": [
        "## Задание 1 - Гендерный баланс\n",
        "___\n",
        "Используя API, определите долю женщин(sex=1) среди пользователей с id от 1 до 500. Иногда вам будут попадать пользователи, у которых пол не указан (sex=0), их не нужно учитывать в общем числе.\n",
        "\n",
        "В ответе укажите число, округлив до двух знаков после запятой, например, 0.55\n",
        "\n",
        "Пример: если у нас будет 300 пользователей sex=1, 100 пользователей с sex=2 и 100 пользователей с sex=0, то в ответе должно быть 0.75"
      ]
    },
    {
      "cell_type": "code",
      "metadata": {
        "id": "S_xtvuYBHMdP"
      },
      "source": [
        "ids = \",\".join(map(str, range(1, 501)))  \n",
        "\n",
        "token = ''\n",
        "params = {'user_ids': ids, 'v': 5.95, 'fields': 'sex', 'access_token': token, 'lang': 'ru'}  \n",
        "  \n",
        "request_sex = requests.get(url, params=params).json()"
      ],
      "execution_count": 143,
      "outputs": []
    },
    {
      "cell_type": "code",
      "metadata": {
        "colab": {
          "base_uri": "https://localhost:8080/"
        },
        "id": "RorbbSDZIW6u",
        "outputId": "fe416637-4780-4c2f-e78e-e60d5adde24c"
      },
      "source": [
        "n = len(request_sex['response'])\n",
        "list_sex = [i for i in range(n) if request_sex['response'][i]['sex'] == 1]\n",
        "list_sex_2 = [i for i in range(n) if request_sex['response'][i]['sex'] == 2]\n",
        "len(list_sex)/(len(list_sex)+len(list_sex_2))"
      ],
      "execution_count": 180,
      "outputs": [
        {
          "output_type": "execute_result",
          "data": {
            "text/plain": [
              "0.4845605700712589"
            ]
          },
          "metadata": {
            "tags": []
          },
          "execution_count": 180
        }
      ]
    },
    {
      "cell_type": "markdown",
      "metadata": {
        "id": "HO504XiKYaEl"
      },
      "source": [
        "# Ограничения API\n",
        "В прошлом блоке мы собрали информацию о небольшом наборе пользователей. Теперь перейдем к более реальной задаче — сбору данных о пользователях группы ВКонтакте. \n",
        "\n",
        "Стоит отметить, что есть много сервисов, которые выгружают похожую статистику из соцсетей. Однако им свойственны недостатки универсальных решений:\n",
        "\n",
        "не могут учитывать всех особенностей вашего проекта;\n",
        "считают фиксированный набор метрик, дополнительную обработку данных приходится делать вам;\n",
        "не всегда бесплатны и вряд ли позволят работать с большими объемами данных.\n",
        "В этом разделе мы научимся считать произвольные метрики групп, собирая данные из API. \n",
        "\n",
        "В текущем шаге мы научимся работать с двумя ограничениями, которые свойственны практически всем системам:\n",
        "\n",
        "ограничение на количество вызовов в единицу времени;\n",
        "ограничение на количество выгружаемых строк за один запрос.\n",
        "Ограничение на количество запросов в секунду сделано для того, чтобы избежать чрезмерной нагрузки на серверы системы. В ряде случаев небольшое количество отчетов можно выгрузить, уложившись в этот лимит (например, как мы получили информацию о 500 пользователях в прошлом упражнении). Однако второе ограничение не удастся «обойти» в случае выгрузки больших отчетов. Например, чтобы получить список всех пользователей очень популярной группы, серверу, возможно, придется отправить вам разом лист из миллионов записей.\n",
        "\n",
        "Давайте рассмотрим, как работать с этими ограничениями на примере выгрузки списка пользователей группы https://vk.com/vk.\n",
        "\n",
        "Посмотрим в документации, какие методы нам доступны для групп. Для получения списка пользователей группы видим метод groups.getMembers.\n",
        "\n",
        "Согласно документации, обязательным параметром является ID или короткое имя группы. В нашем случае это vk: https://vk.com/vk. Тестируем, как работает метод в самом простом случае:"
      ]
    },
    {
      "cell_type": "code",
      "metadata": {
        "id": "1qtJ1fNrYoV7"
      },
      "source": [
        "import requests  \n",
        "url = 'https://api.vk.com/method/groups.getMembers'  \n",
        "params = {  \n",
        "    'group_id': 'vk',  \n",
        "    'v': 5.95,  \n",
        "    'access_token': token  \n",
        "}  \n",
        "response = requests.get(url, params = params)  \n",
        "data = response.json()  \n",
        "# print(data)  \n",
        "\n",
        "  \n",
        "# len(data['response']['items'])  "
      ],
      "execution_count": 195,
      "outputs": []
    },
    {
      "cell_type": "code",
      "metadata": {
        "colab": {
          "base_uri": "https://localhost:8080/"
        },
        "id": "dmzPF4fdbaM8",
        "outputId": "ca374f35-20ae-4998-ea18-e1c49651d12e"
      },
      "source": [
        "data['response']['count']"
      ],
      "execution_count": 196,
      "outputs": [
        {
          "output_type": "execute_result",
          "data": {
            "text/plain": [
              "11589635"
            ]
          },
          "metadata": {
            "tags": []
          },
          "execution_count": 196
        }
      ]
    },
    {
      "cell_type": "markdown",
      "metadata": {
        "id": "nLzJTONbZCRc"
      },
      "source": [
        "## Получаем всех пользователей\n",
        "Мы видим, что всего пользователей в группе больше 11 000 000, а получили мы только первую тысячу пользователей группы. Судя по описанию параметра count в документации, это максимум, который может отдать API за один раз.\n",
        "\n",
        "Для получения следующей тысячи пользователей воспользуемся параметрами count и offset: будем в цикле выгружать по 1000 пользователей (count будет всегда равен 1000), а в каждом следующем шаге цикла увеличим смещение offset на величину count.\n",
        "\n",
        "Сначала напишем цикл выгрузки первых 20 пользователей со значением count = 5. Т.е. цикл будет выгружать за 1 запрос по 5 пользователей, пока не выгрузит первые 20. Это позволит нам проверить корректность работы цикла перед тем, как делать большие и долгие выгрузки.\n",
        "\n",
        "Давайте выведем на экран первые 20 пользователей из нашей первой попытки с 1000 пользователей, чтобы было с чем сверить результат выгрузки из 20 пользователей:"
      ]
    },
    {
      "cell_type": "code",
      "metadata": {
        "colab": {
          "base_uri": "https://localhost:8080/"
        },
        "id": "OshNwvAYZGTP",
        "outputId": "e1bc5882-6e7b-4571-f360-d475d3503b5b"
      },
      "source": [
        "users_for_checking = data['response']['items'][:20]\n",
        "print(users_for_checking)  "
      ],
      "execution_count": 187,
      "outputs": [
        {
          "output_type": "stream",
          "text": [
            "[5, 6, 10, 19, 34, 47, 54, 79, 177, 193, 198, 205, 219, 239, 243, 254, 345, 404, 406, 407]\n"
          ],
          "name": "stdout"
        }
      ]
    },
    {
      "cell_type": "markdown",
      "metadata": {
        "id": "h3OpERubZhtU"
      },
      "source": [
        "Теперь используем count и offset, чтобы получить те же id по 5 за раз"
      ]
    },
    {
      "cell_type": "code",
      "metadata": {
        "colab": {
          "base_uri": "https://localhost:8080/"
        },
        "id": "6OHDVghIZiRr",
        "outputId": "9e9b5a6e-d70a-4e65-bdc9-9a19e12d77fb"
      },
      "source": [
        "count = 5  \n",
        "offset = 0  \n",
        "user_ids = []\n",
        "max_count = 20  \n",
        "while offset < max_count:  \n",
        "    print('Выгружаю {} пользователей с offset = {}'.format(count, offset))     \n",
        "    params = {  \n",
        "        'group_id': 'vk',  \n",
        "        'v': 5.95,  \n",
        "        'count': count,  \n",
        "        'offset': offset,  \n",
        "        'access_token': token  \n",
        "    }     \n",
        "    # такой же запрос как в прошлый раз  \n",
        "    r = requests.get(url, params = params)  \n",
        "    data = r.json()     \n",
        "    user_ids += data['response']['items']   \n",
        "  \n",
        "    # увеличиваем смещение на количество строк выгрузки  \n",
        "    offset += count  \n",
        "\n",
        "print(user_ids)  \n",
        "  \n",
        "user_ids == users_for_checking  "
      ],
      "execution_count": 188,
      "outputs": [
        {
          "output_type": "stream",
          "text": [
            "Выгружаю 5 пользователей с offset = 0\n",
            "Выгружаю 5 пользователей с offset = 5\n",
            "Выгружаю 5 пользователей с offset = 10\n",
            "Выгружаю 5 пользователей с offset = 15\n",
            "[5, 6, 10, 19, 34, 47, 54, 79, 177, 193, 198, 205, 219, 239, 243, 254, 345, 404, 406, 407]\n"
          ],
          "name": "stdout"
        },
        {
          "output_type": "execute_result",
          "data": {
            "text/plain": [
              "True"
            ]
          },
          "metadata": {
            "tags": []
          },
          "execution_count": 188
        }
      ]
    },
    {
      "cell_type": "markdown",
      "metadata": {
        "id": "z_m-4a9dZzyZ"
      },
      "source": [
        "Видим, что подход корректно работает. Теперь мы можем получить всех пользователей, выставив count = 1000 и max_count = data['response']['count']."
      ]
    },
    {
      "cell_type": "markdown",
      "metadata": {
        "id": "vbV0LFIfZ5hS"
      },
      "source": [
        "## Задание 1 - Юбилейный пользователь\n",
        "\n",
        "Используя API, определите id стотысячного пользователя в группе vk . Т.е. если бы у нас не было ограничения на размер запроса, то мы бы запросили data['response']['items'][99999] ."
      ]
    },
    {
      "cell_type": "code",
      "metadata": {
        "colab": {
          "base_uri": "https://localhost:8080/"
        },
        "id": "vOX3BEdrZ00-",
        "outputId": "53497baa-6cd5-4299-cb3f-985dfaa962f1"
      },
      "source": [
        "count = 1\n",
        "offset = 99999\n",
        "max_count = 99999  \n",
        "params = {  \n",
        "        'group_id': 'vk',  \n",
        "        'v': 5.95,  \n",
        "        'count': count,  \n",
        "        'offset': offset,  \n",
        "        'access_token': token  \n",
        "    }     \n",
        "# такой же запрос как в прошлый раз  \n",
        "r = requests.get(url, params = params)  \n",
        "data = r.json()     \n",
        "user_ids = data['response']['items']   \n",
        "print(user_ids)  "
      ],
      "execution_count": 205,
      "outputs": [
        {
          "output_type": "stream",
          "text": [
            "[6230203]\n"
          ],
          "name": "stdout"
        }
      ]
    },
    {
      "cell_type": "markdown",
      "metadata": {
        "id": "rZJY-HqHgmjR"
      },
      "source": [
        "# Ограничение по частоте запросов\n",
        "В API частот добавляют ограничение по частоте запросов, чтобы отдельно взятые пользователи слишком сильно не перегружали  сервер. Подобное ограничение есть и у ВКонтакте, в документации которой указано, что можно делать не более 3-х запросов в секунду. \n",
        "\n",
        "Чтобы не следить за частотой отправки запросов с секундомером в руках, мы можем после каждого запроса делать паузу. В этом случае, даже если код будет выполняться на самом быстром компьютере, мы не нарушим установленное ограничение, т.к. периодичность отправки запросов будет искусственно замедлена. Воспользуемся библиотекой time и методом sleep (пауза в 0.5 секунды добавлена в конце цикла):"
      ]
    },
    {
      "cell_type": "code",
      "metadata": {
        "colab": {
          "base_uri": "https://localhost:8080/"
        },
        "id": "ga_NMaTZgp1y",
        "outputId": "56e8f957-ac06-4eb8-ab5c-c33e8c01ea97"
      },
      "source": [
        "import time  \n",
        "  \n",
        "count = 1000  \n",
        "offset = 0  \n",
        "user_ids = []  \n",
        "while offset < 10000:  \n",
        "    print('Выгружаю {} пользователей с offset = {}'.format(count, offset))     \n",
        "    params = {  \n",
        "        'group_id': 'vk',  \n",
        "        'v': 5.95,  \n",
        "        'count': count,  \n",
        "        'offset': offset,  \n",
        "        'access_token': token  \n",
        "    }    \n",
        "    # такой же запрос, как в прошлый раз  \n",
        "    r = requests.get(url, params = params)  \n",
        "    data = r.json()     \n",
        "    user_ids += data['response']['items']    \n",
        "  \n",
        "    # увеличиваем смещение на количество строк выгрузки  \n",
        "    offset += count  \n",
        "    \n",
        "    print('Ожидаю 0.5 секунды...')  \n",
        "    time.sleep(0.5)  "
      ],
      "execution_count": 206,
      "outputs": [
        {
          "output_type": "stream",
          "text": [
            "Выгружаю 1000 пользователей с offset = 0\n",
            "Ожидаю 0.5 секунды...\n",
            "Выгружаю 1000 пользователей с offset = 1000\n",
            "Ожидаю 0.5 секунды...\n",
            "Выгружаю 1000 пользователей с offset = 2000\n",
            "Ожидаю 0.5 секунды...\n",
            "Выгружаю 1000 пользователей с offset = 3000\n",
            "Ожидаю 0.5 секунды...\n",
            "Выгружаю 1000 пользователей с offset = 4000\n",
            "Ожидаю 0.5 секунды...\n",
            "Выгружаю 1000 пользователей с offset = 5000\n",
            "Ожидаю 0.5 секунды...\n",
            "Выгружаю 1000 пользователей с offset = 6000\n",
            "Ожидаю 0.5 секунды...\n",
            "Выгружаю 1000 пользователей с offset = 7000\n",
            "Ожидаю 0.5 секунды...\n",
            "Выгружаю 1000 пользователей с offset = 8000\n",
            "Ожидаю 0.5 секунды...\n",
            "Выгружаю 1000 пользователей с offset = 9000\n",
            "Ожидаю 0.5 секунды...\n"
          ],
          "name": "stdout"
        }
      ]
    },
    {
      "cell_type": "markdown",
      "metadata": {
        "id": "2i73NtY5gwb3"
      },
      "source": [
        "# Лайки, репосты и комментарии\n",
        "Ещё одна полезная вещь, которую можно получить,  —  это количество взаимодействий с постами через API новостной ленты. На данном этапе будем использовать самый простой вариант: берем последние 10 постов группы. Мы продолжаем работать с группой https://vk.com/vk."
      ]
    },
    {
      "cell_type": "code",
      "metadata": {
        "id": "reSU84k6gyRI"
      },
      "source": [
        "# Начнем с  формирования запроса к API ВКонтакте методом wall.get():\n",
        "import requests  \n",
        "from pprint import pprint  \n",
        "  \n",
        "url = 'https://api.vk.com/method/wall.get'  \n",
        "params = {  \n",
        "    'domain': 'vk',  \n",
        "    'filter': 'owner',  \n",
        "    'count': 10,  \n",
        "    'offset': 0,  \n",
        "    'access_token': token,  \n",
        "    'v': 5.95  \n",
        "}  \n",
        "response = requests.get(url, params = params)  \n",
        "response.json()"
      ],
      "execution_count": null,
      "outputs": []
    },
    {
      "cell_type": "markdown",
      "metadata": {
        "id": "av3YcbIihVn-"
      },
      "source": [
        "Видим, что сначала идёт общее количество постов, а по ключу 'items'  —  сами посты. Посмотрим на отдельный пост:"
      ]
    },
    {
      "cell_type": "code",
      "metadata": {
        "colab": {
          "base_uri": "https://localhost:8080/"
        },
        "id": "AbQBaKobhUJl",
        "outputId": "12942eb6-e862-4daf-823b-18352079e105"
      },
      "source": [
        "response.json()['response']['items'][0]  "
      ],
      "execution_count": 208,
      "outputs": [
        {
          "output_type": "execute_result",
          "data": {
            "text/plain": [
              "{'comments': {'can_post': 1, 'count': 570, 'groups_can_post': True},\n",
              " 'copy_history': [{'attachments': [{'photo': {'access_key': '137b98209f5bba98eb',\n",
              "      'album_id': -7,\n",
              "      'date': 1623077377,\n",
              "      'has_tags': False,\n",
              "      'id': 457239999,\n",
              "      'owner_id': 92933,\n",
              "      'sizes': [{'height': 73,\n",
              "        'type': 'm',\n",
              "        'url': 'https://sun9-20.userapi.com/impg/MGfZca1k6I8K8LADPpS4cQ3TpAYetXLlyKbOGw/9YgPvfZIKsk.jpg?size=130x73&quality=96&sign=d54ae9faac190f5d6d5ad09fc65ae959&c_uniq_tag=gsbIvbUC0SF58IMFJoxakmoA2HToQ6MUoWS7lflt7U4&type=album',\n",
              "        'width': 130},\n",
              "       {'height': 87,\n",
              "        'type': 'o',\n",
              "        'url': 'https://sun9-20.userapi.com/impg/MGfZca1k6I8K8LADPpS4cQ3TpAYetXLlyKbOGw/9YgPvfZIKsk.jpg?size=130x87&quality=96&crop=204,0,2152,1440&sign=fbe6b47e9d8ba1674a33876128a2371b&c_uniq_tag=uRAIdKgvVuRVRRpER0B6icn3HxmsHEnuZmBnqS-M1mw&type=album',\n",
              "        'width': 130},\n",
              "       {'height': 133,\n",
              "        'type': 'p',\n",
              "        'url': 'https://sun9-20.userapi.com/impg/MGfZca1k6I8K8LADPpS4cQ3TpAYetXLlyKbOGw/9YgPvfZIKsk.jpg?size=200x133&quality=96&crop=197,0,2165,1440&sign=3dc017907968c05c654416db4b2d8dd9&c_uniq_tag=coBmX7ywoXX7KvYbUyFXZd8Z339BPnuKC5_q9VCTfGM&type=album',\n",
              "        'width': 200},\n",
              "       {'height': 213,\n",
              "        'type': 'q',\n",
              "        'url': 'https://sun9-20.userapi.com/impg/MGfZca1k6I8K8LADPpS4cQ3TpAYetXLlyKbOGw/9YgPvfZIKsk.jpg?size=320x213&quality=96&crop=198,0,2163,1440&sign=a423c4a176d2d4077ef1cd169b4ee6b6&c_uniq_tag=959TKyZ8j36D-U1zRoDTxhP0ZdUmXD4V2vRD_PbER9A&type=album',\n",
              "        'width': 320},\n",
              "       {'height': 340,\n",
              "        'type': 'r',\n",
              "        'url': 'https://sun9-20.userapi.com/impg/MGfZca1k6I8K8LADPpS4cQ3TpAYetXLlyKbOGw/9YgPvfZIKsk.jpg?size=510x340&quality=96&crop=200,0,2160,1440&sign=e6ff820ba574514ae2febe5aa76c5d26&c_uniq_tag=ANgQaeYGq3xsmITowHORv5AxYsT3arsoBCemQIJfpOE&type=album',\n",
              "        'width': 510},\n",
              "       {'height': 42,\n",
              "        'type': 's',\n",
              "        'url': 'https://sun9-20.userapi.com/impg/MGfZca1k6I8K8LADPpS4cQ3TpAYetXLlyKbOGw/9YgPvfZIKsk.jpg?size=75x42&quality=96&sign=0408b7e21750aa93c4ffb477a9535d2a&c_uniq_tag=UxeON4FD6T4MpeKIbiFuQ-qKIy2Np6XB2FBvhrkOJOY&type=album',\n",
              "        'width': 75},\n",
              "       {'height': 1440,\n",
              "        'type': 'w',\n",
              "        'url': 'https://sun9-20.userapi.com/impg/MGfZca1k6I8K8LADPpS4cQ3TpAYetXLlyKbOGw/9YgPvfZIKsk.jpg?size=2560x1440&quality=96&sign=858063a5020d74b86ef2d356b434e37d&c_uniq_tag=hChlykWi-W_Rq5NW1m37T4An-kFx6Qa0nKqanGJcdk8&type=album',\n",
              "        'width': 2560},\n",
              "       {'height': 340,\n",
              "        'type': 'x',\n",
              "        'url': 'https://sun9-20.userapi.com/impg/MGfZca1k6I8K8LADPpS4cQ3TpAYetXLlyKbOGw/9YgPvfZIKsk.jpg?size=604x340&quality=96&sign=4a3c3e5a9a36c0e0918866cb36831757&c_uniq_tag=wIkCJqA0rDjpS5sY-0EdLP04yhnsg1ft2uqMCYpSO0M&type=album',\n",
              "        'width': 604},\n",
              "       {'height': 454,\n",
              "        'type': 'y',\n",
              "        'url': 'https://sun9-20.userapi.com/impg/MGfZca1k6I8K8LADPpS4cQ3TpAYetXLlyKbOGw/9YgPvfZIKsk.jpg?size=807x454&quality=96&sign=22a1f9f78ca165764af004a6bfaf621c&c_uniq_tag=Wt65IZCLtTwhi3xYzkAuzYn-dDrkiHZbm-56uzR34pc&type=album',\n",
              "        'width': 807},\n",
              "       {'height': 720,\n",
              "        'type': 'z',\n",
              "        'url': 'https://sun9-20.userapi.com/impg/MGfZca1k6I8K8LADPpS4cQ3TpAYetXLlyKbOGw/9YgPvfZIKsk.jpg?size=1280x720&quality=96&sign=1d59f777172b4175114b32492ea017fa&c_uniq_tag=HvbdpvI776UERLpf6_MhnGccVvSWuoWmKFP0NR6Fmsc&type=album',\n",
              "        'width': 1280}],\n",
              "      'text': ''},\n",
              "     'type': 'photo'}],\n",
              "   'date': 1623077384,\n",
              "   'from_id': 92933,\n",
              "   'id': 367,\n",
              "   'owner_id': 92933,\n",
              "   'post_source': {'type': 'vk'},\n",
              "   'post_type': 'post',\n",
              "   'text': 'Ровно год назад мы запустили Клипы — новый раздел ВКонтакте, в котором можно бесконечно смотреть короткие вертикальные видео. Под рукой появился мощный набор инcтрументов: с помощью масок, фильтров и VR-эффектов обычные видео теперь могут стать настоящим шедевром. И всё это легко делать прямо на телефоне в приложении VK.\\n\\nПодробнее о цифрах мы написали в пресс-релизе vk.com/press/clips-1-year — они говорят сами за себя. Не буду останавливаться на метриках. Хочу поделиться эмоциями, которые переполняют меня в этот день.\\n\\nДля меня и ребят, с которыми мы работали над Клипами, этот проект стал особенным. По сути, мы создали внутри ВКонтакте настоящий стартап — и работали как в стартапе: увлечённо, с полной отдачей. Я благодарна команде за то, что вместе нам удалось в короткие сроки запустить очень сложный продукт, — и год спустя растущая любовь пользователей к Клипам показывает, что трудились мы не напрасно. \\n\\nКлипы принесут ещё немало сюрпризов, так что не переключайтесь! 🎬✌🏻✌🏻✌🏻'}],\n",
              " 'date': 1623088250,\n",
              " 'from_id': -22822305,\n",
              " 'id': 1173557,\n",
              " 'likes': {'can_like': 1, 'can_publish': 1, 'count': 872, 'user_likes': 0},\n",
              " 'marked_as_ads': 0,\n",
              " 'owner_id': -22822305,\n",
              " 'post_source': {'type': 'vk'},\n",
              " 'post_type': 'post',\n",
              " 'reposts': {'count': 115, 'user_reposted': 0},\n",
              " 'text': '',\n",
              " 'views': {'count': 273972}}"
            ]
          },
          "metadata": {
            "tags": []
          },
          "execution_count": 208
        }
      ]
    },
    {
      "cell_type": "markdown",
      "metadata": {
        "id": "622VYQOuhdo4"
      },
      "source": [
        "Нужная нам статистика находится в полях 'comments', 'likes' и 'reposts'. Соберем итоговую статистику для каждого поста в словарь stats. В качестве ключа будем использовать начало статьи, в качестве значения — список с тремя интересующими нас метриками и временем публикации: [комментарии, лайки, репосты, дата публикации]"
      ]
    },
    {
      "cell_type": "code",
      "metadata": {
        "colab": {
          "base_uri": "https://localhost:8080/"
        },
        "id": "apyigflehhBv",
        "outputId": "991b0fa9-4c47-4bdb-eccd-d22fbc0c039f"
      },
      "source": [
        "stats = {}  \n",
        "              \n",
        "for record in response.json()['response']['items'][:]:  \n",
        "    title = record['text'][:30]  \n",
        "    if title:  \n",
        "        stats[title] = [record['comments']['count'], record['likes']['count'], record['reposts']['count'], record['date'] ]  \n",
        "pprint(stats)  "
      ],
      "execution_count": 209,
      "outputs": [
        {
          "output_type": "stream",
          "text": [
            "{'Благодаря форс-мажорному 2020-': [6155, 2984, 749, 1608903643],\n",
            " 'В наступающий год — со свежим ': [3256, 5361, 1903, 1608033618],\n",
            " 'В этом году у нас было много т': [271, 1955, 232, 1607943610],\n",
            " 'Ваши чаты — ваши правила! Встр': [413, 3323, 3353, 1622722801],\n",
            " 'Вот уже четвёртый год мы подде': [3117, 4886, 771, 1608897114],\n",
            " 'Сообщества были и остаются одн': [775, 2437, 366, 1608105691],\n",
            " 'Что поможет найти лучший автос': [1141, 14828, 11137, 1608548489]}\n"
          ],
          "name": "stdout"
        }
      ]
    },
    {
      "cell_type": "markdown",
      "metadata": {
        "id": "lP-YGxRBhyer"
      },
      "source": [
        "## Задание 1 - SMM index\n",
        "\n",
        "Напишите функцию get_smm_index(group_name, token), которая по имени группы и авторизационному токену API возвращает smm_index группы - сумму лайков, комментариев и репостов для последних 10 постов, поделённую на количество участников в группе.\n",
        "```\n",
        "token = '...'\n",
        "get_smm_index('vk', token)\n",
        "# => 0.00337003\n",
        "      \n",
        "```\n",
        "\n",
        "\n",
        "      "
      ]
    },
    {
      "cell_type": "code",
      "metadata": {
        "colab": {
          "base_uri": "https://localhost:8080/"
        },
        "id": "__1K252nh_xl",
        "outputId": "45e24c9e-d22d-4478-bf48-1d34dfca098a"
      },
      "source": [
        "def get_smm_index(group_name, token):\n",
        "  import requests  \n",
        "  from pprint import pprint  \n",
        "  \n",
        "  url = 'https://api.vk.com/method/wall.get'  \n",
        "  params = {  \n",
        "    'domain': 'vk',  \n",
        "    'filter': 'owner',  \n",
        "    'count': 10,  \n",
        "    'offset': 0,  \n",
        "    'access_token': token,  \n",
        "    'v': 5.95  \n",
        "  }  \n",
        "  response = requests.get(url, params = params)  \n",
        "  # pprint(response.json()['response']['items'][-10:])\n",
        "  stats = [] \n",
        "              \n",
        "  for record in response.json()['response']['items'][-10:]:  \n",
        "    title = record['text'][:30]  \n",
        "    if title:  \n",
        "        stats += [record['comments']['count'] + record['likes']['count'] + record['reposts']['count']]  \n",
        "\n",
        "  url = 'https://api.vk.com/method/groups.getMembers'  \n",
        "  params = {  \n",
        "    'group_id': 'vk',  \n",
        "    'v': 5.95,  \n",
        "    'access_token': token  \n",
        "  }  \n",
        "  response = requests.get(url, params = params)\n",
        "  data = response.json()  \n",
        "  # print(data['response']['count'])\n",
        "  # print(sum(stats))\n",
        "  return  (sum(stats))/(data['response']['count'])\n",
        "get_smm_index('vk', token)"
      ],
      "execution_count": 239,
      "outputs": [
        {
          "output_type": "execute_result",
          "data": {
            "text/plain": [
              "0.005989541404947254"
            ]
          },
          "metadata": {
            "tags": []
          },
          "execution_count": 239
        }
      ]
    }
  ]
}