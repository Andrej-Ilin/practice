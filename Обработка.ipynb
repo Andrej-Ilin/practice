{
  "cells": [
    {
      "cell_type": "markdown",
      "metadata": {
        "id": "view-in-github",
        "colab_type": "text"
      },
      "source": [
        "<a href=\"https://colab.research.google.com/github/Andrej-Ilin/practice/blob/main/%D0%9E%D0%B1%D1%80%D0%B0%D0%B1%D0%BE%D1%82%D0%BA%D0%B0.ipynb\" target=\"_parent\"><img src=\"https://colab.research.google.com/assets/colab-badge.svg\" alt=\"Open In Colab\"/></a>"
      ]
    },
    {
      "cell_type": "markdown",
      "metadata": {
        "id": "T2RZyzRQZmPK"
      },
      "source": [
        "<img src=\"https://whatcar.vn/media/2018/09/car-lot-940x470.jpg\" />\n",
        "\n",
        "# Проект: Прогнозирование цены автомобиля на основе его характеристик\n",
        "#### Проект выполнен октябрь 2022 года\n",
        "Давайте представим, что в Москве есть компания, которая продает подержанные автомобили. Главная задача компании и ее менеджеров - как можно быстрее находить выгодные предложения (проще говоря, покупать ниже рыночной и продавать выше рыночной цены).\n",
        "\n",
        "Руководству компании необходимо создать модель, которая будет прогнозировать стоимость автомобиля на основе его характеристик.\n",
        "\n",
        "Если эта модель работает хорошо, вы сможете быстро выявлять сделки (когда желаемая продавцом цена ниже прогнозируемой рыночной цены). Это значительно ускорит работу ваших менеджеров и увеличит прибыль вашей компании.\n",
        "\n",
        "Проблема: Исторически сложилось так, что компания не собирала данные с самого начала. Существует лишь небольшой набор данных с коротким периодом истории продаж, чего явно недостаточно для обучения модели. Мы будем использовать его для теста, остальное придется собирать самостоятельно.\n",
        "\n",
        "### условия и положения:\n",
        "- Разрешается использовать внешние данные, но их источник должен быть общедоступным и доступным для всех участников (например auto.ru );\n",
        "- Разрешено использовать любые алгоритмы и библиотеки ML (кроме DL);\n",
        "Показатель качества модели: MAPE - Средняя Абсолютная Процентная Погрешность."
      ]
    },
    {
      "cell_type": "markdown",
      "metadata": {
        "id": "Ppq7Qybn_zBc"
      },
      "source": [
        "# 1 Установка и импорт библиотеки"
      ]
    },
    {
      "cell_type": "code",
      "execution_count": 1,
      "metadata": {
        "colab": {
          "base_uri": "https://localhost:8080/"
        },
        "id": "IBa7iWlL7mpL",
        "outputId": "b93c544b-14ff-43e7-9951-d50e9247ee8a"
      },
      "outputs": [
        {
          "output_type": "stream",
          "name": "stdout",
          "text": [
            "Looking in indexes: https://pypi.org/simple, https://us-python.pkg.dev/colab-wheels/public/simple/\n",
            "Requirement already satisfied: kaggle in /usr/local/lib/python3.7/dist-packages (1.5.12)\n",
            "Requirement already satisfied: python-slugify in /usr/local/lib/python3.7/dist-packages (from kaggle) (6.1.2)\n",
            "Requirement already satisfied: urllib3 in /usr/local/lib/python3.7/dist-packages (from kaggle) (1.24.3)\n",
            "Requirement already satisfied: python-dateutil in /usr/local/lib/python3.7/dist-packages (from kaggle) (2.8.2)\n",
            "Requirement already satisfied: six>=1.10 in /usr/local/lib/python3.7/dist-packages (from kaggle) (1.15.0)\n",
            "Requirement already satisfied: requests in /usr/local/lib/python3.7/dist-packages (from kaggle) (2.23.0)\n",
            "Requirement already satisfied: certifi in /usr/local/lib/python3.7/dist-packages (from kaggle) (2022.9.24)\n",
            "Requirement already satisfied: tqdm in /usr/local/lib/python3.7/dist-packages (from kaggle) (4.64.1)\n",
            "Requirement already satisfied: text-unidecode>=1.3 in /usr/local/lib/python3.7/dist-packages (from python-slugify->kaggle) (1.3)\n",
            "Requirement already satisfied: chardet<4,>=3.0.2 in /usr/local/lib/python3.7/dist-packages (from requests->kaggle) (3.0.4)\n",
            "Requirement already satisfied: idna<3,>=2.5 in /usr/local/lib/python3.7/dist-packages (from requests->kaggle) (2.10)\n"
          ]
        }
      ],
      "source": [
        "pip install kaggle "
      ]
    },
    {
      "cell_type": "code",
      "execution_count": 2,
      "metadata": {
        "colab": {
          "base_uri": "https://localhost:8080/"
        },
        "id": "NrMkR05csg4B",
        "outputId": "2fd2f558-8e33-4de4-aaa0-3c3857f7f750"
      },
      "outputs": [
        {
          "output_type": "stream",
          "name": "stdout",
          "text": [
            "Looking in indexes: https://pypi.org/simple, https://us-python.pkg.dev/colab-wheels/public/simple/\n",
            "Collecting catboost\n",
            "  Downloading catboost-1.1-cp37-none-manylinux1_x86_64.whl (76.8 MB)\n",
            "\u001b[K     |████████████████████████████████| 76.8 MB 1.1 MB/s \n",
            "\u001b[?25hRequirement already satisfied: plotly in /usr/local/lib/python3.7/dist-packages (from catboost) (5.5.0)\n",
            "Requirement already satisfied: matplotlib in /usr/local/lib/python3.7/dist-packages (from catboost) (3.2.2)\n",
            "Requirement already satisfied: graphviz in /usr/local/lib/python3.7/dist-packages (from catboost) (0.10.1)\n",
            "Requirement already satisfied: scipy in /usr/local/lib/python3.7/dist-packages (from catboost) (1.7.3)\n",
            "Requirement already satisfied: pandas>=0.24.0 in /usr/local/lib/python3.7/dist-packages (from catboost) (1.3.5)\n",
            "Requirement already satisfied: numpy>=1.16.0 in /usr/local/lib/python3.7/dist-packages (from catboost) (1.21.6)\n",
            "Requirement already satisfied: six in /usr/local/lib/python3.7/dist-packages (from catboost) (1.15.0)\n",
            "Requirement already satisfied: pytz>=2017.3 in /usr/local/lib/python3.7/dist-packages (from pandas>=0.24.0->catboost) (2022.4)\n",
            "Requirement already satisfied: python-dateutil>=2.7.3 in /usr/local/lib/python3.7/dist-packages (from pandas>=0.24.0->catboost) (2.8.2)\n",
            "Requirement already satisfied: pyparsing!=2.0.4,!=2.1.2,!=2.1.6,>=2.0.1 in /usr/local/lib/python3.7/dist-packages (from matplotlib->catboost) (3.0.9)\n",
            "Requirement already satisfied: cycler>=0.10 in /usr/local/lib/python3.7/dist-packages (from matplotlib->catboost) (0.11.0)\n",
            "Requirement already satisfied: kiwisolver>=1.0.1 in /usr/local/lib/python3.7/dist-packages (from matplotlib->catboost) (1.4.4)\n",
            "Requirement already satisfied: typing-extensions in /usr/local/lib/python3.7/dist-packages (from kiwisolver>=1.0.1->matplotlib->catboost) (4.1.1)\n",
            "Requirement already satisfied: tenacity>=6.2.0 in /usr/local/lib/python3.7/dist-packages (from plotly->catboost) (8.1.0)\n",
            "Installing collected packages: catboost\n",
            "Successfully installed catboost-1.1\n"
          ]
        }
      ],
      "source": [
        "pip install catboost"
      ]
    },
    {
      "cell_type": "code",
      "execution_count": 3,
      "metadata": {
        "id": "kuXa8Eca91xi"
      },
      "outputs": [],
      "source": [
        "# подгрузим стандартные библиотеки\n",
        "import os\n",
        "import pandas as pd\n",
        "import numpy as np\n",
        "import itertools\n",
        "import matplotlib.pyplot as plt\n",
        "import seaborn as sns\n",
        "import scipy.stats as stats\n",
        "from sklearn.preprocessing import LabelEncoder, OneHotEncoder, StandardScaler\n",
        "from sklearn.preprocessing import OrdinalEncoder, PolynomialFeatures\n",
        "from sklearn.model_selection import train_test_split\n",
        "from sklearn.linear_model import LinearRegression\n",
        "from catboost import CatBoostRegressor"
      ]
    },
    {
      "cell_type": "code",
      "execution_count": 4,
      "metadata": {
        "id": "fa1rUcHbABf4"
      },
      "outputs": [],
      "source": [
        "# отключим warnings, чтобы они нам не мешали\n",
        "import warnings\n",
        "warnings.filterwarnings('ignore')\n",
        "\n",
        "pd.set_option('display.max_columns', None) # Выводим все колонки"
      ]
    },
    {
      "cell_type": "markdown",
      "source": [
        "## 1.1 Функции для анализа данных"
      ],
      "metadata": {
        "id": "hC0799cEZOHs"
      }
    },
    {
      "cell_type": "code",
      "source": [
        "# Расчёт результата модели по метрике MAPE\n",
        "def mape(y_true, y_pred):\n",
        "    \"\"\"\n",
        "    Рассчитываем среднюю абсолютную процентную ошибку (MAPE).\n",
        "    \n",
        "    Средняя абсолютная процентная ошибка (MAPE) - это показатель того, насколько точна система прогнозирования. \n",
        "    Она измеряет эту точность в процентах и может быть рассчитана как средняя абсолютная\n",
        "    процентная ошибка за каждый период времени минус фактические значения, деленные на фактические значения.\n",
        "    \"\"\"\n",
        "    return np.mean(np.abs((y_pred-y_true)/y_true))\n",
        "\n",
        "\n",
        "def print_df_differences(\n",
        "    dfs_names: list, \n",
        "    dfs: list\n",
        "):\n",
        "    \"\"\"\n",
        "    Сравниваем наборы данных попарно и выведим уникальные столбцы для каждого \n",
        "    набора данных и тип общих столбцов, если они отличаются.\n",
        "    \n",
        "    Эта функция принимает список имен фреймов данных (df_names) и самих фреймов \n",
        "    данных (dfs). Сравнивая их друг с другом, отобразите список столбцов, \n",
        "    которые присутствуют в одном наборе данных и отсутствуют в другом. Он также \n",
        "    выводит тип столбцов, которые являются общими для двух наборов данных, если они разные.\n",
        "    \"\"\"\n",
        "    for df in itertools.permutations(zip(dfs_names, dfs)):\n",
        "        print(f\"\\nColumns that are present in -{df[0][0]}- dataset and missing in -{df[1][0]}- dataset:\")\n",
        "        print(set(df[0][1].columns).difference(df[1][1].columns))\n",
        "        for col in set(df[0][1].columns).intersection(df[1][1].columns):\n",
        "            if df[0][1][col].dtypes != df[1][1][col].dtypes:\n",
        "                print(f\"The common {col} column: {df[0][1][col].dtypes} in -{df[0][0]}- dataset and {df[1][1][col].dtypes} in -{df[1][0]}- dataset\")"
      ],
      "metadata": {
        "id": "TPz0ScYJZSJZ"
      },
      "execution_count": 5,
      "outputs": []
    },
    {
      "cell_type": "markdown",
      "metadata": {
        "id": "U4zm8dG2_VL8"
      },
      "source": [
        "## 1.2 Импорт данных"
      ]
    },
    {
      "cell_type": "markdown",
      "metadata": {
        "id": "ZQS8issY9-XZ"
      },
      "source": [
        "Давайте подгрузим данные с Kaggle прямо в Colab, используя API Kaggle."
      ]
    },
    {
      "cell_type": "code",
      "execution_count": 6,
      "metadata": {
        "id": "poQGv0Rr70vi"
      },
      "outputs": [],
      "source": [
        "os.environ['KAGGLE_USERNAME']=\"andrejilin\"\n",
        "os.environ['KAGGLE_KEY']=\"237558a6d1366c77d47072cccb1cda72\""
      ]
    },
    {
      "cell_type": "markdown",
      "metadata": {
        "id": "qyZblYGi-Oz1"
      },
      "source": [
        "Подгружаем датасет."
      ]
    },
    {
      "cell_type": "code",
      "execution_count": 7,
      "metadata": {
        "colab": {
          "base_uri": "https://localhost:8080/"
        },
        "id": "fGp3UhZw-nfD",
        "outputId": "f7c9ce94-3f44-48b1-97f0-31ff77a33adb"
      },
      "outputs": [
        {
          "output_type": "stream",
          "name": "stdout",
          "text": [
            "Downloading sf-dst-car-price-prediction.zip to /content\n",
            " 78% 17.0M/21.8M [00:00<00:00, 72.7MB/s]\n",
            "100% 21.8M/21.8M [00:00<00:00, 83.9MB/s]\n"
          ]
        }
      ],
      "source": [
        "! kaggle competitions download -c sf-dst-car-price-prediction"
      ]
    },
    {
      "cell_type": "markdown",
      "metadata": {
        "id": "rGNR3EFv-vXA"
      },
      "source": [
        "Распаковываем подгруженные данные."
      ]
    },
    {
      "cell_type": "code",
      "execution_count": 8,
      "metadata": {
        "colab": {
          "base_uri": "https://localhost:8080/"
        },
        "id": "MsUj35UM-xip",
        "outputId": "ebcf988e-bb88-45b4-cffc-91b20d995c34"
      },
      "outputs": [
        {
          "output_type": "stream",
          "name": "stdout",
          "text": [
            "Archive:  /content/sf-dst-car-price-prediction.zip\n",
            "  inflating: sample_submission.csv   \n",
            "  inflating: test.csv                \n"
          ]
        }
      ],
      "source": [
        "! unzip /content/sf-dst-car-price-prediction.zip"
      ]
    },
    {
      "cell_type": "code",
      "execution_count": 9,
      "metadata": {
        "id": "9InmbZhxQMZK"
      },
      "outputs": [],
      "source": [
        "train = pd.read_csv('/content/drive/MyDrive/Colab Notebooks/modul/skillfactory_rds/modul_6/big_data.csv')"
      ]
    },
    {
      "cell_type": "code",
      "execution_count": 10,
      "metadata": {
        "id": "D3URJOBBQKeJ"
      },
      "outputs": [],
      "source": [
        "sample_sub = pd.read_csv('/content/sample_submission.csv')"
      ]
    },
    {
      "cell_type": "code",
      "execution_count": 11,
      "metadata": {
        "id": "frLGGhqT_fhZ"
      },
      "outputs": [],
      "source": [
        "valid = pd.read_csv('test.csv')"
      ]
    },
    {
      "cell_type": "markdown",
      "metadata": {
        "id": "ma6h4AKt-YD3"
      },
      "source": [
        "# 2 Описание датасета\n"
      ]
    },
    {
      "cell_type": "markdown",
      "metadata": {
        "id": "-VhF6qmfWTLc"
      },
      "source": [
        "* bodyType - тип кузова\n",
        "* brand - марка авто\n",
        "* car_url - ссылка на объявление\n",
        "* color - цвет\n",
        "* complectation_dict - комплектация\n",
        "* description - описание и реклама\n",
        "* engineDisplacement - объем двигателя\n",
        "* enginePower - мощность двигателя\n",
        "* equipment_dict - словарь установленного оборудования\n",
        "* fuelType - тип топлива\n",
        "* image - ссылка на картинку авто\n",
        "* mileage - пробег\n",
        "* modelDate - год модели\n",
        "* model_info - словарь описания модели\n",
        "* model_name - имя модели\n",
        "* name - краткое описание двигателя и мощности\n",
        "* numberOfDoors - количество дверей\n",
        "* parsing_unixtime - время сбора данных\n",
        "* priceCurrency - валюта, в которой указывалась цена\n",
        "* productionDate - дата выпуска авто\n",
        "* sell_id - идентифиактор объявления\n",
        "* super_gen - описание характеристик авто\n",
        "* vehicleConfiguration - краткое описание привода, кузова и объема двигателя\n",
        "* vehicleTransmission - тип коробки передач\n",
        "* vendor - регион производства авто\n",
        "* Владельцы - количество владельцев\n",
        "* Владение - срок владения\n",
        "* ПТС - оригинал/дубликат\n",
        "* Привод - привод\n",
        "* Руль - расположение рулевого колеса\n",
        "* Состояние - состояние авто на момент подачи объявления\n",
        "* Таможня - авто растаможено в РФ или нет\n",
        "* Комплектация - словарь с описанием комплектации\n",
        "* start_date - дата подачи объявления\n",
        "* hidden - пустой признак в тренировочном датасете"
      ]
    },
    {
      "cell_type": "markdown",
      "metadata": {
        "id": "ap5WVmZ7_RJ4"
      },
      "source": [
        "# 3 Предобработка данных и EDA(исследование)"
      ]
    },
    {
      "cell_type": "code",
      "execution_count": 12,
      "metadata": {
        "colab": {
          "base_uri": "https://localhost:8080/",
          "height": 350
        },
        "id": "PZAtvNiDAr29",
        "outputId": "240b7e55-acb7-4493-f9f5-ebc54a8c4dad"
      },
      "outputs": [
        {
          "output_type": "execute_result",
          "data": {
            "text/plain": [
              "                bodyType brand  \\\n",
              "34684  внедорожник 5 дв.   BMW   \n",
              "34685  внедорожник 5 дв.   BMW   \n",
              "\n",
              "                                                 car_url       color  \\\n",
              "34684  https://auto.ru/cars/used/sale/bmw/x1/11013625...  коричневый   \n",
              "34685  https://auto.ru/cars/used/sale/bmw/x5/11012560...      чёрный   \n",
              "\n",
              "                                      complectation_dict  \\\n",
              "34684  {\"id\":\"6336008\",\"name\":\"xDrive20d Локальная сб...   \n",
              "34685                                                NaN   \n",
              "\n",
              "                                             description engineDisplacement  \\\n",
              "34684  Автомобиль в идеальном состоянии . Куплен новы...            2.0 LTR   \n",
              "34685   Пробег реальный, состояние отличное! Авторска...            3.0 LTR   \n",
              "\n",
              "      enginePower                                     equipment_dict fuelType  \\\n",
              "34684     184 N12  {\"engine-proof\":true,\"esp\":true,\"start-stop-fu...   дизель   \n",
              "34685     235 N12  {\"alloy-wheel-disks\":true,\"navigation\":true,\"p...   дизель   \n",
              "\n",
              "                                                   image  mileage  modelDate  \\\n",
              "34684  https://autoru.naydex.net/nwI1K7152/b604fdsYg7...    90500       2012   \n",
              "34685  https://avatars.mds.yandex.net/get-autoru-vos/...   240000       2006   \n",
              "\n",
              "                                              model_info model_name  \\\n",
              "34684  {\"code\":\"X1\",\"name\":\"X1\",\"ru_name\":\"Х1\",\"morph...         X1   \n",
              "34685  {\"code\":\"X5\",\"name\":\"X5\",\"ru_name\":\"Х5\",\"morph...         X5   \n",
              "\n",
              "                             name  numberOfDoors  parsing_unixtime  \\\n",
              "34684  20d 2.0d AT (184 л.с.) 4WD              5        1603707909   \n",
              "34685  30d 3.0d AT (235 л.с.) 4WD              5        1603710264   \n",
              "\n",
              "      priceCurrency  productionDate     sell_id  \\\n",
              "34684           RUB            2013  1101362518   \n",
              "34685           RUB            2008  1101256068   \n",
              "\n",
              "                                               super_gen  \\\n",
              "34684  {\"id\":\"8247004\",\"name\":\"20d\",\"nameplate\":\"20d\"...   \n",
              "34685  {\"id\":\"20390090\",\"name\":\"30d\",\"nameplate\":\"30d...   \n",
              "\n",
              "                vehicleConfiguration vehicleTransmission    vendor  \\\n",
              "34684  ALLROAD_5_DOORS AUTOMATIC 2.0      автоматическая  EUROPEAN   \n",
              "34685  ALLROAD_5_DOORS AUTOMATIC 3.0      автоматическая  EUROPEAN   \n",
              "\n",
              "         Владельцы         Владение       ПТС  Привод   Руль  \\\n",
              "34684  2 владельца              NaN  Оригинал  полный  Левый   \n",
              "34685  3 или более  6 лет и 1 месяц  Оригинал  полный  Левый   \n",
              "\n",
              "                Состояние     Таможня  \n",
              "34684  Не требует ремонта  Растаможен  \n",
              "34685  Не требует ремонта  Растаможен  "
            ],
            "text/html": [
              "\n",
              "  <div id=\"df-9fdfc3ff-9e2a-48d8-bc96-bd6436d2d52e\">\n",
              "    <div class=\"colab-df-container\">\n",
              "      <div>\n",
              "<style scoped>\n",
              "    .dataframe tbody tr th:only-of-type {\n",
              "        vertical-align: middle;\n",
              "    }\n",
              "\n",
              "    .dataframe tbody tr th {\n",
              "        vertical-align: top;\n",
              "    }\n",
              "\n",
              "    .dataframe thead th {\n",
              "        text-align: right;\n",
              "    }\n",
              "</style>\n",
              "<table border=\"1\" class=\"dataframe\">\n",
              "  <thead>\n",
              "    <tr style=\"text-align: right;\">\n",
              "      <th></th>\n",
              "      <th>bodyType</th>\n",
              "      <th>brand</th>\n",
              "      <th>car_url</th>\n",
              "      <th>color</th>\n",
              "      <th>complectation_dict</th>\n",
              "      <th>description</th>\n",
              "      <th>engineDisplacement</th>\n",
              "      <th>enginePower</th>\n",
              "      <th>equipment_dict</th>\n",
              "      <th>fuelType</th>\n",
              "      <th>image</th>\n",
              "      <th>mileage</th>\n",
              "      <th>modelDate</th>\n",
              "      <th>model_info</th>\n",
              "      <th>model_name</th>\n",
              "      <th>name</th>\n",
              "      <th>numberOfDoors</th>\n",
              "      <th>parsing_unixtime</th>\n",
              "      <th>priceCurrency</th>\n",
              "      <th>productionDate</th>\n",
              "      <th>sell_id</th>\n",
              "      <th>super_gen</th>\n",
              "      <th>vehicleConfiguration</th>\n",
              "      <th>vehicleTransmission</th>\n",
              "      <th>vendor</th>\n",
              "      <th>Владельцы</th>\n",
              "      <th>Владение</th>\n",
              "      <th>ПТС</th>\n",
              "      <th>Привод</th>\n",
              "      <th>Руль</th>\n",
              "      <th>Состояние</th>\n",
              "      <th>Таможня</th>\n",
              "    </tr>\n",
              "  </thead>\n",
              "  <tbody>\n",
              "    <tr>\n",
              "      <th>34684</th>\n",
              "      <td>внедорожник 5 дв.</td>\n",
              "      <td>BMW</td>\n",
              "      <td>https://auto.ru/cars/used/sale/bmw/x1/11013625...</td>\n",
              "      <td>коричневый</td>\n",
              "      <td>{\"id\":\"6336008\",\"name\":\"xDrive20d Локальная сб...</td>\n",
              "      <td>Автомобиль в идеальном состоянии . Куплен новы...</td>\n",
              "      <td>2.0 LTR</td>\n",
              "      <td>184 N12</td>\n",
              "      <td>{\"engine-proof\":true,\"esp\":true,\"start-stop-fu...</td>\n",
              "      <td>дизель</td>\n",
              "      <td>https://autoru.naydex.net/nwI1K7152/b604fdsYg7...</td>\n",
              "      <td>90500</td>\n",
              "      <td>2012</td>\n",
              "      <td>{\"code\":\"X1\",\"name\":\"X1\",\"ru_name\":\"Х1\",\"morph...</td>\n",
              "      <td>X1</td>\n",
              "      <td>20d 2.0d AT (184 л.с.) 4WD</td>\n",
              "      <td>5</td>\n",
              "      <td>1603707909</td>\n",
              "      <td>RUB</td>\n",
              "      <td>2013</td>\n",
              "      <td>1101362518</td>\n",
              "      <td>{\"id\":\"8247004\",\"name\":\"20d\",\"nameplate\":\"20d\"...</td>\n",
              "      <td>ALLROAD_5_DOORS AUTOMATIC 2.0</td>\n",
              "      <td>автоматическая</td>\n",
              "      <td>EUROPEAN</td>\n",
              "      <td>2 владельца</td>\n",
              "      <td>NaN</td>\n",
              "      <td>Оригинал</td>\n",
              "      <td>полный</td>\n",
              "      <td>Левый</td>\n",
              "      <td>Не требует ремонта</td>\n",
              "      <td>Растаможен</td>\n",
              "    </tr>\n",
              "    <tr>\n",
              "      <th>34685</th>\n",
              "      <td>внедорожник 5 дв.</td>\n",
              "      <td>BMW</td>\n",
              "      <td>https://auto.ru/cars/used/sale/bmw/x5/11012560...</td>\n",
              "      <td>чёрный</td>\n",
              "      <td>NaN</td>\n",
              "      <td>Пробег реальный, состояние отличное! Авторска...</td>\n",
              "      <td>3.0 LTR</td>\n",
              "      <td>235 N12</td>\n",
              "      <td>{\"alloy-wheel-disks\":true,\"navigation\":true,\"p...</td>\n",
              "      <td>дизель</td>\n",
              "      <td>https://avatars.mds.yandex.net/get-autoru-vos/...</td>\n",
              "      <td>240000</td>\n",
              "      <td>2006</td>\n",
              "      <td>{\"code\":\"X5\",\"name\":\"X5\",\"ru_name\":\"Х5\",\"morph...</td>\n",
              "      <td>X5</td>\n",
              "      <td>30d 3.0d AT (235 л.с.) 4WD</td>\n",
              "      <td>5</td>\n",
              "      <td>1603710264</td>\n",
              "      <td>RUB</td>\n",
              "      <td>2008</td>\n",
              "      <td>1101256068</td>\n",
              "      <td>{\"id\":\"20390090\",\"name\":\"30d\",\"nameplate\":\"30d...</td>\n",
              "      <td>ALLROAD_5_DOORS AUTOMATIC 3.0</td>\n",
              "      <td>автоматическая</td>\n",
              "      <td>EUROPEAN</td>\n",
              "      <td>3 или более</td>\n",
              "      <td>6 лет и 1 месяц</td>\n",
              "      <td>Оригинал</td>\n",
              "      <td>полный</td>\n",
              "      <td>Левый</td>\n",
              "      <td>Не требует ремонта</td>\n",
              "      <td>Растаможен</td>\n",
              "    </tr>\n",
              "  </tbody>\n",
              "</table>\n",
              "</div>\n",
              "      <button class=\"colab-df-convert\" onclick=\"convertToInteractive('df-9fdfc3ff-9e2a-48d8-bc96-bd6436d2d52e')\"\n",
              "              title=\"Convert this dataframe to an interactive table.\"\n",
              "              style=\"display:none;\">\n",
              "        \n",
              "  <svg xmlns=\"http://www.w3.org/2000/svg\" height=\"24px\"viewBox=\"0 0 24 24\"\n",
              "       width=\"24px\">\n",
              "    <path d=\"M0 0h24v24H0V0z\" fill=\"none\"/>\n",
              "    <path d=\"M18.56 5.44l.94 2.06.94-2.06 2.06-.94-2.06-.94-.94-2.06-.94 2.06-2.06.94zm-11 1L8.5 8.5l.94-2.06 2.06-.94-2.06-.94L8.5 2.5l-.94 2.06-2.06.94zm10 10l.94 2.06.94-2.06 2.06-.94-2.06-.94-.94-2.06-.94 2.06-2.06.94z\"/><path d=\"M17.41 7.96l-1.37-1.37c-.4-.4-.92-.59-1.43-.59-.52 0-1.04.2-1.43.59L10.3 9.45l-7.72 7.72c-.78.78-.78 2.05 0 2.83L4 21.41c.39.39.9.59 1.41.59.51 0 1.02-.2 1.41-.59l7.78-7.78 2.81-2.81c.8-.78.8-2.07 0-2.86zM5.41 20L4 18.59l7.72-7.72 1.47 1.35L5.41 20z\"/>\n",
              "  </svg>\n",
              "      </button>\n",
              "      \n",
              "  <style>\n",
              "    .colab-df-container {\n",
              "      display:flex;\n",
              "      flex-wrap:wrap;\n",
              "      gap: 12px;\n",
              "    }\n",
              "\n",
              "    .colab-df-convert {\n",
              "      background-color: #E8F0FE;\n",
              "      border: none;\n",
              "      border-radius: 50%;\n",
              "      cursor: pointer;\n",
              "      display: none;\n",
              "      fill: #1967D2;\n",
              "      height: 32px;\n",
              "      padding: 0 0 0 0;\n",
              "      width: 32px;\n",
              "    }\n",
              "\n",
              "    .colab-df-convert:hover {\n",
              "      background-color: #E2EBFA;\n",
              "      box-shadow: 0px 1px 2px rgba(60, 64, 67, 0.3), 0px 1px 3px 1px rgba(60, 64, 67, 0.15);\n",
              "      fill: #174EA6;\n",
              "    }\n",
              "\n",
              "    [theme=dark] .colab-df-convert {\n",
              "      background-color: #3B4455;\n",
              "      fill: #D2E3FC;\n",
              "    }\n",
              "\n",
              "    [theme=dark] .colab-df-convert:hover {\n",
              "      background-color: #434B5C;\n",
              "      box-shadow: 0px 1px 3px 1px rgba(0, 0, 0, 0.15);\n",
              "      filter: drop-shadow(0px 1px 2px rgba(0, 0, 0, 0.3));\n",
              "      fill: #FFFFFF;\n",
              "    }\n",
              "  </style>\n",
              "\n",
              "      <script>\n",
              "        const buttonEl =\n",
              "          document.querySelector('#df-9fdfc3ff-9e2a-48d8-bc96-bd6436d2d52e button.colab-df-convert');\n",
              "        buttonEl.style.display =\n",
              "          google.colab.kernel.accessAllowed ? 'block' : 'none';\n",
              "\n",
              "        async function convertToInteractive(key) {\n",
              "          const element = document.querySelector('#df-9fdfc3ff-9e2a-48d8-bc96-bd6436d2d52e');\n",
              "          const dataTable =\n",
              "            await google.colab.kernel.invokeFunction('convertToInteractive',\n",
              "                                                     [key], {});\n",
              "          if (!dataTable) return;\n",
              "\n",
              "          const docLinkHtml = 'Like what you see? Visit the ' +\n",
              "            '<a target=\"_blank\" href=https://colab.research.google.com/notebooks/data_table.ipynb>data table notebook</a>'\n",
              "            + ' to learn more about interactive tables.';\n",
              "          element.innerHTML = '';\n",
              "          dataTable['output_type'] = 'display_data';\n",
              "          await google.colab.output.renderOutput(dataTable, element);\n",
              "          const docLink = document.createElement('div');\n",
              "          docLink.innerHTML = docLinkHtml;\n",
              "          element.appendChild(docLink);\n",
              "        }\n",
              "      </script>\n",
              "    </div>\n",
              "  </div>\n",
              "  "
            ]
          },
          "metadata": {},
          "execution_count": 12
        }
      ],
      "source": [
        "valid.tail(2)"
      ]
    },
    {
      "cell_type": "code",
      "execution_count": 13,
      "metadata": {
        "colab": {
          "base_uri": "https://localhost:8080/",
          "height": 315
        },
        "id": "tmUt2pZjV7Z4",
        "outputId": "8bfce36c-cc7f-4f4b-edb9-a48d7c4373b8"
      },
      "outputs": [
        {
          "output_type": "execute_result",
          "data": {
            "text/plain": [
              "       bodyType     brand        color complectation_dict  \\\n",
              "184788    седан  MERCEDES  серебристый                NaN   \n",
              "184789    седан  MERCEDES       чёрный                NaN   \n",
              "\n",
              "                                              description engineDisplacement  \\\n",
              "184788                         Машина в хорошем состоянии            1.8 LTR   \n",
              "184789  Машина в очень хорошем состоянии, мотор работа...            1.8 LTR   \n",
              "\n",
              "       enginePower                                     equipment_dict  \\\n",
              "184788     184 N12                                                 {}   \n",
              "184789     184 N12  {'cruise-control': True, 'airbag-driver': True...   \n",
              "\n",
              "       fuelType   mileage  modelDate model_name  numberOfDoors     price  \\\n",
              "184788   бензин  240000.0     2006.0   E_KLASSE            4.0  630000.0   \n",
              "184789   бензин  134000.0     2006.0   E_KLASSE            4.0  570000.0   \n",
              "\n",
              "        productionDate                                          super_gen  \\\n",
              "184788          2006.0  {'id': '20394499', 'name': '200', 'nameplate':...   \n",
              "184789          2008.0  {'id': '20394499', 'name': '200', 'nameplate':...   \n",
              "\n",
              "       vehicleConfiguration vehicleTransmission vendor    Владельцы  \\\n",
              "184788  SEDAN AUTOMATIC 1.8      автоматическая    NaN  3 или более   \n",
              "184789  SEDAN AUTOMATIC 1.8      автоматическая    NaN  3 или более   \n",
              "\n",
              "                Владение       ПТС  Привод   Руль           Состояние  \\\n",
              "184788               NaN  Оригинал  задний  Левый  Не требует ремонта   \n",
              "184789  1 год и 2 месяца  Дубликат  задний  Левый  Не требует ремонта   \n",
              "\n",
              "           Таможня       sell_id  parsing_unixtime  \n",
              "184788  Растаможен  1.102985e+09      1.618712e+09  \n",
              "184789  Растаможен  1.103059e+09      1.618712e+09  "
            ],
            "text/html": [
              "\n",
              "  <div id=\"df-df39b93d-bcf1-4f6c-b3a9-15881ab4ada0\">\n",
              "    <div class=\"colab-df-container\">\n",
              "      <div>\n",
              "<style scoped>\n",
              "    .dataframe tbody tr th:only-of-type {\n",
              "        vertical-align: middle;\n",
              "    }\n",
              "\n",
              "    .dataframe tbody tr th {\n",
              "        vertical-align: top;\n",
              "    }\n",
              "\n",
              "    .dataframe thead th {\n",
              "        text-align: right;\n",
              "    }\n",
              "</style>\n",
              "<table border=\"1\" class=\"dataframe\">\n",
              "  <thead>\n",
              "    <tr style=\"text-align: right;\">\n",
              "      <th></th>\n",
              "      <th>bodyType</th>\n",
              "      <th>brand</th>\n",
              "      <th>color</th>\n",
              "      <th>complectation_dict</th>\n",
              "      <th>description</th>\n",
              "      <th>engineDisplacement</th>\n",
              "      <th>enginePower</th>\n",
              "      <th>equipment_dict</th>\n",
              "      <th>fuelType</th>\n",
              "      <th>mileage</th>\n",
              "      <th>modelDate</th>\n",
              "      <th>model_name</th>\n",
              "      <th>numberOfDoors</th>\n",
              "      <th>price</th>\n",
              "      <th>productionDate</th>\n",
              "      <th>super_gen</th>\n",
              "      <th>vehicleConfiguration</th>\n",
              "      <th>vehicleTransmission</th>\n",
              "      <th>vendor</th>\n",
              "      <th>Владельцы</th>\n",
              "      <th>Владение</th>\n",
              "      <th>ПТС</th>\n",
              "      <th>Привод</th>\n",
              "      <th>Руль</th>\n",
              "      <th>Состояние</th>\n",
              "      <th>Таможня</th>\n",
              "      <th>sell_id</th>\n",
              "      <th>parsing_unixtime</th>\n",
              "    </tr>\n",
              "  </thead>\n",
              "  <tbody>\n",
              "    <tr>\n",
              "      <th>184788</th>\n",
              "      <td>седан</td>\n",
              "      <td>MERCEDES</td>\n",
              "      <td>серебристый</td>\n",
              "      <td>NaN</td>\n",
              "      <td>Машина в хорошем состоянии</td>\n",
              "      <td>1.8 LTR</td>\n",
              "      <td>184 N12</td>\n",
              "      <td>{}</td>\n",
              "      <td>бензин</td>\n",
              "      <td>240000.0</td>\n",
              "      <td>2006.0</td>\n",
              "      <td>E_KLASSE</td>\n",
              "      <td>4.0</td>\n",
              "      <td>630000.0</td>\n",
              "      <td>2006.0</td>\n",
              "      <td>{'id': '20394499', 'name': '200', 'nameplate':...</td>\n",
              "      <td>SEDAN AUTOMATIC 1.8</td>\n",
              "      <td>автоматическая</td>\n",
              "      <td>NaN</td>\n",
              "      <td>3 или более</td>\n",
              "      <td>NaN</td>\n",
              "      <td>Оригинал</td>\n",
              "      <td>задний</td>\n",
              "      <td>Левый</td>\n",
              "      <td>Не требует ремонта</td>\n",
              "      <td>Растаможен</td>\n",
              "      <td>1.102985e+09</td>\n",
              "      <td>1.618712e+09</td>\n",
              "    </tr>\n",
              "    <tr>\n",
              "      <th>184789</th>\n",
              "      <td>седан</td>\n",
              "      <td>MERCEDES</td>\n",
              "      <td>чёрный</td>\n",
              "      <td>NaN</td>\n",
              "      <td>Машина в очень хорошем состоянии, мотор работа...</td>\n",
              "      <td>1.8 LTR</td>\n",
              "      <td>184 N12</td>\n",
              "      <td>{'cruise-control': True, 'airbag-driver': True...</td>\n",
              "      <td>бензин</td>\n",
              "      <td>134000.0</td>\n",
              "      <td>2006.0</td>\n",
              "      <td>E_KLASSE</td>\n",
              "      <td>4.0</td>\n",
              "      <td>570000.0</td>\n",
              "      <td>2008.0</td>\n",
              "      <td>{'id': '20394499', 'name': '200', 'nameplate':...</td>\n",
              "      <td>SEDAN AUTOMATIC 1.8</td>\n",
              "      <td>автоматическая</td>\n",
              "      <td>NaN</td>\n",
              "      <td>3 или более</td>\n",
              "      <td>1 год и 2 месяца</td>\n",
              "      <td>Дубликат</td>\n",
              "      <td>задний</td>\n",
              "      <td>Левый</td>\n",
              "      <td>Не требует ремонта</td>\n",
              "      <td>Растаможен</td>\n",
              "      <td>1.103059e+09</td>\n",
              "      <td>1.618712e+09</td>\n",
              "    </tr>\n",
              "  </tbody>\n",
              "</table>\n",
              "</div>\n",
              "      <button class=\"colab-df-convert\" onclick=\"convertToInteractive('df-df39b93d-bcf1-4f6c-b3a9-15881ab4ada0')\"\n",
              "              title=\"Convert this dataframe to an interactive table.\"\n",
              "              style=\"display:none;\">\n",
              "        \n",
              "  <svg xmlns=\"http://www.w3.org/2000/svg\" height=\"24px\"viewBox=\"0 0 24 24\"\n",
              "       width=\"24px\">\n",
              "    <path d=\"M0 0h24v24H0V0z\" fill=\"none\"/>\n",
              "    <path d=\"M18.56 5.44l.94 2.06.94-2.06 2.06-.94-2.06-.94-.94-2.06-.94 2.06-2.06.94zm-11 1L8.5 8.5l.94-2.06 2.06-.94-2.06-.94L8.5 2.5l-.94 2.06-2.06.94zm10 10l.94 2.06.94-2.06 2.06-.94-2.06-.94-.94-2.06-.94 2.06-2.06.94z\"/><path d=\"M17.41 7.96l-1.37-1.37c-.4-.4-.92-.59-1.43-.59-.52 0-1.04.2-1.43.59L10.3 9.45l-7.72 7.72c-.78.78-.78 2.05 0 2.83L4 21.41c.39.39.9.59 1.41.59.51 0 1.02-.2 1.41-.59l7.78-7.78 2.81-2.81c.8-.78.8-2.07 0-2.86zM5.41 20L4 18.59l7.72-7.72 1.47 1.35L5.41 20z\"/>\n",
              "  </svg>\n",
              "      </button>\n",
              "      \n",
              "  <style>\n",
              "    .colab-df-container {\n",
              "      display:flex;\n",
              "      flex-wrap:wrap;\n",
              "      gap: 12px;\n",
              "    }\n",
              "\n",
              "    .colab-df-convert {\n",
              "      background-color: #E8F0FE;\n",
              "      border: none;\n",
              "      border-radius: 50%;\n",
              "      cursor: pointer;\n",
              "      display: none;\n",
              "      fill: #1967D2;\n",
              "      height: 32px;\n",
              "      padding: 0 0 0 0;\n",
              "      width: 32px;\n",
              "    }\n",
              "\n",
              "    .colab-df-convert:hover {\n",
              "      background-color: #E2EBFA;\n",
              "      box-shadow: 0px 1px 2px rgba(60, 64, 67, 0.3), 0px 1px 3px 1px rgba(60, 64, 67, 0.15);\n",
              "      fill: #174EA6;\n",
              "    }\n",
              "\n",
              "    [theme=dark] .colab-df-convert {\n",
              "      background-color: #3B4455;\n",
              "      fill: #D2E3FC;\n",
              "    }\n",
              "\n",
              "    [theme=dark] .colab-df-convert:hover {\n",
              "      background-color: #434B5C;\n",
              "      box-shadow: 0px 1px 3px 1px rgba(0, 0, 0, 0.15);\n",
              "      filter: drop-shadow(0px 1px 2px rgba(0, 0, 0, 0.3));\n",
              "      fill: #FFFFFF;\n",
              "    }\n",
              "  </style>\n",
              "\n",
              "      <script>\n",
              "        const buttonEl =\n",
              "          document.querySelector('#df-df39b93d-bcf1-4f6c-b3a9-15881ab4ada0 button.colab-df-convert');\n",
              "        buttonEl.style.display =\n",
              "          google.colab.kernel.accessAllowed ? 'block' : 'none';\n",
              "\n",
              "        async function convertToInteractive(key) {\n",
              "          const element = document.querySelector('#df-df39b93d-bcf1-4f6c-b3a9-15881ab4ada0');\n",
              "          const dataTable =\n",
              "            await google.colab.kernel.invokeFunction('convertToInteractive',\n",
              "                                                     [key], {});\n",
              "          if (!dataTable) return;\n",
              "\n",
              "          const docLinkHtml = 'Like what you see? Visit the ' +\n",
              "            '<a target=\"_blank\" href=https://colab.research.google.com/notebooks/data_table.ipynb>data table notebook</a>'\n",
              "            + ' to learn more about interactive tables.';\n",
              "          element.innerHTML = '';\n",
              "          dataTable['output_type'] = 'display_data';\n",
              "          await google.colab.output.renderOutput(dataTable, element);\n",
              "          const docLink = document.createElement('div');\n",
              "          docLink.innerHTML = docLinkHtml;\n",
              "          element.appendChild(docLink);\n",
              "        }\n",
              "      </script>\n",
              "    </div>\n",
              "  </div>\n",
              "  "
            ]
          },
          "metadata": {},
          "execution_count": 13
        }
      ],
      "source": [
        "train.tail(2)"
      ]
    },
    {
      "cell_type": "code",
      "execution_count": 14,
      "metadata": {
        "colab": {
          "base_uri": "https://localhost:8080/"
        },
        "id": "4umGgG9aLzEF",
        "outputId": "298026e8-2183-4b11-e8fa-a9e63653f04d"
      },
      "outputs": [
        {
          "output_type": "stream",
          "name": "stdout",
          "text": [
            "<class 'pandas.core.frame.DataFrame'>\n",
            "RangeIndex: 34686 entries, 0 to 34685\n",
            "Data columns (total 32 columns):\n",
            " #   Column                Non-Null Count  Dtype \n",
            "---  ------                --------------  ----- \n",
            " 0   bodyType              34686 non-null  object\n",
            " 1   brand                 34686 non-null  object\n",
            " 2   car_url               34686 non-null  object\n",
            " 3   color                 34686 non-null  object\n",
            " 4   complectation_dict    6418 non-null   object\n",
            " 5   description           34686 non-null  object\n",
            " 6   engineDisplacement    34686 non-null  object\n",
            " 7   enginePower           34686 non-null  object\n",
            " 8   equipment_dict        24690 non-null  object\n",
            " 9   fuelType              34686 non-null  object\n",
            " 10  image                 34686 non-null  object\n",
            " 11  mileage               34686 non-null  int64 \n",
            " 12  modelDate             34686 non-null  int64 \n",
            " 13  model_info            34686 non-null  object\n",
            " 14  model_name            34686 non-null  object\n",
            " 15  name                  34686 non-null  object\n",
            " 16  numberOfDoors         34686 non-null  int64 \n",
            " 17  parsing_unixtime      34686 non-null  int64 \n",
            " 18  priceCurrency         34686 non-null  object\n",
            " 19  productionDate        34686 non-null  int64 \n",
            " 20  sell_id               34686 non-null  int64 \n",
            " 21  super_gen             34686 non-null  object\n",
            " 22  vehicleConfiguration  34686 non-null  object\n",
            " 23  vehicleTransmission   34686 non-null  object\n",
            " 24  vendor                34686 non-null  object\n",
            " 25  Владельцы             34686 non-null  object\n",
            " 26  Владение              11995 non-null  object\n",
            " 27  ПТС                   34685 non-null  object\n",
            " 28  Привод                34686 non-null  object\n",
            " 29  Руль                  34686 non-null  object\n",
            " 30  Состояние             34686 non-null  object\n",
            " 31  Таможня               34686 non-null  object\n",
            "dtypes: int64(6), object(26)\n",
            "memory usage: 8.5+ MB\n"
          ]
        }
      ],
      "source": [
        "valid.info()"
      ]
    },
    {
      "cell_type": "code",
      "execution_count": 15,
      "metadata": {
        "colab": {
          "base_uri": "https://localhost:8080/"
        },
        "id": "5j7yMB-E5UvA",
        "outputId": "35c3c288-b96c-435e-e575-2ab5f05a168a"
      },
      "outputs": [
        {
          "output_type": "stream",
          "name": "stdout",
          "text": [
            "<class 'pandas.core.frame.DataFrame'>\n",
            "RangeIndex: 184790 entries, 0 to 184789\n",
            "Data columns (total 28 columns):\n",
            " #   Column                Non-Null Count   Dtype  \n",
            "---  ------                --------------   -----  \n",
            " 0   bodyType              184710 non-null  object \n",
            " 1   brand                 184711 non-null  object \n",
            " 2   color                 184711 non-null  object \n",
            " 3   complectation_dict    43127 non-null   object \n",
            " 4   description           184711 non-null  object \n",
            " 5   engineDisplacement    184711 non-null  object \n",
            " 6   enginePower           184711 non-null  object \n",
            " 7   equipment_dict        184711 non-null  object \n",
            " 8   fuelType              184710 non-null  object \n",
            " 9   mileage               178119 non-null  float64\n",
            " 10  modelDate             184710 non-null  float64\n",
            " 11  model_name            184711 non-null  object \n",
            " 12  numberOfDoors         184710 non-null  float64\n",
            " 13  price                 177046 non-null  float64\n",
            " 14  productionDate        184711 non-null  float64\n",
            " 15  super_gen             184710 non-null  object \n",
            " 16  vehicleConfiguration  184710 non-null  object \n",
            " 17  vehicleTransmission   184710 non-null  object \n",
            " 18  vendor                55415 non-null   object \n",
            " 19  Владельцы             183983 non-null  object \n",
            " 20  Владение              54022 non-null   object \n",
            " 21  ПТС                   183983 non-null  object \n",
            " 22  Привод                183988 non-null  object \n",
            " 23  Руль                  183989 non-null  object \n",
            " 24  Состояние             183989 non-null  object \n",
            " 25  Таможня               183989 non-null  object \n",
            " 26  sell_id               184722 non-null  float64\n",
            " 27  parsing_unixtime      175118 non-null  float64\n",
            "dtypes: float64(7), object(21)\n",
            "memory usage: 39.5+ MB\n"
          ]
        }
      ],
      "source": [
        "train.info()"
      ]
    },
    {
      "cell_type": "markdown",
      "source": [
        "## 3.1. Объединение обучающих и тестовых наборов данных\n",
        "\n",
        "Чтобы начать предварительную обработку данных и EDA, мне сначала пришлось объединить наши обучающие наборы данных с тестовым. Для этого стоит проверить столбцы, которые присутствуют или отсутствуют в наборах данных, и сравнить типы столбцов."
      ],
      "metadata": {
        "id": "vONfvwH9cYye"
      }
    },
    {
      "cell_type": "code",
      "source": [
        "print_df_differences(dfs_names=['train', 'valid'], dfs=[train, valid])"
      ],
      "metadata": {
        "colab": {
          "base_uri": "https://localhost:8080/"
        },
        "id": "RnO49yESeDCN",
        "outputId": "f649f58f-0a2d-4baf-fc12-e3988fbc1132"
      },
      "execution_count": 16,
      "outputs": [
        {
          "output_type": "stream",
          "name": "stdout",
          "text": [
            "\n",
            "Columns that are present in -train- dataset and missing in -valid- dataset:\n",
            "{'price'}\n",
            "The common parsing_unixtime column: float64 in -train- dataset and int64 in -valid- dataset\n",
            "The common productionDate column: float64 in -train- dataset and int64 in -valid- dataset\n",
            "The common mileage column: float64 in -train- dataset and int64 in -valid- dataset\n",
            "The common sell_id column: float64 in -train- dataset and int64 in -valid- dataset\n",
            "The common numberOfDoors column: float64 in -train- dataset and int64 in -valid- dataset\n",
            "The common modelDate column: float64 in -train- dataset and int64 in -valid- dataset\n",
            "\n",
            "Columns that are present in -valid- dataset and missing in -train- dataset:\n",
            "{'image', 'priceCurrency', 'car_url', 'model_info', 'name'}\n",
            "The common parsing_unixtime column: int64 in -valid- dataset and float64 in -train- dataset\n",
            "The common productionDate column: int64 in -valid- dataset and float64 in -train- dataset\n",
            "The common mileage column: int64 in -valid- dataset and float64 in -train- dataset\n",
            "The common sell_id column: int64 in -valid- dataset and float64 in -train- dataset\n",
            "The common numberOfDoors column: int64 in -valid- dataset and float64 in -train- dataset\n",
            "The common modelDate column: int64 in -valid- dataset and float64 in -train- dataset\n"
          ]
        }
      ]
    },
    {
      "cell_type": "markdown",
      "source": [
        "Анализируя данные, представленные выше, можно видеть, что наборs данных отличаются как наличием различных функций, так и типами данных в общих функциях. Для дальнейшей работы все данные должны быть преобразованы в одну и ту же форму.\n",
        "\n",
        "## 1) Сравнение train и тестовых наборов данных:\n",
        "В train отсутствуют следующие столбцы по сравнению с тестовым:\n",
        "- 'image'\n",
        "- 'priceCurrency'\n",
        "- 'name'\n",
        "- 'model_info'\n",
        "- 'car_url'"
      ],
      "metadata": {
        "id": "ufG_S3yYe8UL"
      }
    },
    {
      "cell_type": "markdown",
      "source": [
        "##3.2 Уберем не нужные бренды"
      ],
      "metadata": {
        "id": "MVe9xbCkXvGc"
      }
    },
    {
      "cell_type": "code",
      "source": [
        "delit_list = list(set(train.brand.unique()) - set(valid.brand.unique()))\n",
        "delit_list"
      ],
      "metadata": {
        "colab": {
          "base_uri": "https://localhost:8080/"
        },
        "id": "xJ8oAiC3YI8V",
        "outputId": "f8b9eb1d-d78d-4d5d-8659-fa7632c1eca6"
      },
      "execution_count": 17,
      "outputs": [
        {
          "output_type": "execute_result",
          "data": {
            "text/plain": [
              "[nan,\n",
              " 'TIANMA',\n",
              " 'LINCOLN',\n",
              " 'ISUZU',\n",
              " 'DAEWOO',\n",
              " 'RAVON',\n",
              " 'IRAN_KHODRO',\n",
              " 'LOTUS',\n",
              " 'MASERATI',\n",
              " 'ASTON_MARTIN',\n",
              " 'GAZ',\n",
              " 'GAC',\n",
              " 'ACURA',\n",
              " 'TESLA',\n",
              " 'BRILLIANCE',\n",
              " 'DODGE',\n",
              " 'PONTIAC',\n",
              " 'ZIBAR',\n",
              " 'HAIMA',\n",
              " 'OPEL',\n",
              " 'SUZUKI',\n",
              " 'MAYBACH',\n",
              " 'BYD',\n",
              " 'SMART',\n",
              " 'HYUNDAI',\n",
              " 'RINSPEED',\n",
              " 'GREAT_WALL',\n",
              " 'LIGIER',\n",
              " 'SUBARU',\n",
              " 'ZX',\n",
              " 'JEEP',\n",
              " 'FIAT',\n",
              " 'LUXGEN',\n",
              " 'TAGAZ',\n",
              " 'JAC',\n",
              " 'DS',\n",
              " 'DACIA',\n",
              " 'BRABUS',\n",
              " 'LAND_ROVER',\n",
              " 'FORD',\n",
              " 'HUMMER',\n",
              " 'MINI',\n",
              " 'FISKER',\n",
              " 'DATSUN',\n",
              " 'SCION',\n",
              " 'PORSCHE',\n",
              " 'HAWTAI',\n",
              " 'KIA',\n",
              " 'SEAT',\n",
              " 'LIFAN',\n",
              " 'ALFA_ROMEO',\n",
              " 'ZOTYE',\n",
              " 'JAGUAR',\n",
              " 'LAMBORGHINI',\n",
              " 'PEUGEOT',\n",
              " 'TIANYE',\n",
              " 'ZAZ',\n",
              " 'FAW',\n",
              " 'BAIC',\n",
              " 'PROMO_AUTO',\n",
              " 'CHRYSLER',\n",
              " 'ALPINA',\n",
              " 'HAFEI',\n",
              " 'CHANGAN',\n",
              " 'LANCIA',\n",
              " 'MCLAREN',\n",
              " 'UAZ',\n",
              " 'FOTON',\n",
              " 'BUICK',\n",
              " 'IG',\n",
              " 'VAZ',\n",
              " 'SAAB',\n",
              " 'ROVER',\n",
              " 'BENTLEY',\n",
              " 'HAVAL',\n",
              " 'MERCURY',\n",
              " 'DAIHATSU',\n",
              " 'DW_HOWER',\n",
              " 'RENAULT',\n",
              " 'CADILLAC',\n",
              " 'ROLLS_ROYCE',\n",
              " 'CHERYEXEED',\n",
              " 'CITROEN',\n",
              " 'CHERY',\n",
              " 'DADI',\n",
              " 'DONGFENG',\n",
              " 'ARIEL',\n",
              " 'XINKAI',\n",
              " 'SSANG_YONG',\n",
              " 'CHEVROLET',\n",
              " 'MAZDA',\n",
              " 'MG',\n",
              " 'FERRARI',\n",
              " 'GEELY',\n",
              " 'GENESIS',\n",
              " 'RAM',\n",
              " 'GMC',\n",
              " 'VORTEX']"
            ]
          },
          "metadata": {},
          "execution_count": 17
        }
      ]
    },
    {
      "cell_type": "code",
      "source": [
        "train = train[train['brand'].isin(delit_list) == False]\n",
        "set(train['brand'].unique()) - set(valid.brand.unique())"
      ],
      "metadata": {
        "colab": {
          "base_uri": "https://localhost:8080/"
        },
        "id": "14faVMgMXyVF",
        "outputId": "d1ca9e6c-b3c8-46c6-c90d-0e29d0ce7a8b"
      },
      "execution_count": 18,
      "outputs": [
        {
          "output_type": "execute_result",
          "data": {
            "text/plain": [
              "set()"
            ]
          },
          "metadata": {},
          "execution_count": 18
        }
      ]
    },
    {
      "cell_type": "markdown",
      "source": [
        "## 3.3Смотрим на пропущенные данные"
      ],
      "metadata": {
        "id": "vJtAyP7PbeAS"
      }
    },
    {
      "cell_type": "code",
      "source": [
        "sns.heatmap(valid.isna(), cbar=False)"
      ],
      "metadata": {
        "colab": {
          "base_uri": "https://localhost:8080/",
          "height": 381
        },
        "id": "7BXDSVV5bFEG",
        "outputId": "5d515262-9738-47b4-cde5-e3a75693038b"
      },
      "execution_count": 19,
      "outputs": [
        {
          "output_type": "execute_result",
          "data": {
            "text/plain": [
              "<matplotlib.axes._subplots.AxesSubplot at 0x7fdd62749090>"
            ]
          },
          "metadata": {},
          "execution_count": 19
        },
        {
          "output_type": "display_data",
          "data": {
            "text/plain": [
              "<Figure size 432x288 with 1 Axes>"
            ],
            "image/png": "[encoded data removed]"
          },
          "metadata": {
            "needs_background": "light"
          }
        }
      ]
    },
    {
      "cell_type": "code",
      "execution_count": 20,
      "metadata": {
        "colab": {
          "base_uri": "https://localhost:8080/"
        },
        "id": "2hhFxP-ivDn7",
        "outputId": "5f5530d5-571f-4f6a-97e6-7b3b1cba65c6"
      },
      "outputs": [
        {
          "output_type": "execute_result",
          "data": {
            "text/plain": [
              "bodyType                    0\n",
              "brand                       0\n",
              "car_url                     0\n",
              "color                       0\n",
              "complectation_dict      28268\n",
              "description                 0\n",
              "engineDisplacement          0\n",
              "enginePower                 0\n",
              "equipment_dict           9996\n",
              "fuelType                    0\n",
              "image                       0\n",
              "mileage                     0\n",
              "modelDate                   0\n",
              "model_info                  0\n",
              "model_name                  0\n",
              "name                        0\n",
              "numberOfDoors               0\n",
              "parsing_unixtime            0\n",
              "priceCurrency               0\n",
              "productionDate              0\n",
              "sell_id                     0\n",
              "super_gen                   0\n",
              "vehicleConfiguration        0\n",
              "vehicleTransmission         0\n",
              "vendor                      0\n",
              "Владельцы                   0\n",
              "Владение                22691\n",
              "ПТС                         1\n",
              "Привод                      0\n",
              "Руль                        0\n",
              "Состояние                   0\n",
              "Таможня                     0\n",
              "dtype: int64"
            ]
          },
          "metadata": {},
          "execution_count": 20
        }
      ],
      "source": [
        "# смотрим пропущенные значения\n",
        "valid.isna().sum()"
      ]
    },
    {
      "cell_type": "code",
      "source": [
        "sns.heatmap(train.isna(), cbar=False)"
      ],
      "metadata": {
        "colab": {
          "base_uri": "https://localhost:8080/",
          "height": 381
        },
        "id": "wGqc-MAwbUbz",
        "outputId": "cec305a0-1c85-47de-c26f-267b7a4ec696"
      },
      "execution_count": 21,
      "outputs": [
        {
          "output_type": "execute_result",
          "data": {
            "text/plain": [
              "<matplotlib.axes._subplots.AxesSubplot at 0x7fdd5f95f250>"
            ]
          },
          "metadata": {},
          "execution_count": 21
        },
        {
          "output_type": "display_data",
          "data": {
            "text/plain": [
              "<Figure size 432x288 with 1 Axes>"
            ],
            "image/png": "[encoded data removed]"
          },
          "metadata": {
            "needs_background": "light"
          }
        }
      ]
    },
    {
      "cell_type": "code",
      "execution_count": 22,
      "metadata": {
        "colab": {
          "base_uri": "https://localhost:8080/"
        },
        "id": "sdLgZyLSrt5r",
        "outputId": "5a40f323-7782-4593-cff9-f8bf2b12ce6e"
      },
      "outputs": [
        {
          "output_type": "execute_result",
          "data": {
            "text/plain": [
              "bodyType                     1\n",
              "brand                        0\n",
              "color                        0\n",
              "complectation_dict      134003\n",
              "description                  0\n",
              "engineDisplacement           0\n",
              "enginePower                  0\n",
              "equipment_dict               0\n",
              "fuelType                     1\n",
              "mileage                   3079\n",
              "modelDate                    1\n",
              "model_name                   0\n",
              "numberOfDoors                1\n",
              "price                     7611\n",
              "productionDate               0\n",
              "super_gen                    1\n",
              "vehicleConfiguration         1\n",
              "vehicleTransmission          1\n",
              "vendor                  129282\n",
              "Владельцы                  461\n",
              "Владение                109645\n",
              "ПТС                        461\n",
              "Привод                     456\n",
              "Руль                       455\n",
              "Состояние                  455\n",
              "Таможня                    455\n",
              "sell_id                      0\n",
              "parsing_unixtime          9671\n",
              "dtype: int64"
            ]
          },
          "metadata": {},
          "execution_count": 22
        }
      ],
      "source": [
        "# Сколько пропущенных значений\n",
        "train.isna().sum()"
      ]
    },
    {
      "cell_type": "code",
      "execution_count": 23,
      "metadata": {
        "colab": {
          "base_uri": "https://localhost:8080/"
        },
        "id": "aBIbutL_QAvb",
        "outputId": "0a6677ad-53ad-4fc2-e5b1-ced83d21d68c"
      },
      "outputs": [
        {
          "output_type": "execute_result",
          "data": {
            "text/plain": [
              "(1411, 28)"
            ]
          },
          "metadata": {},
          "execution_count": 23
        }
      ],
      "source": [
        "# сколько авто продаются за 0 рублей?\n",
        "train[train['price'] == 0].shape"
      ]
    },
    {
      "cell_type": "code",
      "execution_count": null,
      "metadata": {
        "colab": {
          "base_uri": "https://localhost:8080/"
        },
        "id": "IRMI5ZZZsEZ-",
        "outputId": "adf77f37-05c4-4390-eab4-9dcbe56e69e7"
      },
      "outputs": [
        {
          "output_type": "execute_result",
          "data": {
            "text/plain": [
              "(146030, 28)"
            ]
          },
          "metadata": {},
          "execution_count": 76
        }
      ],
      "source": [
        "#price - целевая переменная. Строки, в которых она пропущенная, либо равны 0 ценности не имеют. Удаляем их.\n",
        "train.dropna(subset=['price'], inplace=True)\n",
        "train = train[train['price'] != 0]\n",
        "train.shape"
      ]
    },
    {
      "cell_type": "markdown",
      "metadata": {
        "id": "pYNEZ9MLcKmk"
      },
      "source": []
    },
    {
      "cell_type": "code",
      "execution_count": null,
      "metadata": {
        "colab": {
          "base_uri": "https://localhost:8080/",
          "height": 53
        },
        "id": "h6v3lJGIXG-x",
        "outputId": "879a30fe-35c4-46f2-8347-cbf2fcf45375"
      },
      "outputs": [
        {
          "output_type": "execute_result",
          "data": {
            "text/plain": [
              "'*Добавим parsing_unixtime 1624352882 в train на момент \\nскачивания датасета(22.06.2021). Возможно это поможет \\nскорректировать изменение цены во времени, если будут загружены новые данные в другое время*'"
            ],
            "application/vnd.google.colaboratory.intrinsic+json": {
              "type": "string"
            }
          },
          "metadata": {},
          "execution_count": 19
        }
      ],
      "source": [
        "\"\"\"*Добавим parsing_unixtime 1624352882 в train на момент \n",
        "скачивания датасета(22.06.2021). Возможно это поможет \n",
        "скорректировать изменение цены во времени, если будут загружены новые данные в другое время*\"\"\"\n",
        "# train['parsing_unixtime'] = 1624352882\n",
        "# train['sell_id'] = 0"
      ]
    },
    {
      "cell_type": "code",
      "execution_count": null,
      "metadata": {
        "colab": {
          "base_uri": "https://localhost:8080/"
        },
        "id": "Bi-hb3Frr43l",
        "outputId": "07a1c3a9-44a8-45ed-e602-7cb42b913c20"
      },
      "outputs": [
        {
          "output_type": "execute_result",
          "data": {
            "text/plain": [
              "['model_info', 'priceCurrency', 'car_url', 'name', 'image']"
            ]
          },
          "metadata": {},
          "execution_count": 20
        }
      ],
      "source": [
        "# смотрим какие колонки отличаются либо не хватает\n",
        "column_del = list(set(valid.columns) - set(train.columns))\n",
        "column_del"
      ]
    },
    {
      "cell_type": "code",
      "execution_count": null,
      "metadata": {
        "colab": {
          "base_uri": "https://localhost:8080/"
        },
        "id": "W66wF4Wo30df",
        "outputId": "41ac6f2b-94b9-4fd3-e99c-462cbb159fa1"
      },
      "outputs": [
        {
          "output_type": "execute_result",
          "data": {
            "text/plain": [
              "['price']"
            ]
          },
          "metadata": {},
          "execution_count": 21
        }
      ],
      "source": [
        "list(set(train.columns) - set(valid.columns))\n",
        "# в тренировочной лишь только доп столбец с таргетом price"
      ]
    },
    {
      "cell_type": "markdown",
      "metadata": {
        "id": "xWITFcziscfF"
      },
      "source": [
        "* 'name - удаляем', т.к. дублируется в др. колонках\n",
        "* 'model_info' - удаляем, т.к. дублируется в др. колонках\n",
        "* 'car_url', \n",
        "* 'sell_id - **потребуется для соответсвия в valid**, \n",
        "*'image', 'priceCurrency' в данном случае не несут смыловой нагрузки."
      ]
    },
    {
      "cell_type": "markdown",
      "metadata": {
        "id": "d-5tfGQoczl5"
      },
      "source": [
        "*удалим лишние колонки из теста*"
      ]
    },
    {
      "cell_type": "code",
      "execution_count": null,
      "metadata": {
        "colab": {
          "base_uri": "https://localhost:8080/",
          "height": 34
        },
        "id": "Ab78WeYitwYr",
        "outputId": "f7996e5c-a5f3-45b0-a9d0-f4e583c590ee"
      },
      "outputs": [
        {
          "output_type": "display_data",
          "data": {
            "text/plain": [
              "['model_info', 'priceCurrency', 'car_url', 'name', 'image']"
            ]
          },
          "metadata": {}
        }
      ],
      "source": [
        "# Обновим список колонок которые будем удалять\n",
        "column_del = list(set(valid.columns) - set(train.columns))\n",
        "display(column_del)\n",
        "valid = valid.drop(column_del, axis=1)"
      ]
    },
    {
      "cell_type": "markdown",
      "metadata": {
        "id": "t0naoJNRYQkc"
      },
      "source": [
        "## 3.4 Проверяем на дубликаты"
      ]
    },
    {
      "cell_type": "code",
      "execution_count": null,
      "metadata": {
        "colab": {
          "base_uri": "https://localhost:8080/"
        },
        "id": "LuPKAfG5p7of",
        "outputId": "4de5e335-09f6-4a4b-a3ea-9a5a44694d7a"
      },
      "outputs": [
        {
          "output_type": "execute_result",
          "data": {
            "text/plain": [
              "False    169606\n",
              "True       3379\n",
              "dtype: int64"
            ]
          },
          "metadata": {},
          "execution_count": 23
        }
      ],
      "source": [
        "train.duplicated().value_counts()"
      ]
    },
    {
      "cell_type": "code",
      "execution_count": null,
      "metadata": {
        "colab": {
          "base_uri": "https://localhost:8080/",
          "height": 315
        },
        "id": "Rncp-R7NYZfY",
        "outputId": "737bd5f2-cd0e-4cf7-a4f2-9742692ea621"
      },
      "outputs": [
        {
          "output_type": "execute_result",
          "data": {
            "text/plain": [
              "                 bodyType       brand    color complectation_dict  \\\n",
              "116094  внедорожник 5 дв.      TOYOTA  зелёный                NaN   \n",
              "116095    универсал 5 дв.  VOLKSWAGEN  зелёный                NaN   \n",
              "\n",
              "                                              description engineDisplacement  \\\n",
              "116094  Все работет, за исключением омывателя фар(нужн...            4.7 LTR   \n",
              "116095          Рабочая лошадь. Все вопросы по телефону.             1.8 LTR   \n",
              "\n",
              "       enginePower                                     equipment_dict  \\\n",
              "116094     235 N12  {'third-row-seats': True, 'alarm': True, 'rear...   \n",
              "116095      75 N12                                                 {}   \n",
              "\n",
              "       fuelType   mileage  modelDate    model_name  numberOfDoors     price  \\\n",
              "116094   бензин  290000.0     1998.0  LAND_CRUISER            5.0  930000.0   \n",
              "116095   бензин  430000.0     1988.0        PASSAT            5.0   55000.0   \n",
              "\n",
              "        productionDate                                          super_gen  \\\n",
              "116094          2001.0  {'id': '21285395', 'name': '', 'nameplate': ''...   \n",
              "116095          1990.0  {'id': '7866823', 'name': '', 'nameplate': '',...   \n",
              "\n",
              "                 vehicleConfiguration vehicleTransmission vendor    Владельцы  \\\n",
              "116094  ALLROAD_5_DOORS AUTOMATIC 4.7      автоматическая    NaN  2 владельца   \n",
              "116095   WAGON_5_DOORS MECHANICAL 1.8        механическая    NaN  3 или более   \n",
              "\n",
              "       Владение       ПТС    Привод   Руль           Состояние     Таможня  \\\n",
              "116094      NaN  Оригинал    полный  Левый  Не требует ремонта  Растаможен   \n",
              "116095      NaN  Дубликат  передний  Левый  Не требует ремонта  Растаможен   \n",
              "\n",
              "             sell_id  parsing_unixtime  \n",
              "116094  1.103154e+09      1.618834e+09  \n",
              "116095  1.102984e+09      1.618834e+09  "
            ],
            "text/html": [
              "\n",
              "  <div id=\"df-cc37faf8-dcd2-4a1f-bccc-94e24885b442\">\n",
              "    <div class=\"colab-df-container\">\n",
              "      <div>\n",
              "<style scoped>\n",
              "    .dataframe tbody tr th:only-of-type {\n",
              "        vertical-align: middle;\n",
              "    }\n",
              "\n",
              "    .dataframe tbody tr th {\n",
              "        vertical-align: top;\n",
              "    }\n",
              "\n",
              "    .dataframe thead th {\n",
              "        text-align: right;\n",
              "    }\n",
              "</style>\n",
              "<table border=\"1\" class=\"dataframe\">\n",
              "  <thead>\n",
              "    <tr style=\"text-align: right;\">\n",
              "      <th></th>\n",
              "      <th>bodyType</th>\n",
              "      <th>brand</th>\n",
              "      <th>color</th>\n",
              "      <th>complectation_dict</th>\n",
              "      <th>description</th>\n",
              "      <th>engineDisplacement</th>\n",
              "      <th>enginePower</th>\n",
              "      <th>equipment_dict</th>\n",
              "      <th>fuelType</th>\n",
              "      <th>mileage</th>\n",
              "      <th>modelDate</th>\n",
              "      <th>model_name</th>\n",
              "      <th>numberOfDoors</th>\n",
              "      <th>price</th>\n",
              "      <th>productionDate</th>\n",
              "      <th>super_gen</th>\n",
              "      <th>vehicleConfiguration</th>\n",
              "      <th>vehicleTransmission</th>\n",
              "      <th>vendor</th>\n",
              "      <th>Владельцы</th>\n",
              "      <th>Владение</th>\n",
              "      <th>ПТС</th>\n",
              "      <th>Привод</th>\n",
              "      <th>Руль</th>\n",
              "      <th>Состояние</th>\n",
              "      <th>Таможня</th>\n",
              "      <th>sell_id</th>\n",
              "      <th>parsing_unixtime</th>\n",
              "    </tr>\n",
              "  </thead>\n",
              "  <tbody>\n",
              "    <tr>\n",
              "      <th>116094</th>\n",
              "      <td>внедорожник 5 дв.</td>\n",
              "      <td>TOYOTA</td>\n",
              "      <td>зелёный</td>\n",
              "      <td>NaN</td>\n",
              "      <td>Все работет, за исключением омывателя фар(нужн...</td>\n",
              "      <td>4.7 LTR</td>\n",
              "      <td>235 N12</td>\n",
              "      <td>{'third-row-seats': True, 'alarm': True, 'rear...</td>\n",
              "      <td>бензин</td>\n",
              "      <td>290000.0</td>\n",
              "      <td>1998.0</td>\n",
              "      <td>LAND_CRUISER</td>\n",
              "      <td>5.0</td>\n",
              "      <td>930000.0</td>\n",
              "      <td>2001.0</td>\n",
              "      <td>{'id': '21285395', 'name': '', 'nameplate': ''...</td>\n",
              "      <td>ALLROAD_5_DOORS AUTOMATIC 4.7</td>\n",
              "      <td>автоматическая</td>\n",
              "      <td>NaN</td>\n",
              "      <td>2 владельца</td>\n",
              "      <td>NaN</td>\n",
              "      <td>Оригинал</td>\n",
              "      <td>полный</td>\n",
              "      <td>Левый</td>\n",
              "      <td>Не требует ремонта</td>\n",
              "      <td>Растаможен</td>\n",
              "      <td>1.103154e+09</td>\n",
              "      <td>1.618834e+09</td>\n",
              "    </tr>\n",
              "    <tr>\n",
              "      <th>116095</th>\n",
              "      <td>универсал 5 дв.</td>\n",
              "      <td>VOLKSWAGEN</td>\n",
              "      <td>зелёный</td>\n",
              "      <td>NaN</td>\n",
              "      <td>Рабочая лошадь. Все вопросы по телефону.</td>\n",
              "      <td>1.8 LTR</td>\n",
              "      <td>75 N12</td>\n",
              "      <td>{}</td>\n",
              "      <td>бензин</td>\n",
              "      <td>430000.0</td>\n",
              "      <td>1988.0</td>\n",
              "      <td>PASSAT</td>\n",
              "      <td>5.0</td>\n",
              "      <td>55000.0</td>\n",
              "      <td>1990.0</td>\n",
              "      <td>{'id': '7866823', 'name': '', 'nameplate': '',...</td>\n",
              "      <td>WAGON_5_DOORS MECHANICAL 1.8</td>\n",
              "      <td>механическая</td>\n",
              "      <td>NaN</td>\n",
              "      <td>3 или более</td>\n",
              "      <td>NaN</td>\n",
              "      <td>Дубликат</td>\n",
              "      <td>передний</td>\n",
              "      <td>Левый</td>\n",
              "      <td>Не требует ремонта</td>\n",
              "      <td>Растаможен</td>\n",
              "      <td>1.102984e+09</td>\n",
              "      <td>1.618834e+09</td>\n",
              "    </tr>\n",
              "  </tbody>\n",
              "</table>\n",
              "</div>\n",
              "      <button class=\"colab-df-convert\" onclick=\"convertToInteractive('df-cc37faf8-dcd2-4a1f-bccc-94e24885b442')\"\n",
              "              title=\"Convert this dataframe to an interactive table.\"\n",
              "              style=\"display:none;\">\n",
              "        \n",
              "  <svg xmlns=\"http://www.w3.org/2000/svg\" height=\"24px\"viewBox=\"0 0 24 24\"\n",
              "       width=\"24px\">\n",
              "    <path d=\"M0 0h24v24H0V0z\" fill=\"none\"/>\n",
              "    <path d=\"M18.56 5.44l.94 2.06.94-2.06 2.06-.94-2.06-.94-.94-2.06-.94 2.06-2.06.94zm-11 1L8.5 8.5l.94-2.06 2.06-.94-2.06-.94L8.5 2.5l-.94 2.06-2.06.94zm10 10l.94 2.06.94-2.06 2.06-.94-2.06-.94-.94-2.06-.94 2.06-2.06.94z\"/><path d=\"M17.41 7.96l-1.37-1.37c-.4-.4-.92-.59-1.43-.59-.52 0-1.04.2-1.43.59L10.3 9.45l-7.72 7.72c-.78.78-.78 2.05 0 2.83L4 21.41c.39.39.9.59 1.41.59.51 0 1.02-.2 1.41-.59l7.78-7.78 2.81-2.81c.8-.78.8-2.07 0-2.86zM5.41 20L4 18.59l7.72-7.72 1.47 1.35L5.41 20z\"/>\n",
              "  </svg>\n",
              "      </button>\n",
              "      \n",
              "  <style>\n",
              "    .colab-df-container {\n",
              "      display:flex;\n",
              "      flex-wrap:wrap;\n",
              "      gap: 12px;\n",
              "    }\n",
              "\n",
              "    .colab-df-convert {\n",
              "      background-color: #E8F0FE;\n",
              "      border: none;\n",
              "      border-radius: 50%;\n",
              "      cursor: pointer;\n",
              "      display: none;\n",
              "      fill: #1967D2;\n",
              "      height: 32px;\n",
              "      padding: 0 0 0 0;\n",
              "      width: 32px;\n",
              "    }\n",
              "\n",
              "    .colab-df-convert:hover {\n",
              "      background-color: #E2EBFA;\n",
              "      box-shadow: 0px 1px 2px rgba(60, 64, 67, 0.3), 0px 1px 3px 1px rgba(60, 64, 67, 0.15);\n",
              "      fill: #174EA6;\n",
              "    }\n",
              "\n",
              "    [theme=dark] .colab-df-convert {\n",
              "      background-color: #3B4455;\n",
              "      fill: #D2E3FC;\n",
              "    }\n",
              "\n",
              "    [theme=dark] .colab-df-convert:hover {\n",
              "      background-color: #434B5C;\n",
              "      box-shadow: 0px 1px 3px 1px rgba(0, 0, 0, 0.15);\n",
              "      filter: drop-shadow(0px 1px 2px rgba(0, 0, 0, 0.3));\n",
              "      fill: #FFFFFF;\n",
              "    }\n",
              "  </style>\n",
              "\n",
              "      <script>\n",
              "        const buttonEl =\n",
              "          document.querySelector('#df-cc37faf8-dcd2-4a1f-bccc-94e24885b442 button.colab-df-convert');\n",
              "        buttonEl.style.display =\n",
              "          google.colab.kernel.accessAllowed ? 'block' : 'none';\n",
              "\n",
              "        async function convertToInteractive(key) {\n",
              "          const element = document.querySelector('#df-cc37faf8-dcd2-4a1f-bccc-94e24885b442');\n",
              "          const dataTable =\n",
              "            await google.colab.kernel.invokeFunction('convertToInteractive',\n",
              "                                                     [key], {});\n",
              "          if (!dataTable) return;\n",
              "\n",
              "          const docLinkHtml = 'Like what you see? Visit the ' +\n",
              "            '<a target=\"_blank\" href=https://colab.research.google.com/notebooks/data_table.ipynb>data table notebook</a>'\n",
              "            + ' to learn more about interactive tables.';\n",
              "          element.innerHTML = '';\n",
              "          dataTable['output_type'] = 'display_data';\n",
              "          await google.colab.output.renderOutput(dataTable, element);\n",
              "          const docLink = document.createElement('div');\n",
              "          docLink.innerHTML = docLinkHtml;\n",
              "          element.appendChild(docLink);\n",
              "        }\n",
              "      </script>\n",
              "    </div>\n",
              "  </div>\n",
              "  "
            ]
          },
          "metadata": {},
          "execution_count": 24
        }
      ],
      "source": [
        "train.loc[train.duplicated()].tail(2)"
      ]
    },
    {
      "cell_type": "code",
      "execution_count": null,
      "metadata": {
        "id": "0YL6ABf4tAHi"
      },
      "outputs": [],
      "source": [
        "# удалим дубли\n",
        "train.drop_duplicates(inplace=True)"
      ]
    },
    {
      "cell_type": "code",
      "execution_count": null,
      "metadata": {
        "colab": {
          "base_uri": "https://localhost:8080/"
        },
        "id": "WRUDRm4-4JzI",
        "outputId": "dad0e732-2b1c-455f-8da8-07fffd6c70e0"
      },
      "outputs": [
        {
          "output_type": "execute_result",
          "data": {
            "text/plain": [
              "(169606, 28)"
            ]
          },
          "metadata": {},
          "execution_count": 26
        }
      ],
      "source": [
        "train.shape"
      ]
    },
    {
      "cell_type": "code",
      "execution_count": null,
      "metadata": {
        "colab": {
          "base_uri": "https://localhost:8080/",
          "height": 214
        },
        "id": "-0-TZB7pG3lu",
        "outputId": "51969727-fa91-4e06-ebec-b4e6ba662011"
      },
      "outputs": [
        {
          "output_type": "execute_result",
          "data": {
            "text/plain": [
              "      bodyType brand  color complectation_dict  \\\n",
              "10412    седан   BMW  синий                NaN   \n",
              "\n",
              "                                             description engineDisplacement  \\\n",
              "10412  Сделано большое Т.О. Фильтра масляный, воздушн...            2.5 LTR   \n",
              "\n",
              "      enginePower equipment_dict fuelType  mileage  modelDate model_name  \\\n",
              "10412     170 N12            NaN   бензин   276000       1998        3ER   \n",
              "\n",
              "       numberOfDoors  parsing_unixtime  productionDate   sell_id  \\\n",
              "10412              4        1603118960            1999  33504008   \n",
              "\n",
              "                                               super_gen vehicleConfiguration  \\\n",
              "10412  {\"id\":\"6329491\",\"name\":\"323\",\"nameplate\":\"323i...  SEDAN AUTOMATIC 2.5   \n",
              "\n",
              "      vehicleTransmission    vendor    Владельцы Владение  ПТС  Привод   Руль  \\\n",
              "10412      автоматическая  EUROPEAN  3 или более      NaN  NaN  задний  Левый   \n",
              "\n",
              "                Состояние     Таможня  \n",
              "10412  Не требует ремонта  Растаможен  "
            ],
            "text/html": [
              "\n",
              "  <div id=\"df-b13ed794-d267-455c-9182-5960b37fea49\">\n",
              "    <div class=\"colab-df-container\">\n",
              "      <div>\n",
              "<style scoped>\n",
              "    .dataframe tbody tr th:only-of-type {\n",
              "        vertical-align: middle;\n",
              "    }\n",
              "\n",
              "    .dataframe tbody tr th {\n",
              "        vertical-align: top;\n",
              "    }\n",
              "\n",
              "    .dataframe thead th {\n",
              "        text-align: right;\n",
              "    }\n",
              "</style>\n",
              "<table border=\"1\" class=\"dataframe\">\n",
              "  <thead>\n",
              "    <tr style=\"text-align: right;\">\n",
              "      <th></th>\n",
              "      <th>bodyType</th>\n",
              "      <th>brand</th>\n",
              "      <th>color</th>\n",
              "      <th>complectation_dict</th>\n",
              "      <th>description</th>\n",
              "      <th>engineDisplacement</th>\n",
              "      <th>enginePower</th>\n",
              "      <th>equipment_dict</th>\n",
              "      <th>fuelType</th>\n",
              "      <th>mileage</th>\n",
              "      <th>modelDate</th>\n",
              "      <th>model_name</th>\n",
              "      <th>numberOfDoors</th>\n",
              "      <th>parsing_unixtime</th>\n",
              "      <th>productionDate</th>\n",
              "      <th>sell_id</th>\n",
              "      <th>super_gen</th>\n",
              "      <th>vehicleConfiguration</th>\n",
              "      <th>vehicleTransmission</th>\n",
              "      <th>vendor</th>\n",
              "      <th>Владельцы</th>\n",
              "      <th>Владение</th>\n",
              "      <th>ПТС</th>\n",
              "      <th>Привод</th>\n",
              "      <th>Руль</th>\n",
              "      <th>Состояние</th>\n",
              "      <th>Таможня</th>\n",
              "    </tr>\n",
              "  </thead>\n",
              "  <tbody>\n",
              "    <tr>\n",
              "      <th>10412</th>\n",
              "      <td>седан</td>\n",
              "      <td>BMW</td>\n",
              "      <td>синий</td>\n",
              "      <td>NaN</td>\n",
              "      <td>Сделано большое Т.О. Фильтра масляный, воздушн...</td>\n",
              "      <td>2.5 LTR</td>\n",
              "      <td>170 N12</td>\n",
              "      <td>NaN</td>\n",
              "      <td>бензин</td>\n",
              "      <td>276000</td>\n",
              "      <td>1998</td>\n",
              "      <td>3ER</td>\n",
              "      <td>4</td>\n",
              "      <td>1603118960</td>\n",
              "      <td>1999</td>\n",
              "      <td>33504008</td>\n",
              "      <td>{\"id\":\"6329491\",\"name\":\"323\",\"nameplate\":\"323i...</td>\n",
              "      <td>SEDAN AUTOMATIC 2.5</td>\n",
              "      <td>автоматическая</td>\n",
              "      <td>EUROPEAN</td>\n",
              "      <td>3 или более</td>\n",
              "      <td>NaN</td>\n",
              "      <td>NaN</td>\n",
              "      <td>задний</td>\n",
              "      <td>Левый</td>\n",
              "      <td>Не требует ремонта</td>\n",
              "      <td>Растаможен</td>\n",
              "    </tr>\n",
              "  </tbody>\n",
              "</table>\n",
              "</div>\n",
              "      <button class=\"colab-df-convert\" onclick=\"convertToInteractive('df-b13ed794-d267-455c-9182-5960b37fea49')\"\n",
              "              title=\"Convert this dataframe to an interactive table.\"\n",
              "              style=\"display:none;\">\n",
              "        \n",
              "  <svg xmlns=\"http://www.w3.org/2000/svg\" height=\"24px\"viewBox=\"0 0 24 24\"\n",
              "       width=\"24px\">\n",
              "    <path d=\"M0 0h24v24H0V0z\" fill=\"none\"/>\n",
              "    <path d=\"M18.56 5.44l.94 2.06.94-2.06 2.06-.94-2.06-.94-.94-2.06-.94 2.06-2.06.94zm-11 1L8.5 8.5l.94-2.06 2.06-.94-2.06-.94L8.5 2.5l-.94 2.06-2.06.94zm10 10l.94 2.06.94-2.06 2.06-.94-2.06-.94-.94-2.06-.94 2.06-2.06.94z\"/><path d=\"M17.41 7.96l-1.37-1.37c-.4-.4-.92-.59-1.43-.59-.52 0-1.04.2-1.43.59L10.3 9.45l-7.72 7.72c-.78.78-.78 2.05 0 2.83L4 21.41c.39.39.9.59 1.41.59.51 0 1.02-.2 1.41-.59l7.78-7.78 2.81-2.81c.8-.78.8-2.07 0-2.86zM5.41 20L4 18.59l7.72-7.72 1.47 1.35L5.41 20z\"/>\n",
              "  </svg>\n",
              "      </button>\n",
              "      \n",
              "  <style>\n",
              "    .colab-df-container {\n",
              "      display:flex;\n",
              "      flex-wrap:wrap;\n",
              "      gap: 12px;\n",
              "    }\n",
              "\n",
              "    .colab-df-convert {\n",
              "      background-color: #E8F0FE;\n",
              "      border: none;\n",
              "      border-radius: 50%;\n",
              "      cursor: pointer;\n",
              "      display: none;\n",
              "      fill: #1967D2;\n",
              "      height: 32px;\n",
              "      padding: 0 0 0 0;\n",
              "      width: 32px;\n",
              "    }\n",
              "\n",
              "    .colab-df-convert:hover {\n",
              "      background-color: #E2EBFA;\n",
              "      box-shadow: 0px 1px 2px rgba(60, 64, 67, 0.3), 0px 1px 3px 1px rgba(60, 64, 67, 0.15);\n",
              "      fill: #174EA6;\n",
              "    }\n",
              "\n",
              "    [theme=dark] .colab-df-convert {\n",
              "      background-color: #3B4455;\n",
              "      fill: #D2E3FC;\n",
              "    }\n",
              "\n",
              "    [theme=dark] .colab-df-convert:hover {\n",
              "      background-color: #434B5C;\n",
              "      box-shadow: 0px 1px 3px 1px rgba(0, 0, 0, 0.15);\n",
              "      filter: drop-shadow(0px 1px 2px rgba(0, 0, 0, 0.3));\n",
              "      fill: #FFFFFF;\n",
              "    }\n",
              "  </style>\n",
              "\n",
              "      <script>\n",
              "        const buttonEl =\n",
              "          document.querySelector('#df-b13ed794-d267-455c-9182-5960b37fea49 button.colab-df-convert');\n",
              "        buttonEl.style.display =\n",
              "          google.colab.kernel.accessAllowed ? 'block' : 'none';\n",
              "\n",
              "        async function convertToInteractive(key) {\n",
              "          const element = document.querySelector('#df-b13ed794-d267-455c-9182-5960b37fea49');\n",
              "          const dataTable =\n",
              "            await google.colab.kernel.invokeFunction('convertToInteractive',\n",
              "                                                     [key], {});\n",
              "          if (!dataTable) return;\n",
              "\n",
              "          const docLinkHtml = 'Like what you see? Visit the ' +\n",
              "            '<a target=\"_blank\" href=https://colab.research.google.com/notebooks/data_table.ipynb>data table notebook</a>'\n",
              "            + ' to learn more about interactive tables.';\n",
              "          element.innerHTML = '';\n",
              "          dataTable['output_type'] = 'display_data';\n",
              "          await google.colab.output.renderOutput(dataTable, element);\n",
              "          const docLink = document.createElement('div');\n",
              "          docLink.innerHTML = docLinkHtml;\n",
              "          element.appendChild(docLink);\n",
              "        }\n",
              "      </script>\n",
              "    </div>\n",
              "  </div>\n",
              "  "
            ]
          },
          "metadata": {},
          "execution_count": 27
        }
      ],
      "source": [
        "valid[valid['ПТС'].isna()==True]"
      ]
    },
    {
      "cell_type": "code",
      "execution_count": null,
      "metadata": {
        "id": "SmZ41WuOHvuM"
      },
      "outputs": [],
      "source": [
        "valid['ПТС'].fillna(3, inplace=True)"
      ]
    },
    {
      "cell_type": "markdown",
      "metadata": {
        "id": "ztIw8xwq9MIa"
      },
      "source": [
        "### Объединяем данные"
      ]
    },
    {
      "cell_type": "code",
      "execution_count": null,
      "metadata": {
        "id": "iFSeuY2wNrmF"
      },
      "outputs": [],
      "source": [
        "# ВАЖНО! дря корректной обработки признаков объединяем трейн и тест в один датасет\n",
        "train['sample'] = 1 # Помечаем трейн\n",
        "valid['sample'] = 0\n",
        "valid['price'] = 0 #добавляем не достающий столбец.\n",
        "frames = [train, valid]\n",
        "data = pd.concat(frames, ignore_index=True)"
      ]
    },
    {
      "cell_type": "code",
      "execution_count": null,
      "metadata": {
        "colab": {
          "base_uri": "https://localhost:8080/"
        },
        "id": "HMR8_IZn137H",
        "outputId": "d82349b2-47db-4358-f0f7-f17341d95b06"
      },
      "outputs": [
        {
          "output_type": "execute_result",
          "data": {
            "text/plain": [
              "(204292, 29)"
            ]
          },
          "metadata": {},
          "execution_count": 30
        }
      ],
      "source": [
        "data.shape"
      ]
    },
    {
      "cell_type": "markdown",
      "metadata": {
        "id": "Au330EotT2VE"
      },
      "source": [
        "##3.5 Удалим не иформативные признаки.\n",
        "- 'complectation_dict' - удалим. слишком много пропущенных значений, но можно попробовать вытащить значимые слова.\n",
        "- 'description' - удалим. можно попробовать вытащить значимые слова.\n",
        "- 'vehicleConfiguration' - перевести в некое векторное пространство и разложить по векторам.\n",
        "- 'equipment_dict', \n",
        "-'super_gen', \n",
        "-'Владение'"
      ]
    },
    {
      "cell_type": "code",
      "execution_count": null,
      "metadata": {
        "id": "XLoOqQNT89p7"
      },
      "outputs": [],
      "source": [
        "# Удалим не иформативные признаки\n",
        "data = data.drop(columns=['complectation_dict', 'description', 'vehicleConfiguration', 'equipment_dict', 'super_gen', 'Владение', 'vendor', 'parsing_unixtime'])"
      ]
    },
    {
      "cell_type": "markdown",
      "metadata": {
        "id": "qU4BO1Ih79pn"
      },
      "source": [
        "# Работа с пропусками"
      ]
    },
    {
      "cell_type": "code",
      "execution_count": null,
      "metadata": {
        "colab": {
          "base_uri": "https://localhost:8080/",
          "height": 399
        },
        "id": "FHbvWo09wEEJ",
        "outputId": "311f93aa-ec73-4253-db10-fd0849c20e2e"
      },
      "outputs": [
        {
          "output_type": "display_data",
          "data": {
            "text/plain": [
              "bodyType                  1\n",
              "brand                     0\n",
              "color                     0\n",
              "engineDisplacement        0\n",
              "enginePower               0\n",
              "fuelType                  1\n",
              "mileage                5798\n",
              "modelDate                 1\n",
              "model_name                0\n",
              "numberOfDoors             1\n",
              "price                     0\n",
              "productionDate            0\n",
              "vehicleTransmission       1\n",
              "Владельцы               618\n",
              "ПТС                     619\n",
              "Привод                  614\n",
              "Руль                    613\n",
              "Состояние               613\n",
              "Таможня                 613\n",
              "sell_id                   0\n",
              "sample                    0\n",
              "dtype: int64"
            ]
          },
          "metadata": {}
        }
      ],
      "source": [
        "# Удалим строки с пропусками\n",
        "# data.dropna(axis=0, thresh=617, inplace=True)\n",
        "display(data.isna().sum())"
      ]
    },
    {
      "cell_type": "markdown",
      "metadata": {
        "id": "MlcIds8C82uV"
      },
      "source": [
        "* ПТС можно заполнить по условию: если пробег == 0, то ПТС оригинал, если большой пробег, то пишем дубликат.\n",
        "* milage - заполнить в средним исходя из возраста авто по n тыс. км в год - для этого выведем среднестатистический пробег за год используя группирорвку."
      ]
    },
    {
      "cell_type": "code",
      "execution_count": null,
      "metadata": {
        "colab": {
          "base_uri": "https://localhost:8080/",
          "height": 455
        },
        "id": "gSnvwUWh8FdN",
        "outputId": "11903a21-61f7-4401-be1e-90283a073aa0"
      },
      "outputs": [
        {
          "output_type": "execute_result",
          "data": {
            "text/plain": [
              "                      mileage\n",
              "productionDate               \n",
              "1934.0           25000.000000\n",
              "1937.0            9003.333333\n",
              "1938.0           60173.333333\n",
              "1939.0          383333.000000\n",
              "1940.0           92500.000000\n",
              "...                       ...\n",
              "2017.0           78001.021940\n",
              "2018.0           58438.722023\n",
              "2019.0           33937.267382\n",
              "2020.0           12573.793316\n",
              "2021.0             322.518367\n",
              "\n",
              "[72 rows x 1 columns]"
            ],
            "text/html": [
              "\n",
              "  <div id=\"df-3f5663fc-810d-4491-a625-6117a3042b39\">\n",
              "    <div class=\"colab-df-container\">\n",
              "      <div>\n",
              "<style scoped>\n",
              "    .dataframe tbody tr th:only-of-type {\n",
              "        vertical-align: middle;\n",
              "    }\n",
              "\n",
              "    .dataframe tbody tr th {\n",
              "        vertical-align: top;\n",
              "    }\n",
              "\n",
              "    .dataframe thead th {\n",
              "        text-align: right;\n",
              "    }\n",
              "</style>\n",
              "<table border=\"1\" class=\"dataframe\">\n",
              "  <thead>\n",
              "    <tr style=\"text-align: right;\">\n",
              "      <th></th>\n",
              "      <th>mileage</th>\n",
              "    </tr>\n",
              "    <tr>\n",
              "      <th>productionDate</th>\n",
              "      <th></th>\n",
              "    </tr>\n",
              "  </thead>\n",
              "  <tbody>\n",
              "    <tr>\n",
              "      <th>1934.0</th>\n",
              "      <td>25000.000000</td>\n",
              "    </tr>\n",
              "    <tr>\n",
              "      <th>1937.0</th>\n",
              "      <td>9003.333333</td>\n",
              "    </tr>\n",
              "    <tr>\n",
              "      <th>1938.0</th>\n",
              "      <td>60173.333333</td>\n",
              "    </tr>\n",
              "    <tr>\n",
              "      <th>1939.0</th>\n",
              "      <td>383333.000000</td>\n",
              "    </tr>\n",
              "    <tr>\n",
              "      <th>1940.0</th>\n",
              "      <td>92500.000000</td>\n",
              "    </tr>\n",
              "    <tr>\n",
              "      <th>...</th>\n",
              "      <td>...</td>\n",
              "    </tr>\n",
              "    <tr>\n",
              "      <th>2017.0</th>\n",
              "      <td>78001.021940</td>\n",
              "    </tr>\n",
              "    <tr>\n",
              "      <th>2018.0</th>\n",
              "      <td>58438.722023</td>\n",
              "    </tr>\n",
              "    <tr>\n",
              "      <th>2019.0</th>\n",
              "      <td>33937.267382</td>\n",
              "    </tr>\n",
              "    <tr>\n",
              "      <th>2020.0</th>\n",
              "      <td>12573.793316</td>\n",
              "    </tr>\n",
              "    <tr>\n",
              "      <th>2021.0</th>\n",
              "      <td>322.518367</td>\n",
              "    </tr>\n",
              "  </tbody>\n",
              "</table>\n",
              "<p>72 rows × 1 columns</p>\n",
              "</div>\n",
              "      <button class=\"colab-df-convert\" onclick=\"convertToInteractive('df-3f5663fc-810d-4491-a625-6117a3042b39')\"\n",
              "              title=\"Convert this dataframe to an interactive table.\"\n",
              "              style=\"display:none;\">\n",
              "        \n",
              "  <svg xmlns=\"http://www.w3.org/2000/svg\" height=\"24px\"viewBox=\"0 0 24 24\"\n",
              "       width=\"24px\">\n",
              "    <path d=\"M0 0h24v24H0V0z\" fill=\"none\"/>\n",
              "    <path d=\"M18.56 5.44l.94 2.06.94-2.06 2.06-.94-2.06-.94-.94-2.06-.94 2.06-2.06.94zm-11 1L8.5 8.5l.94-2.06 2.06-.94-2.06-.94L8.5 2.5l-.94 2.06-2.06.94zm10 10l.94 2.06.94-2.06 2.06-.94-2.06-.94-.94-2.06-.94 2.06-2.06.94z\"/><path d=\"M17.41 7.96l-1.37-1.37c-.4-.4-.92-.59-1.43-.59-.52 0-1.04.2-1.43.59L10.3 9.45l-7.72 7.72c-.78.78-.78 2.05 0 2.83L4 21.41c.39.39.9.59 1.41.59.51 0 1.02-.2 1.41-.59l7.78-7.78 2.81-2.81c.8-.78.8-2.07 0-2.86zM5.41 20L4 18.59l7.72-7.72 1.47 1.35L5.41 20z\"/>\n",
              "  </svg>\n",
              "      </button>\n",
              "      \n",
              "  <style>\n",
              "    .colab-df-container {\n",
              "      display:flex;\n",
              "      flex-wrap:wrap;\n",
              "      gap: 12px;\n",
              "    }\n",
              "\n",
              "    .colab-df-convert {\n",
              "      background-color: #E8F0FE;\n",
              "      border: none;\n",
              "      border-radius: 50%;\n",
              "      cursor: pointer;\n",
              "      display: none;\n",
              "      fill: #1967D2;\n",
              "      height: 32px;\n",
              "      padding: 0 0 0 0;\n",
              "      width: 32px;\n",
              "    }\n",
              "\n",
              "    .colab-df-convert:hover {\n",
              "      background-color: #E2EBFA;\n",
              "      box-shadow: 0px 1px 2px rgba(60, 64, 67, 0.3), 0px 1px 3px 1px rgba(60, 64, 67, 0.15);\n",
              "      fill: #174EA6;\n",
              "    }\n",
              "\n",
              "    [theme=dark] .colab-df-convert {\n",
              "      background-color: #3B4455;\n",
              "      fill: #D2E3FC;\n",
              "    }\n",
              "\n",
              "    [theme=dark] .colab-df-convert:hover {\n",
              "      background-color: #434B5C;\n",
              "      box-shadow: 0px 1px 3px 1px rgba(0, 0, 0, 0.15);\n",
              "      filter: drop-shadow(0px 1px 2px rgba(0, 0, 0, 0.3));\n",
              "      fill: #FFFFFF;\n",
              "    }\n",
              "  </style>\n",
              "\n",
              "      <script>\n",
              "        const buttonEl =\n",
              "          document.querySelector('#df-3f5663fc-810d-4491-a625-6117a3042b39 button.colab-df-convert');\n",
              "        buttonEl.style.display =\n",
              "          google.colab.kernel.accessAllowed ? 'block' : 'none';\n",
              "\n",
              "        async function convertToInteractive(key) {\n",
              "          const element = document.querySelector('#df-3f5663fc-810d-4491-a625-6117a3042b39');\n",
              "          const dataTable =\n",
              "            await google.colab.kernel.invokeFunction('convertToInteractive',\n",
              "                                                     [key], {});\n",
              "          if (!dataTable) return;\n",
              "\n",
              "          const docLinkHtml = 'Like what you see? Visit the ' +\n",
              "            '<a target=\"_blank\" href=https://colab.research.google.com/notebooks/data_table.ipynb>data table notebook</a>'\n",
              "            + ' to learn more about interactive tables.';\n",
              "          element.innerHTML = '';\n",
              "          dataTable['output_type'] = 'display_data';\n",
              "          await google.colab.output.renderOutput(dataTable, element);\n",
              "          const docLink = document.createElement('div');\n",
              "          docLink.innerHTML = docLinkHtml;\n",
              "          element.appendChild(docLink);\n",
              "        }\n",
              "      </script>\n",
              "    </div>\n",
              "  </div>\n",
              "  "
            ]
          },
          "metadata": {},
          "execution_count": 33
        }
      ],
      "source": [
        "# Сгрупируем по годам и выведем средний пробег\n",
        "Frame_mileage = train.pivot_table(values='mileage', index='productionDate', aggfunc='mean')\n",
        "Frame_mileage"
      ]
    },
    {
      "cell_type": "code",
      "execution_count": null,
      "metadata": {
        "colab": {
          "base_uri": "https://localhost:8080/"
        },
        "id": "HQN0yzYoABRv",
        "outputId": "30d0795e-fc0b-4093-e872-f3dc762e13fa"
      },
      "outputs": [
        {
          "output_type": "execute_result",
          "data": {
            "text/plain": [
              "243305"
            ]
          },
          "metadata": {},
          "execution_count": 34
        }
      ],
      "source": [
        "int(Frame_mileage.loc[2003])"
      ]
    },
    {
      "cell_type": "code",
      "execution_count": null,
      "metadata": {
        "id": "9ih1c-fknoRc"
      },
      "outputs": [],
      "source": [
        "# Заполним пропуски по условия количества лет автомобилю и добавим среднее исходя из возраста авто.\n",
        "for y in (Frame_mileage.index):\n",
        "  data.mileage = np.where((pd.isnull(data['mileage'])) & (data['productionDate'] == y), int(Frame_mileage.loc[y]), data['mileage']) # см. numpy.where()"
      ]
    },
    {
      "cell_type": "code",
      "execution_count": null,
      "metadata": {
        "colab": {
          "base_uri": "https://localhost:8080/"
        },
        "id": "DQfmwrC94hNz",
        "outputId": "61884bf1-5e16-4bad-cf59-d394ee955e10"
      },
      "outputs": [
        {
          "output_type": "execute_result",
          "data": {
            "text/plain": [
              "(204292, 21)"
            ]
          },
          "metadata": {},
          "execution_count": 36
        }
      ],
      "source": [
        "data.shape"
      ]
    },
    {
      "cell_type": "code",
      "execution_count": null,
      "metadata": {
        "id": "eYCuGYxm0MVA"
      },
      "outputs": [],
      "source": [
        "# Чистим от остальных не значительных пропусков\n",
        "data.dropna(inplace=True )\n",
        "data.reset_index(inplace=True, drop=True)"
      ]
    },
    {
      "cell_type": "code",
      "execution_count": null,
      "metadata": {
        "id": "MNknitm3Vsw5",
        "colab": {
          "base_uri": "https://localhost:8080/"
        },
        "outputId": "40250597-c716-4ef9-aff2-f1316f69060c"
      },
      "outputs": [
        {
          "output_type": "execute_result",
          "data": {
            "text/plain": [
              "bodyType               0\n",
              "brand                  0\n",
              "color                  0\n",
              "engineDisplacement     0\n",
              "enginePower            0\n",
              "fuelType               0\n",
              "mileage                0\n",
              "modelDate              0\n",
              "model_name             0\n",
              "numberOfDoors          0\n",
              "price                  0\n",
              "productionDate         0\n",
              "vehicleTransmission    0\n",
              "Владельцы              0\n",
              "ПТС                    0\n",
              "Привод                 0\n",
              "Руль                   0\n",
              "Состояние              0\n",
              "Таможня                0\n",
              "sell_id                0\n",
              "sample                 0\n",
              "dtype: int64"
            ]
          },
          "metadata": {},
          "execution_count": 38
        }
      ],
      "source": [
        "data.isna().sum()"
      ]
    },
    {
      "cell_type": "markdown",
      "metadata": {
        "id": "LznYi2_z_VRS"
      },
      "source": [
        "## Работа с числовыми признаками\n",
        "*главное условие правильной нормализации — все признаки должны быть равны в возможностях своего влияния. [статья на habr](https://habr.com/ru/post/527334/).*\n",
        "- определяем смещение и респределение признаков\n",
        "- корректируем выбросы\n",
        "- масштабируем\n",
        "Оцениваем выбросы. В помошь я использовал одну из статей на Хабре. https://habr.com/ru/post/578754/"
      ]
    },
    {
      "cell_type": "code",
      "execution_count": null,
      "metadata": {
        "id": "qgbf1pC6d_-w",
        "colab": {
          "base_uri": "https://localhost:8080/"
        },
        "outputId": "b4b79679-201d-401b-f507-b9add25b3405"
      },
      "outputs": [
        {
          "output_type": "execute_result",
          "data": {
            "text/plain": [
              "Index(['mileage', 'modelDate', 'numberOfDoors', 'price', 'productionDate',\n",
              "       'sell_id', 'sample'],\n",
              "      dtype='object')"
            ]
          },
          "metadata": {},
          "execution_count": 39
        }
      ],
      "source": [
        "# Выделим список числовых признаков.\n",
        "int_columns = data.select_dtypes(include=['float64', 'int64']).columns\n",
        "int_columns"
      ]
    },
    {
      "cell_type": "markdown",
      "metadata": {
        "id": "X6LD0VX9e9m0"
      },
      "source": [
        "- *enginePower, engineDisplacement необходимо перевести в float*"
      ]
    },
    {
      "cell_type": "code",
      "execution_count": null,
      "metadata": {
        "id": "1whgC3YxgFjE",
        "colab": {
          "base_uri": "https://localhost:8080/"
        },
        "outputId": "aefe1f6b-109f-4b3b-eed1-edf0643af323"
      },
      "outputs": [
        {
          "output_type": "execute_result",
          "data": {
            "text/plain": [
              "150 N12    9319\n",
              "249 N12    7512\n",
              "110 N12    4818\n",
              "105 N12    4630\n",
              "170 N12    4252\n",
              "           ... \n",
              "383.0         1\n",
              "159.0         1\n",
              "364.0         1\n",
              "201.0         1\n",
              "480 N12       1\n",
              "Name: enginePower, Length: 975, dtype: int64"
            ]
          },
          "metadata": {},
          "execution_count": 40
        }
      ],
      "source": [
        "data['enginePower'].value_counts()"
      ]
    },
    {
      "cell_type": "code",
      "execution_count": null,
      "metadata": {
        "id": "ZeiF9Hb4fzuJ"
      },
      "outputs": [],
      "source": [
        "data['enginePower'] = data['enginePower'].apply(lambda x: float(str(x).replace(' N12', '')))"
      ]
    },
    {
      "cell_type": "code",
      "execution_count": null,
      "metadata": {
        "id": "Fx7C39hOD3GL"
      },
      "outputs": [],
      "source": [
        "data['engineDisplacement'] = data['engineDisplacement'].apply(lambda x: (str(x).replace(' LTR\"', '')))\n",
        "data['engineDisplacement'] = data['engineDisplacement'].apply(lambda x: (str(x).replace(' LTR', '')))\n",
        "data['engineDisplacement'] = data['engineDisplacement'].replace(r'', '0.0')\n",
        "data['engineDisplacement'] = data['engineDisplacement'].astype(float)"
      ]
    },
    {
      "cell_type": "code",
      "execution_count": null,
      "metadata": {
        "id": "NWfACueZLK7z",
        "colab": {
          "base_uri": "https://localhost:8080/",
          "height": 312
        },
        "outputId": "10290b97-bd3c-4b9a-94f5-a856c6c2abab"
      },
      "outputs": [
        {
          "output_type": "execute_result",
          "data": {
            "text/plain": [
              "            bodyType       brand        color  engineDisplacement  \\\n",
              "16720  хэтчбек 5 дв.      NISSAN        белый                 0.0   \n",
              "19461  хэтчбек 5 дв.  MITSUBISHI  серебристый                 0.0   \n",
              "19495  хэтчбек 5 дв.      NISSAN      красный                 0.0   \n",
              "\n",
              "       enginePower fuelType  mileage  modelDate model_name  numberOfDoors  \\\n",
              "16720        109.0  электро  44000.0     2010.0       LEAF            5.0   \n",
              "19461         67.0  электро  95000.0     2009.0     I_MIEV            5.0   \n",
              "19495        109.0  электро  55000.0     2010.0       LEAF            5.0   \n",
              "\n",
              "         price  productionDate vehicleTransmission    Владельцы       ПТС  \\\n",
              "16720  70000.0          2010.0      автоматическая  2 владельца  Оригинал   \n",
              "19461  50000.0          2011.0      автоматическая            1  Оригинал   \n",
              "19495  10000.0          2011.0      автоматическая            1  Оригинал   \n",
              "\n",
              "         Привод    Руль           Состояние     Таможня  sell_id  sample  \n",
              "16720  передний  Правый  Не требует ремонта  Растаможен      0.0       1  \n",
              "19461    задний   Левый  Не требует ремонта  Растаможен      0.0       1  \n",
              "19495  передний  Правый  Не требует ремонта  Растаможен      0.0       1  "
            ],
            "text/html": [
              "\n",
              "  <div id=\"df-c39bd9c9-222b-44dd-8afe-a42de596f471\">\n",
              "    <div class=\"colab-df-container\">\n",
              "      <div>\n",
              "<style scoped>\n",
              "    .dataframe tbody tr th:only-of-type {\n",
              "        vertical-align: middle;\n",
              "    }\n",
              "\n",
              "    .dataframe tbody tr th {\n",
              "        vertical-align: top;\n",
              "    }\n",
              "\n",
              "    .dataframe thead th {\n",
              "        text-align: right;\n",
              "    }\n",
              "</style>\n",
              "<table border=\"1\" class=\"dataframe\">\n",
              "  <thead>\n",
              "    <tr style=\"text-align: right;\">\n",
              "      <th></th>\n",
              "      <th>bodyType</th>\n",
              "      <th>brand</th>\n",
              "      <th>color</th>\n",
              "      <th>engineDisplacement</th>\n",
              "      <th>enginePower</th>\n",
              "      <th>fuelType</th>\n",
              "      <th>mileage</th>\n",
              "      <th>modelDate</th>\n",
              "      <th>model_name</th>\n",
              "      <th>numberOfDoors</th>\n",
              "      <th>price</th>\n",
              "      <th>productionDate</th>\n",
              "      <th>vehicleTransmission</th>\n",
              "      <th>Владельцы</th>\n",
              "      <th>ПТС</th>\n",
              "      <th>Привод</th>\n",
              "      <th>Руль</th>\n",
              "      <th>Состояние</th>\n",
              "      <th>Таможня</th>\n",
              "      <th>sell_id</th>\n",
              "      <th>sample</th>\n",
              "    </tr>\n",
              "  </thead>\n",
              "  <tbody>\n",
              "    <tr>\n",
              "      <th>16720</th>\n",
              "      <td>хэтчбек 5 дв.</td>\n",
              "      <td>NISSAN</td>\n",
              "      <td>белый</td>\n",
              "      <td>0.0</td>\n",
              "      <td>109.0</td>\n",
              "      <td>электро</td>\n",
              "      <td>44000.0</td>\n",
              "      <td>2010.0</td>\n",
              "      <td>LEAF</td>\n",
              "      <td>5.0</td>\n",
              "      <td>70000.0</td>\n",
              "      <td>2010.0</td>\n",
              "      <td>автоматическая</td>\n",
              "      <td>2 владельца</td>\n",
              "      <td>Оригинал</td>\n",
              "      <td>передний</td>\n",
              "      <td>Правый</td>\n",
              "      <td>Не требует ремонта</td>\n",
              "      <td>Растаможен</td>\n",
              "      <td>0.0</td>\n",
              "      <td>1</td>\n",
              "    </tr>\n",
              "    <tr>\n",
              "      <th>19461</th>\n",
              "      <td>хэтчбек 5 дв.</td>\n",
              "      <td>MITSUBISHI</td>\n",
              "      <td>серебристый</td>\n",
              "      <td>0.0</td>\n",
              "      <td>67.0</td>\n",
              "      <td>электро</td>\n",
              "      <td>95000.0</td>\n",
              "      <td>2009.0</td>\n",
              "      <td>I_MIEV</td>\n",
              "      <td>5.0</td>\n",
              "      <td>50000.0</td>\n",
              "      <td>2011.0</td>\n",
              "      <td>автоматическая</td>\n",
              "      <td>1</td>\n",
              "      <td>Оригинал</td>\n",
              "      <td>задний</td>\n",
              "      <td>Левый</td>\n",
              "      <td>Не требует ремонта</td>\n",
              "      <td>Растаможен</td>\n",
              "      <td>0.0</td>\n",
              "      <td>1</td>\n",
              "    </tr>\n",
              "    <tr>\n",
              "      <th>19495</th>\n",
              "      <td>хэтчбек 5 дв.</td>\n",
              "      <td>NISSAN</td>\n",
              "      <td>красный</td>\n",
              "      <td>0.0</td>\n",
              "      <td>109.0</td>\n",
              "      <td>электро</td>\n",
              "      <td>55000.0</td>\n",
              "      <td>2010.0</td>\n",
              "      <td>LEAF</td>\n",
              "      <td>5.0</td>\n",
              "      <td>10000.0</td>\n",
              "      <td>2011.0</td>\n",
              "      <td>автоматическая</td>\n",
              "      <td>1</td>\n",
              "      <td>Оригинал</td>\n",
              "      <td>передний</td>\n",
              "      <td>Правый</td>\n",
              "      <td>Не требует ремонта</td>\n",
              "      <td>Растаможен</td>\n",
              "      <td>0.0</td>\n",
              "      <td>1</td>\n",
              "    </tr>\n",
              "  </tbody>\n",
              "</table>\n",
              "</div>\n",
              "      <button class=\"colab-df-convert\" onclick=\"convertToInteractive('df-c39bd9c9-222b-44dd-8afe-a42de596f471')\"\n",
              "              title=\"Convert this dataframe to an interactive table.\"\n",
              "              style=\"display:none;\">\n",
              "        \n",
              "  <svg xmlns=\"http://www.w3.org/2000/svg\" height=\"24px\"viewBox=\"0 0 24 24\"\n",
              "       width=\"24px\">\n",
              "    <path d=\"M0 0h24v24H0V0z\" fill=\"none\"/>\n",
              "    <path d=\"M18.56 5.44l.94 2.06.94-2.06 2.06-.94-2.06-.94-.94-2.06-.94 2.06-2.06.94zm-11 1L8.5 8.5l.94-2.06 2.06-.94-2.06-.94L8.5 2.5l-.94 2.06-2.06.94zm10 10l.94 2.06.94-2.06 2.06-.94-2.06-.94-.94-2.06-.94 2.06-2.06.94z\"/><path d=\"M17.41 7.96l-1.37-1.37c-.4-.4-.92-.59-1.43-.59-.52 0-1.04.2-1.43.59L10.3 9.45l-7.72 7.72c-.78.78-.78 2.05 0 2.83L4 21.41c.39.39.9.59 1.41.59.51 0 1.02-.2 1.41-.59l7.78-7.78 2.81-2.81c.8-.78.8-2.07 0-2.86zM5.41 20L4 18.59l7.72-7.72 1.47 1.35L5.41 20z\"/>\n",
              "  </svg>\n",
              "      </button>\n",
              "      \n",
              "  <style>\n",
              "    .colab-df-container {\n",
              "      display:flex;\n",
              "      flex-wrap:wrap;\n",
              "      gap: 12px;\n",
              "    }\n",
              "\n",
              "    .colab-df-convert {\n",
              "      background-color: #E8F0FE;\n",
              "      border: none;\n",
              "      border-radius: 50%;\n",
              "      cursor: pointer;\n",
              "      display: none;\n",
              "      fill: #1967D2;\n",
              "      height: 32px;\n",
              "      padding: 0 0 0 0;\n",
              "      width: 32px;\n",
              "    }\n",
              "\n",
              "    .colab-df-convert:hover {\n",
              "      background-color: #E2EBFA;\n",
              "      box-shadow: 0px 1px 2px rgba(60, 64, 67, 0.3), 0px 1px 3px 1px rgba(60, 64, 67, 0.15);\n",
              "      fill: #174EA6;\n",
              "    }\n",
              "\n",
              "    [theme=dark] .colab-df-convert {\n",
              "      background-color: #3B4455;\n",
              "      fill: #D2E3FC;\n",
              "    }\n",
              "\n",
              "    [theme=dark] .colab-df-convert:hover {\n",
              "      background-color: #434B5C;\n",
              "      box-shadow: 0px 1px 3px 1px rgba(0, 0, 0, 0.15);\n",
              "      filter: drop-shadow(0px 1px 2px rgba(0, 0, 0, 0.3));\n",
              "      fill: #FFFFFF;\n",
              "    }\n",
              "  </style>\n",
              "\n",
              "      <script>\n",
              "        const buttonEl =\n",
              "          document.querySelector('#df-c39bd9c9-222b-44dd-8afe-a42de596f471 button.colab-df-convert');\n",
              "        buttonEl.style.display =\n",
              "          google.colab.kernel.accessAllowed ? 'block' : 'none';\n",
              "\n",
              "        async function convertToInteractive(key) {\n",
              "          const element = document.querySelector('#df-c39bd9c9-222b-44dd-8afe-a42de596f471');\n",
              "          const dataTable =\n",
              "            await google.colab.kernel.invokeFunction('convertToInteractive',\n",
              "                                                     [key], {});\n",
              "          if (!dataTable) return;\n",
              "\n",
              "          const docLinkHtml = 'Like what you see? Visit the ' +\n",
              "            '<a target=\"_blank\" href=https://colab.research.google.com/notebooks/data_table.ipynb>data table notebook</a>'\n",
              "            + ' to learn more about interactive tables.';\n",
              "          element.innerHTML = '';\n",
              "          dataTable['output_type'] = 'display_data';\n",
              "          await google.colab.output.renderOutput(dataTable, element);\n",
              "          const docLink = document.createElement('div');\n",
              "          docLink.innerHTML = docLinkHtml;\n",
              "          element.appendChild(docLink);\n",
              "        }\n",
              "      </script>\n",
              "    </div>\n",
              "  </div>\n",
              "  "
            ]
          },
          "metadata": {},
          "execution_count": 43
        }
      ],
      "source": [
        "data[data['engineDisplacement'] == 0.0].head(3) # Объем ДВС == 0 это электрокары"
      ]
    },
    {
      "cell_type": "markdown",
      "metadata": {
        "id": "u2vaS3o0UXkq"
      },
      "source": [
        "### Определяем смещение и респределение признаков"
      ]
    },
    {
      "cell_type": "code",
      "execution_count": null,
      "metadata": {
        "id": "lQXgFJ7cU6Z_"
      },
      "outputs": [],
      "source": [
        "float_columns = ['engineDisplacement', 'enginePower', 'mileage', 'price'] \n"
      ]
    },
    {
      "cell_type": "code",
      "execution_count": null,
      "metadata": {
        "id": "07WhqGLrSOk-",
        "colab": {
          "base_uri": "https://localhost:8080/",
          "height": 1000
        },
        "outputId": "9ddf42f4-b592-4bad-8ed2-b565c6bfa518"
      },
      "outputs": [
        {
          "output_type": "display_data",
          "data": {
            "text/plain": [
              "<Figure size 432x288 with 1 Axes>"
            ],
            "image/png": "[encoded data removed]"
          },
          "metadata": {
            "needs_background": "light"
          }
        },
        {
          "output_type": "display_data",
          "data": {
            "text/plain": [
              "<Figure size 432x288 with 1 Axes>"
            ],
            "image/png": "[encoded data removed]"
          },
          "metadata": {
            "needs_background": "light"
          }
        },
        {
          "output_type": "display_data",
          "data": {
            "text/plain": [
              "<Figure size 432x288 with 1 Axes>"
            ],
            "image/png": "[encoded data removed]"
          },
          "metadata": {
            "needs_background": "light"
          }
        },
        {
          "output_type": "display_data",
          "data": {
            "text/plain": [
              "<Figure size 432x288 with 1 Axes>"
            ],
            "image/png": "[encoded data removed]"
          },
          "metadata": {
            "needs_background": "light"
          }
        }
      ],
      "source": [
        "for i in float_columns:\n",
        "    plt.figure()\n",
        "    sns.distplot(data[data['sample'] == 1][i], kde = False, rug=False, bins=20)\n",
        "    plt.title(i)\n",
        "    plt.show()"
      ]
    },
    {
      "cell_type": "markdown",
      "metadata": {
        "id": "qndw_hG4UhZ2"
      },
      "source": [
        "### Корректируем выбросы\n"
      ]
    },
    {
      "cell_type": "code",
      "execution_count": null,
      "metadata": {
        "id": "dvbP0H3cbwDb",
        "colab": {
          "base_uri": "https://localhost:8080/",
          "height": 1000
        },
        "outputId": "ce54e241-87fd-486a-8450-88ae5882e3e9"
      },
      "outputs": [
        {
          "output_type": "display_data",
          "data": {
            "text/plain": [
              "<Figure size 1008x288 with 1 Axes>"
            ],
            "image/png": "[encoded data removed]"
          },
          "metadata": {
            "needs_background": "light"
          }
        },
        {
          "output_type": "display_data",
          "data": {
            "text/plain": [
              "<Figure size 1008x288 with 1 Axes>"
            ],
            "image/png": "[encoded data removed]"
          },
          "metadata": {
            "needs_background": "light"
          }
        },
        {
          "output_type": "display_data",
          "data": {
            "text/plain": [
              "<Figure size 1008x288 with 1 Axes>"
            ],
            "image/png": "[encoded data removed]"
          },
          "metadata": {
            "needs_background": "light"
          }
        },
        {
          "output_type": "display_data",
          "data": {
            "text/plain": [
              "<Figure size 1008x288 with 1 Axes>"
            ],
            "image/png": "[encoded data removed]"
          },
          "metadata": {
            "needs_background": "light"
          }
        }
      ],
      "source": [
        "\"\"\"Строим графики чтобы посмотреть в каких столбцах у нас есть выбросы.\"\"\"\n",
        "for column in float_columns:\n",
        "    fig, ax = plt.subplots(figsize=(14, 4))\n",
        "    sns.boxplot(x=column,\n",
        "                data=data[data['sample'] == 1],\n",
        "                ax=ax)\n",
        "    plt.xticks(rotation=0)\n",
        "    ax.set_title('Boxplot for ' + column)\n",
        "    plt.show()"
      ]
    },
    {
      "cell_type": "markdown",
      "metadata": {
        "id": "e20zpdY_pRm7"
      },
      "source": [
        "*Используем стандартное удаление выбросов*"
      ]
    },
    {
      "cell_type": "code",
      "execution_count": null,
      "metadata": {
        "id": "GLj3CfQ2pq1A"
      },
      "outputs": [],
      "source": [
        "# columns = float_columns\n",
        "# for column in columns:\n",
        "#   Q1 = np.percentile(data[column], 25,\n",
        "#                      interpolation = 'midpoint')\n",
        "  \n",
        "#   Q3 = np.percentile(data[column], 75,\n",
        "#                      interpolation = 'midpoint')\n",
        "#   IQR = Q3 - Q1\n",
        "#   border_upper = Q3+1.5*IQR\n",
        "#   border_lower = Q1-1.5*IQR\n",
        "#   # upper = np.where(data[data['sample'] == 1][column] >= border_upper) # выделяем по индексам \n",
        "#   # data.loc[upper[0], column] = border_upper # upper[0] - массив индексов \n",
        "#   data.loc[(data[column] >= border_upper), (column)] = border_upper\n",
        "#   # Lower bound\n",
        "#   # lower = np.where(data[data['sample'] == 1][column] <= border_lower)\n",
        "#   # data.loc[lower[0], column] = border_lower\n",
        "#   data.loc[(data[column] <= border_lower), (column)] = border_lower\n",
        "#   print(column, border_lower, border_upper)\n",
        "# try:\n",
        "#   data.drop(columns='index', inplace=True) # Удалим появившийся дубликат индекса\n",
        "# except:\n",
        "#   pass"
      ]
    },
    {
      "cell_type": "code",
      "execution_count": null,
      "metadata": {
        "id": "yEWxvVZ1zGGb"
      },
      "outputs": [],
      "source": [
        "# for column in float_columns:\n",
        "#     fig, ax = plt.subplots(figsize=(14, 4))\n",
        "#     sns.boxplot(x=column,\n",
        "#                 data=data[data['sample'] == 1],\n",
        "#                 ax=ax)\n",
        "#     plt.xticks(rotation=0)\n",
        "#     ax.set_title('Boxplot for ' + column)\n",
        "#     plt.show()"
      ]
    },
    {
      "cell_type": "markdown",
      "metadata": {
        "id": "L0iaheJdUuPf"
      },
      "source": [
        "### масштабируем"
      ]
    },
    {
      "cell_type": "code",
      "execution_count": null,
      "metadata": {
        "id": "C2TG1hW66oXu"
      },
      "outputs": [],
      "source": [
        "# по скольку в объедененном датасете есть данные на валидацию не имеющие price, отделим на время для анализа.\n",
        "train_preproc = data[data['sample'] == 1]"
      ]
    },
    {
      "cell_type": "code",
      "execution_count": null,
      "metadata": {
        "id": "9uxr2FwgGgel",
        "colab": {
          "base_uri": "https://localhost:8080/",
          "height": 300
        },
        "outputId": "39320c7d-6853-4cff-f61b-7d20928e560e"
      },
      "outputs": [
        {
          "output_type": "execute_result",
          "data": {
            "text/plain": [
              "       engineDisplacement    enginePower         mileage      modelDate  \\\n",
              "count       168982.000000  168982.000000   168982.000000  168982.000000   \n",
              "mean             2.293424     178.530269   159514.602715    2007.518623   \n",
              "std              0.941705      88.225607   101103.426219       7.709827   \n",
              "min              0.000000      11.000000        1.000000    1934.000000   \n",
              "25%              1.600000     116.000000    85314.000000    2004.000000   \n",
              "50%              2.000000     150.000000   147000.000000    2009.000000   \n",
              "75%              2.700000     218.000000   215000.000000    2013.000000   \n",
              "max              8.300000     800.000000  1000000.000000    2020.000000   \n",
              "\n",
              "       numberOfDoors         price  productionDate       sell_id    sample  \n",
              "count  168982.000000  1.689820e+05   168982.000000  1.689820e+05  168982.0  \n",
              "mean        4.484685  9.564116e+05     2009.814193  7.737092e+08       1.0  \n",
              "std         0.673868  1.344757e+06        7.219745  5.032694e+08       0.0  \n",
              "min         0.000000  1.000000e+00     1934.000000  0.000000e+00       1.0  \n",
              "25%         4.000000  1.700000e+05     2006.000000  0.000000e+00       1.0  \n",
              "50%         5.000000  5.555550e+05     2011.000000  1.102027e+09       1.0  \n",
              "75%         5.000000  1.200000e+06     2015.000000  1.102954e+09       1.0  \n",
              "max         5.000000  4.000000e+07     2021.000000  1.103342e+09       1.0  "
            ],
            "text/html": [
              "\n",
              "  <div id=\"df-3c5055b8-a66c-4746-a9df-dc839206d226\">\n",
              "    <div class=\"colab-df-container\">\n",
              "      <div>\n",
              "<style scoped>\n",
              "    .dataframe tbody tr th:only-of-type {\n",
              "        vertical-align: middle;\n",
              "    }\n",
              "\n",
              "    .dataframe tbody tr th {\n",
              "        vertical-align: top;\n",
              "    }\n",
              "\n",
              "    .dataframe thead th {\n",
              "        text-align: right;\n",
              "    }\n",
              "</style>\n",
              "<table border=\"1\" class=\"dataframe\">\n",
              "  <thead>\n",
              "    <tr style=\"text-align: right;\">\n",
              "      <th></th>\n",
              "      <th>engineDisplacement</th>\n",
              "      <th>enginePower</th>\n",
              "      <th>mileage</th>\n",
              "      <th>modelDate</th>\n",
              "      <th>numberOfDoors</th>\n",
              "      <th>price</th>\n",
              "      <th>productionDate</th>\n",
              "      <th>sell_id</th>\n",
              "      <th>sample</th>\n",
              "    </tr>\n",
              "  </thead>\n",
              "  <tbody>\n",
              "    <tr>\n",
              "      <th>count</th>\n",
              "      <td>168982.000000</td>\n",
              "      <td>168982.000000</td>\n",
              "      <td>168982.000000</td>\n",
              "      <td>168982.000000</td>\n",
              "      <td>168982.000000</td>\n",
              "      <td>1.689820e+05</td>\n",
              "      <td>168982.000000</td>\n",
              "      <td>1.689820e+05</td>\n",
              "      <td>168982.0</td>\n",
              "    </tr>\n",
              "    <tr>\n",
              "      <th>mean</th>\n",
              "      <td>2.293424</td>\n",
              "      <td>178.530269</td>\n",
              "      <td>159514.602715</td>\n",
              "      <td>2007.518623</td>\n",
              "      <td>4.484685</td>\n",
              "      <td>9.564116e+05</td>\n",
              "      <td>2009.814193</td>\n",
              "      <td>7.737092e+08</td>\n",
              "      <td>1.0</td>\n",
              "    </tr>\n",
              "    <tr>\n",
              "      <th>std</th>\n",
              "      <td>0.941705</td>\n",
              "      <td>88.225607</td>\n",
              "      <td>101103.426219</td>\n",
              "      <td>7.709827</td>\n",
              "      <td>0.673868</td>\n",
              "      <td>1.344757e+06</td>\n",
              "      <td>7.219745</td>\n",
              "      <td>5.032694e+08</td>\n",
              "      <td>0.0</td>\n",
              "    </tr>\n",
              "    <tr>\n",
              "      <th>min</th>\n",
              "      <td>0.000000</td>\n",
              "      <td>11.000000</td>\n",
              "      <td>1.000000</td>\n",
              "      <td>1934.000000</td>\n",
              "      <td>0.000000</td>\n",
              "      <td>1.000000e+00</td>\n",
              "      <td>1934.000000</td>\n",
              "      <td>0.000000e+00</td>\n",
              "      <td>1.0</td>\n",
              "    </tr>\n",
              "    <tr>\n",
              "      <th>25%</th>\n",
              "      <td>1.600000</td>\n",
              "      <td>116.000000</td>\n",
              "      <td>85314.000000</td>\n",
              "      <td>2004.000000</td>\n",
              "      <td>4.000000</td>\n",
              "      <td>1.700000e+05</td>\n",
              "      <td>2006.000000</td>\n",
              "      <td>0.000000e+00</td>\n",
              "      <td>1.0</td>\n",
              "    </tr>\n",
              "    <tr>\n",
              "      <th>50%</th>\n",
              "      <td>2.000000</td>\n",
              "      <td>150.000000</td>\n",
              "      <td>147000.000000</td>\n",
              "      <td>2009.000000</td>\n",
              "      <td>5.000000</td>\n",
              "      <td>5.555550e+05</td>\n",
              "      <td>2011.000000</td>\n",
              "      <td>1.102027e+09</td>\n",
              "      <td>1.0</td>\n",
              "    </tr>\n",
              "    <tr>\n",
              "      <th>75%</th>\n",
              "      <td>2.700000</td>\n",
              "      <td>218.000000</td>\n",
              "      <td>215000.000000</td>\n",
              "      <td>2013.000000</td>\n",
              "      <td>5.000000</td>\n",
              "      <td>1.200000e+06</td>\n",
              "      <td>2015.000000</td>\n",
              "      <td>1.102954e+09</td>\n",
              "      <td>1.0</td>\n",
              "    </tr>\n",
              "    <tr>\n",
              "      <th>max</th>\n",
              "      <td>8.300000</td>\n",
              "      <td>800.000000</td>\n",
              "      <td>1000000.000000</td>\n",
              "      <td>2020.000000</td>\n",
              "      <td>5.000000</td>\n",
              "      <td>4.000000e+07</td>\n",
              "      <td>2021.000000</td>\n",
              "      <td>1.103342e+09</td>\n",
              "      <td>1.0</td>\n",
              "    </tr>\n",
              "  </tbody>\n",
              "</table>\n",
              "</div>\n",
              "      <button class=\"colab-df-convert\" onclick=\"convertToInteractive('df-3c5055b8-a66c-4746-a9df-dc839206d226')\"\n",
              "              title=\"Convert this dataframe to an interactive table.\"\n",
              "              style=\"display:none;\">\n",
              "        \n",
              "  <svg xmlns=\"http://www.w3.org/2000/svg\" height=\"24px\"viewBox=\"0 0 24 24\"\n",
              "       width=\"24px\">\n",
              "    <path d=\"M0 0h24v24H0V0z\" fill=\"none\"/>\n",
              "    <path d=\"M18.56 5.44l.94 2.06.94-2.06 2.06-.94-2.06-.94-.94-2.06-.94 2.06-2.06.94zm-11 1L8.5 8.5l.94-2.06 2.06-.94-2.06-.94L8.5 2.5l-.94 2.06-2.06.94zm10 10l.94 2.06.94-2.06 2.06-.94-2.06-.94-.94-2.06-.94 2.06-2.06.94z\"/><path d=\"M17.41 7.96l-1.37-1.37c-.4-.4-.92-.59-1.43-.59-.52 0-1.04.2-1.43.59L10.3 9.45l-7.72 7.72c-.78.78-.78 2.05 0 2.83L4 21.41c.39.39.9.59 1.41.59.51 0 1.02-.2 1.41-.59l7.78-7.78 2.81-2.81c.8-.78.8-2.07 0-2.86zM5.41 20L4 18.59l7.72-7.72 1.47 1.35L5.41 20z\"/>\n",
              "  </svg>\n",
              "      </button>\n",
              "      \n",
              "  <style>\n",
              "    .colab-df-container {\n",
              "      display:flex;\n",
              "      flex-wrap:wrap;\n",
              "      gap: 12px;\n",
              "    }\n",
              "\n",
              "    .colab-df-convert {\n",
              "      background-color: #E8F0FE;\n",
              "      border: none;\n",
              "      border-radius: 50%;\n",
              "      cursor: pointer;\n",
              "      display: none;\n",
              "      fill: #1967D2;\n",
              "      height: 32px;\n",
              "      padding: 0 0 0 0;\n",
              "      width: 32px;\n",
              "    }\n",
              "\n",
              "    .colab-df-convert:hover {\n",
              "      background-color: #E2EBFA;\n",
              "      box-shadow: 0px 1px 2px rgba(60, 64, 67, 0.3), 0px 1px 3px 1px rgba(60, 64, 67, 0.15);\n",
              "      fill: #174EA6;\n",
              "    }\n",
              "\n",
              "    [theme=dark] .colab-df-convert {\n",
              "      background-color: #3B4455;\n",
              "      fill: #D2E3FC;\n",
              "    }\n",
              "\n",
              "    [theme=dark] .colab-df-convert:hover {\n",
              "      background-color: #434B5C;\n",
              "      box-shadow: 0px 1px 3px 1px rgba(0, 0, 0, 0.15);\n",
              "      filter: drop-shadow(0px 1px 2px rgba(0, 0, 0, 0.3));\n",
              "      fill: #FFFFFF;\n",
              "    }\n",
              "  </style>\n",
              "\n",
              "      <script>\n",
              "        const buttonEl =\n",
              "          document.querySelector('#df-3c5055b8-a66c-4746-a9df-dc839206d226 button.colab-df-convert');\n",
              "        buttonEl.style.display =\n",
              "          google.colab.kernel.accessAllowed ? 'block' : 'none';\n",
              "\n",
              "        async function convertToInteractive(key) {\n",
              "          const element = document.querySelector('#df-3c5055b8-a66c-4746-a9df-dc839206d226');\n",
              "          const dataTable =\n",
              "            await google.colab.kernel.invokeFunction('convertToInteractive',\n",
              "                                                     [key], {});\n",
              "          if (!dataTable) return;\n",
              "\n",
              "          const docLinkHtml = 'Like what you see? Visit the ' +\n",
              "            '<a target=\"_blank\" href=https://colab.research.google.com/notebooks/data_table.ipynb>data table notebook</a>'\n",
              "            + ' to learn more about interactive tables.';\n",
              "          element.innerHTML = '';\n",
              "          dataTable['output_type'] = 'display_data';\n",
              "          await google.colab.output.renderOutput(dataTable, element);\n",
              "          const docLink = document.createElement('div');\n",
              "          docLink.innerHTML = docLinkHtml;\n",
              "          element.appendChild(docLink);\n",
              "        }\n",
              "      </script>\n",
              "    </div>\n",
              "  </div>\n",
              "  "
            ]
          },
          "metadata": {},
          "execution_count": 50
        }
      ],
      "source": [
        "train_preproc.describe()"
      ]
    },
    {
      "cell_type": "markdown",
      "metadata": {
        "id": "xHYg06-UFNGv"
      },
      "source": [
        "Смотрим на распределение таргета до и после логарифмировние - по идее последнее должно немного отцентровать распределение."
      ]
    },
    {
      "cell_type": "code",
      "execution_count": null,
      "metadata": {
        "id": "Q4T_xUduXWMu",
        "colab": {
          "base_uri": "https://localhost:8080/",
          "height": 602
        },
        "outputId": "b4e1d17a-5610-4687-eb71-a54560376a90"
      },
      "outputs": [
        {
          "output_type": "display_data",
          "data": {
            "text/plain": [
              "<Figure size 1440x720 with 2 Axes>"
            ],
            "image/png": "[encoded data removed]"
          },
          "metadata": {}
        }
      ],
      "source": [
        "plt.style.use('ggplot')\n",
        "plt.figure(figsize=(20,10))\n",
        "\n",
        "plt.subplot(1,2,1)\n",
        "sns.distplot(train_preproc.price, bins=50)\n",
        "plt.title('Original')\n",
        "\n",
        "plt.subplot(1,2,2)\n",
        "sns.distplot(np.log1p(train_preproc.price), bins=50) # тоже что и np.log(data.price+1)\n",
        "plt.title('Log transformed')\n",
        "\n",
        "plt.tight_layout()"
      ]
    },
    {
      "cell_type": "markdown",
      "metadata": {
        "id": "FFH1eNDkGt5-"
      },
      "source": [
        "Чтобы понять насколько хорошее распределение я использовал QQ-plot из статьи https://habr.com/ru/post/578754"
      ]
    },
    {
      "cell_type": "code",
      "execution_count": null,
      "metadata": {
        "id": "RaFWzyijl1sm",
        "colab": {
          "base_uri": "https://localhost:8080/",
          "height": 534
        },
        "outputId": "4fb1b13d-a2bb-48ce-a73c-ac174517e3e9"
      },
      "outputs": [
        {
          "output_type": "execute_result",
          "data": {
            "text/plain": [
              "Text(0, 0.5, 'Sample quantiles')"
            ]
          },
          "metadata": {},
          "execution_count": 52
        },
        {
          "output_type": "display_data",
          "data": {
            "text/plain": [
              "<Figure size 936x576 with 2 Axes>"
            ],
            "image/png": "[encoded data removed]"
          },
          "metadata": {}
        }
      ],
      "source": [
        "##QQ-Plot before log-transformation\n",
        "fig = plt.figure(figsize=(13, 8))\n",
        "\n",
        "ax1 = plt.subplot(121)\n",
        "res = stats.probplot(train_preproc['price'], plot=plt)\n",
        "plt.title('QQ-Plot before log')\n",
        "plt.ylabel('Sample quantiles')\n",
        "\n",
        "ax1 = plt.subplot(122)\n",
        "a = np.log1p(train_preproc[\"price\"])\n",
        "res = stats.probplot(a, plot=plt)\n",
        "plt.title('QQ-Plot after log')\n",
        "plt.ylabel('Sample quantiles')"
      ]
    },
    {
      "cell_type": "markdown",
      "metadata": {
        "id": "n3AYchIJ-Odq"
      },
      "source": [
        "# Категориальные признаки\n"
      ]
    },
    {
      "cell_type": "code",
      "execution_count": null,
      "metadata": {
        "id": "XNcfdPgGc7Ow",
        "colab": {
          "base_uri": "https://localhost:8080/"
        },
        "outputId": "0e549a27-c3c5-47e7-e6f8-85ba19519e73"
      },
      "outputs": [
        {
          "output_type": "execute_result",
          "data": {
            "text/plain": [
              "Index(['bodyType', 'brand', 'color', 'fuelType', 'model_name',\n",
              "       'vehicleTransmission', 'Владельцы', 'ПТС', 'Привод', 'Руль',\n",
              "       'Состояние', 'Таможня'],\n",
              "      dtype='object')"
            ]
          },
          "metadata": {},
          "execution_count": 53
        }
      ],
      "source": [
        "# Выделем признаки object\n",
        "object_columns = data.select_dtypes(include=['object']).columns\n",
        "object_columns"
      ]
    },
    {
      "cell_type": "code",
      "execution_count": null,
      "metadata": {
        "id": "wDPzqx4GyXjH",
        "colab": {
          "base_uri": "https://localhost:8080/"
        },
        "outputId": "7ed5bfcf-c2e9-4a5b-f286-fc1fee9cc24d"
      },
      "outputs": [
        {
          "output_type": "stream",
          "name": "stdout",
          "text": [
            "Колонка--- bodyType\n",
            "седан                      74791\n",
            "внедорожник 5 дв.          71036\n",
            "хэтчбек 5 дв.              17216\n",
            "лифтбек                    10352\n",
            "универсал 5 дв.             8365\n",
            "минивэн                     5655\n",
            "купе                        4042\n",
            "компактвэн                  3838\n",
            "хэтчбек 3 дв.               2923\n",
            "пикап двойная кабина        1688\n",
            "внедорожник 3 дв.           1034\n",
            "фургон                       853\n",
            "купе-хардтоп                 829\n",
            "родстер                      353\n",
            "кабриолет                    338\n",
            "седан-хардтоп                195\n",
            "микровэн                      48\n",
            "пикап полуторная кабина       26\n",
            "седан 2 дв.                   24\n",
            "пикап одинарная кабина        22\n",
            "тарга                         14\n",
            "лимузин                       11\n",
            "внедорожник открытый           7\n",
            "хэтчбек 4 дв.                  4\n",
            "спидстер                       2\n",
            "универсал 3 дв.                1\n",
            "фастбек                        1\n",
            "Name: bodyType, dtype: int64\n",
            "всего -- видов 27\n",
            "\n",
            "Колонка--- brand\n",
            "MERCEDES      24142\n",
            "VOLKSWAGEN    23491\n",
            "BMW           22974\n",
            "TOYOTA        22887\n",
            "NISSAN        20483\n",
            "              ...  \n",
            "LIGIER            1\n",
            "ZX                1\n",
            "BAIC              1\n",
            "PROMO_AUTO        1\n",
            "DADI              1\n",
            "Name: brand, Length: 108, dtype: int64\n",
            "всего -- видов 108\n",
            "\n",
            "Колонка--- color\n",
            "чёрный         59126\n",
            "белый          39232\n",
            "серый          26278\n",
            "серебристый    23842\n",
            "синий          19007\n",
            "красный         9680\n",
            "коричневый      8596\n",
            "зелёный         5708\n",
            "бежевый         3624\n",
            "голубой         2559\n",
            "золотистый      1473\n",
            "пурпурный       1407\n",
            "фиолетовый      1166\n",
            "жёлтый          1074\n",
            "оранжевый        816\n",
            "розовый           80\n",
            "Name: color, dtype: int64\n",
            "всего -- видов 16\n",
            "\n",
            "Колонка--- fuelType\n",
            "бензин     166448\n",
            "дизель      34777\n",
            "гибрид       1892\n",
            "электро       516\n",
            "газ            35\n",
            "Name: fuelType, dtype: int64\n",
            "всего -- видов 5\n",
            "\n",
            "Колонка--- model_name\n",
            "OCTAVIA      5734\n",
            "5ER          5076\n",
            "E_KLASSE     4496\n",
            "PASSAT       4156\n",
            "3ER          4075\n",
            "             ... \n",
            "EADO            1\n",
            "MEGANE_RS       1\n",
            "V12             1\n",
            "GRACE           1\n",
            "TARO            1\n",
            "Name: model_name, Length: 1225, dtype: int64\n",
            "всего -- видов 1225\n",
            "\n",
            "Колонка--- vehicleTransmission\n",
            "автоматическая      112931\n",
            "механическая         49809\n",
            "роботизированная     21111\n",
            "вариатор             19817\n",
            "Name: vehicleTransmission, dtype: int64\n",
            "всего -- видов 4\n",
            "\n",
            "Колонка--- Владельцы\n",
            "3 или более    95256\n",
            "2 владельца    50681\n",
            "1 владелец     40077\n",
            "1              17654\n",
            "Name: Владельцы, dtype: int64\n",
            "всего -- видов 4\n",
            "\n",
            "Колонка--- ПТС\n",
            "Оригинал    173390\n",
            "Дубликат     30277\n",
            "3                1\n",
            "Name: ПТС, dtype: int64\n",
            "всего -- видов 3\n",
            "\n",
            "Колонка--- Привод\n",
            "передний    96486\n",
            "полный      84199\n",
            "задний      22983\n",
            "Name: Привод, dtype: int64\n",
            "всего -- видов 3\n",
            "\n",
            "Колонка--- Руль\n",
            "Левый     190619\n",
            "Правый     13049\n",
            "Name: Руль, dtype: int64\n",
            "всего -- видов 2\n",
            "\n",
            "Колонка--- Состояние\n",
            "Не требует ремонта    203655\n",
            "Битый / не на ходу        13\n",
            "Name: Состояние, dtype: int64\n",
            "всего -- видов 2\n",
            "\n",
            "Колонка--- Таможня\n",
            "Растаможен       203662\n",
            "Не растаможен         6\n",
            "Name: Таможня, dtype: int64\n",
            "всего -- видов 2\n",
            "\n"
          ]
        }
      ],
      "source": [
        "# Выведем количество \n",
        "for col in object_columns:\n",
        "  print('Колонка---', col)\n",
        "  print(data[col].value_counts())\n",
        "  print('всего -- видов', data[col].value_counts().count())\n",
        "  print()"
      ]
    },
    {
      "cell_type": "markdown",
      "metadata": {
        "id": "YTkSTBj8gWYx"
      },
      "source": [
        "*Колонка bodyType дополнительно указано кол-во дверей, что увеличивает разновидность. Поскольку у нас есть отдельная колонка numberOfDoors значит можно объеденить некоторые разновидности кузова в bodyType.*"
      ]
    },
    {
      "cell_type": "code",
      "execution_count": null,
      "metadata": {
        "id": "3gGsXdNlitsn"
      },
      "outputs": [],
      "source": [
        "data['bodyType'] = data['bodyType'].apply(lambda x: str(x).replace(' 2 дв.', ''))\n",
        "data['bodyType'] = data['bodyType'].apply(lambda x: str(x).replace(' 3 дв.', ''))\n",
        "data['bodyType'] = data['bodyType'].apply(lambda x: str(x).replace(' 4 дв.', ''))\n",
        "data['bodyType'] = data['bodyType'].apply(lambda x: str(x).replace(' 5 дв.', ''))"
      ]
    },
    {
      "cell_type": "markdown",
      "metadata": {
        "id": "3kYAOsxzjW5k"
      },
      "source": [
        "*Колонка 'Владельцы' имеет значения '1' и '1 владелец' - объеденим их*"
      ]
    },
    {
      "cell_type": "code",
      "execution_count": null,
      "metadata": {
        "id": "7ylHCUlYlGN3",
        "colab": {
          "base_uri": "https://localhost:8080/",
          "height": 113
        },
        "outputId": "8e138651-2c86-4f61-d049-dcd8ac37408a"
      },
      "outputs": [
        {
          "output_type": "execute_result",
          "data": {
            "text/plain": [
              "Empty DataFrame\n",
              "Columns: [bodyType, brand, color, engineDisplacement, enginePower, fuelType, mileage, modelDate, model_name, numberOfDoors, price, productionDate, vehicleTransmission, Владельцы, ПТС, Привод, Руль, Состояние, Таможня, sell_id, sample]\n",
              "Index: []"
            ],
            "text/html": [
              "\n",
              "  <div id=\"df-287968dc-cd30-4cec-b4f4-f04ff6c2ba81\">\n",
              "    <div class=\"colab-df-container\">\n",
              "      <div>\n",
              "<style scoped>\n",
              "    .dataframe tbody tr th:only-of-type {\n",
              "        vertical-align: middle;\n",
              "    }\n",
              "\n",
              "    .dataframe tbody tr th {\n",
              "        vertical-align: top;\n",
              "    }\n",
              "\n",
              "    .dataframe thead th {\n",
              "        text-align: right;\n",
              "    }\n",
              "</style>\n",
              "<table border=\"1\" class=\"dataframe\">\n",
              "  <thead>\n",
              "    <tr style=\"text-align: right;\">\n",
              "      <th></th>\n",
              "      <th>bodyType</th>\n",
              "      <th>brand</th>\n",
              "      <th>color</th>\n",
              "      <th>engineDisplacement</th>\n",
              "      <th>enginePower</th>\n",
              "      <th>fuelType</th>\n",
              "      <th>mileage</th>\n",
              "      <th>modelDate</th>\n",
              "      <th>model_name</th>\n",
              "      <th>numberOfDoors</th>\n",
              "      <th>price</th>\n",
              "      <th>productionDate</th>\n",
              "      <th>vehicleTransmission</th>\n",
              "      <th>Владельцы</th>\n",
              "      <th>ПТС</th>\n",
              "      <th>Привод</th>\n",
              "      <th>Руль</th>\n",
              "      <th>Состояние</th>\n",
              "      <th>Таможня</th>\n",
              "      <th>sell_id</th>\n",
              "      <th>sample</th>\n",
              "    </tr>\n",
              "  </thead>\n",
              "  <tbody>\n",
              "  </tbody>\n",
              "</table>\n",
              "</div>\n",
              "      <button class=\"colab-df-convert\" onclick=\"convertToInteractive('df-287968dc-cd30-4cec-b4f4-f04ff6c2ba81')\"\n",
              "              title=\"Convert this dataframe to an interactive table.\"\n",
              "              style=\"display:none;\">\n",
              "        \n",
              "  <svg xmlns=\"http://www.w3.org/2000/svg\" height=\"24px\"viewBox=\"0 0 24 24\"\n",
              "       width=\"24px\">\n",
              "    <path d=\"M0 0h24v24H0V0z\" fill=\"none\"/>\n",
              "    <path d=\"M18.56 5.44l.94 2.06.94-2.06 2.06-.94-2.06-.94-.94-2.06-.94 2.06-2.06.94zm-11 1L8.5 8.5l.94-2.06 2.06-.94-2.06-.94L8.5 2.5l-.94 2.06-2.06.94zm10 10l.94 2.06.94-2.06 2.06-.94-2.06-.94-.94-2.06-.94 2.06-2.06.94z\"/><path d=\"M17.41 7.96l-1.37-1.37c-.4-.4-.92-.59-1.43-.59-.52 0-1.04.2-1.43.59L10.3 9.45l-7.72 7.72c-.78.78-.78 2.05 0 2.83L4 21.41c.39.39.9.59 1.41.59.51 0 1.02-.2 1.41-.59l7.78-7.78 2.81-2.81c.8-.78.8-2.07 0-2.86zM5.41 20L4 18.59l7.72-7.72 1.47 1.35L5.41 20z\"/>\n",
              "  </svg>\n",
              "      </button>\n",
              "      \n",
              "  <style>\n",
              "    .colab-df-container {\n",
              "      display:flex;\n",
              "      flex-wrap:wrap;\n",
              "      gap: 12px;\n",
              "    }\n",
              "\n",
              "    .colab-df-convert {\n",
              "      background-color: #E8F0FE;\n",
              "      border: none;\n",
              "      border-radius: 50%;\n",
              "      cursor: pointer;\n",
              "      display: none;\n",
              "      fill: #1967D2;\n",
              "      height: 32px;\n",
              "      padding: 0 0 0 0;\n",
              "      width: 32px;\n",
              "    }\n",
              "\n",
              "    .colab-df-convert:hover {\n",
              "      background-color: #E2EBFA;\n",
              "      box-shadow: 0px 1px 2px rgba(60, 64, 67, 0.3), 0px 1px 3px 1px rgba(60, 64, 67, 0.15);\n",
              "      fill: #174EA6;\n",
              "    }\n",
              "\n",
              "    [theme=dark] .colab-df-convert {\n",
              "      background-color: #3B4455;\n",
              "      fill: #D2E3FC;\n",
              "    }\n",
              "\n",
              "    [theme=dark] .colab-df-convert:hover {\n",
              "      background-color: #434B5C;\n",
              "      box-shadow: 0px 1px 3px 1px rgba(0, 0, 0, 0.15);\n",
              "      filter: drop-shadow(0px 1px 2px rgba(0, 0, 0, 0.3));\n",
              "      fill: #FFFFFF;\n",
              "    }\n",
              "  </style>\n",
              "\n",
              "      <script>\n",
              "        const buttonEl =\n",
              "          document.querySelector('#df-287968dc-cd30-4cec-b4f4-f04ff6c2ba81 button.colab-df-convert');\n",
              "        buttonEl.style.display =\n",
              "          google.colab.kernel.accessAllowed ? 'block' : 'none';\n",
              "\n",
              "        async function convertToInteractive(key) {\n",
              "          const element = document.querySelector('#df-287968dc-cd30-4cec-b4f4-f04ff6c2ba81');\n",
              "          const dataTable =\n",
              "            await google.colab.kernel.invokeFunction('convertToInteractive',\n",
              "                                                     [key], {});\n",
              "          if (!dataTable) return;\n",
              "\n",
              "          const docLinkHtml = 'Like what you see? Visit the ' +\n",
              "            '<a target=\"_blank\" href=https://colab.research.google.com/notebooks/data_table.ipynb>data table notebook</a>'\n",
              "            + ' to learn more about interactive tables.';\n",
              "          element.innerHTML = '';\n",
              "          dataTable['output_type'] = 'display_data';\n",
              "          await google.colab.output.renderOutput(dataTable, element);\n",
              "          const docLink = document.createElement('div');\n",
              "          docLink.innerHTML = docLinkHtml;\n",
              "          element.appendChild(docLink);\n",
              "        }\n",
              "      </script>\n",
              "    </div>\n",
              "  </div>\n",
              "  "
            ]
          },
          "metadata": {},
          "execution_count": 56
        }
      ],
      "source": [
        "data[data['Владельцы'] == '1 владелец'] # не находит"
      ]
    },
    {
      "cell_type": "code",
      "execution_count": null,
      "metadata": {
        "id": "2fcfLXaclnGE",
        "colab": {
          "base_uri": "https://localhost:8080/",
          "height": 35
        },
        "outputId": "b6deba05-27c3-4889-ee6a-32f73a61e771"
      },
      "outputs": [
        {
          "output_type": "execute_result",
          "data": {
            "text/plain": [
              "'1'"
            ],
            "application/vnd.google.colaboratory.intrinsic+json": {
              "type": "string"
            }
          },
          "metadata": {},
          "execution_count": 57
        }
      ],
      "source": [
        "data['Владельцы'].value_counts().index[3]"
      ]
    },
    {
      "cell_type": "code",
      "execution_count": null,
      "metadata": {
        "id": "DvmBZMldjWWs"
      },
      "outputs": [],
      "source": [
        "data['Владельцы'] = data['Владельцы'].apply(lambda x: str(x).replace('1\\xa0владелец', '1'))"
      ]
    },
    {
      "cell_type": "code",
      "execution_count": null,
      "metadata": {
        "id": "XfKbBvLwfme4"
      },
      "outputs": [],
      "source": [
        "data.loc[data['ПТС'] == 3, 'ПТС'] = 'Оригинал'"
      ]
    },
    {
      "cell_type": "markdown",
      "metadata": {
        "id": "ZgeOf4zecnuj"
      },
      "source": [
        "* \"Руль\" и \"ПТС\" имеет бинарный признак.\n",
        "\"Таможня\" и \"состояние\" как втрейн так и в валидции имеет только одно значение - они бесполезны.*"
      ]
    },
    {
      "cell_type": "code",
      "execution_count": null,
      "metadata": {
        "id": "v_gDMQs0sDpm",
        "colab": {
          "base_uri": "https://localhost:8080/"
        },
        "outputId": "cbfa8e93-1f85-4926-9b3a-5217580e1d21"
      },
      "outputs": [
        {
          "output_type": "execute_result",
          "data": {
            "text/plain": [
              "Index(['bodyType', 'brand', 'color', 'fuelType', 'model_name',\n",
              "       'vehicleTransmission', 'Владельцы', 'ПТС', 'Привод', 'Руль'],\n",
              "      dtype='object')"
            ]
          },
          "metadata": {},
          "execution_count": 60
        }
      ],
      "source": [
        "data = data.drop(columns=[\"Таможня\", \"Состояние\"]) # удалим\n",
        "object_columns = data.select_dtypes(include=['object']).columns # список\n",
        "object_columns"
      ]
    },
    {
      "cell_type": "markdown",
      "metadata": {
        "id": "gXeuL0sorz6D"
      },
      "source": [
        "## Бинарные признаки"
      ]
    },
    {
      "cell_type": "code",
      "execution_count": null,
      "metadata": {
        "id": "scM5QsoXcmn1",
        "colab": {
          "base_uri": "https://localhost:8080/",
          "height": 206
        },
        "outputId": "0c8d5fb4-cd94-49b1-8651-81004cbd6184"
      },
      "outputs": [
        {
          "output_type": "execute_result",
          "data": {
            "text/plain": [
              "   Руль  ПТС\n",
              "0     0    1\n",
              "1     0    1\n",
              "2     0    1\n",
              "3     0    1\n",
              "4     0    1"
            ],
            "text/html": [
              "\n",
              "  <div id=\"df-7b6c31cd-033c-4d7c-b834-0a89d76f5942\">\n",
              "    <div class=\"colab-df-container\">\n",
              "      <div>\n",
              "<style scoped>\n",
              "    .dataframe tbody tr th:only-of-type {\n",
              "        vertical-align: middle;\n",
              "    }\n",
              "\n",
              "    .dataframe tbody tr th {\n",
              "        vertical-align: top;\n",
              "    }\n",
              "\n",
              "    .dataframe thead th {\n",
              "        text-align: right;\n",
              "    }\n",
              "</style>\n",
              "<table border=\"1\" class=\"dataframe\">\n",
              "  <thead>\n",
              "    <tr style=\"text-align: right;\">\n",
              "      <th></th>\n",
              "      <th>Руль</th>\n",
              "      <th>ПТС</th>\n",
              "    </tr>\n",
              "  </thead>\n",
              "  <tbody>\n",
              "    <tr>\n",
              "      <th>0</th>\n",
              "      <td>0</td>\n",
              "      <td>1</td>\n",
              "    </tr>\n",
              "    <tr>\n",
              "      <th>1</th>\n",
              "      <td>0</td>\n",
              "      <td>1</td>\n",
              "    </tr>\n",
              "    <tr>\n",
              "      <th>2</th>\n",
              "      <td>0</td>\n",
              "      <td>1</td>\n",
              "    </tr>\n",
              "    <tr>\n",
              "      <th>3</th>\n",
              "      <td>0</td>\n",
              "      <td>1</td>\n",
              "    </tr>\n",
              "    <tr>\n",
              "      <th>4</th>\n",
              "      <td>0</td>\n",
              "      <td>1</td>\n",
              "    </tr>\n",
              "  </tbody>\n",
              "</table>\n",
              "</div>\n",
              "      <button class=\"colab-df-convert\" onclick=\"convertToInteractive('df-7b6c31cd-033c-4d7c-b834-0a89d76f5942')\"\n",
              "              title=\"Convert this dataframe to an interactive table.\"\n",
              "              style=\"display:none;\">\n",
              "        \n",
              "  <svg xmlns=\"http://www.w3.org/2000/svg\" height=\"24px\"viewBox=\"0 0 24 24\"\n",
              "       width=\"24px\">\n",
              "    <path d=\"M0 0h24v24H0V0z\" fill=\"none\"/>\n",
              "    <path d=\"M18.56 5.44l.94 2.06.94-2.06 2.06-.94-2.06-.94-.94-2.06-.94 2.06-2.06.94zm-11 1L8.5 8.5l.94-2.06 2.06-.94-2.06-.94L8.5 2.5l-.94 2.06-2.06.94zm10 10l.94 2.06.94-2.06 2.06-.94-2.06-.94-.94-2.06-.94 2.06-2.06.94z\"/><path d=\"M17.41 7.96l-1.37-1.37c-.4-.4-.92-.59-1.43-.59-.52 0-1.04.2-1.43.59L10.3 9.45l-7.72 7.72c-.78.78-.78 2.05 0 2.83L4 21.41c.39.39.9.59 1.41.59.51 0 1.02-.2 1.41-.59l7.78-7.78 2.81-2.81c.8-.78.8-2.07 0-2.86zM5.41 20L4 18.59l7.72-7.72 1.47 1.35L5.41 20z\"/>\n",
              "  </svg>\n",
              "      </button>\n",
              "      \n",
              "  <style>\n",
              "    .colab-df-container {\n",
              "      display:flex;\n",
              "      flex-wrap:wrap;\n",
              "      gap: 12px;\n",
              "    }\n",
              "\n",
              "    .colab-df-convert {\n",
              "      background-color: #E8F0FE;\n",
              "      border: none;\n",
              "      border-radius: 50%;\n",
              "      cursor: pointer;\n",
              "      display: none;\n",
              "      fill: #1967D2;\n",
              "      height: 32px;\n",
              "      padding: 0 0 0 0;\n",
              "      width: 32px;\n",
              "    }\n",
              "\n",
              "    .colab-df-convert:hover {\n",
              "      background-color: #E2EBFA;\n",
              "      box-shadow: 0px 1px 2px rgba(60, 64, 67, 0.3), 0px 1px 3px 1px rgba(60, 64, 67, 0.15);\n",
              "      fill: #174EA6;\n",
              "    }\n",
              "\n",
              "    [theme=dark] .colab-df-convert {\n",
              "      background-color: #3B4455;\n",
              "      fill: #D2E3FC;\n",
              "    }\n",
              "\n",
              "    [theme=dark] .colab-df-convert:hover {\n",
              "      background-color: #434B5C;\n",
              "      box-shadow: 0px 1px 3px 1px rgba(0, 0, 0, 0.15);\n",
              "      filter: drop-shadow(0px 1px 2px rgba(0, 0, 0, 0.3));\n",
              "      fill: #FFFFFF;\n",
              "    }\n",
              "  </style>\n",
              "\n",
              "      <script>\n",
              "        const buttonEl =\n",
              "          document.querySelector('#df-7b6c31cd-033c-4d7c-b834-0a89d76f5942 button.colab-df-convert');\n",
              "        buttonEl.style.display =\n",
              "          google.colab.kernel.accessAllowed ? 'block' : 'none';\n",
              "\n",
              "        async function convertToInteractive(key) {\n",
              "          const element = document.querySelector('#df-7b6c31cd-033c-4d7c-b834-0a89d76f5942');\n",
              "          const dataTable =\n",
              "            await google.colab.kernel.invokeFunction('convertToInteractive',\n",
              "                                                     [key], {});\n",
              "          if (!dataTable) return;\n",
              "\n",
              "          const docLinkHtml = 'Like what you see? Visit the ' +\n",
              "            '<a target=\"_blank\" href=https://colab.research.google.com/notebooks/data_table.ipynb>data table notebook</a>'\n",
              "            + ' to learn more about interactive tables.';\n",
              "          element.innerHTML = '';\n",
              "          dataTable['output_type'] = 'display_data';\n",
              "          await google.colab.output.renderOutput(dataTable, element);\n",
              "          const docLink = document.createElement('div');\n",
              "          docLink.innerHTML = docLinkHtml;\n",
              "          element.appendChild(docLink);\n",
              "        }\n",
              "      </script>\n",
              "    </div>\n",
              "  </div>\n",
              "  "
            ]
          },
          "metadata": {},
          "execution_count": 61
        }
      ],
      "source": [
        "# бинарные признаки \n",
        "bin_cols = [\"Руль\",\"ПТС\"]\n",
        "# Для бинарных признаков мы будем использовать LabelEncoder\n",
        "label_encoder = LabelEncoder()\n",
        "for column in bin_cols:\n",
        "    data[column] = label_encoder.fit_transform(data[column])\n",
        "    \n",
        "# убедимся в преобразовании    \n",
        "data[bin_cols].head()"
      ]
    },
    {
      "cell_type": "code",
      "execution_count": null,
      "metadata": {
        "id": "88ea6JTGof3b",
        "colab": {
          "base_uri": "https://localhost:8080/"
        },
        "outputId": "aa580a4f-3e38-43e9-ad85-bc4f23726381"
      },
      "outputs": [
        {
          "output_type": "execute_result",
          "data": {
            "text/plain": [
              "1    173391\n",
              "0     30277\n",
              "Name: ПТС, dtype: int64"
            ]
          },
          "metadata": {},
          "execution_count": 62
        }
      ],
      "source": [
        "data['ПТС'].value_counts()"
      ]
    },
    {
      "cell_type": "code",
      "execution_count": null,
      "metadata": {
        "id": "-N5yA3_lzEVV",
        "colab": {
          "base_uri": "https://localhost:8080/",
          "height": 345
        },
        "outputId": "e67f8adf-0101-4677-aab7-8c560a667adc"
      },
      "outputs": [
        {
          "output_type": "error",
          "ename": "KeyError",
          "evalue": "ignored",
          "traceback": [
            "\u001b[0;31m---------------------------------------------------------------------------\u001b[0m",
            "\u001b[0;31mKeyError\u001b[0m                                  Traceback (most recent call last)",
            "\u001b[0;32m<ipython-input-63-e760ec487103>\u001b[0m in \u001b[0;36m<module>\u001b[0;34m\u001b[0m\n\u001b[1;32m      1\u001b[0m \u001b[0;31m# ohe = OneHotEncoder()\u001b[0m\u001b[0;34m\u001b[0m\u001b[0;34m\u001b[0m\u001b[0;34m\u001b[0m\u001b[0m\n\u001b[1;32m      2\u001b[0m \u001b[0mobject_OH\u001b[0m \u001b[0;34m=\u001b[0m \u001b[0;34m[\u001b[0m\u001b[0;34m'color'\u001b[0m\u001b[0;34m,\u001b[0m \u001b[0;34m'fuelType'\u001b[0m\u001b[0;34m,\u001b[0m \u001b[0;34m'vehicleTransmission'\u001b[0m\u001b[0;34m,\u001b[0m \u001b[0;34m'vendor'\u001b[0m\u001b[0;34m,\u001b[0m \u001b[0;34m'Привод'\u001b[0m\u001b[0;34m]\u001b[0m\u001b[0;34m\u001b[0m\u001b[0;34m\u001b[0m\u001b[0m\n\u001b[0;32m----> 3\u001b[0;31m \u001b[0mdata_dummies\u001b[0m \u001b[0;34m=\u001b[0m \u001b[0mpd\u001b[0m\u001b[0;34m.\u001b[0m\u001b[0mget_dummies\u001b[0m\u001b[0;34m(\u001b[0m\u001b[0mdata\u001b[0m\u001b[0;34m=\u001b[0m\u001b[0mdata\u001b[0m\u001b[0;34m[\u001b[0m\u001b[0mobject_OH\u001b[0m\u001b[0;34m]\u001b[0m\u001b[0;34m,\u001b[0m \u001b[0mprefix\u001b[0m\u001b[0;34m=\u001b[0m\u001b[0;34m[\u001b[0m\u001b[0;34m'color'\u001b[0m\u001b[0;34m,\u001b[0m \u001b[0;34m'fuelType'\u001b[0m\u001b[0;34m,\u001b[0m \u001b[0;34m'vehicleTransmission'\u001b[0m\u001b[0;34m,\u001b[0m \u001b[0;34m'vendor'\u001b[0m\u001b[0;34m,\u001b[0m \u001b[0;34m'Привод'\u001b[0m\u001b[0;34m]\u001b[0m\u001b[0;34m,\u001b[0m \u001b[0mdrop_first\u001b[0m\u001b[0;34m=\u001b[0m\u001b[0;32mTrue\u001b[0m\u001b[0;34m)\u001b[0m\u001b[0;34m\u001b[0m\u001b[0;34m\u001b[0m\u001b[0m\n\u001b[0m",
            "\u001b[0;32m/usr/local/lib/python3.7/dist-packages/pandas/core/frame.py\u001b[0m in \u001b[0;36m__getitem__\u001b[0;34m(self, key)\u001b[0m\n\u001b[1;32m   3462\u001b[0m             \u001b[0;32mif\u001b[0m \u001b[0mis_iterator\u001b[0m\u001b[0;34m(\u001b[0m\u001b[0mkey\u001b[0m\u001b[0;34m)\u001b[0m\u001b[0;34m:\u001b[0m\u001b[0;34m\u001b[0m\u001b[0;34m\u001b[0m\u001b[0m\n\u001b[1;32m   3463\u001b[0m                 \u001b[0mkey\u001b[0m \u001b[0;34m=\u001b[0m \u001b[0mlist\u001b[0m\u001b[0;34m(\u001b[0m\u001b[0mkey\u001b[0m\u001b[0;34m)\u001b[0m\u001b[0;34m\u001b[0m\u001b[0;34m\u001b[0m\u001b[0m\n\u001b[0;32m-> 3464\u001b[0;31m             \u001b[0mindexer\u001b[0m \u001b[0;34m=\u001b[0m \u001b[0mself\u001b[0m\u001b[0;34m.\u001b[0m\u001b[0mloc\u001b[0m\u001b[0;34m.\u001b[0m\u001b[0m_get_listlike_indexer\u001b[0m\u001b[0;34m(\u001b[0m\u001b[0mkey\u001b[0m\u001b[0;34m,\u001b[0m \u001b[0maxis\u001b[0m\u001b[0;34m=\u001b[0m\u001b[0;36m1\u001b[0m\u001b[0;34m)\u001b[0m\u001b[0;34m[\u001b[0m\u001b[0;36m1\u001b[0m\u001b[0;34m]\u001b[0m\u001b[0;34m\u001b[0m\u001b[0;34m\u001b[0m\u001b[0m\n\u001b[0m\u001b[1;32m   3465\u001b[0m \u001b[0;34m\u001b[0m\u001b[0m\n\u001b[1;32m   3466\u001b[0m         \u001b[0;31m# take() does not accept boolean indexers\u001b[0m\u001b[0;34m\u001b[0m\u001b[0;34m\u001b[0m\u001b[0;34m\u001b[0m\u001b[0m\n",
            "\u001b[0;32m/usr/local/lib/python3.7/dist-packages/pandas/core/indexing.py\u001b[0m in \u001b[0;36m_get_listlike_indexer\u001b[0;34m(self, key, axis)\u001b[0m\n\u001b[1;32m   1312\u001b[0m             \u001b[0mkeyarr\u001b[0m\u001b[0;34m,\u001b[0m \u001b[0mindexer\u001b[0m\u001b[0;34m,\u001b[0m \u001b[0mnew_indexer\u001b[0m \u001b[0;34m=\u001b[0m \u001b[0max\u001b[0m\u001b[0;34m.\u001b[0m\u001b[0m_reindex_non_unique\u001b[0m\u001b[0;34m(\u001b[0m\u001b[0mkeyarr\u001b[0m\u001b[0;34m)\u001b[0m\u001b[0;34m\u001b[0m\u001b[0;34m\u001b[0m\u001b[0m\n\u001b[1;32m   1313\u001b[0m \u001b[0;34m\u001b[0m\u001b[0m\n\u001b[0;32m-> 1314\u001b[0;31m         \u001b[0mself\u001b[0m\u001b[0;34m.\u001b[0m\u001b[0m_validate_read_indexer\u001b[0m\u001b[0;34m(\u001b[0m\u001b[0mkeyarr\u001b[0m\u001b[0;34m,\u001b[0m \u001b[0mindexer\u001b[0m\u001b[0;34m,\u001b[0m \u001b[0maxis\u001b[0m\u001b[0;34m)\u001b[0m\u001b[0;34m\u001b[0m\u001b[0;34m\u001b[0m\u001b[0m\n\u001b[0m\u001b[1;32m   1315\u001b[0m \u001b[0;34m\u001b[0m\u001b[0m\n\u001b[1;32m   1316\u001b[0m         if needs_i8_conversion(ax.dtype) or isinstance(\n",
            "\u001b[0;32m/usr/local/lib/python3.7/dist-packages/pandas/core/indexing.py\u001b[0m in \u001b[0;36m_validate_read_indexer\u001b[0;34m(self, key, indexer, axis)\u001b[0m\n\u001b[1;32m   1375\u001b[0m \u001b[0;34m\u001b[0m\u001b[0m\n\u001b[1;32m   1376\u001b[0m             \u001b[0mnot_found\u001b[0m \u001b[0;34m=\u001b[0m \u001b[0mlist\u001b[0m\u001b[0;34m(\u001b[0m\u001b[0mensure_index\u001b[0m\u001b[0;34m(\u001b[0m\u001b[0mkey\u001b[0m\u001b[0;34m)\u001b[0m\u001b[0;34m[\u001b[0m\u001b[0mmissing_mask\u001b[0m\u001b[0;34m.\u001b[0m\u001b[0mnonzero\u001b[0m\u001b[0;34m(\u001b[0m\u001b[0;34m)\u001b[0m\u001b[0;34m[\u001b[0m\u001b[0;36m0\u001b[0m\u001b[0;34m]\u001b[0m\u001b[0;34m]\u001b[0m\u001b[0;34m.\u001b[0m\u001b[0munique\u001b[0m\u001b[0;34m(\u001b[0m\u001b[0;34m)\u001b[0m\u001b[0;34m)\u001b[0m\u001b[0;34m\u001b[0m\u001b[0;34m\u001b[0m\u001b[0m\n\u001b[0;32m-> 1377\u001b[0;31m             \u001b[0;32mraise\u001b[0m \u001b[0mKeyError\u001b[0m\u001b[0;34m(\u001b[0m\u001b[0;34mf\"{not_found} not in index\"\u001b[0m\u001b[0;34m)\u001b[0m\u001b[0;34m\u001b[0m\u001b[0;34m\u001b[0m\u001b[0m\n\u001b[0m\u001b[1;32m   1378\u001b[0m \u001b[0;34m\u001b[0m\u001b[0m\n\u001b[1;32m   1379\u001b[0m \u001b[0;34m\u001b[0m\u001b[0m\n",
            "\u001b[0;31mKeyError\u001b[0m: \"['vendor'] not in index\""
          ]
        }
      ],
      "source": [
        "# ohe = OneHotEncoder()\n",
        "object_OH = ['color', 'fuelType', 'vehicleTransmission', 'vendor', 'Привод']\n",
        "data_dummies = pd.get_dummies(data=data[object_OH], prefix=['color', 'fuelType', 'vehicleTransmission', 'vendor', 'Привод'], drop_first=True)"
      ]
    },
    {
      "cell_type": "code",
      "execution_count": null,
      "metadata": {
        "id": "kP5HqEB_C0jR"
      },
      "outputs": [],
      "source": [
        "data_new = pd.concat([data, data_dummies], axis=1)"
      ]
    },
    {
      "cell_type": "code",
      "execution_count": null,
      "metadata": {
        "id": "EhGS3HvBZozF"
      },
      "outputs": [],
      "source": [
        "data_dummies.shape, data.shape, data_new.shape"
      ]
    },
    {
      "cell_type": "code",
      "execution_count": null,
      "metadata": {
        "id": "M7qV01WaPjN0"
      },
      "outputs": [],
      "source": [
        "data_new.drop(columns=object_OH, inplace=True)"
      ]
    },
    {
      "cell_type": "code",
      "execution_count": null,
      "metadata": {
        "id": "1lxfZM7yApSO"
      },
      "outputs": [],
      "source": [
        "object_LE = ['Владельцы']\n",
        "label_encoder = LabelEncoder()\n",
        "for column in object_LE:\n",
        "    data_new[column] = label_encoder.fit_transform(data_new[column])\n",
        "    \n",
        "# убедимся в преобразовании    \n",
        "data_new[object_LE].value_counts() "
      ]
    },
    {
      "cell_type": "markdown",
      "metadata": {
        "id": "lFB6pMVh-pkB"
      },
      "source": [
        "*Ранжирование не поменялось \"3 или более\" = 36960, '1'= 28008, '2'=владельца'= 23963*"
      ]
    },
    {
      "cell_type": "markdown",
      "metadata": {
        "id": "k4vWYhq-BAdO"
      },
      "source": [
        "## Taget_encoder"
      ]
    },
    {
      "cell_type": "markdown",
      "metadata": {
        "id": "_WGWfdzLPXdc"
      },
      "source": [
        "Признаки bodyType,\tbrand и model_name - выполним ранжирование исходя из таргета. \n",
        "\n",
        "*Важно перед тем как использовать target_encoder нужно разделить наш датасет на тренировочную и тестовую, т.к. этот метод использует целевую переменную и может произоцти утечка данных в обучающую выборку.*"
      ]
    },
    {
      "cell_type": "code",
      "execution_count": null,
      "metadata": {
        "id": "geen8peD-1bA"
      },
      "outputs": [],
      "source": [
        "data_new.shape"
      ]
    },
    {
      "cell_type": "markdown",
      "metadata": {
        "id": "Qv1YeVW_C1GK"
      },
      "source": []
    },
    {
      "cell_type": "code",
      "execution_count": null,
      "metadata": {
        "id": "8itmqGrUPTI8"
      },
      "outputs": [],
      "source": [
        "pip install category_encoders"
      ]
    },
    {
      "cell_type": "code",
      "execution_count": null,
      "metadata": {
        "id": "UM_GCk-Dwys8"
      },
      "outputs": [],
      "source": [
        "# Делим датасет на трейн, тест и валидацию\n",
        "RANDOM_SEED = 42\n",
        "train_pred = data_new[data_new['sample'] == 1].drop(['sample'], axis=1).reset_index(drop=True)\n",
        "valid_pred = data_new[data_new['sample'] == 0].drop(['sample', 'price'], axis=1).reset_index(drop=True)\n",
        "X = train_pred.drop(columns=['price'])\n",
        "Y = train_pred['price']\n",
        "X_train, X_test, y_train, y_test = train_test_split(X, Y, test_size=0.2, random_state=RANDOM_SEED, shuffle=True)"
      ]
    },
    {
      "cell_type": "code",
      "execution_count": null,
      "metadata": {
        "id": "55wAtRw1wEnB"
      },
      "outputs": [],
      "source": [
        "import category_encoders as ce\n",
        "object_TE = ['bodyType', 'brand', 'model_name', ]\n",
        "for col in object_TE:\n",
        "  enc = ce.TargetEncoder(cols=col)\n",
        "  X_train[col] = enc.fit_transform(X_train[col], y_train)\n",
        "  X_test[col] = enc.transform(X_test[col])\n",
        "  valid_pred[col] = enc.transform(valid_pred[col])"
      ]
    },
    {
      "cell_type": "code",
      "execution_count": null,
      "metadata": {
        "id": "0zwolprDTse0"
      },
      "outputs": [],
      "source": [
        "# df_cum = pd.DataFrame({'bodyType': ['седан', 'универсал', 'купе'],'brand': ['лада', 'bmw', 'mercedes'],'price': [120000, 300000, 999999]})\n",
        "# from category_encoders import TargetEncoder\n",
        "# encoder = TargetEncoder( )\n",
        "# obj_TE = ['bodyType', 'brand']\n",
        "# df_cum['enc_bodyType'] = encoder.fit_transform(df_cum['bodyType'], df_cum['price'])\n",
        "# df_cum"
      ]
    },
    {
      "cell_type": "code",
      "execution_count": null,
      "metadata": {
        "id": "gZroQiYOpnPF"
      },
      "outputs": [],
      "source": [
        "# 130.54%\n",
        "# object_TE = ['bodyType', 'brand', 'model_name', ]\n",
        "# label_encoder = LabelEncoder()\n",
        "# for column in object_TE:\n",
        "#     data_new[column] = label_encoder.fit_transform(data_new[column])\n",
        "    \n",
        "# # убедимся в преобразовании    \n",
        "# data_new[object_TE].value_counts() "
      ]
    },
    {
      "cell_type": "markdown",
      "metadata": {
        "id": "lbG9aAU1RWcx"
      },
      "source": [
        "# Стандартизация признаков"
      ]
    },
    {
      "cell_type": "code",
      "execution_count": null,
      "metadata": {
        "id": "0oI0-VPlTh05"
      },
      "outputs": [],
      "source": [
        "X_train.loc[:, ~X_train.columns.isin(['sell_id'])]"
      ]
    },
    {
      "cell_type": "code",
      "execution_count": null,
      "metadata": {
        "id": "737dViQNRVve"
      },
      "outputs": [],
      "source": [
        "SS = StandardScaler()\n",
        "X_train_trans = SS.fit_transform(X_train.loc[:, ~X_train.columns.isin(['sell_id'])])\n",
        "X_test_trans = SS.transform(X_test.loc[:, ~X_train.columns.isin(['sell_id'])])\n",
        "valid_trans =  SS.transform(valid_pred.loc[:, ~valid_pred.columns.isin(['sell_id'])]) "
      ]
    },
    {
      "cell_type": "code",
      "execution_count": null,
      "metadata": {
        "id": "CvskAOGakexI"
      },
      "outputs": [],
      "source": [
        "X_train_trans = X_train.loc[:, ~X_train.columns.isin(['sell_id'])]\n",
        "X_test_trans = X_test.loc[:, ~X_train.columns.isin(['sell_id'])]"
      ]
    },
    {
      "cell_type": "code",
      "execution_count": null,
      "metadata": {
        "id": "92rhoMjBlbvz"
      },
      "outputs": [],
      "source": [
        "y_train"
      ]
    },
    {
      "cell_type": "markdown",
      "metadata": {
        "id": "3HZC72ROhWky"
      },
      "source": [
        "# Создание наивной предсказательной модели "
      ]
    },
    {
      "cell_type": "code",
      "execution_count": null,
      "metadata": {
        "id": "x9wAa3H9maPv"
      },
      "outputs": [],
      "source": [
        "lr = LinearRegression().fit(X_train_trans, y_train)"
      ]
    },
    {
      "cell_type": "code",
      "execution_count": null,
      "metadata": {
        "id": "ScvNdPQPnh1A"
      },
      "outputs": [],
      "source": [
        "y_pred = lr.predict(X_test_trans)"
      ]
    },
    {
      "cell_type": "code",
      "execution_count": null,
      "metadata": {
        "id": "5TFFtV42pSix"
      },
      "outputs": [],
      "source": [
        "#оцениваем точность\n",
        "m = mape(y_test, y_pred)\n",
        "print(f\"Точность модели по метрике MAPE: {m}%\")"
      ]
    },
    {
      "cell_type": "code",
      "execution_count": null,
      "metadata": {
        "id": "4rRxPDj7ovVz"
      },
      "outputs": [],
      "source": [
        "from sklearn.metrics import mean_absolute_percentage_error"
      ]
    },
    {
      "cell_type": "code",
      "execution_count": null,
      "metadata": {
        "id": "zkV8Xb6JpHyu"
      },
      "outputs": [],
      "source": [
        "mean_absolute_percentage_error(y_test, y_pred)"
      ]
    },
    {
      "cell_type": "code",
      "execution_count": null,
      "metadata": {
        "id": "4_R0twK2pmhN"
      },
      "outputs": [],
      "source": [
        "tmp_train = X_train.copy()\n",
        "tmp_train['price'] = y_train"
      ]
    },
    {
      "cell_type": "code",
      "execution_count": null,
      "metadata": {
        "id": "h_naF4kUpbOu"
      },
      "outputs": [],
      "source": [
        "predict = X_test['engineDisplacement'].map(tmp_train.groupby('engineDisplacement')['price'].median())\n",
        "#оцениваем точность\n",
        "print(f\"Точность наивной модели по метрике MAPE: {(mape(y_test, predict.values))*100:0.2f}%\")"
      ]
    },
    {
      "cell_type": "code",
      "execution_count": null,
      "metadata": {
        "id": "QEBGCxi5rz4f"
      },
      "outputs": [],
      "source": [
        "model_cb = CatBoostRegressor(iterations = 5000,\n",
        "                          random_seed = RANDOM_SEED,\n",
        "                          eval_metric='MAPE',\n",
        "                          custom_metric=['R2', 'MAE'],\n",
        "                          silent=True,\n",
        "                         )\n",
        "model_cb.fit(X_train_trans, y_train,\n",
        "         #cat_features=cat_features_ids,\n",
        "         eval_set=(X_test_trans, y_test),\n",
        "         verbose_eval=0,\n",
        "         use_best_model=True,\n",
        "         #plot=True\n",
        "         )\n",
        "# оцениваем точность\n",
        "predict = model_cb.predict(X_test_trans)\n",
        "m = mape(y_test, predict)\n",
        "print(f\"Точность модели по метрике MAPE: {m}%\")"
      ]
    },
    {
      "cell_type": "code",
      "execution_count": null,
      "metadata": {
        "id": "A1vrOcDMtdV4"
      },
      "outputs": [],
      "source": [
        "# print(f\"Точность модели по метрике MAPE: {m}%\")"
      ]
    }
  ],
  "metadata": {
    "colab": {
      "collapsed_sections": [],
      "toc_visible": true,
      "provenance": [],
      "mount_file_id": "1ESKItTgsnYHxGiUz39DbB2zHmIWdVKuc",
      "authorship_tag": "ABX9TyO+nWXt1qEyOA4esC2iw9r8",
      "include_colab_link": true
    },
    "gpuClass": "standard",
    "kernelspec": {
      "display_name": "Python 3",
      "name": "python3"
    },
    "language_info": {
      "name": "python"
    }
  },
  "nbformat": 4,
  "nbformat_minor": 0
}